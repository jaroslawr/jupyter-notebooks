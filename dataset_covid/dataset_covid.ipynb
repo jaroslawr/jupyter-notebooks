{
 "cells": [
  {
   "cell_type": "markdown",
   "id": "efficient-shift",
   "metadata": {},
   "source": [
    "# Data analysis: Covid cases over time"
   ]
  },
  {
   "cell_type": "markdown",
   "id": "mexican-manner",
   "metadata": {},
   "source": [
    "Data analysis of daily new covid cases in different countries, using data from:\n",
    "\n",
    "https://github.com/CSSEGISandData/COVID-19"
   ]
  },
  {
   "cell_type": "markdown",
   "id": "organizational-option",
   "metadata": {},
   "source": [
    "## Setup"
   ]
  },
  {
   "cell_type": "code",
   "execution_count": 1,
   "id": "hispanic-productivity",
   "metadata": {},
   "outputs": [],
   "source": [
    "import numpy as np\n",
    "import pandas as pd\n",
    "import matplotlib.pyplot as plt\n",
    "\n",
    "from datetime import datetime, timedelta"
   ]
  },
  {
   "cell_type": "code",
   "execution_count": 2,
   "id": "vanilla-graphic",
   "metadata": {},
   "outputs": [],
   "source": [
    "plt.style.use(\"ggplot\")"
   ]
  },
  {
   "cell_type": "markdown",
   "id": "concerned-closer",
   "metadata": {},
   "source": [
    "## Import and clean up data"
   ]
  },
  {
   "cell_type": "markdown",
   "id": "7fa53fee-a0d7-407d-9c97-377c7a188496",
   "metadata": {},
   "source": [
    "### Read the CSV"
   ]
  },
  {
   "cell_type": "code",
   "execution_count": 3,
   "id": "stone-machine",
   "metadata": {},
   "outputs": [],
   "source": [
    "df = pd.read_csv(\"time_series_covid19_confirmed_global.csv\")"
   ]
  },
  {
   "cell_type": "code",
   "execution_count": 4,
   "id": "extra-commonwealth",
   "metadata": {},
   "outputs": [
    {
     "data": {
      "text/html": [
       "<div>\n",
       "<style scoped>\n",
       "    .dataframe tbody tr th:only-of-type {\n",
       "        vertical-align: middle;\n",
       "    }\n",
       "\n",
       "    .dataframe tbody tr th {\n",
       "        vertical-align: top;\n",
       "    }\n",
       "\n",
       "    .dataframe thead th {\n",
       "        text-align: right;\n",
       "    }\n",
       "</style>\n",
       "<table border=\"1\" class=\"dataframe\">\n",
       "  <thead>\n",
       "    <tr style=\"text-align: right;\">\n",
       "      <th></th>\n",
       "      <th>Province/State</th>\n",
       "      <th>Country/Region</th>\n",
       "      <th>Lat</th>\n",
       "      <th>Long</th>\n",
       "      <th>1/22/20</th>\n",
       "      <th>1/23/20</th>\n",
       "      <th>1/24/20</th>\n",
       "      <th>1/25/20</th>\n",
       "      <th>1/26/20</th>\n",
       "      <th>1/27/20</th>\n",
       "      <th>...</th>\n",
       "      <th>4/12/21</th>\n",
       "      <th>4/13/21</th>\n",
       "      <th>4/14/21</th>\n",
       "      <th>4/15/21</th>\n",
       "      <th>4/16/21</th>\n",
       "      <th>4/17/21</th>\n",
       "      <th>4/18/21</th>\n",
       "      <th>4/19/21</th>\n",
       "      <th>4/20/21</th>\n",
       "      <th>4/21/21</th>\n",
       "    </tr>\n",
       "  </thead>\n",
       "  <tbody>\n",
       "    <tr>\n",
       "      <th>0</th>\n",
       "      <td>NaN</td>\n",
       "      <td>Afghanistan</td>\n",
       "      <td>33.93911</td>\n",
       "      <td>67.709953</td>\n",
       "      <td>0</td>\n",
       "      <td>0</td>\n",
       "      <td>0</td>\n",
       "      <td>0</td>\n",
       "      <td>0</td>\n",
       "      <td>0</td>\n",
       "      <td>...</td>\n",
       "      <td>57242</td>\n",
       "      <td>57364</td>\n",
       "      <td>57492</td>\n",
       "      <td>57534</td>\n",
       "      <td>57612</td>\n",
       "      <td>57721</td>\n",
       "      <td>57793</td>\n",
       "      <td>57898</td>\n",
       "      <td>58037</td>\n",
       "      <td>58214</td>\n",
       "    </tr>\n",
       "    <tr>\n",
       "      <th>1</th>\n",
       "      <td>NaN</td>\n",
       "      <td>Albania</td>\n",
       "      <td>41.15330</td>\n",
       "      <td>20.168300</td>\n",
       "      <td>0</td>\n",
       "      <td>0</td>\n",
       "      <td>0</td>\n",
       "      <td>0</td>\n",
       "      <td>0</td>\n",
       "      <td>0</td>\n",
       "      <td>...</td>\n",
       "      <td>128518</td>\n",
       "      <td>128752</td>\n",
       "      <td>128959</td>\n",
       "      <td>129128</td>\n",
       "      <td>129307</td>\n",
       "      <td>129456</td>\n",
       "      <td>129594</td>\n",
       "      <td>129694</td>\n",
       "      <td>129842</td>\n",
       "      <td>129980</td>\n",
       "    </tr>\n",
       "    <tr>\n",
       "      <th>2</th>\n",
       "      <td>NaN</td>\n",
       "      <td>Algeria</td>\n",
       "      <td>28.03390</td>\n",
       "      <td>1.659600</td>\n",
       "      <td>0</td>\n",
       "      <td>0</td>\n",
       "      <td>0</td>\n",
       "      <td>0</td>\n",
       "      <td>0</td>\n",
       "      <td>0</td>\n",
       "      <td>...</td>\n",
       "      <td>118645</td>\n",
       "      <td>118799</td>\n",
       "      <td>118975</td>\n",
       "      <td>119142</td>\n",
       "      <td>119323</td>\n",
       "      <td>119486</td>\n",
       "      <td>119642</td>\n",
       "      <td>119805</td>\n",
       "      <td>119992</td>\n",
       "      <td>120174</td>\n",
       "    </tr>\n",
       "  </tbody>\n",
       "</table>\n",
       "<p>3 rows × 460 columns</p>\n",
       "</div>"
      ],
      "text/plain": [
       "  Province/State Country/Region       Lat       Long  1/22/20  1/23/20  \\\n",
       "0            NaN    Afghanistan  33.93911  67.709953        0        0   \n",
       "1            NaN        Albania  41.15330  20.168300        0        0   \n",
       "2            NaN        Algeria  28.03390   1.659600        0        0   \n",
       "\n",
       "   1/24/20  1/25/20  1/26/20  1/27/20  ...  4/12/21  4/13/21  4/14/21  \\\n",
       "0        0        0        0        0  ...    57242    57364    57492   \n",
       "1        0        0        0        0  ...   128518   128752   128959   \n",
       "2        0        0        0        0  ...   118645   118799   118975   \n",
       "\n",
       "   4/15/21  4/16/21  4/17/21  4/18/21  4/19/21  4/20/21  4/21/21  \n",
       "0    57534    57612    57721    57793    57898    58037    58214  \n",
       "1   129128   129307   129456   129594   129694   129842   129980  \n",
       "2   119142   119323   119486   119642   119805   119992   120174  \n",
       "\n",
       "[3 rows x 460 columns]"
      ]
     },
     "execution_count": 4,
     "metadata": {},
     "output_type": "execute_result"
    }
   ],
   "source": [
    "df.head(3)"
   ]
  },
  {
   "cell_type": "markdown",
   "id": "north-particle",
   "metadata": {},
   "source": [
    "### Remove unused columns"
   ]
  },
  {
   "cell_type": "code",
   "execution_count": 5,
   "id": "filled-authentication",
   "metadata": {},
   "outputs": [],
   "source": [
    "df = df.drop([\"Lat\", \"Long\"], axis=1)"
   ]
  },
  {
   "cell_type": "code",
   "execution_count": 6,
   "id": "greater-difficulty",
   "metadata": {
    "tags": []
   },
   "outputs": [
    {
     "data": {
      "text/html": [
       "<div>\n",
       "<style scoped>\n",
       "    .dataframe tbody tr th:only-of-type {\n",
       "        vertical-align: middle;\n",
       "    }\n",
       "\n",
       "    .dataframe tbody tr th {\n",
       "        vertical-align: top;\n",
       "    }\n",
       "\n",
       "    .dataframe thead th {\n",
       "        text-align: right;\n",
       "    }\n",
       "</style>\n",
       "<table border=\"1\" class=\"dataframe\">\n",
       "  <thead>\n",
       "    <tr style=\"text-align: right;\">\n",
       "      <th></th>\n",
       "      <th>Province/State</th>\n",
       "      <th>Country/Region</th>\n",
       "      <th>1/22/20</th>\n",
       "      <th>1/23/20</th>\n",
       "      <th>1/24/20</th>\n",
       "      <th>1/25/20</th>\n",
       "      <th>1/26/20</th>\n",
       "      <th>1/27/20</th>\n",
       "      <th>1/28/20</th>\n",
       "      <th>1/29/20</th>\n",
       "      <th>...</th>\n",
       "      <th>4/12/21</th>\n",
       "      <th>4/13/21</th>\n",
       "      <th>4/14/21</th>\n",
       "      <th>4/15/21</th>\n",
       "      <th>4/16/21</th>\n",
       "      <th>4/17/21</th>\n",
       "      <th>4/18/21</th>\n",
       "      <th>4/19/21</th>\n",
       "      <th>4/20/21</th>\n",
       "      <th>4/21/21</th>\n",
       "    </tr>\n",
       "  </thead>\n",
       "  <tbody>\n",
       "    <tr>\n",
       "      <th>0</th>\n",
       "      <td>NaN</td>\n",
       "      <td>Afghanistan</td>\n",
       "      <td>0</td>\n",
       "      <td>0</td>\n",
       "      <td>0</td>\n",
       "      <td>0</td>\n",
       "      <td>0</td>\n",
       "      <td>0</td>\n",
       "      <td>0</td>\n",
       "      <td>0</td>\n",
       "      <td>...</td>\n",
       "      <td>57242</td>\n",
       "      <td>57364</td>\n",
       "      <td>57492</td>\n",
       "      <td>57534</td>\n",
       "      <td>57612</td>\n",
       "      <td>57721</td>\n",
       "      <td>57793</td>\n",
       "      <td>57898</td>\n",
       "      <td>58037</td>\n",
       "      <td>58214</td>\n",
       "    </tr>\n",
       "    <tr>\n",
       "      <th>1</th>\n",
       "      <td>NaN</td>\n",
       "      <td>Albania</td>\n",
       "      <td>0</td>\n",
       "      <td>0</td>\n",
       "      <td>0</td>\n",
       "      <td>0</td>\n",
       "      <td>0</td>\n",
       "      <td>0</td>\n",
       "      <td>0</td>\n",
       "      <td>0</td>\n",
       "      <td>...</td>\n",
       "      <td>128518</td>\n",
       "      <td>128752</td>\n",
       "      <td>128959</td>\n",
       "      <td>129128</td>\n",
       "      <td>129307</td>\n",
       "      <td>129456</td>\n",
       "      <td>129594</td>\n",
       "      <td>129694</td>\n",
       "      <td>129842</td>\n",
       "      <td>129980</td>\n",
       "    </tr>\n",
       "    <tr>\n",
       "      <th>2</th>\n",
       "      <td>NaN</td>\n",
       "      <td>Algeria</td>\n",
       "      <td>0</td>\n",
       "      <td>0</td>\n",
       "      <td>0</td>\n",
       "      <td>0</td>\n",
       "      <td>0</td>\n",
       "      <td>0</td>\n",
       "      <td>0</td>\n",
       "      <td>0</td>\n",
       "      <td>...</td>\n",
       "      <td>118645</td>\n",
       "      <td>118799</td>\n",
       "      <td>118975</td>\n",
       "      <td>119142</td>\n",
       "      <td>119323</td>\n",
       "      <td>119486</td>\n",
       "      <td>119642</td>\n",
       "      <td>119805</td>\n",
       "      <td>119992</td>\n",
       "      <td>120174</td>\n",
       "    </tr>\n",
       "  </tbody>\n",
       "</table>\n",
       "<p>3 rows × 458 columns</p>\n",
       "</div>"
      ],
      "text/plain": [
       "  Province/State Country/Region  1/22/20  1/23/20  1/24/20  1/25/20  1/26/20  \\\n",
       "0            NaN    Afghanistan        0        0        0        0        0   \n",
       "1            NaN        Albania        0        0        0        0        0   \n",
       "2            NaN        Algeria        0        0        0        0        0   \n",
       "\n",
       "   1/27/20  1/28/20  1/29/20  ...  4/12/21  4/13/21  4/14/21  4/15/21  \\\n",
       "0        0        0        0  ...    57242    57364    57492    57534   \n",
       "1        0        0        0  ...   128518   128752   128959   129128   \n",
       "2        0        0        0  ...   118645   118799   118975   119142   \n",
       "\n",
       "   4/16/21  4/17/21  4/18/21  4/19/21  4/20/21  4/21/21  \n",
       "0    57612    57721    57793    57898    58037    58214  \n",
       "1   129307   129456   129594   129694   129842   129980  \n",
       "2   119323   119486   119642   119805   119992   120174  \n",
       "\n",
       "[3 rows x 458 columns]"
      ]
     },
     "execution_count": 6,
     "metadata": {},
     "output_type": "execute_result"
    }
   ],
   "source": [
    "df.head(3)"
   ]
  },
  {
   "cell_type": "markdown",
   "id": "signal-postcard",
   "metadata": {},
   "source": [
    "### Make the date a column"
   ]
  },
  {
   "cell_type": "code",
   "execution_count": 7,
   "id": "spread-removal",
   "metadata": {},
   "outputs": [],
   "source": [
    "df = df.melt(id_vars=[\"Province/State\", \"Country/Region\"], var_name=\"Date\", value_name=\"Cases\")"
   ]
  },
  {
   "cell_type": "code",
   "execution_count": 8,
   "id": "every-blind",
   "metadata": {},
   "outputs": [
    {
     "data": {
      "text/html": [
       "<div>\n",
       "<style scoped>\n",
       "    .dataframe tbody tr th:only-of-type {\n",
       "        vertical-align: middle;\n",
       "    }\n",
       "\n",
       "    .dataframe tbody tr th {\n",
       "        vertical-align: top;\n",
       "    }\n",
       "\n",
       "    .dataframe thead th {\n",
       "        text-align: right;\n",
       "    }\n",
       "</style>\n",
       "<table border=\"1\" class=\"dataframe\">\n",
       "  <thead>\n",
       "    <tr style=\"text-align: right;\">\n",
       "      <th></th>\n",
       "      <th>Province/State</th>\n",
       "      <th>Country/Region</th>\n",
       "      <th>Date</th>\n",
       "      <th>Cases</th>\n",
       "    </tr>\n",
       "  </thead>\n",
       "  <tbody>\n",
       "    <tr>\n",
       "      <th>0</th>\n",
       "      <td>NaN</td>\n",
       "      <td>Afghanistan</td>\n",
       "      <td>1/22/20</td>\n",
       "      <td>0</td>\n",
       "    </tr>\n",
       "    <tr>\n",
       "      <th>1</th>\n",
       "      <td>NaN</td>\n",
       "      <td>Albania</td>\n",
       "      <td>1/22/20</td>\n",
       "      <td>0</td>\n",
       "    </tr>\n",
       "    <tr>\n",
       "      <th>2</th>\n",
       "      <td>NaN</td>\n",
       "      <td>Algeria</td>\n",
       "      <td>1/22/20</td>\n",
       "      <td>0</td>\n",
       "    </tr>\n",
       "  </tbody>\n",
       "</table>\n",
       "</div>"
      ],
      "text/plain": [
       "  Province/State Country/Region     Date  Cases\n",
       "0            NaN    Afghanistan  1/22/20      0\n",
       "1            NaN        Albania  1/22/20      0\n",
       "2            NaN        Algeria  1/22/20      0"
      ]
     },
     "execution_count": 8,
     "metadata": {},
     "output_type": "execute_result"
    }
   ],
   "source": [
    "df.head(3)"
   ]
  },
  {
   "cell_type": "markdown",
   "id": "renewable-albuquerque",
   "metadata": {},
   "source": [
    "### Make values in date column proper dates"
   ]
  },
  {
   "cell_type": "code",
   "execution_count": 9,
   "id": "hired-freedom",
   "metadata": {},
   "outputs": [],
   "source": [
    "df[\"Date\"] = pd.to_datetime(df[\"Date\"])"
   ]
  },
  {
   "cell_type": "code",
   "execution_count": 10,
   "id": "advance-intervention",
   "metadata": {},
   "outputs": [
    {
     "data": {
      "text/plain": [
       "Province/State            object\n",
       "Country/Region            object\n",
       "Date              datetime64[ns]\n",
       "Cases                      int64\n",
       "dtype: object"
      ]
     },
     "execution_count": 10,
     "metadata": {},
     "output_type": "execute_result"
    }
   ],
   "source": [
    "df.dtypes"
   ]
  },
  {
   "cell_type": "code",
   "execution_count": 11,
   "id": "pressing-surgery",
   "metadata": {},
   "outputs": [
    {
     "data": {
      "text/html": [
       "<div>\n",
       "<style scoped>\n",
       "    .dataframe tbody tr th:only-of-type {\n",
       "        vertical-align: middle;\n",
       "    }\n",
       "\n",
       "    .dataframe tbody tr th {\n",
       "        vertical-align: top;\n",
       "    }\n",
       "\n",
       "    .dataframe thead th {\n",
       "        text-align: right;\n",
       "    }\n",
       "</style>\n",
       "<table border=\"1\" class=\"dataframe\">\n",
       "  <thead>\n",
       "    <tr style=\"text-align: right;\">\n",
       "      <th></th>\n",
       "      <th>Province/State</th>\n",
       "      <th>Country/Region</th>\n",
       "      <th>Date</th>\n",
       "      <th>Cases</th>\n",
       "    </tr>\n",
       "  </thead>\n",
       "  <tbody>\n",
       "    <tr>\n",
       "      <th>0</th>\n",
       "      <td>NaN</td>\n",
       "      <td>Afghanistan</td>\n",
       "      <td>2020-01-22</td>\n",
       "      <td>0</td>\n",
       "    </tr>\n",
       "    <tr>\n",
       "      <th>1</th>\n",
       "      <td>NaN</td>\n",
       "      <td>Albania</td>\n",
       "      <td>2020-01-22</td>\n",
       "      <td>0</td>\n",
       "    </tr>\n",
       "    <tr>\n",
       "      <th>2</th>\n",
       "      <td>NaN</td>\n",
       "      <td>Algeria</td>\n",
       "      <td>2020-01-22</td>\n",
       "      <td>0</td>\n",
       "    </tr>\n",
       "  </tbody>\n",
       "</table>\n",
       "</div>"
      ],
      "text/plain": [
       "  Province/State Country/Region       Date  Cases\n",
       "0            NaN    Afghanistan 2020-01-22      0\n",
       "1            NaN        Albania 2020-01-22      0\n",
       "2            NaN        Algeria 2020-01-22      0"
      ]
     },
     "execution_count": 11,
     "metadata": {},
     "output_type": "execute_result"
    }
   ],
   "source": [
    "df.head(3)"
   ]
  },
  {
   "cell_type": "markdown",
   "id": "906ee55a-c70a-4729-a33c-aca9e139a11c",
   "metadata": {
    "tags": []
   },
   "source": [
    "### Sum provinces, aggregate to country level"
   ]
  },
  {
   "cell_type": "code",
   "execution_count": 12,
   "id": "tender-planet",
   "metadata": {
    "tags": []
   },
   "outputs": [
    {
     "data": {
      "text/html": [
       "<div>\n",
       "<style scoped>\n",
       "    .dataframe tbody tr th:only-of-type {\n",
       "        vertical-align: middle;\n",
       "    }\n",
       "\n",
       "    .dataframe tbody tr th {\n",
       "        vertical-align: top;\n",
       "    }\n",
       "\n",
       "    .dataframe thead th {\n",
       "        text-align: right;\n",
       "    }\n",
       "</style>\n",
       "<table border=\"1\" class=\"dataframe\">\n",
       "  <thead>\n",
       "    <tr style=\"text-align: right;\">\n",
       "      <th></th>\n",
       "      <th>Province/State</th>\n",
       "      <th>Country/Region</th>\n",
       "      <th>Date</th>\n",
       "      <th>Cases</th>\n",
       "    </tr>\n",
       "  </thead>\n",
       "  <tbody>\n",
       "    <tr>\n",
       "      <th>124923</th>\n",
       "      <td>Anguilla</td>\n",
       "      <td>United Kingdom</td>\n",
       "      <td>2021-04-21</td>\n",
       "      <td>29</td>\n",
       "    </tr>\n",
       "    <tr>\n",
       "      <th>124924</th>\n",
       "      <td>Bermuda</td>\n",
       "      <td>United Kingdom</td>\n",
       "      <td>2021-04-21</td>\n",
       "      <td>2226</td>\n",
       "    </tr>\n",
       "    <tr>\n",
       "      <th>124925</th>\n",
       "      <td>British Virgin Islands</td>\n",
       "      <td>United Kingdom</td>\n",
       "      <td>2021-04-21</td>\n",
       "      <td>194</td>\n",
       "    </tr>\n",
       "    <tr>\n",
       "      <th>124926</th>\n",
       "      <td>Cayman Islands</td>\n",
       "      <td>United Kingdom</td>\n",
       "      <td>2021-04-21</td>\n",
       "      <td>531</td>\n",
       "    </tr>\n",
       "    <tr>\n",
       "      <th>124927</th>\n",
       "      <td>Channel Islands</td>\n",
       "      <td>United Kingdom</td>\n",
       "      <td>2021-04-21</td>\n",
       "      <td>4055</td>\n",
       "    </tr>\n",
       "    <tr>\n",
       "      <th>124928</th>\n",
       "      <td>Falkland Islands (Malvinas)</td>\n",
       "      <td>United Kingdom</td>\n",
       "      <td>2021-04-21</td>\n",
       "      <td>62</td>\n",
       "    </tr>\n",
       "    <tr>\n",
       "      <th>124929</th>\n",
       "      <td>Gibraltar</td>\n",
       "      <td>United Kingdom</td>\n",
       "      <td>2021-04-21</td>\n",
       "      <td>4291</td>\n",
       "    </tr>\n",
       "    <tr>\n",
       "      <th>124930</th>\n",
       "      <td>Isle of Man</td>\n",
       "      <td>United Kingdom</td>\n",
       "      <td>2021-04-21</td>\n",
       "      <td>1582</td>\n",
       "    </tr>\n",
       "    <tr>\n",
       "      <th>124931</th>\n",
       "      <td>Montserrat</td>\n",
       "      <td>United Kingdom</td>\n",
       "      <td>2021-04-21</td>\n",
       "      <td>20</td>\n",
       "    </tr>\n",
       "    <tr>\n",
       "      <th>124932</th>\n",
       "      <td>Saint Helena, Ascension and Tristan da Cunha</td>\n",
       "      <td>United Kingdom</td>\n",
       "      <td>2021-04-21</td>\n",
       "      <td>4</td>\n",
       "    </tr>\n",
       "    <tr>\n",
       "      <th>124933</th>\n",
       "      <td>Turks and Caicos Islands</td>\n",
       "      <td>United Kingdom</td>\n",
       "      <td>2021-04-21</td>\n",
       "      <td>2371</td>\n",
       "    </tr>\n",
       "    <tr>\n",
       "      <th>124934</th>\n",
       "      <td>NaN</td>\n",
       "      <td>United Kingdom</td>\n",
       "      <td>2021-04-21</td>\n",
       "      <td>4395703</td>\n",
       "    </tr>\n",
       "  </tbody>\n",
       "</table>\n",
       "</div>"
      ],
      "text/plain": [
       "                                      Province/State  Country/Region  \\\n",
       "124923                                      Anguilla  United Kingdom   \n",
       "124924                                       Bermuda  United Kingdom   \n",
       "124925                        British Virgin Islands  United Kingdom   \n",
       "124926                                Cayman Islands  United Kingdom   \n",
       "124927                               Channel Islands  United Kingdom   \n",
       "124928                   Falkland Islands (Malvinas)  United Kingdom   \n",
       "124929                                     Gibraltar  United Kingdom   \n",
       "124930                                   Isle of Man  United Kingdom   \n",
       "124931                                    Montserrat  United Kingdom   \n",
       "124932  Saint Helena, Ascension and Tristan da Cunha  United Kingdom   \n",
       "124933                      Turks and Caicos Islands  United Kingdom   \n",
       "124934                                           NaN  United Kingdom   \n",
       "\n",
       "             Date    Cases  \n",
       "124923 2021-04-21       29  \n",
       "124924 2021-04-21     2226  \n",
       "124925 2021-04-21      194  \n",
       "124926 2021-04-21      531  \n",
       "124927 2021-04-21     4055  \n",
       "124928 2021-04-21       62  \n",
       "124929 2021-04-21     4291  \n",
       "124930 2021-04-21     1582  \n",
       "124931 2021-04-21       20  \n",
       "124932 2021-04-21        4  \n",
       "124933 2021-04-21     2371  \n",
       "124934 2021-04-21  4395703  "
      ]
     },
     "execution_count": 12,
     "metadata": {},
     "output_type": "execute_result"
    }
   ],
   "source": [
    "df[(df[\"Country/Region\"] == \"United Kingdom\") & (df[\"Date\"] == df[\"Date\"].max())]"
   ]
  },
  {
   "cell_type": "code",
   "execution_count": 13,
   "id": "black-discovery",
   "metadata": {},
   "outputs": [],
   "source": [
    "df = df.groupby([\"Country/Region\", \"Date\"]).sum()"
   ]
  },
  {
   "cell_type": "markdown",
   "id": "1556f727-3718-4c50-a502-ecee719eaf86",
   "metadata": {},
   "source": [
    "Dataframe is now indexed by country and date and selection can be done via `loc[]`:"
   ]
  },
  {
   "cell_type": "code",
   "execution_count": 14,
   "id": "31fa6492-daeb-4ee6-b039-bba2ca2950c5",
   "metadata": {},
   "outputs": [
    {
     "data": {
      "text/plain": [
       "Cases    4411068\n",
       "Name: 2021-04-21 00:00:00, dtype: int64"
      ]
     },
     "execution_count": 14,
     "metadata": {},
     "output_type": "execute_result"
    }
   ],
   "source": [
    "df.loc[\"United Kingdom\"].iloc[-1]"
   ]
  },
  {
   "cell_type": "markdown",
   "id": "b58ca553-efd7-4b34-a86e-0d0a97972d75",
   "metadata": {
    "tags": []
   },
   "source": [
    "### Convert cumulative total to daily new cases"
   ]
  },
  {
   "cell_type": "code",
   "execution_count": 15,
   "id": "trained-thumbnail",
   "metadata": {},
   "outputs": [
    {
     "data": {
      "text/html": [
       "<div>\n",
       "<style scoped>\n",
       "    .dataframe tbody tr th:only-of-type {\n",
       "        vertical-align: middle;\n",
       "    }\n",
       "\n",
       "    .dataframe tbody tr th {\n",
       "        vertical-align: top;\n",
       "    }\n",
       "\n",
       "    .dataframe thead th {\n",
       "        text-align: right;\n",
       "    }\n",
       "</style>\n",
       "<table border=\"1\" class=\"dataframe\">\n",
       "  <thead>\n",
       "    <tr style=\"text-align: right;\">\n",
       "      <th></th>\n",
       "      <th>Cases</th>\n",
       "    </tr>\n",
       "    <tr>\n",
       "      <th>Date</th>\n",
       "      <th></th>\n",
       "    </tr>\n",
       "  </thead>\n",
       "  <tbody>\n",
       "    <tr>\n",
       "      <th>2021-04-17</th>\n",
       "      <td>4401176</td>\n",
       "    </tr>\n",
       "    <tr>\n",
       "      <th>2021-04-18</th>\n",
       "      <td>4403060</td>\n",
       "    </tr>\n",
       "    <tr>\n",
       "      <th>2021-04-19</th>\n",
       "      <td>4406114</td>\n",
       "    </tr>\n",
       "    <tr>\n",
       "      <th>2021-04-20</th>\n",
       "      <td>4408644</td>\n",
       "    </tr>\n",
       "    <tr>\n",
       "      <th>2021-04-21</th>\n",
       "      <td>4411068</td>\n",
       "    </tr>\n",
       "  </tbody>\n",
       "</table>\n",
       "</div>"
      ],
      "text/plain": [
       "              Cases\n",
       "Date               \n",
       "2021-04-17  4401176\n",
       "2021-04-18  4403060\n",
       "2021-04-19  4406114\n",
       "2021-04-20  4408644\n",
       "2021-04-21  4411068"
      ]
     },
     "execution_count": 15,
     "metadata": {},
     "output_type": "execute_result"
    }
   ],
   "source": [
    "df.loc[\"United Kingdom\"].iloc[-5:]"
   ]
  },
  {
   "cell_type": "code",
   "execution_count": 16,
   "id": "occasional-flash",
   "metadata": {},
   "outputs": [],
   "source": [
    "df = df.groupby(level=0).diff()"
   ]
  },
  {
   "cell_type": "code",
   "execution_count": 17,
   "id": "fabulous-algeria",
   "metadata": {},
   "outputs": [
    {
     "data": {
      "text/html": [
       "<div>\n",
       "<style scoped>\n",
       "    .dataframe tbody tr th:only-of-type {\n",
       "        vertical-align: middle;\n",
       "    }\n",
       "\n",
       "    .dataframe tbody tr th {\n",
       "        vertical-align: top;\n",
       "    }\n",
       "\n",
       "    .dataframe thead th {\n",
       "        text-align: right;\n",
       "    }\n",
       "</style>\n",
       "<table border=\"1\" class=\"dataframe\">\n",
       "  <thead>\n",
       "    <tr style=\"text-align: right;\">\n",
       "      <th></th>\n",
       "      <th>Cases</th>\n",
       "    </tr>\n",
       "    <tr>\n",
       "      <th>Date</th>\n",
       "      <th></th>\n",
       "    </tr>\n",
       "  </thead>\n",
       "  <tbody>\n",
       "    <tr>\n",
       "      <th>2021-04-17</th>\n",
       "      <td>2273.0</td>\n",
       "    </tr>\n",
       "    <tr>\n",
       "      <th>2021-04-18</th>\n",
       "      <td>1884.0</td>\n",
       "    </tr>\n",
       "    <tr>\n",
       "      <th>2021-04-19</th>\n",
       "      <td>3054.0</td>\n",
       "    </tr>\n",
       "    <tr>\n",
       "      <th>2021-04-20</th>\n",
       "      <td>2530.0</td>\n",
       "    </tr>\n",
       "    <tr>\n",
       "      <th>2021-04-21</th>\n",
       "      <td>2424.0</td>\n",
       "    </tr>\n",
       "  </tbody>\n",
       "</table>\n",
       "</div>"
      ],
      "text/plain": [
       "             Cases\n",
       "Date              \n",
       "2021-04-17  2273.0\n",
       "2021-04-18  1884.0\n",
       "2021-04-19  3054.0\n",
       "2021-04-20  2530.0\n",
       "2021-04-21  2424.0"
      ]
     },
     "execution_count": 17,
     "metadata": {},
     "output_type": "execute_result"
    }
   ],
   "source": [
    "df.loc[\"United Kingdom\"].iloc[-5:]"
   ]
  },
  {
   "cell_type": "markdown",
   "id": "c5aa9b15-7f66-4b92-bde3-05c49040b7e3",
   "metadata": {
    "tags": []
   },
   "source": [
    "### Keep only data starting from 2020-06"
   ]
  },
  {
   "cell_type": "code",
   "execution_count": 18,
   "id": "23b31c13-0475-4697-a2c9-b6b63da5f151",
   "metadata": {},
   "outputs": [
    {
     "data": {
      "text/html": [
       "<div>\n",
       "<style scoped>\n",
       "    .dataframe tbody tr th:only-of-type {\n",
       "        vertical-align: middle;\n",
       "    }\n",
       "\n",
       "    .dataframe tbody tr th {\n",
       "        vertical-align: top;\n",
       "    }\n",
       "\n",
       "    .dataframe thead th {\n",
       "        text-align: right;\n",
       "    }\n",
       "</style>\n",
       "<table border=\"1\" class=\"dataframe\">\n",
       "  <thead>\n",
       "    <tr style=\"text-align: right;\">\n",
       "      <th></th>\n",
       "      <th></th>\n",
       "      <th>Cases</th>\n",
       "    </tr>\n",
       "    <tr>\n",
       "      <th>Country/Region</th>\n",
       "      <th>Date</th>\n",
       "      <th></th>\n",
       "    </tr>\n",
       "  </thead>\n",
       "  <tbody>\n",
       "    <tr>\n",
       "      <th rowspan=\"3\" valign=\"top\">Afghanistan</th>\n",
       "      <th>2020-01-22</th>\n",
       "      <td>NaN</td>\n",
       "    </tr>\n",
       "    <tr>\n",
       "      <th>2020-01-23</th>\n",
       "      <td>0.0</td>\n",
       "    </tr>\n",
       "    <tr>\n",
       "      <th>2020-01-24</th>\n",
       "      <td>0.0</td>\n",
       "    </tr>\n",
       "  </tbody>\n",
       "</table>\n",
       "</div>"
      ],
      "text/plain": [
       "                           Cases\n",
       "Country/Region Date             \n",
       "Afghanistan    2020-01-22    NaN\n",
       "               2020-01-23    0.0\n",
       "               2020-01-24    0.0"
      ]
     },
     "execution_count": 18,
     "metadata": {},
     "output_type": "execute_result"
    }
   ],
   "source": [
    "df.head(3)"
   ]
  },
  {
   "cell_type": "code",
   "execution_count": 19,
   "id": "d4decddb-ecbc-4650-854a-843a6a8c067f",
   "metadata": {},
   "outputs": [],
   "source": [
    "df = df.loc[(slice(None), slice(pd.to_datetime(\"2020-06-01\"), None)), :]"
   ]
  },
  {
   "cell_type": "code",
   "execution_count": 20,
   "id": "e4aa3d5c-9f7b-4bf4-a30b-3506b9abcd16",
   "metadata": {
    "tags": []
   },
   "outputs": [
    {
     "data": {
      "text/html": [
       "<div>\n",
       "<style scoped>\n",
       "    .dataframe tbody tr th:only-of-type {\n",
       "        vertical-align: middle;\n",
       "    }\n",
       "\n",
       "    .dataframe tbody tr th {\n",
       "        vertical-align: top;\n",
       "    }\n",
       "\n",
       "    .dataframe thead th {\n",
       "        text-align: right;\n",
       "    }\n",
       "</style>\n",
       "<table border=\"1\" class=\"dataframe\">\n",
       "  <thead>\n",
       "    <tr style=\"text-align: right;\">\n",
       "      <th></th>\n",
       "      <th></th>\n",
       "      <th>Cases</th>\n",
       "    </tr>\n",
       "    <tr>\n",
       "      <th>Country/Region</th>\n",
       "      <th>Date</th>\n",
       "      <th></th>\n",
       "    </tr>\n",
       "  </thead>\n",
       "  <tbody>\n",
       "    <tr>\n",
       "      <th rowspan=\"3\" valign=\"top\">Afghanistan</th>\n",
       "      <th>2020-06-01</th>\n",
       "      <td>545.0</td>\n",
       "    </tr>\n",
       "    <tr>\n",
       "      <th>2020-06-02</th>\n",
       "      <td>759.0</td>\n",
       "    </tr>\n",
       "    <tr>\n",
       "      <th>2020-06-03</th>\n",
       "      <td>758.0</td>\n",
       "    </tr>\n",
       "  </tbody>\n",
       "</table>\n",
       "</div>"
      ],
      "text/plain": [
       "                           Cases\n",
       "Country/Region Date             \n",
       "Afghanistan    2020-06-01  545.0\n",
       "               2020-06-02  759.0\n",
       "               2020-06-03  758.0"
      ]
     },
     "execution_count": 20,
     "metadata": {},
     "output_type": "execute_result"
    }
   ],
   "source": [
    "df.head(3)"
   ]
  },
  {
   "cell_type": "markdown",
   "id": "beginning-gibraltar",
   "metadata": {},
   "source": [
    "## Analyze"
   ]
  },
  {
   "cell_type": "code",
   "execution_count": 21,
   "id": "early-henry",
   "metadata": {},
   "outputs": [],
   "source": [
    "date_from = pd.to_datetime(\"2021-01-01\")\n",
    "date_to   = pd.to_datetime(\"2021-04-22\")\n",
    "\n",
    "countries = sorted([\n",
    "    \"Poland\",\n",
    "    \"Czechia\",\n",
    "    \"Germany\",\n",
    "    \"Austria\"\n",
    "])"
   ]
  },
  {
   "cell_type": "code",
   "execution_count": 22,
   "id": "129aeeb3-0433-47c5-8b8d-89f1ff44402c",
   "metadata": {},
   "outputs": [],
   "source": [
    "def plot(df):\n",
    "    fig, ax = plt.subplots(figsize=(16,5))\n",
    "    df.unstack(level=\"Country/Region\").plot(ax=ax, legend=False)\n",
    "    fig.legend(loc=\"center right\")"
   ]
  },
  {
   "cell_type": "markdown",
   "id": "hundred-dayton",
   "metadata": {},
   "source": [
    "### Plot cases day by day"
   ]
  },
  {
   "cell_type": "code",
   "execution_count": 23,
   "id": "improved-entry",
   "metadata": {},
   "outputs": [
    {
     "data": {
      "text/plain": [
       "Country/Region  Date      \n",
       "Austria         2021-01-01     2096.0\n",
       "                2021-01-02     1391.0\n",
       "                2021-01-03     1466.0\n",
       "                2021-01-04     1642.0\n",
       "                2021-01-05     2311.0\n",
       "Czechia         2021-01-01    13361.0\n",
       "                2021-01-02     3447.0\n",
       "                2021-01-03     5012.0\n",
       "                2021-01-04     6233.0\n",
       "                2021-01-05    12921.0\n",
       "Germany         2021-01-01     2117.0\n",
       "                2021-01-02    10903.0\n",
       "                2021-01-03    10356.0\n",
       "                2021-01-04    12320.0\n",
       "                2021-01-05    18349.0\n",
       "Poland          2021-01-01    10896.0\n",
       "                2021-01-02     7006.0\n",
       "                2021-01-03     5782.0\n",
       "                2021-01-04     4385.0\n",
       "                2021-01-05     7596.0\n",
       "Name: Cases, dtype: float64"
      ]
     },
     "execution_count": 23,
     "metadata": {},
     "output_type": "execute_result"
    }
   ],
   "source": [
    "cases_day_by_day_df = df.loc[(countries, slice(date_from, date_to)), \"Cases\"]\n",
    "cases_day_by_day_df.groupby(level=\"Country/Region\").head()"
   ]
  },
  {
   "cell_type": "code",
   "execution_count": 24,
   "id": "6447311d-ab36-4f0d-a98f-239e14e681d6",
   "metadata": {},
   "outputs": [
    {
     "data": {
      "image/png": "[encoded data removed]",
      "text/plain": [
       "<Figure size 1152x360 with 1 Axes>"
      ]
     },
     "metadata": {},
     "output_type": "display_data"
    }
   ],
   "source": [
    "plot(cases_day_by_day_df)"
   ]
  },
  {
   "cell_type": "markdown",
   "id": "senior-vault",
   "metadata": {},
   "source": [
    "### Plot cases week-by-week"
   ]
  },
  {
   "cell_type": "code",
   "execution_count": 25,
   "id": "toxic-style",
   "metadata": {},
   "outputs": [],
   "source": [
    "def week_start(dt):\n",
    "    return dt - timedelta(days=dt.weekday())"
   ]
  },
  {
   "cell_type": "code",
   "execution_count": 26,
   "id": "7018f92d-d729-42c8-a587-ea4c244e7b8d",
   "metadata": {},
   "outputs": [
    {
     "data": {
      "text/plain": [
       "Country/Region  Date      \n",
       "Austria         2021-01-03     13876.0\n",
       "                2021-01-10     14954.0\n",
       "                2021-01-17     13056.0\n",
       "                2021-01-24     10936.0\n",
       "                2021-01-31      9684.0\n",
       "Czechia         2021-01-03     69882.0\n",
       "                2021-01-10     90684.0\n",
       "                2021-01-17     57994.0\n",
       "                2021-01-24     48458.0\n",
       "                2021-01-31     47157.0\n",
       "Germany         2021-01-03    125257.0\n",
       "                2021-01-10    145514.0\n",
       "                2021-01-17    120719.0\n",
       "                2021-01-24     97640.0\n",
       "                2021-01-31     77890.0\n",
       "Poland          2021-01-03     60763.0\n",
       "                2021-01-10     66960.0\n",
       "                2021-01-17     50060.0\n",
       "                2021-01-24     39863.0\n",
       "                2021-01-31     37940.0\n",
       "Name: Cases, dtype: float64"
      ]
     },
     "execution_count": 26,
     "metadata": {},
     "output_type": "execute_result"
    }
   ],
   "source": [
    "cases_week_by_week_df = (\n",
    "    df.loc[(countries, slice(week_start(date_from), date_to)), \"Cases\"]\n",
    "    .groupby(level=\"Country/Region\")\n",
    "    .resample(\"1W\", level=\"Date\")\n",
    "    .sum()\n",
    ")\n",
    "cases_week_by_week_df.groupby(level=\"Country/Region\").head()"
   ]
  },
  {
   "cell_type": "code",
   "execution_count": 27,
   "id": "92a5e5d7-5cdb-45f8-a55c-72eac2742d99",
   "metadata": {},
   "outputs": [
    {
     "data": {
      "image/png": "[encoded data removed]",
      "text/plain": [
       "<Figure size 1152x360 with 1 Axes>"
      ]
     },
     "metadata": {},
     "output_type": "display_data"
    }
   ],
   "source": [
    "plot(cases_week_by_week_df)"
   ]
  },
  {
   "cell_type": "markdown",
   "id": "native-development",
   "metadata": {},
   "source": [
    "### Plot moving average of cases"
   ]
  },
  {
   "cell_type": "code",
   "execution_count": 28,
   "id": "e6ad07f3-4ce6-4bbb-9ac9-1d1b72627495",
   "metadata": {},
   "outputs": [
    {
     "data": {
      "text/plain": [
       "Country/Region  Date      \n",
       "Austria         2021-01-01     13856.0\n",
       "                2021-01-02     13818.0\n",
       "                2021-01-03     13876.0\n",
       "                2021-01-04     13926.0\n",
       "                2021-01-05     14369.0\n",
       "                2021-01-06     14288.0\n",
       "                2021-01-07     13915.0\n",
       "                2021-01-08     13882.0\n",
       "                2021-01-09     14769.0\n",
       "                2021-01-10     14954.0\n",
       "Czechia         2021-01-01     67159.0\n",
       "                2021-01-02     67900.0\n",
       "                2021-01-03     69882.0\n",
       "                2021-01-04     72374.0\n",
       "                2021-01-05     74433.0\n",
       "                2021-01-06     75345.0\n",
       "                2021-01-07     76079.0\n",
       "                2021-01-08     77579.0\n",
       "                2021-01-09     87247.0\n",
       "                2021-01-10     90684.0\n",
       "Germany         2021-01-01    129901.0\n",
       "                2021-01-02    127300.0\n",
       "                2021-01-03    125257.0\n",
       "                2021-01-04    123573.0\n",
       "                2021-01-05    122456.0\n",
       "                2021-01-06    100075.0\n",
       "                2021-01-07    126041.0\n",
       "                2021-01-08    143001.0\n",
       "                2021-01-09    154922.0\n",
       "                2021-01-10    145514.0\n",
       "Poland          2021-01-01     56695.0\n",
       "                2021-01-02     58823.0\n",
       "                2021-01-03     60763.0\n",
       "                2021-01-04     61937.0\n",
       "                2021-01-05     61909.0\n",
       "                2021-01-06     63349.0\n",
       "                2021-01-07     62004.0\n",
       "                2021-01-08     59871.0\n",
       "                2021-01-09     63609.0\n",
       "                2021-01-10     66960.0\n",
       "Name: Cases, dtype: float64"
      ]
     },
     "execution_count": 28,
     "metadata": {},
     "output_type": "execute_result"
    }
   ],
   "source": [
    "cases_moving_average_df = (\n",
    "    df.loc[(countries, slice(date_from - timedelta(days=7), date_to)), \"Cases\"]\n",
    "    .groupby(level=\"Country/Region\")\n",
    "    .apply(lambda df: df.rolling(7).sum())\n",
    "    .loc[(countries, slice(date_from, date_to))]\n",
    ")\n",
    "cases_moving_average_df.groupby(level=\"Country/Region\").head(10)"
   ]
  },
  {
   "cell_type": "code",
   "execution_count": 29,
   "id": "c3273fef-46ae-42b3-99be-ef2ae407158e",
   "metadata": {},
   "outputs": [
    {
     "data": {
      "image/png": "[encoded data removed]",
      "text/plain": [
       "<Figure size 1152x360 with 1 Axes>"
      ]
     },
     "metadata": {},
     "output_type": "display_data"
    }
   ],
   "source": [
    "plot(cases_moving_average_df)"
   ]
  }
 ],
 "metadata": {
  "jupytext": {
   "formats": "ipynb,py:percent"
  },
  "kernelspec": {
   "display_name": "Python 3",
   "language": "python",
   "name": "python3"
  },
  "language_info": {
   "codemirror_mode": {
    "name": "ipython",
    "version": 3
   },
   "file_extension": ".py",
   "mimetype": "text/x-python",
   "name": "python",
   "nbconvert_exporter": "python",
   "pygments_lexer": "ipython3",
   "version": "3.9.8"
  }
 },
 "nbformat": 4,
 "nbformat_minor": 5
}
