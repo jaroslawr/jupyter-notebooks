{
 "cells": [
  {
   "cell_type": "markdown",
   "id": "fa81b936-31a5-472c-98ef-3b7f06f023b4",
   "metadata": {},
   "source": [
    "# Pandas reference"
   ]
  },
  {
   "cell_type": "markdown",
   "id": "artistic-green",
   "metadata": {},
   "source": [
    "Quick reference on getting common data processing tasks done with Pandas."
   ]
  },
  {
   "cell_type": "markdown",
   "id": "provincial-greek",
   "metadata": {},
   "source": [
    "## Setup"
   ]
  },
  {
   "cell_type": "markdown",
   "id": "0e0422d1-a663-42e9-a847-539b7a37a47e",
   "metadata": {},
   "source": [
    "### Import libraries"
   ]
  },
  {
   "cell_type": "code",
   "execution_count": 1,
   "id": "velvet-newsletter",
   "metadata": {},
   "outputs": [],
   "source": [
    "import numpy as np\n",
    "import pandas as pd"
   ]
  },
  {
   "cell_type": "markdown",
   "id": "celtic-prevention",
   "metadata": {},
   "source": [
    "### Show more data in dataframes"
   ]
  },
  {
   "cell_type": "code",
   "execution_count": 2,
   "id": "partial-juice",
   "metadata": {},
   "outputs": [],
   "source": [
    "pd.options.display.max_rows = 999\n",
    "pd.options.display.max_columns = 100\n",
    "pd.options.display.max_colwidth = 200"
   ]
  },
  {
   "cell_type": "markdown",
   "id": "fc428b06-1b04-490b-9e5f-424cd715d99e",
   "metadata": {},
   "source": [
    "### Set floating point precision"
   ]
  },
  {
   "cell_type": "code",
   "execution_count": 3,
   "id": "22c3ea24-425c-4779-8056-43b8dd29df9a",
   "metadata": {},
   "outputs": [],
   "source": [
    "pd.options.display.precision = 3"
   ]
  },
  {
   "cell_type": "markdown",
   "id": "14a4a5c0-4b34-4e3d-ac91-e940ac453359",
   "metadata": {},
   "source": [
    "## Datasets"
   ]
  },
  {
   "cell_type": "markdown",
   "id": "f1aedb4f-7049-4457-878c-2b5cbc89fabb",
   "metadata": {},
   "source": [
    "### USD exchange rates (yearly averages)"
   ]
  },
  {
   "cell_type": "code",
   "execution_count": 4,
   "id": "d63f1bd1-d57c-4081-afbc-f0875efe03d2",
   "metadata": {},
   "outputs": [],
   "source": [
    "def usd_exchange_rates_df():\n",
    "    return pd.DataFrame(\n",
    "        columns=(\"Year\", \"Currency\", \"Currency/USD\", \"USD/Currency\"),\n",
    "        data=[\n",
    "            [pd.to_datetime(\"2016-12-31\"), \"EUR\", 1.064, 0.940],\n",
    "            [pd.to_datetime(\"2017-12-31\"), \"EUR\", 1.083, 0.923],\n",
    "            [pd.to_datetime(\"2018-12-31\"), \"EUR\", 1.179, 0.848],\n",
    "            [pd.to_datetime(\"2019-12-31\"), \"EUR\", 1.120, 0.893],\n",
    "            [pd.to_datetime(\"2020-12-31\"), \"EUR\", 1.140, 0.877],\n",
    "            [pd.to_datetime(\"2016-12-31\"), \"GBP\", 1.299, 0.770],\n",
    "            [pd.to_datetime(\"2017-12-31\"), \"GBP\", 1.238, 0.808],\n",
    "            [pd.to_datetime(\"2018-12-31\"), \"GBP\", 1.333, 0.750],\n",
    "            [pd.to_datetime(\"2019-12-31\"), \"GBP\", 1.276, 0.784],\n",
    "            [pd.to_datetime(\"2020-12-31\"), \"GBP\", 1.284, 0.779],\n",
    "        ]\n",
    "    )"
   ]
  },
  {
   "cell_type": "markdown",
   "id": "d8a1539b-5fdb-461c-8bd0-a09c4cfa5b90",
   "metadata": {},
   "source": [
    "## Filtering"
   ]
  },
  {
   "cell_type": "markdown",
   "id": "4a4cce5e-0051-49fe-9cd0-759cb1ac81c9",
   "metadata": {},
   "source": [
    "### Filter with []"
   ]
  },
  {
   "cell_type": "markdown",
   "id": "e9de2760-3bae-41d2-b440-e2cfb58fc861",
   "metadata": {},
   "source": [
    "Select rows with `[]`:"
   ]
  },
  {
   "cell_type": "code",
   "execution_count": 5,
   "id": "b6886e1f-380f-4e15-9d48-dd1bc72e9b27",
   "metadata": {},
   "outputs": [
    {
     "data": {
      "text/html": [
       "<div>\n",
       "<style scoped>\n",
       "    .dataframe tbody tr th:only-of-type {\n",
       "        vertical-align: middle;\n",
       "    }\n",
       "\n",
       "    .dataframe tbody tr th {\n",
       "        vertical-align: top;\n",
       "    }\n",
       "\n",
       "    .dataframe thead th {\n",
       "        text-align: right;\n",
       "    }\n",
       "</style>\n",
       "<table border=\"1\" class=\"dataframe\">\n",
       "  <thead>\n",
       "    <tr style=\"text-align: right;\">\n",
       "      <th></th>\n",
       "      <th>Year</th>\n",
       "      <th>Currency</th>\n",
       "      <th>Currency/USD</th>\n",
       "      <th>USD/Currency</th>\n",
       "    </tr>\n",
       "  </thead>\n",
       "  <tbody>\n",
       "    <tr>\n",
       "      <th>0</th>\n",
       "      <td>2016-12-31</td>\n",
       "      <td>EUR</td>\n",
       "      <td>1.064</td>\n",
       "      <td>0.940</td>\n",
       "    </tr>\n",
       "    <tr>\n",
       "      <th>1</th>\n",
       "      <td>2017-12-31</td>\n",
       "      <td>EUR</td>\n",
       "      <td>1.083</td>\n",
       "      <td>0.923</td>\n",
       "    </tr>\n",
       "    <tr>\n",
       "      <th>2</th>\n",
       "      <td>2018-12-31</td>\n",
       "      <td>EUR</td>\n",
       "      <td>1.179</td>\n",
       "      <td>0.848</td>\n",
       "    </tr>\n",
       "    <tr>\n",
       "      <th>3</th>\n",
       "      <td>2019-12-31</td>\n",
       "      <td>EUR</td>\n",
       "      <td>1.120</td>\n",
       "      <td>0.893</td>\n",
       "    </tr>\n",
       "    <tr>\n",
       "      <th>4</th>\n",
       "      <td>2020-12-31</td>\n",
       "      <td>EUR</td>\n",
       "      <td>1.140</td>\n",
       "      <td>0.877</td>\n",
       "    </tr>\n",
       "  </tbody>\n",
       "</table>\n",
       "</div>"
      ],
      "text/plain": [
       "        Year Currency  Currency/USD  USD/Currency\n",
       "0 2016-12-31      EUR         1.064         0.940\n",
       "1 2017-12-31      EUR         1.083         0.923\n",
       "2 2018-12-31      EUR         1.179         0.848\n",
       "3 2019-12-31      EUR         1.120         0.893\n",
       "4 2020-12-31      EUR         1.140         0.877"
      ]
     },
     "execution_count": 5,
     "metadata": {},
     "output_type": "execute_result"
    }
   ],
   "source": [
    "df = usd_exchange_rates_df()\n",
    "df[df[\"Currency\"] == \"EUR\"]"
   ]
  },
  {
   "cell_type": "markdown",
   "id": "f66242b7-d7aa-49bb-af35-8d44a5c23293",
   "metadata": {},
   "source": [
    "Select a single column as a `pd.Series` with `[]`:"
   ]
  },
  {
   "cell_type": "code",
   "execution_count": 6,
   "id": "dff09d42-56d8-4175-a541-6fc5e2fbd10f",
   "metadata": {},
   "outputs": [
    {
     "data": {
      "text/plain": [
       "0    1.064\n",
       "1    1.083\n",
       "2    1.179\n",
       "3    1.120\n",
       "4    1.140\n",
       "5    1.299\n",
       "6    1.238\n",
       "7    1.333\n",
       "8    1.276\n",
       "9    1.284\n",
       "Name: Currency/USD, dtype: float64"
      ]
     },
     "execution_count": 6,
     "metadata": {},
     "output_type": "execute_result"
    }
   ],
   "source": [
    "df = usd_exchange_rates_df()\n",
    "df[\"Currency/USD\"]"
   ]
  },
  {
   "cell_type": "markdown",
   "id": "d46e7947-9c66-4a95-a457-0b03284c2218",
   "metadata": {},
   "source": [
    "Select one or more columns as a `pd.DataFrame` by passing a list to `[]`:"
   ]
  },
  {
   "cell_type": "code",
   "execution_count": 7,
   "id": "17951765-e7b8-4fd5-867d-89b600da7571",
   "metadata": {},
   "outputs": [
    {
     "data": {
      "text/html": [
       "<div>\n",
       "<style scoped>\n",
       "    .dataframe tbody tr th:only-of-type {\n",
       "        vertical-align: middle;\n",
       "    }\n",
       "\n",
       "    .dataframe tbody tr th {\n",
       "        vertical-align: top;\n",
       "    }\n",
       "\n",
       "    .dataframe thead th {\n",
       "        text-align: right;\n",
       "    }\n",
       "</style>\n",
       "<table border=\"1\" class=\"dataframe\">\n",
       "  <thead>\n",
       "    <tr style=\"text-align: right;\">\n",
       "      <th></th>\n",
       "      <th>Currency/USD</th>\n",
       "    </tr>\n",
       "  </thead>\n",
       "  <tbody>\n",
       "    <tr>\n",
       "      <th>0</th>\n",
       "      <td>1.064</td>\n",
       "    </tr>\n",
       "    <tr>\n",
       "      <th>1</th>\n",
       "      <td>1.083</td>\n",
       "    </tr>\n",
       "    <tr>\n",
       "      <th>2</th>\n",
       "      <td>1.179</td>\n",
       "    </tr>\n",
       "    <tr>\n",
       "      <th>3</th>\n",
       "      <td>1.120</td>\n",
       "    </tr>\n",
       "    <tr>\n",
       "      <th>4</th>\n",
       "      <td>1.140</td>\n",
       "    </tr>\n",
       "    <tr>\n",
       "      <th>5</th>\n",
       "      <td>1.299</td>\n",
       "    </tr>\n",
       "    <tr>\n",
       "      <th>6</th>\n",
       "      <td>1.238</td>\n",
       "    </tr>\n",
       "    <tr>\n",
       "      <th>7</th>\n",
       "      <td>1.333</td>\n",
       "    </tr>\n",
       "    <tr>\n",
       "      <th>8</th>\n",
       "      <td>1.276</td>\n",
       "    </tr>\n",
       "    <tr>\n",
       "      <th>9</th>\n",
       "      <td>1.284</td>\n",
       "    </tr>\n",
       "  </tbody>\n",
       "</table>\n",
       "</div>"
      ],
      "text/plain": [
       "   Currency/USD\n",
       "0         1.064\n",
       "1         1.083\n",
       "2         1.179\n",
       "3         1.120\n",
       "4         1.140\n",
       "5         1.299\n",
       "6         1.238\n",
       "7         1.333\n",
       "8         1.276\n",
       "9         1.284"
      ]
     },
     "execution_count": 7,
     "metadata": {},
     "output_type": "execute_result"
    }
   ],
   "source": [
    "df = usd_exchange_rates_df()\n",
    "df[[\"Currency/USD\"]]"
   ]
  },
  {
   "cell_type": "markdown",
   "id": "ba467bd5-4ab2-4323-b456-db0c1223da0b",
   "metadata": {},
   "source": [
    "Selection of rows and of columns can be combined:"
   ]
  },
  {
   "cell_type": "code",
   "execution_count": 8,
   "id": "fa7e85e0-0e1d-4bc1-b642-5385ddcfefc6",
   "metadata": {},
   "outputs": [
    {
     "data": {
      "text/plain": [
       "0    1.064\n",
       "1    1.083\n",
       "2    1.179\n",
       "3    1.120\n",
       "4    1.140\n",
       "Name: Currency/USD, dtype: float64"
      ]
     },
     "execution_count": 8,
     "metadata": {},
     "output_type": "execute_result"
    }
   ],
   "source": [
    "df = usd_exchange_rates_df()\n",
    "df[df[\"Currency\"] == \"EUR\"][\"Currency/USD\"]"
   ]
  },
  {
   "cell_type": "markdown",
   "id": "680929fd-35d0-4034-a89f-64a39c550d50",
   "metadata": {},
   "source": [
    "Note that chaining `[]` does not work for the purpose of modifying or inserting data:"
   ]
  },
  {
   "cell_type": "code",
   "execution_count": 9,
   "id": "ec39c65d-ecb7-409d-bc14-0537148b92cf",
   "metadata": {},
   "outputs": [
    {
     "name": "stderr",
     "output_type": "stream",
     "text": [
      "<ipython-input-9-67e3584b001a>:2: SettingWithCopyWarning: \n",
      "A value is trying to be set on a copy of a slice from a DataFrame.\n",
      "Try using .loc[row_indexer,col_indexer] = value instead\n",
      "\n",
      "See the caveats in the documentation: https://pandas.pydata.org/pandas-docs/stable/user_guide/indexing.html#returning-a-view-versus-a-copy\n",
      "  df[df[\"Currency\"] == \"EUR\"][\"Currency/USD\"] = 5\n"
     ]
    }
   ],
   "source": [
    "df = usd_exchange_rates_df()\n",
    "df[df[\"Currency\"] == \"EUR\"][\"Currency/USD\"] = 5"
   ]
  },
  {
   "cell_type": "markdown",
   "id": "17251a0d-178e-4f8a-83ae-03ca21a111bc",
   "metadata": {},
   "source": [
    "`df[][]=` translates to a `df.__getitem__()` call on the data frame and then a `.__setitem__()` call on the resulting object. The problem is that the `df.__getitem__()` call might return either a view or a copy of the dataframe, so the dataframe might or might not be modified.\n",
    "\n",
    "Instead, `df.loc[]` can be used to select rows and columns at the same time. `df.loc[]` will return a view or a copy just like `df[]`, but `df.loc[]=` is just a single method call on the `loc` attribute of the original dataframe, free of the ambiguity of `[][]=`, so that it will always correctly modify the dataframe."
   ]
  },
  {
   "cell_type": "markdown",
   "id": "69f6fe36-2f05-45a5-a52b-743d8d491b9e",
   "metadata": {},
   "source": [
    "### Filter with loc[]"
   ]
  },
  {
   "cell_type": "markdown",
   "id": "92a19228-e186-4d14-8068-9c9ae7c7e1e7",
   "metadata": {},
   "source": [
    "Select rows:"
   ]
  },
  {
   "cell_type": "code",
   "execution_count": 10,
   "id": "80806b5b-cb45-43c9-bbe8-563625ac0396",
   "metadata": {},
   "outputs": [
    {
     "data": {
      "text/html": [
       "<div>\n",
       "<style scoped>\n",
       "    .dataframe tbody tr th:only-of-type {\n",
       "        vertical-align: middle;\n",
       "    }\n",
       "\n",
       "    .dataframe tbody tr th {\n",
       "        vertical-align: top;\n",
       "    }\n",
       "\n",
       "    .dataframe thead th {\n",
       "        text-align: right;\n",
       "    }\n",
       "</style>\n",
       "<table border=\"1\" class=\"dataframe\">\n",
       "  <thead>\n",
       "    <tr style=\"text-align: right;\">\n",
       "      <th></th>\n",
       "      <th>Year</th>\n",
       "      <th>Currency</th>\n",
       "      <th>Currency/USD</th>\n",
       "      <th>USD/Currency</th>\n",
       "    </tr>\n",
       "  </thead>\n",
       "  <tbody>\n",
       "    <tr>\n",
       "      <th>0</th>\n",
       "      <td>2016-12-31</td>\n",
       "      <td>EUR</td>\n",
       "      <td>1.064</td>\n",
       "      <td>0.940</td>\n",
       "    </tr>\n",
       "    <tr>\n",
       "      <th>1</th>\n",
       "      <td>2017-12-31</td>\n",
       "      <td>EUR</td>\n",
       "      <td>1.083</td>\n",
       "      <td>0.923</td>\n",
       "    </tr>\n",
       "    <tr>\n",
       "      <th>2</th>\n",
       "      <td>2018-12-31</td>\n",
       "      <td>EUR</td>\n",
       "      <td>1.179</td>\n",
       "      <td>0.848</td>\n",
       "    </tr>\n",
       "    <tr>\n",
       "      <th>3</th>\n",
       "      <td>2019-12-31</td>\n",
       "      <td>EUR</td>\n",
       "      <td>1.120</td>\n",
       "      <td>0.893</td>\n",
       "    </tr>\n",
       "    <tr>\n",
       "      <th>4</th>\n",
       "      <td>2020-12-31</td>\n",
       "      <td>EUR</td>\n",
       "      <td>1.140</td>\n",
       "      <td>0.877</td>\n",
       "    </tr>\n",
       "  </tbody>\n",
       "</table>\n",
       "</div>"
      ],
      "text/plain": [
       "        Year Currency  Currency/USD  USD/Currency\n",
       "0 2016-12-31      EUR         1.064         0.940\n",
       "1 2017-12-31      EUR         1.083         0.923\n",
       "2 2018-12-31      EUR         1.179         0.848\n",
       "3 2019-12-31      EUR         1.120         0.893\n",
       "4 2020-12-31      EUR         1.140         0.877"
      ]
     },
     "execution_count": 10,
     "metadata": {},
     "output_type": "execute_result"
    }
   ],
   "source": [
    "df = usd_exchange_rates_df()\n",
    "df.loc[df[\"Currency\"] == \"EUR\"]"
   ]
  },
  {
   "cell_type": "markdown",
   "id": "24b30971-703f-401c-ab2f-c933eab93d67",
   "metadata": {},
   "source": [
    "Select a single column as a `pd.Series`:"
   ]
  },
  {
   "cell_type": "code",
   "execution_count": 11,
   "id": "f44ed924-a037-4281-a6b5-61f1f81a69e0",
   "metadata": {},
   "outputs": [
    {
     "data": {
      "text/plain": [
       "0    1.064\n",
       "1    1.083\n",
       "2    1.179\n",
       "3    1.120\n",
       "4    1.140\n",
       "5    1.299\n",
       "6    1.238\n",
       "7    1.333\n",
       "8    1.276\n",
       "9    1.284\n",
       "Name: Currency/USD, dtype: float64"
      ]
     },
     "execution_count": 11,
     "metadata": {},
     "output_type": "execute_result"
    }
   ],
   "source": [
    "df = usd_exchange_rates_df()\n",
    "df.loc[:, \"Currency/USD\"]"
   ]
  },
  {
   "cell_type": "markdown",
   "id": "8e3edd55-8563-49b6-9e2b-3e8850425210",
   "metadata": {},
   "source": [
    "Select one or more columns as a `pd.DataFrame`:"
   ]
  },
  {
   "cell_type": "code",
   "execution_count": 12,
   "id": "5c5d9b86-eb55-44d3-bf1c-33e2d5e8d699",
   "metadata": {},
   "outputs": [
    {
     "data": {
      "text/html": [
       "<div>\n",
       "<style scoped>\n",
       "    .dataframe tbody tr th:only-of-type {\n",
       "        vertical-align: middle;\n",
       "    }\n",
       "\n",
       "    .dataframe tbody tr th {\n",
       "        vertical-align: top;\n",
       "    }\n",
       "\n",
       "    .dataframe thead th {\n",
       "        text-align: right;\n",
       "    }\n",
       "</style>\n",
       "<table border=\"1\" class=\"dataframe\">\n",
       "  <thead>\n",
       "    <tr style=\"text-align: right;\">\n",
       "      <th></th>\n",
       "      <th>Currency/USD</th>\n",
       "    </tr>\n",
       "  </thead>\n",
       "  <tbody>\n",
       "    <tr>\n",
       "      <th>0</th>\n",
       "      <td>1.064</td>\n",
       "    </tr>\n",
       "    <tr>\n",
       "      <th>1</th>\n",
       "      <td>1.083</td>\n",
       "    </tr>\n",
       "    <tr>\n",
       "      <th>2</th>\n",
       "      <td>1.179</td>\n",
       "    </tr>\n",
       "    <tr>\n",
       "      <th>3</th>\n",
       "      <td>1.120</td>\n",
       "    </tr>\n",
       "    <tr>\n",
       "      <th>4</th>\n",
       "      <td>1.140</td>\n",
       "    </tr>\n",
       "    <tr>\n",
       "      <th>5</th>\n",
       "      <td>1.299</td>\n",
       "    </tr>\n",
       "    <tr>\n",
       "      <th>6</th>\n",
       "      <td>1.238</td>\n",
       "    </tr>\n",
       "    <tr>\n",
       "      <th>7</th>\n",
       "      <td>1.333</td>\n",
       "    </tr>\n",
       "    <tr>\n",
       "      <th>8</th>\n",
       "      <td>1.276</td>\n",
       "    </tr>\n",
       "    <tr>\n",
       "      <th>9</th>\n",
       "      <td>1.284</td>\n",
       "    </tr>\n",
       "  </tbody>\n",
       "</table>\n",
       "</div>"
      ],
      "text/plain": [
       "   Currency/USD\n",
       "0         1.064\n",
       "1         1.083\n",
       "2         1.179\n",
       "3         1.120\n",
       "4         1.140\n",
       "5         1.299\n",
       "6         1.238\n",
       "7         1.333\n",
       "8         1.276\n",
       "9         1.284"
      ]
     },
     "execution_count": 12,
     "metadata": {},
     "output_type": "execute_result"
    }
   ],
   "source": [
    "df = usd_exchange_rates_df()\n",
    "df.loc[:, [\"Currency/USD\"]]"
   ]
  },
  {
   "cell_type": "markdown",
   "id": "7d647a57-f5a9-4d8f-88ec-e7a91334a6c0",
   "metadata": {},
   "source": [
    "Modify a subpart of a dataframe:"
   ]
  },
  {
   "cell_type": "code",
   "execution_count": 13,
   "id": "809ac565-d167-4f0b-836a-11e45be639a6",
   "metadata": {},
   "outputs": [
    {
     "data": {
      "text/html": [
       "<div>\n",
       "<style scoped>\n",
       "    .dataframe tbody tr th:only-of-type {\n",
       "        vertical-align: middle;\n",
       "    }\n",
       "\n",
       "    .dataframe tbody tr th {\n",
       "        vertical-align: top;\n",
       "    }\n",
       "\n",
       "    .dataframe thead th {\n",
       "        text-align: right;\n",
       "    }\n",
       "</style>\n",
       "<table border=\"1\" class=\"dataframe\">\n",
       "  <thead>\n",
       "    <tr style=\"text-align: right;\">\n",
       "      <th></th>\n",
       "      <th>Year</th>\n",
       "      <th>Currency</th>\n",
       "      <th>Currency/USD</th>\n",
       "      <th>USD/Currency</th>\n",
       "    </tr>\n",
       "  </thead>\n",
       "  <tbody>\n",
       "    <tr>\n",
       "      <th>0</th>\n",
       "      <td>2016-12-31</td>\n",
       "      <td>EUR</td>\n",
       "      <td>2.000</td>\n",
       "      <td>0.940</td>\n",
       "    </tr>\n",
       "    <tr>\n",
       "      <th>1</th>\n",
       "      <td>2017-12-31</td>\n",
       "      <td>EUR</td>\n",
       "      <td>2.000</td>\n",
       "      <td>0.923</td>\n",
       "    </tr>\n",
       "    <tr>\n",
       "      <th>2</th>\n",
       "      <td>2018-12-31</td>\n",
       "      <td>EUR</td>\n",
       "      <td>2.000</td>\n",
       "      <td>0.848</td>\n",
       "    </tr>\n",
       "    <tr>\n",
       "      <th>3</th>\n",
       "      <td>2019-12-31</td>\n",
       "      <td>EUR</td>\n",
       "      <td>2.000</td>\n",
       "      <td>0.893</td>\n",
       "    </tr>\n",
       "    <tr>\n",
       "      <th>4</th>\n",
       "      <td>2020-12-31</td>\n",
       "      <td>EUR</td>\n",
       "      <td>2.000</td>\n",
       "      <td>0.877</td>\n",
       "    </tr>\n",
       "    <tr>\n",
       "      <th>5</th>\n",
       "      <td>2016-12-31</td>\n",
       "      <td>GBP</td>\n",
       "      <td>1.299</td>\n",
       "      <td>0.500</td>\n",
       "    </tr>\n",
       "    <tr>\n",
       "      <th>6</th>\n",
       "      <td>2017-12-31</td>\n",
       "      <td>GBP</td>\n",
       "      <td>1.238</td>\n",
       "      <td>0.500</td>\n",
       "    </tr>\n",
       "    <tr>\n",
       "      <th>7</th>\n",
       "      <td>2018-12-31</td>\n",
       "      <td>GBP</td>\n",
       "      <td>1.333</td>\n",
       "      <td>0.500</td>\n",
       "    </tr>\n",
       "    <tr>\n",
       "      <th>8</th>\n",
       "      <td>2019-12-31</td>\n",
       "      <td>GBP</td>\n",
       "      <td>1.276</td>\n",
       "      <td>0.500</td>\n",
       "    </tr>\n",
       "    <tr>\n",
       "      <th>9</th>\n",
       "      <td>2020-12-31</td>\n",
       "      <td>GBP</td>\n",
       "      <td>1.284</td>\n",
       "      <td>0.500</td>\n",
       "    </tr>\n",
       "  </tbody>\n",
       "</table>\n",
       "</div>"
      ],
      "text/plain": [
       "        Year Currency  Currency/USD  USD/Currency\n",
       "0 2016-12-31      EUR         2.000         0.940\n",
       "1 2017-12-31      EUR         2.000         0.923\n",
       "2 2018-12-31      EUR         2.000         0.848\n",
       "3 2019-12-31      EUR         2.000         0.893\n",
       "4 2020-12-31      EUR         2.000         0.877\n",
       "5 2016-12-31      GBP         1.299         0.500\n",
       "6 2017-12-31      GBP         1.238         0.500\n",
       "7 2018-12-31      GBP         1.333         0.500\n",
       "8 2019-12-31      GBP         1.276         0.500\n",
       "9 2020-12-31      GBP         1.284         0.500"
      ]
     },
     "execution_count": 13,
     "metadata": {},
     "output_type": "execute_result"
    }
   ],
   "source": [
    "df = usd_exchange_rates_df()\n",
    "df.loc[df[\"Currency\"] == \"EUR\", \"Currency/USD\"] = 2\n",
    "df.loc[df[\"Currency\"] == \"GBP\", \"USD/Currency\"] = 0.5\n",
    "df"
   ]
  },
  {
   "cell_type": "markdown",
   "id": "0d2d4461-333f-4ac7-8758-6a6ca9507da8",
   "metadata": {},
   "source": [
    "### Boolean masks for [] and loc[]"
   ]
  },
  {
   "cell_type": "markdown",
   "id": "3052e6f8-4646-482b-8733-b11a4453fde2",
   "metadata": {},
   "source": [
    "Boolean masks can be formed with `&`, `|` and `~` (negation) and passed to `[]` and to `loc[]`. Conditions have to be enclosed in parenthesis since `&` and `|` have higher priority in Python than operators like `>=`:"
   ]
  },
  {
   "cell_type": "code",
   "execution_count": 14,
   "id": "cbe3d8e9-7bab-4dab-a6d0-bb5d26a3c374",
   "metadata": {},
   "outputs": [
    {
     "data": {
      "text/html": [
       "<div>\n",
       "<style scoped>\n",
       "    .dataframe tbody tr th:only-of-type {\n",
       "        vertical-align: middle;\n",
       "    }\n",
       "\n",
       "    .dataframe tbody tr th {\n",
       "        vertical-align: top;\n",
       "    }\n",
       "\n",
       "    .dataframe thead th {\n",
       "        text-align: right;\n",
       "    }\n",
       "</style>\n",
       "<table border=\"1\" class=\"dataframe\">\n",
       "  <thead>\n",
       "    <tr style=\"text-align: right;\">\n",
       "      <th></th>\n",
       "      <th>Year</th>\n",
       "      <th>Currency</th>\n",
       "      <th>Currency/USD</th>\n",
       "      <th>USD/Currency</th>\n",
       "    </tr>\n",
       "  </thead>\n",
       "  <tbody>\n",
       "    <tr>\n",
       "      <th>2</th>\n",
       "      <td>2018-12-31</td>\n",
       "      <td>EUR</td>\n",
       "      <td>1.179</td>\n",
       "      <td>0.848</td>\n",
       "    </tr>\n",
       "    <tr>\n",
       "      <th>3</th>\n",
       "      <td>2019-12-31</td>\n",
       "      <td>EUR</td>\n",
       "      <td>1.120</td>\n",
       "      <td>0.893</td>\n",
       "    </tr>\n",
       "    <tr>\n",
       "      <th>4</th>\n",
       "      <td>2020-12-31</td>\n",
       "      <td>EUR</td>\n",
       "      <td>1.140</td>\n",
       "      <td>0.877</td>\n",
       "    </tr>\n",
       "    <tr>\n",
       "      <th>7</th>\n",
       "      <td>2018-12-31</td>\n",
       "      <td>GBP</td>\n",
       "      <td>1.333</td>\n",
       "      <td>0.750</td>\n",
       "    </tr>\n",
       "    <tr>\n",
       "      <th>8</th>\n",
       "      <td>2019-12-31</td>\n",
       "      <td>GBP</td>\n",
       "      <td>1.276</td>\n",
       "      <td>0.784</td>\n",
       "    </tr>\n",
       "    <tr>\n",
       "      <th>9</th>\n",
       "      <td>2020-12-31</td>\n",
       "      <td>GBP</td>\n",
       "      <td>1.284</td>\n",
       "      <td>0.779</td>\n",
       "    </tr>\n",
       "  </tbody>\n",
       "</table>\n",
       "</div>"
      ],
      "text/plain": [
       "        Year Currency  Currency/USD  USD/Currency\n",
       "2 2018-12-31      EUR         1.179         0.848\n",
       "3 2019-12-31      EUR         1.120         0.893\n",
       "4 2020-12-31      EUR         1.140         0.877\n",
       "7 2018-12-31      GBP         1.333         0.750\n",
       "8 2019-12-31      GBP         1.276         0.784\n",
       "9 2020-12-31      GBP         1.284         0.779"
      ]
     },
     "execution_count": 14,
     "metadata": {},
     "output_type": "execute_result"
    }
   ],
   "source": [
    "df = usd_exchange_rates_df()\n",
    "df[(df[\"Year\"] >= pd.to_datetime(\"2018-12-31\")) &\n",
    "   (df[\"Year\"] <= pd.to_datetime(\"2020-12-31\"))]"
   ]
  },
  {
   "cell_type": "markdown",
   "id": "f2103b20-7d9a-4cf2-80cc-4a054760108a",
   "metadata": {},
   "source": [
    "The condition inside `[]` translates to a boolean vector:"
   ]
  },
  {
   "cell_type": "code",
   "execution_count": 15,
   "id": "bb24f14e-ac44-436d-9da1-2b7e400da74e",
   "metadata": {},
   "outputs": [
    {
     "data": {
      "text/plain": [
       "0    False\n",
       "1    False\n",
       "2     True\n",
       "3     True\n",
       "4     True\n",
       "5    False\n",
       "6    False\n",
       "7     True\n",
       "8     True\n",
       "9     True\n",
       "Name: Year, dtype: bool"
      ]
     },
     "execution_count": 15,
     "metadata": {},
     "output_type": "execute_result"
    }
   ],
   "source": [
    "((df[\"Year\"] >= pd.to_datetime(\"2018-12-31\")) &\n",
    " (df[\"Year\"] <= pd.to_datetime(\"2020-12-31\")))"
   ]
  },
  {
   "cell_type": "markdown",
   "id": "d65b0ee0-5cec-470e-ae8a-59b915e38b60",
   "metadata": {},
   "source": [
    "Use `isin()` series method for subset selection:"
   ]
  },
  {
   "cell_type": "code",
   "execution_count": 16,
   "id": "e5d67c1f-34fe-49c3-8a34-7189f442b67c",
   "metadata": {},
   "outputs": [
    {
     "data": {
      "text/html": [
       "<div>\n",
       "<style scoped>\n",
       "    .dataframe tbody tr th:only-of-type {\n",
       "        vertical-align: middle;\n",
       "    }\n",
       "\n",
       "    .dataframe tbody tr th {\n",
       "        vertical-align: top;\n",
       "    }\n",
       "\n",
       "    .dataframe thead th {\n",
       "        text-align: right;\n",
       "    }\n",
       "</style>\n",
       "<table border=\"1\" class=\"dataframe\">\n",
       "  <thead>\n",
       "    <tr style=\"text-align: right;\">\n",
       "      <th></th>\n",
       "      <th>Year</th>\n",
       "      <th>Currency</th>\n",
       "      <th>Currency/USD</th>\n",
       "      <th>USD/Currency</th>\n",
       "    </tr>\n",
       "  </thead>\n",
       "  <tbody>\n",
       "    <tr>\n",
       "      <th>2</th>\n",
       "      <td>2018-12-31</td>\n",
       "      <td>EUR</td>\n",
       "      <td>1.179</td>\n",
       "      <td>0.848</td>\n",
       "    </tr>\n",
       "    <tr>\n",
       "      <th>3</th>\n",
       "      <td>2019-12-31</td>\n",
       "      <td>EUR</td>\n",
       "      <td>1.120</td>\n",
       "      <td>0.893</td>\n",
       "    </tr>\n",
       "    <tr>\n",
       "      <th>4</th>\n",
       "      <td>2020-12-31</td>\n",
       "      <td>EUR</td>\n",
       "      <td>1.140</td>\n",
       "      <td>0.877</td>\n",
       "    </tr>\n",
       "    <tr>\n",
       "      <th>7</th>\n",
       "      <td>2018-12-31</td>\n",
       "      <td>GBP</td>\n",
       "      <td>1.333</td>\n",
       "      <td>0.750</td>\n",
       "    </tr>\n",
       "    <tr>\n",
       "      <th>8</th>\n",
       "      <td>2019-12-31</td>\n",
       "      <td>GBP</td>\n",
       "      <td>1.276</td>\n",
       "      <td>0.784</td>\n",
       "    </tr>\n",
       "    <tr>\n",
       "      <th>9</th>\n",
       "      <td>2020-12-31</td>\n",
       "      <td>GBP</td>\n",
       "      <td>1.284</td>\n",
       "      <td>0.779</td>\n",
       "    </tr>\n",
       "  </tbody>\n",
       "</table>\n",
       "</div>"
      ],
      "text/plain": [
       "        Year Currency  Currency/USD  USD/Currency\n",
       "2 2018-12-31      EUR         1.179         0.848\n",
       "3 2019-12-31      EUR         1.120         0.893\n",
       "4 2020-12-31      EUR         1.140         0.877\n",
       "7 2018-12-31      GBP         1.333         0.750\n",
       "8 2019-12-31      GBP         1.276         0.784\n",
       "9 2020-12-31      GBP         1.284         0.779"
      ]
     },
     "execution_count": 16,
     "metadata": {},
     "output_type": "execute_result"
    }
   ],
   "source": [
    "df = usd_exchange_rates_df()\n",
    "df[df[\"Year\"].isin([\n",
    "    pd.to_datetime(\"2018-12-31\"),\n",
    "    pd.to_datetime(\"2019-12-31\"),\n",
    "    pd.to_datetime(\"2020-12-31\")\n",
    "])]"
   ]
  },
  {
   "cell_type": "markdown",
   "id": "8e6006c6-7437-4e2f-8f27-29b4af852f75",
   "metadata": {},
   "source": [
    "## Grouping"
   ]
  },
  {
   "cell_type": "markdown",
   "id": "7c94ada8-59ad-4cae-8ec9-6febdbfc6a8f",
   "metadata": {},
   "source": [
    "### Reduce group-by-group and series-by-series with agg()"
   ]
  },
  {
   "cell_type": "markdown",
   "id": "c995471d-347a-47a2-9e3f-2b35acd0a921",
   "metadata": {},
   "source": [
    "`df.groupby().agg(func)` will call `func(series)` once for each series of every group.\n",
    "\n",
    "`func` should return a scalar."
   ]
  },
  {
   "cell_type": "code",
   "execution_count": 17,
   "id": "690d84f2-25a3-4b84-987c-94dec9bb7c03",
   "metadata": {},
   "outputs": [
    {
     "data": {
      "text/html": [
       "<div>\n",
       "<style scoped>\n",
       "    .dataframe tbody tr th:only-of-type {\n",
       "        vertical-align: middle;\n",
       "    }\n",
       "\n",
       "    .dataframe tbody tr th {\n",
       "        vertical-align: top;\n",
       "    }\n",
       "\n",
       "    .dataframe thead th {\n",
       "        text-align: right;\n",
       "    }\n",
       "</style>\n",
       "<table border=\"1\" class=\"dataframe\">\n",
       "  <thead>\n",
       "    <tr style=\"text-align: right;\">\n",
       "      <th></th>\n",
       "      <th>Currency/USD</th>\n",
       "      <th>USD/Currency</th>\n",
       "    </tr>\n",
       "    <tr>\n",
       "      <th>Currency</th>\n",
       "      <th></th>\n",
       "      <th></th>\n",
       "    </tr>\n",
       "  </thead>\n",
       "  <tbody>\n",
       "    <tr>\n",
       "      <th>EUR</th>\n",
       "      <td>1.117</td>\n",
       "      <td>0.896</td>\n",
       "    </tr>\n",
       "    <tr>\n",
       "      <th>GBP</th>\n",
       "      <td>1.286</td>\n",
       "      <td>0.778</td>\n",
       "    </tr>\n",
       "  </tbody>\n",
       "</table>\n",
       "</div>"
      ],
      "text/plain": [
       "          Currency/USD  USD/Currency\n",
       "Currency                            \n",
       "EUR              1.117         0.896\n",
       "GBP              1.286         0.778"
      ]
     },
     "execution_count": 17,
     "metadata": {},
     "output_type": "execute_result"
    }
   ],
   "source": [
    "df = usd_exchange_rates_df()\n",
    "df.groupby(\"Currency\").agg(np.mean)"
   ]
  },
  {
   "cell_type": "markdown",
   "id": "74d74444-366c-4a61-82ab-32621aaa293a",
   "metadata": {},
   "source": [
    "Multiple aggregations can be specified:"
   ]
  },
  {
   "cell_type": "code",
   "execution_count": 18,
   "id": "032b91d0-f16c-4160-8f37-939dbd711daa",
   "metadata": {},
   "outputs": [
    {
     "data": {
      "text/html": [
       "<div>\n",
       "<style scoped>\n",
       "    .dataframe tbody tr th:only-of-type {\n",
       "        vertical-align: middle;\n",
       "    }\n",
       "\n",
       "    .dataframe tbody tr th {\n",
       "        vertical-align: top;\n",
       "    }\n",
       "\n",
       "    .dataframe thead tr th {\n",
       "        text-align: left;\n",
       "    }\n",
       "\n",
       "    .dataframe thead tr:last-of-type th {\n",
       "        text-align: right;\n",
       "    }\n",
       "</style>\n",
       "<table border=\"1\" class=\"dataframe\">\n",
       "  <thead>\n",
       "    <tr>\n",
       "      <th></th>\n",
       "      <th colspan=\"2\" halign=\"left\">Currency/USD</th>\n",
       "      <th colspan=\"2\" halign=\"left\">USD/Currency</th>\n",
       "    </tr>\n",
       "    <tr>\n",
       "      <th></th>\n",
       "      <th>mean</th>\n",
       "      <th>var</th>\n",
       "      <th>mean</th>\n",
       "      <th>var</th>\n",
       "    </tr>\n",
       "    <tr>\n",
       "      <th>Currency</th>\n",
       "      <th></th>\n",
       "      <th></th>\n",
       "      <th></th>\n",
       "      <th></th>\n",
       "    </tr>\n",
       "  </thead>\n",
       "  <tbody>\n",
       "    <tr>\n",
       "      <th>EUR</th>\n",
       "      <td>1.117</td>\n",
       "      <td>0.002</td>\n",
       "      <td>0.896</td>\n",
       "      <td>1.335e-03</td>\n",
       "    </tr>\n",
       "    <tr>\n",
       "      <th>GBP</th>\n",
       "      <td>1.286</td>\n",
       "      <td>0.001</td>\n",
       "      <td>0.778</td>\n",
       "      <td>4.462e-04</td>\n",
       "    </tr>\n",
       "  </tbody>\n",
       "</table>\n",
       "</div>"
      ],
      "text/plain": [
       "         Currency/USD        USD/Currency           \n",
       "                 mean    var         mean        var\n",
       "Currency                                            \n",
       "EUR             1.117  0.002        0.896  1.335e-03\n",
       "GBP             1.286  0.001        0.778  4.462e-04"
      ]
     },
     "execution_count": 18,
     "metadata": {},
     "output_type": "execute_result"
    }
   ],
   "source": [
    "df = usd_exchange_rates_df()\n",
    "df.groupby(\"Currency\")[[\"Currency/USD\", \"USD/Currency\"]].agg([np.mean, np.var])"
   ]
  },
  {
   "cell_type": "markdown",
   "id": "2a7cd351-5a85-477e-a85d-4b99146d0e13",
   "metadata": {},
   "source": [
    "Use keyword arguments to rename the resulting columns:"
   ]
  },
  {
   "cell_type": "code",
   "execution_count": 19,
   "id": "7691adcc-727a-40b0-9b20-6cf440da9acd",
   "metadata": {},
   "outputs": [
    {
     "data": {
      "text/html": [
       "<div>\n",
       "<style scoped>\n",
       "    .dataframe tbody tr th:only-of-type {\n",
       "        vertical-align: middle;\n",
       "    }\n",
       "\n",
       "    .dataframe tbody tr th {\n",
       "        vertical-align: top;\n",
       "    }\n",
       "\n",
       "    .dataframe thead th {\n",
       "        text-align: right;\n",
       "    }\n",
       "</style>\n",
       "<table border=\"1\" class=\"dataframe\">\n",
       "  <thead>\n",
       "    <tr style=\"text-align: right;\">\n",
       "      <th></th>\n",
       "      <th>avg_cur2usd</th>\n",
       "      <th>avg_usd2cur</th>\n",
       "    </tr>\n",
       "    <tr>\n",
       "      <th>Currency</th>\n",
       "      <th></th>\n",
       "      <th></th>\n",
       "    </tr>\n",
       "  </thead>\n",
       "  <tbody>\n",
       "    <tr>\n",
       "      <th>EUR</th>\n",
       "      <td>1.117</td>\n",
       "      <td>0.896</td>\n",
       "    </tr>\n",
       "    <tr>\n",
       "      <th>GBP</th>\n",
       "      <td>1.286</td>\n",
       "      <td>0.778</td>\n",
       "    </tr>\n",
       "  </tbody>\n",
       "</table>\n",
       "</div>"
      ],
      "text/plain": [
       "          avg_cur2usd  avg_usd2cur\n",
       "Currency                          \n",
       "EUR             1.117        0.896\n",
       "GBP             1.286        0.778"
      ]
     },
     "execution_count": 19,
     "metadata": {},
     "output_type": "execute_result"
    }
   ],
   "source": [
    "df = usd_exchange_rates_df()\n",
    "df.groupby(\"Currency\")[[\"Currency/USD\", \"USD/Currency\"]].agg(\n",
    "    avg_cur2usd=(\"Currency/USD\", np.mean),\n",
    "    avg_usd2cur=(\"USD/Currency\", np.mean),\n",
    ")"
   ]
  },
  {
   "cell_type": "markdown",
   "id": "5d96baf5-7ca3-4220-8df6-4624bb8b3378",
   "metadata": {},
   "source": [
    "The last type of agg() aggregation has slightly different syntax when dealing with a single series:"
   ]
  },
  {
   "cell_type": "code",
   "execution_count": 20,
   "id": "61ec8d23-b833-470a-ac1c-807b68a1e7dc",
   "metadata": {},
   "outputs": [
    {
     "data": {
      "text/html": [
       "<div>\n",
       "<style scoped>\n",
       "    .dataframe tbody tr th:only-of-type {\n",
       "        vertical-align: middle;\n",
       "    }\n",
       "\n",
       "    .dataframe tbody tr th {\n",
       "        vertical-align: top;\n",
       "    }\n",
       "\n",
       "    .dataframe thead th {\n",
       "        text-align: right;\n",
       "    }\n",
       "</style>\n",
       "<table border=\"1\" class=\"dataframe\">\n",
       "  <thead>\n",
       "    <tr style=\"text-align: right;\">\n",
       "      <th></th>\n",
       "      <th>average</th>\n",
       "    </tr>\n",
       "    <tr>\n",
       "      <th>Currency</th>\n",
       "      <th></th>\n",
       "    </tr>\n",
       "  </thead>\n",
       "  <tbody>\n",
       "    <tr>\n",
       "      <th>EUR</th>\n",
       "      <td>1.117</td>\n",
       "    </tr>\n",
       "    <tr>\n",
       "      <th>GBP</th>\n",
       "      <td>1.286</td>\n",
       "    </tr>\n",
       "  </tbody>\n",
       "</table>\n",
       "</div>"
      ],
      "text/plain": [
       "          average\n",
       "Currency         \n",
       "EUR         1.117\n",
       "GBP         1.286"
      ]
     },
     "execution_count": 20,
     "metadata": {},
     "output_type": "execute_result"
    }
   ],
   "source": [
    "df = usd_exchange_rates_df()\n",
    "df.groupby(\"Currency\")[\"Currency/USD\"].agg(average=np.mean)"
   ]
  },
  {
   "cell_type": "markdown",
   "id": "896b90d9-4393-4252-a0eb-7fd9cb1a8fb9",
   "metadata": {},
   "source": [
    "### Reduce group-by-group with apply"
   ]
  },
  {
   "cell_type": "markdown",
   "id": "603891d1-d70c-4103-ace7-98e42b178f69",
   "metadata": {},
   "source": [
    "`df.groupby().apply(func)` will call `func(group)` once for each group, where `group` is a dataframe containing the rows within each group.\n",
    "\n",
    "`func` can return:\n",
    "- a scalar - making the result of `apply()` a series\n",
    "- a series - making the result of `apply()` a series\n",
    "- a dataframe - making the result of `apply()` a dataframe"
   ]
  },
  {
   "cell_type": "code",
   "execution_count": 21,
   "id": "3d9e3608-896e-4f8a-ac9f-1caa35a91018",
   "metadata": {},
   "outputs": [
    {
     "data": {
      "text/html": [
       "<div>\n",
       "<style scoped>\n",
       "    .dataframe tbody tr th:only-of-type {\n",
       "        vertical-align: middle;\n",
       "    }\n",
       "\n",
       "    .dataframe tbody tr th {\n",
       "        vertical-align: top;\n",
       "    }\n",
       "\n",
       "    .dataframe thead th {\n",
       "        text-align: right;\n",
       "    }\n",
       "</style>\n",
       "<table border=\"1\" class=\"dataframe\">\n",
       "  <thead>\n",
       "    <tr style=\"text-align: right;\">\n",
       "      <th></th>\n",
       "      <th>Currency/USD</th>\n",
       "      <th>USD/Currency</th>\n",
       "    </tr>\n",
       "    <tr>\n",
       "      <th>Currency</th>\n",
       "      <th></th>\n",
       "      <th></th>\n",
       "    </tr>\n",
       "  </thead>\n",
       "  <tbody>\n",
       "    <tr>\n",
       "      <th>EUR</th>\n",
       "      <td>1.117</td>\n",
       "      <td>0.896</td>\n",
       "    </tr>\n",
       "    <tr>\n",
       "      <th>GBP</th>\n",
       "      <td>1.286</td>\n",
       "      <td>0.778</td>\n",
       "    </tr>\n",
       "  </tbody>\n",
       "</table>\n",
       "</div>"
      ],
      "text/plain": [
       "          Currency/USD  USD/Currency\n",
       "Currency                            \n",
       "EUR              1.117         0.896\n",
       "GBP              1.286         0.778"
      ]
     },
     "execution_count": 21,
     "metadata": {},
     "output_type": "execute_result"
    }
   ],
   "source": [
    "df = usd_exchange_rates_df()\n",
    "df.groupby(\"Currency\")[[\"Currency/USD\", \"USD/Currency\"]].apply(lambda df: df.mean())"
   ]
  },
  {
   "cell_type": "markdown",
   "id": "9279db4c-788d-4b78-8493-00097cf9d379",
   "metadata": {},
   "source": [
    "### Transform rows one-by-one with transform"
   ]
  },
  {
   "cell_type": "markdown",
   "id": "da353be5-e7ba-4074-9f3b-a23326e83379",
   "metadata": {},
   "source": [
    "`df.groupby().transform(func)` will call `func(series_in_group)` once for each series in each group. In contrast to `apply()`, the result of `transform()` is of the same dimensions as the original dataframe.\n",
    "\n",
    "`func(series_in_group)` should either return a series of the same dimensions as `series_in_group` or a scalar, in which case pandas will take care of making a series of length `len(series_in_group)` out of it."
   ]
  },
  {
   "cell_type": "code",
   "execution_count": 22,
   "id": "15535587-9eb2-4814-bb73-2973994a3c01",
   "metadata": {},
   "outputs": [
    {
     "data": {
      "text/html": [
       "<div>\n",
       "<style scoped>\n",
       "    .dataframe tbody tr th:only-of-type {\n",
       "        vertical-align: middle;\n",
       "    }\n",
       "\n",
       "    .dataframe tbody tr th {\n",
       "        vertical-align: top;\n",
       "    }\n",
       "\n",
       "    .dataframe thead th {\n",
       "        text-align: right;\n",
       "    }\n",
       "</style>\n",
       "<table border=\"1\" class=\"dataframe\">\n",
       "  <thead>\n",
       "    <tr style=\"text-align: right;\">\n",
       "      <th></th>\n",
       "      <th>Currency/USD</th>\n",
       "      <th>USD/Currency</th>\n",
       "    </tr>\n",
       "  </thead>\n",
       "  <tbody>\n",
       "    <tr>\n",
       "      <th>0</th>\n",
       "      <td>1.117</td>\n",
       "      <td>0.896</td>\n",
       "    </tr>\n",
       "    <tr>\n",
       "      <th>1</th>\n",
       "      <td>1.117</td>\n",
       "      <td>0.896</td>\n",
       "    </tr>\n",
       "    <tr>\n",
       "      <th>2</th>\n",
       "      <td>1.117</td>\n",
       "      <td>0.896</td>\n",
       "    </tr>\n",
       "    <tr>\n",
       "      <th>3</th>\n",
       "      <td>1.117</td>\n",
       "      <td>0.896</td>\n",
       "    </tr>\n",
       "    <tr>\n",
       "      <th>4</th>\n",
       "      <td>1.117</td>\n",
       "      <td>0.896</td>\n",
       "    </tr>\n",
       "    <tr>\n",
       "      <th>5</th>\n",
       "      <td>1.286</td>\n",
       "      <td>0.778</td>\n",
       "    </tr>\n",
       "    <tr>\n",
       "      <th>6</th>\n",
       "      <td>1.286</td>\n",
       "      <td>0.778</td>\n",
       "    </tr>\n",
       "    <tr>\n",
       "      <th>7</th>\n",
       "      <td>1.286</td>\n",
       "      <td>0.778</td>\n",
       "    </tr>\n",
       "    <tr>\n",
       "      <th>8</th>\n",
       "      <td>1.286</td>\n",
       "      <td>0.778</td>\n",
       "    </tr>\n",
       "    <tr>\n",
       "      <th>9</th>\n",
       "      <td>1.286</td>\n",
       "      <td>0.778</td>\n",
       "    </tr>\n",
       "  </tbody>\n",
       "</table>\n",
       "</div>"
      ],
      "text/plain": [
       "   Currency/USD  USD/Currency\n",
       "0         1.117         0.896\n",
       "1         1.117         0.896\n",
       "2         1.117         0.896\n",
       "3         1.117         0.896\n",
       "4         1.117         0.896\n",
       "5         1.286         0.778\n",
       "6         1.286         0.778\n",
       "7         1.286         0.778\n",
       "8         1.286         0.778\n",
       "9         1.286         0.778"
      ]
     },
     "execution_count": 22,
     "metadata": {},
     "output_type": "execute_result"
    }
   ],
   "source": [
    "df = usd_exchange_rates_df()\n",
    "df.groupby(\"Currency\")[[\"Currency/USD\", \"USD/Currency\"]].transform(lambda df: df.mean())"
   ]
  }
 ],
 "metadata": {
  "jupytext": {
   "formats": "ipynb,py:percent"
  },
  "kernelspec": {
   "display_name": "Python 3",
   "language": "python",
   "name": "python3"
  },
  "language_info": {
   "codemirror_mode": {
    "name": "ipython",
    "version": 3
   },
   "file_extension": ".py",
   "mimetype": "text/x-python",
   "name": "python",
   "nbconvert_exporter": "python",
   "pygments_lexer": "ipython3",
   "version": "3.9.7"
  },
  "toc-showtags": false
 },
 "nbformat": 4,
 "nbformat_minor": 5
}
