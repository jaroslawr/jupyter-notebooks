{
 "cells": [
  {
   "cell_type": "markdown",
   "id": "dress-piece",
   "metadata": {},
   "source": [
    "# Pandas reference"
   ]
  },
  {
   "cell_type": "markdown",
   "id": "artistic-green",
   "metadata": {},
   "source": [
    "Quick reference on getting common data processing tasks done with Pandas."
   ]
  },
  {
   "cell_type": "markdown",
   "id": "provincial-greek",
   "metadata": {},
   "source": [
    "## Imports"
   ]
  },
  {
   "cell_type": "code",
   "execution_count": 2,
   "id": "velvet-newsletter",
   "metadata": {},
   "outputs": [],
   "source": [
    "import pandas as pd\n",
    "import matplotlib.pyplot as plt"
   ]
  },
  {
   "cell_type": "markdown",
   "id": "returning-appreciation",
   "metadata": {},
   "source": [
    "## Settings"
   ]
  },
  {
   "cell_type": "markdown",
   "id": "celtic-prevention",
   "metadata": {},
   "source": [
    "### Maximum number of DF rows and columns to show"
   ]
  },
  {
   "cell_type": "code",
   "execution_count": 3,
   "id": "partial-juice",
   "metadata": {},
   "outputs": [],
   "source": [
    "pd.options.display.max_rows = 999\n",
    "pd.options.display.max_columns = 100"
   ]
  },
  {
   "cell_type": "markdown",
   "id": "acute-version",
   "metadata": {},
   "source": [
    "### Plot style"
   ]
  },
  {
   "cell_type": "code",
   "execution_count": 4,
   "id": "approximate-innocent",
   "metadata": {},
   "outputs": [],
   "source": [
    "plt.style.use(\"ggplot\")"
   ]
  },
  {
   "cell_type": "markdown",
   "id": "micro-clause",
   "metadata": {},
   "source": [
    "## Basic concepts"
   ]
  },
  {
   "cell_type": "markdown",
   "id": "bibliographic-decade",
   "metadata": {},
   "source": [
    "## Reading data"
   ]
  },
  {
   "cell_type": "markdown",
   "id": "environmental-saturn",
   "metadata": {},
   "source": [
    "## Inspecting data"
   ]
  },
  {
   "cell_type": "markdown",
   "id": "chronic-investigation",
   "metadata": {},
   "source": [
    "## Cleaning data"
   ]
  },
  {
   "cell_type": "markdown",
   "id": "daily-selling",
   "metadata": {},
   "source": [
    "### Long format to wide"
   ]
  },
  {
   "cell_type": "markdown",
   "id": "cloudy-consumption",
   "metadata": {},
   "source": [
    "### Wide format to long"
   ]
  },
  {
   "cell_type": "markdown",
   "id": "trained-status",
   "metadata": {},
   "source": [
    "## Transforming data"
   ]
  },
  {
   "cell_type": "markdown",
   "id": "early-mitchell",
   "metadata": {},
   "source": [
    "## Aggregating data"
   ]
  },
  {
   "cell_type": "markdown",
   "id": "derived-calibration",
   "metadata": {},
   "source": [
    "## Plotting data"
   ]
  },
  {
   "cell_type": "markdown",
   "id": "sufficient-madagascar",
   "metadata": {},
   "source": [
    "Pandas plotting methods expect data to be in the wide format, with different series in different columns."
   ]
  },
  {
   "cell_type": "markdown",
   "id": "pursuant-concentration",
   "metadata": {},
   "source": [
    "## Exporting data"
   ]
  }
 ],
 "metadata": {
  "jupytext": {
   "formats": "ipynb,auto:percent"
  },
  "kernelspec": {
   "display_name": "Python 3",
   "language": "python",
   "name": "python3"
  },
  "language_info": {
   "codemirror_mode": {
    "name": "ipython",
    "version": 3
   },
   "file_extension": ".py",
   "mimetype": "text/x-python",
   "name": "python",
   "nbconvert_exporter": "python",
   "pygments_lexer": "ipython3",
   "version": "3.9.2"
  }
 },
 "nbformat": 4,
 "nbformat_minor": 5
}
