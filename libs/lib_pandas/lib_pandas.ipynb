{
 "cells": [
  {
   "cell_type": "markdown",
   "id": "fa81b936-31a5-472c-98ef-3b7f06f023b4",
   "metadata": {},
   "source": [
    "# Data analysis with Pandas"
   ]
  },
  {
   "cell_type": "markdown",
   "id": "artistic-green",
   "metadata": {},
   "source": [
    "This is a guide to doing data analysis with Pandas written with a particular goal: to help understand the most important concepts and usage patterns in a way that sticks with you, as opposed to covering every possible application. We try to achieve this by laying out and following some specific principles:\n",
    "\n",
    "- Build deep understanding of general concepts:\n",
    "    - the basic Panas data structures: series, dataframes and indexes\n",
    "    - wide classes of operations on data: selection, grouping, aggregations and transformations\n",
    "    - shapes that datasets come in and how to convert between them: long vs wide\n",
    "- Use well chosen examples:\n",
    "    - preferrably real datasets\n",
    "    - understandable for a broad audience\n",
    "    - interesting\n",
    "    - distinct from one another in structure\n",
    "- Stay concise, avoid minutiae that can be easily looked up in the documentation, provide pointers to references instead\n"
   ]
  },
  {
   "cell_type": "markdown",
   "id": "73e8e248-661a-438e-95b2-8d6cbac74fed",
   "metadata": {},
   "source": [
    "Before we begin we need to import all the libraries we will use. We also change some options that I almost always find useful to change:"
   ]
  },
  {
   "cell_type": "code",
   "execution_count": 1,
   "id": "velvet-newsletter",
   "metadata": {},
   "outputs": [
    {
     "name": "stdout",
     "output_type": "stream",
     "text": [
      "Exception reporting mode: Plain\n"
     ]
    }
   ],
   "source": [
    "# Import libraries\n",
    "import numpy as np\n",
    "import pandas as pd\n",
    "\n",
    "# Make Pandas less eager to hide data in dataframes with \"...\"\n",
    "pd.options.display.max_rows = 999\n",
    "pd.options.display.max_columns = 100\n",
    "pd.options.display.max_colwidth = 200\n",
    "\n",
    "# Sensible floating point precision for basic use cases\n",
    "pd.options.display.precision = 3\n",
    "\n",
    "# Short exception tracebacks\n",
    "%xmode Plain"
   ]
  },
  {
   "cell_type": "markdown",
   "id": "fdbee6f6-87ec-4933-84e8-f07d58af6a90",
   "metadata": {},
   "source": [
    "## Pandas data structures"
   ]
  },
  {
   "cell_type": "markdown",
   "id": "5ecddd86-d036-4594-9540-ffc4cec3f805",
   "metadata": {},
   "source": [
    "We begin by looking into the fundamental high-level Pandas data structures: series, data frames and indexes. If you try to use Pandas without understanding the data structures and the relations between them, it gets confusing very easily. On the other hand learning the data structures can feel dry compared to working with real datasets. We cover only the most important basics here to keep things interesting and later revisit in more depth when need arises."
   ]
  },
  {
   "cell_type": "markdown",
   "id": "5e2b9b79-464f-49cc-8915-f93b2b330c07",
   "metadata": {
    "tags": []
   },
   "source": [
    "### Series and basic indexes"
   ]
  },
  {
   "cell_type": "markdown",
   "id": "e377c02a-0fdf-49dd-b051-57783aaa1adf",
   "metadata": {},
   "source": [
    "A series holds an array of values:"
   ]
  },
  {
   "cell_type": "code",
   "execution_count": 2,
   "id": "acf45006-fdf0-40f9-bc53-39ff52f4adf6",
   "metadata": {},
   "outputs": [
    {
     "data": {
      "text/plain": [
       "0     2\n",
       "1     3\n",
       "2     5\n",
       "3     7\n",
       "4    11\n",
       "dtype: int64"
      ]
     },
     "execution_count": 2,
     "metadata": {},
     "output_type": "execute_result"
    }
   ],
   "source": [
    "primes = pd.Series([2, 3, 5, 7, 11])\n",
    "primes"
   ]
  },
  {
   "cell_type": "markdown",
   "id": "b87f12bb-566b-4ad6-8a64-ca7272fb1070",
   "metadata": {},
   "source": [
    "The right column of the output simply shows the values in the series. `dtype: int64` refers to the data type of the values."
   ]
  },
  {
   "cell_type": "markdown",
   "id": "2d2e14c3-fd44-4d20-890b-03ff6665d32f",
   "metadata": {},
   "source": [
    "The left column of the output shows labels corresponding to the values in the series. The labels are part of the *index* that is a part of every series. By default the series is indexed simply using position of each value in the series:"
   ]
  },
  {
   "cell_type": "code",
   "execution_count": 3,
   "id": "70734e82-e146-4c3e-9210-796bd8103575",
   "metadata": {
    "tags": []
   },
   "outputs": [
    {
     "data": {
      "text/plain": [
       "RangeIndex(start=0, stop=5, step=1)"
      ]
     },
     "execution_count": 3,
     "metadata": {},
     "output_type": "execute_result"
    }
   ],
   "source": [
    "primes = pd.Series([2, 3, 5, 7, 11])\n",
    "primes.index"
   ]
  },
  {
   "cell_type": "markdown",
   "id": "d62694c2-cfd1-4582-aec6-865c40f305f1",
   "metadata": {},
   "source": [
    "`.loc[]` call for a series takes an index label as argument and looks up the corresponding value in the series. For the default index it ends up working like basic array indexing:"
   ]
  },
  {
   "cell_type": "code",
   "execution_count": 4,
   "id": "a4289803-b955-40de-a612-49cea384c729",
   "metadata": {
    "tags": []
   },
   "outputs": [
    {
     "data": {
      "text/plain": [
       "2"
      ]
     },
     "execution_count": 4,
     "metadata": {},
     "output_type": "execute_result"
    }
   ],
   "source": [
    "primes = pd.Series([2, 3, 5, 7, 11])\n",
    "primes.loc[0]"
   ]
  },
  {
   "cell_type": "markdown",
   "id": "aa778d8b-761f-452b-8b3a-af85eb189551",
   "metadata": {},
   "source": [
    "The index is what makes a series something more than a simple array. It makes it possible to refer to the values in the series by whatever label is appropriate: by a string, by a date, by a pair of numbers, ... It also plays a role similar to a database index, hence the name: it speeds up operations like joins that have to lookup by this label repeatedly. Here is how you construct a series with an explicit index that does not simply use position in the series as the label of each value:"
   ]
  },
  {
   "cell_type": "code",
   "execution_count": 5,
   "id": "2cdadcc5-a45d-46dd-9683-1ed77ed9b099",
   "metadata": {},
   "outputs": [
    {
     "data": {
      "text/plain": [
       "p0     2\n",
       "p1     3\n",
       "p2     5\n",
       "p3     7\n",
       "p4    11\n",
       "dtype: int64"
      ]
     },
     "execution_count": 5,
     "metadata": {},
     "output_type": "execute_result"
    }
   ],
   "source": [
    "primes = pd.Series([2, 3, 5, 7, 11], index=[\"p0\", \"p1\", \"p2\", \"p3\", \"p4\"])\n",
    "primes"
   ]
  },
  {
   "cell_type": "markdown",
   "id": "189e71ec-c930-41a0-97a3-45cd6c1b5fc9",
   "metadata": {},
   "source": [
    "Now you can lookup by label:"
   ]
  },
  {
   "cell_type": "code",
   "execution_count": 6,
   "id": "2295306c-5048-435c-9a03-33cb07486f35",
   "metadata": {
    "tags": []
   },
   "outputs": [
    {
     "data": {
      "text/plain": [
       "2"
      ]
     },
     "execution_count": 6,
     "metadata": {},
     "output_type": "execute_result"
    }
   ],
   "source": [
    "primes = pd.Series([2, 3, 5, 7, 11], index=[\"p0\", \"p1\", \"p2\", \"p3\", \"p4\"])\n",
    "primes.loc[\"p0\"]"
   ]
  },
  {
   "cell_type": "markdown",
   "id": "bc8aa39b-36e0-4510-a84b-b1931afa9086",
   "metadata": {},
   "source": [
    "Lookup by index is nevertheless always possible using `.iloc[]`:"
   ]
  },
  {
   "cell_type": "code",
   "execution_count": 7,
   "id": "e00dbb28-6f14-40c0-8310-1e70f66b028e",
   "metadata": {
    "tags": []
   },
   "outputs": [
    {
     "data": {
      "text/plain": [
       "5"
      ]
     },
     "execution_count": 7,
     "metadata": {},
     "output_type": "execute_result"
    }
   ],
   "source": [
    "primes = pd.Series([2, 3, 5, 7, 11], index=[\"p0\", \"p1\", \"p2\", \"p3\", \"p4\"])\n",
    "primes.iloc[2]"
   ]
  },
  {
   "cell_type": "markdown",
   "id": "2b74c114-42f5-42b7-bd14-55e908f6ea3b",
   "metadata": {
    "tags": []
   },
   "source": [
    "You can explicitly construct a `pd.Index` instance and pass it in the `pd.Series` constructor:"
   ]
  },
  {
   "cell_type": "code",
   "execution_count": 8,
   "id": "33df9899-5e95-4e65-b29e-abf56fb18695",
   "metadata": {
    "tags": []
   },
   "outputs": [
    {
     "data": {
      "text/plain": [
       "p0     2\n",
       "p1     3\n",
       "p2     5\n",
       "p3     7\n",
       "p4    11\n",
       "dtype: int64"
      ]
     },
     "execution_count": 8,
     "metadata": {},
     "output_type": "execute_result"
    }
   ],
   "source": [
    "index = pd.Index([\"p0\", \"p1\", \"p2\", \"p3\", \"p4\"])\n",
    "series = pd.Series([2, 3, 5, 7, 11], index=index)\n",
    "series"
   ]
  },
  {
   "cell_type": "markdown",
   "id": "0ec456dd-35db-429b-add5-88b65412bd2d",
   "metadata": {},
   "source": [
    "### Data frames"
   ]
  },
  {
   "cell_type": "markdown",
   "id": "380d7093-f47d-4f22-b94e-1f28716fa1f7",
   "metadata": {},
   "source": [
    "Conceptually a dataframe is a collection of column series that share a common row index:"
   ]
  },
  {
   "cell_type": "code",
   "execution_count": 9,
   "id": "f5a649fb-c996-45c6-aca9-2f2b809da11f",
   "metadata": {
    "tags": []
   },
   "outputs": [
    {
     "data": {
      "text/html": [
       "<div>\n",
       "<style scoped>\n",
       "    .dataframe tbody tr th:only-of-type {\n",
       "        vertical-align: middle;\n",
       "    }\n",
       "\n",
       "    .dataframe tbody tr th {\n",
       "        vertical-align: top;\n",
       "    }\n",
       "\n",
       "    .dataframe thead th {\n",
       "        text-align: right;\n",
       "    }\n",
       "</style>\n",
       "<table border=\"1\" class=\"dataframe\">\n",
       "  <thead>\n",
       "    <tr style=\"text-align: right;\">\n",
       "      <th></th>\n",
       "      <th>a</th>\n",
       "      <th>b</th>\n",
       "    </tr>\n",
       "  </thead>\n",
       "  <tbody>\n",
       "    <tr>\n",
       "      <th>p0</th>\n",
       "      <td>2</td>\n",
       "      <td>2</td>\n",
       "    </tr>\n",
       "    <tr>\n",
       "      <th>p1</th>\n",
       "      <td>3</td>\n",
       "      <td>3</td>\n",
       "    </tr>\n",
       "    <tr>\n",
       "      <th>p2</th>\n",
       "      <td>5</td>\n",
       "      <td>5</td>\n",
       "    </tr>\n",
       "    <tr>\n",
       "      <th>p3</th>\n",
       "      <td>7</td>\n",
       "      <td>7</td>\n",
       "    </tr>\n",
       "    <tr>\n",
       "      <th>p4</th>\n",
       "      <td>11</td>\n",
       "      <td>11</td>\n",
       "    </tr>\n",
       "  </tbody>\n",
       "</table>\n",
       "</div>"
      ],
      "text/plain": [
       "     a   b\n",
       "p0   2   2\n",
       "p1   3   3\n",
       "p2   5   5\n",
       "p3   7   7\n",
       "p4  11  11"
      ]
     },
     "execution_count": 9,
     "metadata": {},
     "output_type": "execute_result"
    }
   ],
   "source": [
    "df = pd.DataFrame({\"a\": series, \"b\": series})\n",
    "df"
   ]
  },
  {
   "cell_type": "code",
   "execution_count": 10,
   "id": "eb3f28ae-0a0a-48ee-9daf-bf2d9076c2d9",
   "metadata": {
    "tags": []
   },
   "outputs": [
    {
     "data": {
      "text/plain": [
       "139723360226192"
      ]
     },
     "metadata": {},
     "output_type": "display_data"
    },
    {
     "data": {
      "text/plain": [
       "139723360226192"
      ]
     },
     "metadata": {},
     "output_type": "display_data"
    },
    {
     "data": {
      "text/plain": [
       "139723360226192"
      ]
     },
     "metadata": {},
     "output_type": "display_data"
    }
   ],
   "source": [
    "df = pd.DataFrame({\"a\": series, \"b\": series})\n",
    "display(id(df.index))\n",
    "display(id(df[\"a\"].index))\n",
    "display(id(df[\"b\"].index))"
   ]
  },
  {
   "cell_type": "markdown",
   "id": "2ba76760-1a8b-44f7-a340-f8f943857033",
   "metadata": {},
   "source": [
    "Columns get labels through an additional index object, called the column index:"
   ]
  },
  {
   "cell_type": "code",
   "execution_count": 11,
   "id": "f0ace0a3-a3f9-4ba2-9400-5ccdb3147475",
   "metadata": {
    "tags": []
   },
   "outputs": [
    {
     "data": {
      "text/plain": [
       "Index(['a', 'b'], dtype='object')"
      ]
     },
     "execution_count": 11,
     "metadata": {},
     "output_type": "execute_result"
    }
   ],
   "source": [
    "df = pd.DataFrame({\"a\": series, \"b\": series})\n",
    "df.columns"
   ]
  },
  {
   "cell_type": "markdown",
   "id": "247918c5-a144-4cf9-914b-fe2750be42c7",
   "metadata": {},
   "source": [
    "Many Pandas methods work with either the row index or column index depending on the value of the `axis` keyword argument. For example removing rows by label and removing columns using a label or a set of labels are both done using the `drop` method:"
   ]
  },
  {
   "cell_type": "code",
   "execution_count": 12,
   "id": "4dd585e9-c284-4706-90be-7544087c74a1",
   "metadata": {
    "tags": []
   },
   "outputs": [
    {
     "data": {
      "text/html": [
       "<div>\n",
       "<style scoped>\n",
       "    .dataframe tbody tr th:only-of-type {\n",
       "        vertical-align: middle;\n",
       "    }\n",
       "\n",
       "    .dataframe tbody tr th {\n",
       "        vertical-align: top;\n",
       "    }\n",
       "\n",
       "    .dataframe thead th {\n",
       "        text-align: right;\n",
       "    }\n",
       "</style>\n",
       "<table border=\"1\" class=\"dataframe\">\n",
       "  <thead>\n",
       "    <tr style=\"text-align: right;\">\n",
       "      <th></th>\n",
       "      <th>a</th>\n",
       "      <th>b</th>\n",
       "    </tr>\n",
       "  </thead>\n",
       "  <tbody>\n",
       "    <tr>\n",
       "      <th>p2</th>\n",
       "      <td>5</td>\n",
       "      <td>5</td>\n",
       "    </tr>\n",
       "    <tr>\n",
       "      <th>p3</th>\n",
       "      <td>7</td>\n",
       "      <td>7</td>\n",
       "    </tr>\n",
       "    <tr>\n",
       "      <th>p4</th>\n",
       "      <td>11</td>\n",
       "      <td>11</td>\n",
       "    </tr>\n",
       "  </tbody>\n",
       "</table>\n",
       "</div>"
      ],
      "text/plain": [
       "     a   b\n",
       "p2   5   5\n",
       "p3   7   7\n",
       "p4  11  11"
      ]
     },
     "execution_count": 12,
     "metadata": {},
     "output_type": "execute_result"
    }
   ],
   "source": [
    "df = pd.DataFrame({\"a\": series, \"b\": series})\n",
    "df.drop([\"p0\", \"p1\"])"
   ]
  },
  {
   "cell_type": "code",
   "execution_count": 13,
   "id": "30a76982-a252-4d03-aeca-7cf009f33b94",
   "metadata": {
    "tags": []
   },
   "outputs": [
    {
     "data": {
      "text/html": [
       "<div>\n",
       "<style scoped>\n",
       "    .dataframe tbody tr th:only-of-type {\n",
       "        vertical-align: middle;\n",
       "    }\n",
       "\n",
       "    .dataframe tbody tr th {\n",
       "        vertical-align: top;\n",
       "    }\n",
       "\n",
       "    .dataframe thead th {\n",
       "        text-align: right;\n",
       "    }\n",
       "</style>\n",
       "<table border=\"1\" class=\"dataframe\">\n",
       "  <thead>\n",
       "    <tr style=\"text-align: right;\">\n",
       "      <th></th>\n",
       "      <th>b</th>\n",
       "    </tr>\n",
       "  </thead>\n",
       "  <tbody>\n",
       "    <tr>\n",
       "      <th>p0</th>\n",
       "      <td>2</td>\n",
       "    </tr>\n",
       "    <tr>\n",
       "      <th>p1</th>\n",
       "      <td>3</td>\n",
       "    </tr>\n",
       "    <tr>\n",
       "      <th>p2</th>\n",
       "      <td>5</td>\n",
       "    </tr>\n",
       "    <tr>\n",
       "      <th>p3</th>\n",
       "      <td>7</td>\n",
       "    </tr>\n",
       "    <tr>\n",
       "      <th>p4</th>\n",
       "      <td>11</td>\n",
       "    </tr>\n",
       "  </tbody>\n",
       "</table>\n",
       "</div>"
      ],
      "text/plain": [
       "     b\n",
       "p0   2\n",
       "p1   3\n",
       "p2   5\n",
       "p3   7\n",
       "p4  11"
      ]
     },
     "execution_count": 13,
     "metadata": {},
     "output_type": "execute_result"
    }
   ],
   "source": [
    "df = pd.DataFrame({\"a\": series, \"b\": series})\n",
    "df.drop(\"a\", axis=1)"
   ]
  },
  {
   "cell_type": "markdown",
   "id": "aa27c181-af74-4216-9947-af8a7afe6922",
   "metadata": {},
   "source": [
    "### Jupyter representation of the data structures"
   ]
  },
  {
   "cell_type": "markdown",
   "id": "9d4a24b3-deab-41f6-b9cb-b5ce0061cf57",
   "metadata": {},
   "source": [
    "It is good to learn how the Jupyter cell output corresponds to the underlying Pandas data structures and its attributes. Often we will not construct a `pd.Series` or `pd.DataFrame` directly, but receive one as a result of some sequence of Pandas operations. In this case we do not know up front whether it is a `pd.Series` or `pd.DataFrame`, what the index is, whether the index has a name, etc. You can inspect the result, for example call `type(result)`, but it is more efficient to simply learn what is shown where and how."
   ]
  },
  {
   "cell_type": "markdown",
   "id": "ec9b8a88-f58c-4518-8f22-b2cda05e7f82",
   "metadata": {},
   "source": [
    "A `pd.Series` is displayed in monospaced font (unlike `pd.DataFrame`) and as the below example illustrates its Jupyter representation has at most four parts:\n",
    "\n",
    "- top left corner: index name, only shown if present\n",
    "- left column: index labels  \n",
    "- right column: series values\n",
    "- bottom line: series name, if present, and dtype of series values"
   ]
  },
  {
   "cell_type": "code",
   "execution_count": 14,
   "id": "d8907cfa-e837-41a4-b4da-ea2b71e33acf",
   "metadata": {
    "tags": []
   },
   "outputs": [
    {
     "data": {
      "text/plain": [
       "key\n",
       "p0     2\n",
       "p1     3\n",
       "p2     5\n",
       "p3     7\n",
       "p4    11\n",
       "Name: primes, dtype: int64"
      ]
     },
     "execution_count": 14,
     "metadata": {},
     "output_type": "execute_result"
    }
   ],
   "source": [
    "index = pd.Index([\"p0\", \"p1\", \"p2\", \"p3\", \"p4\"], name=\"key\")\n",
    "series = pd.Series([2, 3, 5, 7, 11], index=index, name=\"primes\")\n",
    "series"
   ]
  },
  {
   "cell_type": "markdown",
   "id": "52345b6f-ad50-4b3b-807d-4329387d56d5",
   "metadata": {},
   "source": [
    "A dataframe with one column is something different than a series:"
   ]
  },
  {
   "cell_type": "code",
   "execution_count": 15,
   "id": "b37e104d-8e36-4a67-821e-269ff1bbe07a",
   "metadata": {
    "tags": []
   },
   "outputs": [
    {
     "data": {
      "text/html": [
       "<div>\n",
       "<style scoped>\n",
       "    .dataframe tbody tr th:only-of-type {\n",
       "        vertical-align: middle;\n",
       "    }\n",
       "\n",
       "    .dataframe tbody tr th {\n",
       "        vertical-align: top;\n",
       "    }\n",
       "\n",
       "    .dataframe thead th {\n",
       "        text-align: right;\n",
       "    }\n",
       "</style>\n",
       "<table border=\"1\" class=\"dataframe\">\n",
       "  <thead>\n",
       "    <tr style=\"text-align: right;\">\n",
       "      <th></th>\n",
       "      <th>primes</th>\n",
       "    </tr>\n",
       "    <tr>\n",
       "      <th>key</th>\n",
       "      <th></th>\n",
       "    </tr>\n",
       "  </thead>\n",
       "  <tbody>\n",
       "    <tr>\n",
       "      <th>p0</th>\n",
       "      <td>2</td>\n",
       "    </tr>\n",
       "    <tr>\n",
       "      <th>p1</th>\n",
       "      <td>3</td>\n",
       "    </tr>\n",
       "    <tr>\n",
       "      <th>p2</th>\n",
       "      <td>5</td>\n",
       "    </tr>\n",
       "    <tr>\n",
       "      <th>p3</th>\n",
       "      <td>7</td>\n",
       "    </tr>\n",
       "    <tr>\n",
       "      <th>p4</th>\n",
       "      <td>11</td>\n",
       "    </tr>\n",
       "  </tbody>\n",
       "</table>\n",
       "</div>"
      ],
      "text/plain": [
       "     primes\n",
       "key        \n",
       "p0        2\n",
       "p1        3\n",
       "p2        5\n",
       "p3        7\n",
       "p4       11"
      ]
     },
     "execution_count": 15,
     "metadata": {},
     "output_type": "execute_result"
    }
   ],
   "source": [
    "index = pd.Index([\"p0\", \"p1\", \"p2\", \"p3\", \"p4\"], name=\"key\")\n",
    "series = pd.Series([2, 3, 5, 7, 11], index=index, name=\"primes\")\n",
    "series.to_frame()"
   ]
  },
  {
   "cell_type": "markdown",
   "id": "9606a331-0a2d-43b6-acdb-5998af18c69f",
   "metadata": {},
   "source": [
    "## Dataset: mtcars"
   ]
  },
  {
   "cell_type": "markdown",
   "id": "200890f8-64df-4b26-a527-f80aae243655",
   "metadata": {},
   "source": [
    "We will use the mtcars dataset as the default basic example in the following sections. Its contents are easy to understand and fairly interesting, while it also is provided in one of the simplest and most commonly encountered ways: each row describes a single unique unit of observation (a car) and each column is a different measurement for the same unit of observation (miles/gallon, number of cylinders, horsepower etc.):"
   ]
  },
  {
   "cell_type": "code",
   "execution_count": 16,
   "id": "f0357048-4e3b-41bc-90de-f0f5008a8b16",
   "metadata": {
    "tags": []
   },
   "outputs": [],
   "source": [
    "CARS = pd.read_csv(\"mtcars.csv\")\n",
    "\n",
    "def cars():\n",
    "    # Return a fresh copy every time so that examples do not affect each other\n",
    "    return CARS.copy()"
   ]
  },
  {
   "cell_type": "markdown",
   "id": "7c6b3012-f010-4b54-8ceb-2d418f73cb11",
   "metadata": {},
   "source": [
    "## Examining datasets"
   ]
  },
  {
   "cell_type": "markdown",
   "id": "f5e0fb15-1545-44b0-bd2f-6987812cc48a",
   "metadata": {
    "tags": []
   },
   "source": [
    "`.head(n)` returns the first `n` rows, `.tail(n)` the last `n` rows, and `.sample(n)` random `n` rows:"
   ]
  },
  {
   "cell_type": "code",
   "execution_count": 17,
   "id": "58ab8bce-7bcf-4098-93ba-c79d6a0504fd",
   "metadata": {
    "tags": []
   },
   "outputs": [
    {
     "data": {
      "text/html": [
       "<div>\n",
       "<style scoped>\n",
       "    .dataframe tbody tr th:only-of-type {\n",
       "        vertical-align: middle;\n",
       "    }\n",
       "\n",
       "    .dataframe tbody tr th {\n",
       "        vertical-align: top;\n",
       "    }\n",
       "\n",
       "    .dataframe thead th {\n",
       "        text-align: right;\n",
       "    }\n",
       "</style>\n",
       "<table border=\"1\" class=\"dataframe\">\n",
       "  <thead>\n",
       "    <tr style=\"text-align: right;\">\n",
       "      <th></th>\n",
       "      <th>model</th>\n",
       "      <th>mpg</th>\n",
       "      <th>cyl</th>\n",
       "      <th>disp</th>\n",
       "      <th>hp</th>\n",
       "      <th>drat</th>\n",
       "      <th>wt</th>\n",
       "      <th>qsec</th>\n",
       "      <th>vs</th>\n",
       "      <th>am</th>\n",
       "      <th>gear</th>\n",
       "      <th>carb</th>\n",
       "    </tr>\n",
       "  </thead>\n",
       "  <tbody>\n",
       "    <tr>\n",
       "      <th>0</th>\n",
       "      <td>Mazda RX4</td>\n",
       "      <td>21.0</td>\n",
       "      <td>6</td>\n",
       "      <td>160.0</td>\n",
       "      <td>110</td>\n",
       "      <td>3.9</td>\n",
       "      <td>2.620</td>\n",
       "      <td>16.46</td>\n",
       "      <td>0</td>\n",
       "      <td>1</td>\n",
       "      <td>4</td>\n",
       "      <td>4</td>\n",
       "    </tr>\n",
       "    <tr>\n",
       "      <th>1</th>\n",
       "      <td>Mazda RX4 Wag</td>\n",
       "      <td>21.0</td>\n",
       "      <td>6</td>\n",
       "      <td>160.0</td>\n",
       "      <td>110</td>\n",
       "      <td>3.9</td>\n",
       "      <td>2.875</td>\n",
       "      <td>17.02</td>\n",
       "      <td>0</td>\n",
       "      <td>1</td>\n",
       "      <td>4</td>\n",
       "      <td>4</td>\n",
       "    </tr>\n",
       "  </tbody>\n",
       "</table>\n",
       "</div>"
      ],
      "text/plain": [
       "           model   mpg  cyl   disp   hp  drat     wt   qsec  vs  am  gear   \n",
       "0      Mazda RX4  21.0    6  160.0  110   3.9  2.620  16.46   0   1     4  \\\n",
       "1  Mazda RX4 Wag  21.0    6  160.0  110   3.9  2.875  17.02   0   1     4   \n",
       "\n",
       "   carb  \n",
       "0     4  \n",
       "1     4  "
      ]
     },
     "metadata": {},
     "output_type": "display_data"
    },
    {
     "data": {
      "text/html": [
       "<div>\n",
       "<style scoped>\n",
       "    .dataframe tbody tr th:only-of-type {\n",
       "        vertical-align: middle;\n",
       "    }\n",
       "\n",
       "    .dataframe tbody tr th {\n",
       "        vertical-align: top;\n",
       "    }\n",
       "\n",
       "    .dataframe thead th {\n",
       "        text-align: right;\n",
       "    }\n",
       "</style>\n",
       "<table border=\"1\" class=\"dataframe\">\n",
       "  <thead>\n",
       "    <tr style=\"text-align: right;\">\n",
       "      <th></th>\n",
       "      <th>model</th>\n",
       "      <th>mpg</th>\n",
       "      <th>cyl</th>\n",
       "      <th>disp</th>\n",
       "      <th>hp</th>\n",
       "      <th>drat</th>\n",
       "      <th>wt</th>\n",
       "      <th>qsec</th>\n",
       "      <th>vs</th>\n",
       "      <th>am</th>\n",
       "      <th>gear</th>\n",
       "      <th>carb</th>\n",
       "    </tr>\n",
       "  </thead>\n",
       "  <tbody>\n",
       "    <tr>\n",
       "      <th>30</th>\n",
       "      <td>Maserati Bora</td>\n",
       "      <td>15.0</td>\n",
       "      <td>8</td>\n",
       "      <td>301.0</td>\n",
       "      <td>335</td>\n",
       "      <td>3.54</td>\n",
       "      <td>3.57</td>\n",
       "      <td>14.6</td>\n",
       "      <td>0</td>\n",
       "      <td>1</td>\n",
       "      <td>5</td>\n",
       "      <td>8</td>\n",
       "    </tr>\n",
       "    <tr>\n",
       "      <th>31</th>\n",
       "      <td>Volvo 142E</td>\n",
       "      <td>21.4</td>\n",
       "      <td>4</td>\n",
       "      <td>121.0</td>\n",
       "      <td>109</td>\n",
       "      <td>4.11</td>\n",
       "      <td>2.78</td>\n",
       "      <td>18.6</td>\n",
       "      <td>1</td>\n",
       "      <td>1</td>\n",
       "      <td>4</td>\n",
       "      <td>2</td>\n",
       "    </tr>\n",
       "  </tbody>\n",
       "</table>\n",
       "</div>"
      ],
      "text/plain": [
       "            model   mpg  cyl   disp   hp  drat    wt  qsec  vs  am  gear  carb\n",
       "30  Maserati Bora  15.0    8  301.0  335  3.54  3.57  14.6   0   1     5     8\n",
       "31     Volvo 142E  21.4    4  121.0  109  4.11  2.78  18.6   1   1     4     2"
      ]
     },
     "metadata": {},
     "output_type": "display_data"
    },
    {
     "data": {
      "text/html": [
       "<div>\n",
       "<style scoped>\n",
       "    .dataframe tbody tr th:only-of-type {\n",
       "        vertical-align: middle;\n",
       "    }\n",
       "\n",
       "    .dataframe tbody tr th {\n",
       "        vertical-align: top;\n",
       "    }\n",
       "\n",
       "    .dataframe thead th {\n",
       "        text-align: right;\n",
       "    }\n",
       "</style>\n",
       "<table border=\"1\" class=\"dataframe\">\n",
       "  <thead>\n",
       "    <tr style=\"text-align: right;\">\n",
       "      <th></th>\n",
       "      <th>model</th>\n",
       "      <th>mpg</th>\n",
       "      <th>cyl</th>\n",
       "      <th>disp</th>\n",
       "      <th>hp</th>\n",
       "      <th>drat</th>\n",
       "      <th>wt</th>\n",
       "      <th>qsec</th>\n",
       "      <th>vs</th>\n",
       "      <th>am</th>\n",
       "      <th>gear</th>\n",
       "      <th>carb</th>\n",
       "    </tr>\n",
       "  </thead>\n",
       "  <tbody>\n",
       "    <tr>\n",
       "      <th>18</th>\n",
       "      <td>Honda Civic</td>\n",
       "      <td>30.4</td>\n",
       "      <td>4</td>\n",
       "      <td>75.7</td>\n",
       "      <td>52</td>\n",
       "      <td>4.93</td>\n",
       "      <td>1.615</td>\n",
       "      <td>18.52</td>\n",
       "      <td>1</td>\n",
       "      <td>1</td>\n",
       "      <td>4</td>\n",
       "      <td>2</td>\n",
       "    </tr>\n",
       "    <tr>\n",
       "      <th>23</th>\n",
       "      <td>Camaro Z28</td>\n",
       "      <td>13.3</td>\n",
       "      <td>8</td>\n",
       "      <td>350.0</td>\n",
       "      <td>245</td>\n",
       "      <td>3.73</td>\n",
       "      <td>3.840</td>\n",
       "      <td>15.41</td>\n",
       "      <td>0</td>\n",
       "      <td>0</td>\n",
       "      <td>3</td>\n",
       "      <td>4</td>\n",
       "    </tr>\n",
       "  </tbody>\n",
       "</table>\n",
       "</div>"
      ],
      "text/plain": [
       "          model   mpg  cyl   disp   hp  drat     wt   qsec  vs  am  gear  carb\n",
       "18  Honda Civic  30.4    4   75.7   52  4.93  1.615  18.52   1   1     4     2\n",
       "23   Camaro Z28  13.3    8  350.0  245  3.73  3.840  15.41   0   0     3     4"
      ]
     },
     "metadata": {},
     "output_type": "display_data"
    }
   ],
   "source": [
    "df = cars()\n",
    "display(df.head(2))\n",
    "display(df.tail(2))\n",
    "display(df.sample(2))"
   ]
  },
  {
   "cell_type": "markdown",
   "id": "ec6a479f-3a25-4dc8-8a76-da06b3a92513",
   "metadata": {
    "tags": []
   },
   "source": [
    "`len(df)` returns the number of rows in a dataframe:"
   ]
  },
  {
   "cell_type": "code",
   "execution_count": 18,
   "id": "028f1d6e-5729-46d2-a76a-a547bc40cfe9",
   "metadata": {
    "tags": []
   },
   "outputs": [
    {
     "data": {
      "text/plain": [
       "32"
      ]
     },
     "execution_count": 18,
     "metadata": {},
     "output_type": "execute_result"
    }
   ],
   "source": [
    "df = cars()\n",
    "len(df)"
   ]
  },
  {
   "cell_type": "markdown",
   "id": "fb4d3d00-29d1-4042-b936-244968809e6a",
   "metadata": {},
   "source": [
    "`count()` returns number of rows with non-null value. Since this differs for each column series, when called on a dataframe it returns a series with a single value for each column label:"
   ]
  },
  {
   "cell_type": "code",
   "execution_count": 19,
   "id": "456dbef7-c6b2-4b68-be8e-9d57dd6f714a",
   "metadata": {
    "tags": []
   },
   "outputs": [
    {
     "data": {
      "text/plain": [
       "model    32\n",
       "mpg      32\n",
       "cyl      32\n",
       "disp     32\n",
       "hp       32\n",
       "drat     32\n",
       "wt       32\n",
       "qsec     32\n",
       "vs       32\n",
       "am       32\n",
       "gear     32\n",
       "carb     32\n",
       "dtype: int64"
      ]
     },
     "execution_count": 19,
     "metadata": {},
     "output_type": "execute_result"
    }
   ],
   "source": [
    "df = cars()\n",
    "df.count()"
   ]
  },
  {
   "cell_type": "markdown",
   "id": "bc689992-b375-4d81-a7fb-ca8b5e5813ae",
   "metadata": {},
   "source": [
    "Describe will also show the number of non-null rows for given column, but along with basic summary statistics:"
   ]
  },
  {
   "cell_type": "code",
   "execution_count": 20,
   "id": "8395f329-dcee-4bcd-a889-56f1a41f9785",
   "metadata": {
    "tags": []
   },
   "outputs": [
    {
     "data": {
      "text/html": [
       "<div>\n",
       "<style scoped>\n",
       "    .dataframe tbody tr th:only-of-type {\n",
       "        vertical-align: middle;\n",
       "    }\n",
       "\n",
       "    .dataframe tbody tr th {\n",
       "        vertical-align: top;\n",
       "    }\n",
       "\n",
       "    .dataframe thead th {\n",
       "        text-align: right;\n",
       "    }\n",
       "</style>\n",
       "<table border=\"1\" class=\"dataframe\">\n",
       "  <thead>\n",
       "    <tr style=\"text-align: right;\">\n",
       "      <th></th>\n",
       "      <th>mpg</th>\n",
       "      <th>cyl</th>\n",
       "      <th>disp</th>\n",
       "      <th>hp</th>\n",
       "      <th>drat</th>\n",
       "      <th>wt</th>\n",
       "      <th>qsec</th>\n",
       "      <th>vs</th>\n",
       "      <th>am</th>\n",
       "      <th>gear</th>\n",
       "      <th>carb</th>\n",
       "    </tr>\n",
       "  </thead>\n",
       "  <tbody>\n",
       "    <tr>\n",
       "      <th>count</th>\n",
       "      <td>32.000</td>\n",
       "      <td>32.000</td>\n",
       "      <td>32.000</td>\n",
       "      <td>32.000</td>\n",
       "      <td>32.000</td>\n",
       "      <td>32.000</td>\n",
       "      <td>32.000</td>\n",
       "      <td>32.000</td>\n",
       "      <td>32.000</td>\n",
       "      <td>32.000</td>\n",
       "      <td>32.000</td>\n",
       "    </tr>\n",
       "    <tr>\n",
       "      <th>mean</th>\n",
       "      <td>20.091</td>\n",
       "      <td>6.188</td>\n",
       "      <td>230.722</td>\n",
       "      <td>146.688</td>\n",
       "      <td>3.597</td>\n",
       "      <td>3.217</td>\n",
       "      <td>17.849</td>\n",
       "      <td>0.438</td>\n",
       "      <td>0.406</td>\n",
       "      <td>3.688</td>\n",
       "      <td>2.812</td>\n",
       "    </tr>\n",
       "    <tr>\n",
       "      <th>std</th>\n",
       "      <td>6.027</td>\n",
       "      <td>1.786</td>\n",
       "      <td>123.939</td>\n",
       "      <td>68.563</td>\n",
       "      <td>0.535</td>\n",
       "      <td>0.978</td>\n",
       "      <td>1.787</td>\n",
       "      <td>0.504</td>\n",
       "      <td>0.499</td>\n",
       "      <td>0.738</td>\n",
       "      <td>1.615</td>\n",
       "    </tr>\n",
       "    <tr>\n",
       "      <th>min</th>\n",
       "      <td>10.400</td>\n",
       "      <td>4.000</td>\n",
       "      <td>71.100</td>\n",
       "      <td>52.000</td>\n",
       "      <td>2.760</td>\n",
       "      <td>1.513</td>\n",
       "      <td>14.500</td>\n",
       "      <td>0.000</td>\n",
       "      <td>0.000</td>\n",
       "      <td>3.000</td>\n",
       "      <td>1.000</td>\n",
       "    </tr>\n",
       "    <tr>\n",
       "      <th>25%</th>\n",
       "      <td>15.425</td>\n",
       "      <td>4.000</td>\n",
       "      <td>120.825</td>\n",
       "      <td>96.500</td>\n",
       "      <td>3.080</td>\n",
       "      <td>2.581</td>\n",
       "      <td>16.892</td>\n",
       "      <td>0.000</td>\n",
       "      <td>0.000</td>\n",
       "      <td>3.000</td>\n",
       "      <td>2.000</td>\n",
       "    </tr>\n",
       "    <tr>\n",
       "      <th>50%</th>\n",
       "      <td>19.200</td>\n",
       "      <td>6.000</td>\n",
       "      <td>196.300</td>\n",
       "      <td>123.000</td>\n",
       "      <td>3.695</td>\n",
       "      <td>3.325</td>\n",
       "      <td>17.710</td>\n",
       "      <td>0.000</td>\n",
       "      <td>0.000</td>\n",
       "      <td>4.000</td>\n",
       "      <td>2.000</td>\n",
       "    </tr>\n",
       "    <tr>\n",
       "      <th>75%</th>\n",
       "      <td>22.800</td>\n",
       "      <td>8.000</td>\n",
       "      <td>326.000</td>\n",
       "      <td>180.000</td>\n",
       "      <td>3.920</td>\n",
       "      <td>3.610</td>\n",
       "      <td>18.900</td>\n",
       "      <td>1.000</td>\n",
       "      <td>1.000</td>\n",
       "      <td>4.000</td>\n",
       "      <td>4.000</td>\n",
       "    </tr>\n",
       "    <tr>\n",
       "      <th>max</th>\n",
       "      <td>33.900</td>\n",
       "      <td>8.000</td>\n",
       "      <td>472.000</td>\n",
       "      <td>335.000</td>\n",
       "      <td>4.930</td>\n",
       "      <td>5.424</td>\n",
       "      <td>22.900</td>\n",
       "      <td>1.000</td>\n",
       "      <td>1.000</td>\n",
       "      <td>5.000</td>\n",
       "      <td>8.000</td>\n",
       "    </tr>\n",
       "  </tbody>\n",
       "</table>\n",
       "</div>"
      ],
      "text/plain": [
       "          mpg     cyl     disp       hp    drat      wt    qsec      vs   \n",
       "count  32.000  32.000   32.000   32.000  32.000  32.000  32.000  32.000  \\\n",
       "mean   20.091   6.188  230.722  146.688   3.597   3.217  17.849   0.438   \n",
       "std     6.027   1.786  123.939   68.563   0.535   0.978   1.787   0.504   \n",
       "min    10.400   4.000   71.100   52.000   2.760   1.513  14.500   0.000   \n",
       "25%    15.425   4.000  120.825   96.500   3.080   2.581  16.892   0.000   \n",
       "50%    19.200   6.000  196.300  123.000   3.695   3.325  17.710   0.000   \n",
       "75%    22.800   8.000  326.000  180.000   3.920   3.610  18.900   1.000   \n",
       "max    33.900   8.000  472.000  335.000   4.930   5.424  22.900   1.000   \n",
       "\n",
       "           am    gear    carb  \n",
       "count  32.000  32.000  32.000  \n",
       "mean    0.406   3.688   2.812  \n",
       "std     0.499   0.738   1.615  \n",
       "min     0.000   3.000   1.000  \n",
       "25%     0.000   3.000   2.000  \n",
       "50%     0.000   4.000   2.000  \n",
       "75%     1.000   4.000   4.000  \n",
       "max     1.000   5.000   8.000  "
      ]
     },
     "execution_count": 20,
     "metadata": {},
     "output_type": "execute_result"
    }
   ],
   "source": [
    "df = cars()\n",
    "df.describe()"
   ]
  },
  {
   "cell_type": "markdown",
   "id": "ee662b91-12d3-4e34-b0e3-5a336c92e3c4",
   "metadata": {},
   "source": [
    "`value_counts()` on the given column series returns a series describing how many rows take each unique value:"
   ]
  },
  {
   "cell_type": "code",
   "execution_count": 21,
   "id": "5e55b5de-2bcc-4778-9b72-82c925ba7c87",
   "metadata": {
    "tags": []
   },
   "outputs": [
    {
     "data": {
      "text/plain": [
       "cyl\n",
       "8    14\n",
       "4    11\n",
       "6     7\n",
       "Name: count, dtype: int64"
      ]
     },
     "execution_count": 21,
     "metadata": {},
     "output_type": "execute_result"
    }
   ],
   "source": [
    "df = cars()\n",
    "df[\"cyl\"].value_counts()"
   ]
  },
  {
   "cell_type": "markdown",
   "id": "e779f0d5-4b60-41a6-9ffb-1e97d214131c",
   "metadata": {},
   "source": [
    "`value_counts(normalize=True)` returns a series describing what fraction of all rows have each unique value, rather than the raw counts:"
   ]
  },
  {
   "cell_type": "code",
   "execution_count": 23,
   "id": "5ef0ee69-c2c3-4c93-bd7b-46c43caa5ae9",
   "metadata": {
    "tags": []
   },
   "outputs": [
    {
     "data": {
      "text/plain": [
       "cyl\n",
       "8    0.438\n",
       "4    0.344\n",
       "6    0.219\n",
       "Name: proportion, dtype: float64"
      ]
     },
     "execution_count": 23,
     "metadata": {},
     "output_type": "execute_result"
    }
   ],
   "source": [
    "df = cars()\n",
    "df[\"cyl\"].value_counts(normalize=True)"
   ]
  },
  {
   "cell_type": "markdown",
   "id": "ef2ee857-40e5-4a67-9ab2-eda2dc664488",
   "metadata": {},
   "source": [
    "`unique()` returns only the unique value themselves:"
   ]
  },
  {
   "cell_type": "code",
   "execution_count": 76,
   "id": "48606d60-a049-42dd-8678-1bda1fb31e93",
   "metadata": {
    "tags": []
   },
   "outputs": [
    {
     "data": {
      "text/plain": [
       "array([6, 4, 8])"
      ]
     },
     "execution_count": 76,
     "metadata": {},
     "output_type": "execute_result"
    }
   ],
   "source": [
    "df[\"cyl\"].unique()"
   ]
  },
  {
   "cell_type": "markdown",
   "id": "5d9b3927-7fdd-483d-a95b-6e662cc07c90",
   "metadata": {},
   "source": [
    "`nunique()` returns the number of unique values:"
   ]
  },
  {
   "cell_type": "code",
   "execution_count": 24,
   "id": "9b2c9951-8371-49ae-b74e-5b6783a5720d",
   "metadata": {
    "tags": []
   },
   "outputs": [
    {
     "data": {
      "text/plain": [
       "3"
      ]
     },
     "execution_count": 24,
     "metadata": {},
     "output_type": "execute_result"
    }
   ],
   "source": [
    "df[\"cyl\"].nunique()"
   ]
  },
  {
   "cell_type": "markdown",
   "id": "d8a1539b-5fdb-461c-8bd0-a09c4cfa5b90",
   "metadata": {},
   "source": [
    "## Selecting rows and columns"
   ]
  },
  {
   "cell_type": "markdown",
   "id": "4a4cce5e-0051-49fe-9cd0-759cb1ac81c9",
   "metadata": {},
   "source": [
    "### Select with []"
   ]
  },
  {
   "cell_type": "markdown",
   "id": "e9de2760-3bae-41d2-b440-e2cfb58fc861",
   "metadata": {},
   "source": [
    "Select rows with `[]`:"
   ]
  },
  {
   "cell_type": "code",
   "execution_count": 19,
   "id": "b6886e1f-380f-4e15-9d48-dd1bc72e9b27",
   "metadata": {},
   "outputs": [
    {
     "data": {
      "text/html": [
       "<div>\n",
       "<style scoped>\n",
       "    .dataframe tbody tr th:only-of-type {\n",
       "        vertical-align: middle;\n",
       "    }\n",
       "\n",
       "    .dataframe tbody tr th {\n",
       "        vertical-align: top;\n",
       "    }\n",
       "\n",
       "    .dataframe thead th {\n",
       "        text-align: right;\n",
       "    }\n",
       "</style>\n",
       "<table border=\"1\" class=\"dataframe\">\n",
       "  <thead>\n",
       "    <tr style=\"text-align: right;\">\n",
       "      <th></th>\n",
       "      <th>model</th>\n",
       "      <th>mpg</th>\n",
       "      <th>cyl</th>\n",
       "      <th>disp</th>\n",
       "      <th>hp</th>\n",
       "      <th>drat</th>\n",
       "      <th>wt</th>\n",
       "      <th>qsec</th>\n",
       "      <th>vs</th>\n",
       "      <th>am</th>\n",
       "      <th>gear</th>\n",
       "      <th>carb</th>\n",
       "    </tr>\n",
       "  </thead>\n",
       "  <tbody>\n",
       "    <tr>\n",
       "      <th>26</th>\n",
       "      <td>Porsche 914-2</td>\n",
       "      <td>26.0</td>\n",
       "      <td>4</td>\n",
       "      <td>120.3</td>\n",
       "      <td>91</td>\n",
       "      <td>4.43</td>\n",
       "      <td>2.140</td>\n",
       "      <td>16.7</td>\n",
       "      <td>0</td>\n",
       "      <td>1</td>\n",
       "      <td>5</td>\n",
       "      <td>2</td>\n",
       "    </tr>\n",
       "    <tr>\n",
       "      <th>27</th>\n",
       "      <td>Lotus Europa</td>\n",
       "      <td>30.4</td>\n",
       "      <td>4</td>\n",
       "      <td>95.1</td>\n",
       "      <td>113</td>\n",
       "      <td>3.77</td>\n",
       "      <td>1.513</td>\n",
       "      <td>16.9</td>\n",
       "      <td>1</td>\n",
       "      <td>1</td>\n",
       "      <td>5</td>\n",
       "      <td>2</td>\n",
       "    </tr>\n",
       "    <tr>\n",
       "      <th>28</th>\n",
       "      <td>Ford Pantera L</td>\n",
       "      <td>15.8</td>\n",
       "      <td>8</td>\n",
       "      <td>351.0</td>\n",
       "      <td>264</td>\n",
       "      <td>4.22</td>\n",
       "      <td>3.170</td>\n",
       "      <td>14.5</td>\n",
       "      <td>0</td>\n",
       "      <td>1</td>\n",
       "      <td>5</td>\n",
       "      <td>4</td>\n",
       "    </tr>\n",
       "    <tr>\n",
       "      <th>29</th>\n",
       "      <td>Ferrari Dino</td>\n",
       "      <td>19.7</td>\n",
       "      <td>6</td>\n",
       "      <td>145.0</td>\n",
       "      <td>175</td>\n",
       "      <td>3.62</td>\n",
       "      <td>2.770</td>\n",
       "      <td>15.5</td>\n",
       "      <td>0</td>\n",
       "      <td>1</td>\n",
       "      <td>5</td>\n",
       "      <td>6</td>\n",
       "    </tr>\n",
       "    <tr>\n",
       "      <th>30</th>\n",
       "      <td>Maserati Bora</td>\n",
       "      <td>15.0</td>\n",
       "      <td>8</td>\n",
       "      <td>301.0</td>\n",
       "      <td>335</td>\n",
       "      <td>3.54</td>\n",
       "      <td>3.570</td>\n",
       "      <td>14.6</td>\n",
       "      <td>0</td>\n",
       "      <td>1</td>\n",
       "      <td>5</td>\n",
       "      <td>8</td>\n",
       "    </tr>\n",
       "  </tbody>\n",
       "</table>\n",
       "</div>"
      ],
      "text/plain": [
       "             model   mpg  cyl   disp   hp  drat     wt  qsec  vs  am  gear   \n",
       "26   Porsche 914-2  26.0    4  120.3   91  4.43  2.140  16.7   0   1     5  \\\n",
       "27    Lotus Europa  30.4    4   95.1  113  3.77  1.513  16.9   1   1     5   \n",
       "28  Ford Pantera L  15.8    8  351.0  264  4.22  3.170  14.5   0   1     5   \n",
       "29    Ferrari Dino  19.7    6  145.0  175  3.62  2.770  15.5   0   1     5   \n",
       "30   Maserati Bora  15.0    8  301.0  335  3.54  3.570  14.6   0   1     5   \n",
       "\n",
       "    carb  \n",
       "26     2  \n",
       "27     2  \n",
       "28     4  \n",
       "29     6  \n",
       "30     8  "
      ]
     },
     "execution_count": 19,
     "metadata": {},
     "output_type": "execute_result"
    }
   ],
   "source": [
    "df = cars()\n",
    "df[df[\"gear\"] == 5]"
   ]
  },
  {
   "cell_type": "markdown",
   "id": "a9d45b0a-752d-4a9d-936e-2ab1075b6a7d",
   "metadata": {},
   "source": [
    "`[]` will accept a callable as argument for cases where a reference to the dataframe is not available, for example when chaining method calls on the dataframe:"
   ]
  },
  {
   "cell_type": "code",
   "execution_count": 20,
   "id": "4a79b5da-8fb7-4320-8c35-a00d4853c052",
   "metadata": {},
   "outputs": [
    {
     "data": {
      "text/html": [
       "<div>\n",
       "<style scoped>\n",
       "    .dataframe tbody tr th:only-of-type {\n",
       "        vertical-align: middle;\n",
       "    }\n",
       "\n",
       "    .dataframe tbody tr th {\n",
       "        vertical-align: top;\n",
       "    }\n",
       "\n",
       "    .dataframe thead th {\n",
       "        text-align: right;\n",
       "    }\n",
       "</style>\n",
       "<table border=\"1\" class=\"dataframe\">\n",
       "  <thead>\n",
       "    <tr style=\"text-align: right;\">\n",
       "      <th></th>\n",
       "      <th>model</th>\n",
       "      <th>mpg</th>\n",
       "      <th>cyl</th>\n",
       "      <th>disp</th>\n",
       "      <th>hp</th>\n",
       "      <th>drat</th>\n",
       "      <th>wt</th>\n",
       "      <th>qsec</th>\n",
       "      <th>vs</th>\n",
       "      <th>am</th>\n",
       "      <th>gear</th>\n",
       "      <th>carb</th>\n",
       "    </tr>\n",
       "  </thead>\n",
       "  <tbody>\n",
       "    <tr>\n",
       "      <th>26</th>\n",
       "      <td>Porsche 914-2</td>\n",
       "      <td>26.0</td>\n",
       "      <td>4</td>\n",
       "      <td>120.3</td>\n",
       "      <td>91</td>\n",
       "      <td>4.43</td>\n",
       "      <td>2.140</td>\n",
       "      <td>16.7</td>\n",
       "      <td>0</td>\n",
       "      <td>1</td>\n",
       "      <td>5</td>\n",
       "      <td>2</td>\n",
       "    </tr>\n",
       "    <tr>\n",
       "      <th>27</th>\n",
       "      <td>Lotus Europa</td>\n",
       "      <td>30.4</td>\n",
       "      <td>4</td>\n",
       "      <td>95.1</td>\n",
       "      <td>113</td>\n",
       "      <td>3.77</td>\n",
       "      <td>1.513</td>\n",
       "      <td>16.9</td>\n",
       "      <td>1</td>\n",
       "      <td>1</td>\n",
       "      <td>5</td>\n",
       "      <td>2</td>\n",
       "    </tr>\n",
       "  </tbody>\n",
       "</table>\n",
       "</div>"
      ],
      "text/plain": [
       "            model   mpg  cyl   disp   hp  drat     wt  qsec  vs  am  gear   \n",
       "26  Porsche 914-2  26.0    4  120.3   91  4.43  2.140  16.7   0   1     5  \\\n",
       "27   Lotus Europa  30.4    4   95.1  113  3.77  1.513  16.9   1   1     5   \n",
       "\n",
       "    carb  \n",
       "26     2  \n",
       "27     2  "
      ]
     },
     "execution_count": 20,
     "metadata": {},
     "output_type": "execute_result"
    }
   ],
   "source": [
    "df = cars()\n",
    "df[lambda df: df[\"gear\"] == 5][lambda df: df[\"cyl\"] == 4]"
   ]
  },
  {
   "cell_type": "markdown",
   "id": "f66242b7-d7aa-49bb-af35-8d44a5c23293",
   "metadata": {},
   "source": [
    "Select a single column as a `pd.Series` with `[]`:"
   ]
  },
  {
   "cell_type": "code",
   "execution_count": 21,
   "id": "dff09d42-56d8-4175-a541-6fc5e2fbd10f",
   "metadata": {},
   "outputs": [
    {
     "data": {
      "text/plain": [
       "0    4\n",
       "1    4\n",
       "2    4\n",
       "3    3\n",
       "4    3\n",
       "Name: gear, dtype: int64"
      ]
     },
     "execution_count": 21,
     "metadata": {},
     "output_type": "execute_result"
    }
   ],
   "source": [
    "df = cars()\n",
    "df[\"gear\"].head(5)"
   ]
  },
  {
   "cell_type": "markdown",
   "id": "d46e7947-9c66-4a95-a457-0b03284c2218",
   "metadata": {},
   "source": [
    "Select one or more columns as a `pd.DataFrame` by passing a list to `[]`:"
   ]
  },
  {
   "cell_type": "code",
   "execution_count": 22,
   "id": "17951765-e7b8-4fd5-867d-89b600da7571",
   "metadata": {},
   "outputs": [
    {
     "data": {
      "text/html": [
       "<div>\n",
       "<style scoped>\n",
       "    .dataframe tbody tr th:only-of-type {\n",
       "        vertical-align: middle;\n",
       "    }\n",
       "\n",
       "    .dataframe tbody tr th {\n",
       "        vertical-align: top;\n",
       "    }\n",
       "\n",
       "    .dataframe thead th {\n",
       "        text-align: right;\n",
       "    }\n",
       "</style>\n",
       "<table border=\"1\" class=\"dataframe\">\n",
       "  <thead>\n",
       "    <tr style=\"text-align: right;\">\n",
       "      <th></th>\n",
       "      <th>gear</th>\n",
       "    </tr>\n",
       "  </thead>\n",
       "  <tbody>\n",
       "    <tr>\n",
       "      <th>0</th>\n",
       "      <td>4</td>\n",
       "    </tr>\n",
       "    <tr>\n",
       "      <th>1</th>\n",
       "      <td>4</td>\n",
       "    </tr>\n",
       "    <tr>\n",
       "      <th>2</th>\n",
       "      <td>4</td>\n",
       "    </tr>\n",
       "    <tr>\n",
       "      <th>3</th>\n",
       "      <td>3</td>\n",
       "    </tr>\n",
       "    <tr>\n",
       "      <th>4</th>\n",
       "      <td>3</td>\n",
       "    </tr>\n",
       "  </tbody>\n",
       "</table>\n",
       "</div>"
      ],
      "text/plain": [
       "   gear\n",
       "0     4\n",
       "1     4\n",
       "2     4\n",
       "3     3\n",
       "4     3"
      ]
     },
     "execution_count": 22,
     "metadata": {},
     "output_type": "execute_result"
    }
   ],
   "source": [
    "df = cars()\n",
    "df[[\"gear\"]].head(5)"
   ]
  },
  {
   "cell_type": "markdown",
   "id": "ba467bd5-4ab2-4323-b456-db0c1223da0b",
   "metadata": {},
   "source": [
    "Selection of rows and of columns can be combined:"
   ]
  },
  {
   "cell_type": "code",
   "execution_count": 23,
   "id": "fa7e85e0-0e1d-4bc1-b642-5385ddcfefc6",
   "metadata": {},
   "outputs": [
    {
     "data": {
      "text/plain": [
       "26    4\n",
       "27    4\n",
       "28    8\n",
       "29    6\n",
       "30    8\n",
       "Name: cyl, dtype: int64"
      ]
     },
     "execution_count": 23,
     "metadata": {},
     "output_type": "execute_result"
    }
   ],
   "source": [
    "df = cars()\n",
    "df[df[\"gear\"] == 5][\"cyl\"]"
   ]
  },
  {
   "cell_type": "markdown",
   "id": "680929fd-35d0-4034-a89f-64a39c550d50",
   "metadata": {},
   "source": [
    "Note that chaining `[]` does not work for the purpose of modifying or inserting data:"
   ]
  },
  {
   "cell_type": "code",
   "execution_count": 24,
   "id": "ec39c65d-ecb7-409d-bc14-0537148b92cf",
   "metadata": {},
   "outputs": [
    {
     "name": "stderr",
     "output_type": "stream",
     "text": [
      "/tmp/ipykernel_152067/3887564797.py:2: SettingWithCopyWarning: \n",
      "A value is trying to be set on a copy of a slice from a DataFrame.\n",
      "Try using .loc[row_indexer,col_indexer] = value instead\n",
      "\n",
      "See the caveats in the documentation: https://pandas.pydata.org/pandas-docs/stable/user_guide/indexing.html#returning-a-view-versus-a-copy\n",
      "  df[df[\"gear\"] == 5][\"cyl\"] = 3\n"
     ]
    }
   ],
   "source": [
    "df = cars()\n",
    "df[df[\"gear\"] == 5][\"cyl\"] = 3"
   ]
  },
  {
   "cell_type": "markdown",
   "id": "17251a0d-178e-4f8a-83ae-03ca21a111bc",
   "metadata": {},
   "source": [
    "`df[][]=` translates to a `df.__getitem__()` call on the data frame and then a `.__setitem__()` call on the resulting object. The problem is that the `df.__getitem__()` call might return either a view or a copy of the dataframe, so the dataframe might or might not be modified.\n",
    "\n",
    "Instead, `df.loc[]` can be used to select rows and columns at the same time. `df.loc[]` will return a view or a copy just like `df[]`, but `df.loc[]=` is just a single method call on the `loc` attribute of the original dataframe, free of the ambiguity of `[][]=`, so that it will always correctly modify the dataframe."
   ]
  },
  {
   "cell_type": "markdown",
   "id": "69f6fe36-2f05-45a5-a52b-743d8d491b9e",
   "metadata": {},
   "source": [
    "### Select with loc[]"
   ]
  },
  {
   "cell_type": "markdown",
   "id": "92a19228-e186-4d14-8068-9c9ae7c7e1e7",
   "metadata": {},
   "source": [
    "Select rows:"
   ]
  },
  {
   "cell_type": "code",
   "execution_count": 25,
   "id": "80806b5b-cb45-43c9-bbe8-563625ac0396",
   "metadata": {},
   "outputs": [
    {
     "data": {
      "text/html": [
       "<div>\n",
       "<style scoped>\n",
       "    .dataframe tbody tr th:only-of-type {\n",
       "        vertical-align: middle;\n",
       "    }\n",
       "\n",
       "    .dataframe tbody tr th {\n",
       "        vertical-align: top;\n",
       "    }\n",
       "\n",
       "    .dataframe thead th {\n",
       "        text-align: right;\n",
       "    }\n",
       "</style>\n",
       "<table border=\"1\" class=\"dataframe\">\n",
       "  <thead>\n",
       "    <tr style=\"text-align: right;\">\n",
       "      <th></th>\n",
       "      <th>model</th>\n",
       "      <th>mpg</th>\n",
       "      <th>cyl</th>\n",
       "      <th>disp</th>\n",
       "      <th>hp</th>\n",
       "      <th>drat</th>\n",
       "      <th>wt</th>\n",
       "      <th>qsec</th>\n",
       "      <th>vs</th>\n",
       "      <th>am</th>\n",
       "      <th>gear</th>\n",
       "      <th>carb</th>\n",
       "    </tr>\n",
       "  </thead>\n",
       "  <tbody>\n",
       "    <tr>\n",
       "      <th>26</th>\n",
       "      <td>Porsche 914-2</td>\n",
       "      <td>26.0</td>\n",
       "      <td>4</td>\n",
       "      <td>120.3</td>\n",
       "      <td>91</td>\n",
       "      <td>4.43</td>\n",
       "      <td>2.140</td>\n",
       "      <td>16.7</td>\n",
       "      <td>0</td>\n",
       "      <td>1</td>\n",
       "      <td>5</td>\n",
       "      <td>2</td>\n",
       "    </tr>\n",
       "    <tr>\n",
       "      <th>27</th>\n",
       "      <td>Lotus Europa</td>\n",
       "      <td>30.4</td>\n",
       "      <td>4</td>\n",
       "      <td>95.1</td>\n",
       "      <td>113</td>\n",
       "      <td>3.77</td>\n",
       "      <td>1.513</td>\n",
       "      <td>16.9</td>\n",
       "      <td>1</td>\n",
       "      <td>1</td>\n",
       "      <td>5</td>\n",
       "      <td>2</td>\n",
       "    </tr>\n",
       "    <tr>\n",
       "      <th>28</th>\n",
       "      <td>Ford Pantera L</td>\n",
       "      <td>15.8</td>\n",
       "      <td>8</td>\n",
       "      <td>351.0</td>\n",
       "      <td>264</td>\n",
       "      <td>4.22</td>\n",
       "      <td>3.170</td>\n",
       "      <td>14.5</td>\n",
       "      <td>0</td>\n",
       "      <td>1</td>\n",
       "      <td>5</td>\n",
       "      <td>4</td>\n",
       "    </tr>\n",
       "    <tr>\n",
       "      <th>29</th>\n",
       "      <td>Ferrari Dino</td>\n",
       "      <td>19.7</td>\n",
       "      <td>6</td>\n",
       "      <td>145.0</td>\n",
       "      <td>175</td>\n",
       "      <td>3.62</td>\n",
       "      <td>2.770</td>\n",
       "      <td>15.5</td>\n",
       "      <td>0</td>\n",
       "      <td>1</td>\n",
       "      <td>5</td>\n",
       "      <td>6</td>\n",
       "    </tr>\n",
       "    <tr>\n",
       "      <th>30</th>\n",
       "      <td>Maserati Bora</td>\n",
       "      <td>15.0</td>\n",
       "      <td>8</td>\n",
       "      <td>301.0</td>\n",
       "      <td>335</td>\n",
       "      <td>3.54</td>\n",
       "      <td>3.570</td>\n",
       "      <td>14.6</td>\n",
       "      <td>0</td>\n",
       "      <td>1</td>\n",
       "      <td>5</td>\n",
       "      <td>8</td>\n",
       "    </tr>\n",
       "  </tbody>\n",
       "</table>\n",
       "</div>"
      ],
      "text/plain": [
       "             model   mpg  cyl   disp   hp  drat     wt  qsec  vs  am  gear   \n",
       "26   Porsche 914-2  26.0    4  120.3   91  4.43  2.140  16.7   0   1     5  \\\n",
       "27    Lotus Europa  30.4    4   95.1  113  3.77  1.513  16.9   1   1     5   \n",
       "28  Ford Pantera L  15.8    8  351.0  264  4.22  3.170  14.5   0   1     5   \n",
       "29    Ferrari Dino  19.7    6  145.0  175  3.62  2.770  15.5   0   1     5   \n",
       "30   Maserati Bora  15.0    8  301.0  335  3.54  3.570  14.6   0   1     5   \n",
       "\n",
       "    carb  \n",
       "26     2  \n",
       "27     2  \n",
       "28     4  \n",
       "29     6  \n",
       "30     8  "
      ]
     },
     "execution_count": 25,
     "metadata": {},
     "output_type": "execute_result"
    }
   ],
   "source": [
    "df = cars()\n",
    "df.loc[df[\"gear\"] == 5]"
   ]
  },
  {
   "cell_type": "markdown",
   "id": "c06804e5-fad4-499d-b77a-a0b3f44c1aed",
   "metadata": {},
   "source": [
    "`loc[]` will accept a callable as argument for cases where a reference to the dataframe is not available, for example when chaining method calls on the dataframe:"
   ]
  },
  {
   "cell_type": "code",
   "execution_count": 26,
   "id": "4ccb326c-6a0e-4382-b40e-9e3951220f3f",
   "metadata": {},
   "outputs": [
    {
     "data": {
      "text/html": [
       "<div>\n",
       "<style scoped>\n",
       "    .dataframe tbody tr th:only-of-type {\n",
       "        vertical-align: middle;\n",
       "    }\n",
       "\n",
       "    .dataframe tbody tr th {\n",
       "        vertical-align: top;\n",
       "    }\n",
       "\n",
       "    .dataframe thead th {\n",
       "        text-align: right;\n",
       "    }\n",
       "</style>\n",
       "<table border=\"1\" class=\"dataframe\">\n",
       "  <thead>\n",
       "    <tr style=\"text-align: right;\">\n",
       "      <th></th>\n",
       "      <th>model</th>\n",
       "      <th>mpg</th>\n",
       "      <th>cyl</th>\n",
       "      <th>disp</th>\n",
       "      <th>hp</th>\n",
       "      <th>drat</th>\n",
       "      <th>wt</th>\n",
       "      <th>qsec</th>\n",
       "      <th>vs</th>\n",
       "      <th>am</th>\n",
       "      <th>gear</th>\n",
       "      <th>carb</th>\n",
       "    </tr>\n",
       "  </thead>\n",
       "  <tbody>\n",
       "    <tr>\n",
       "      <th>26</th>\n",
       "      <td>Porsche 914-2</td>\n",
       "      <td>26.0</td>\n",
       "      <td>4</td>\n",
       "      <td>120.3</td>\n",
       "      <td>91</td>\n",
       "      <td>4.43</td>\n",
       "      <td>2.140</td>\n",
       "      <td>16.7</td>\n",
       "      <td>0</td>\n",
       "      <td>1</td>\n",
       "      <td>5</td>\n",
       "      <td>2</td>\n",
       "    </tr>\n",
       "    <tr>\n",
       "      <th>27</th>\n",
       "      <td>Lotus Europa</td>\n",
       "      <td>30.4</td>\n",
       "      <td>4</td>\n",
       "      <td>95.1</td>\n",
       "      <td>113</td>\n",
       "      <td>3.77</td>\n",
       "      <td>1.513</td>\n",
       "      <td>16.9</td>\n",
       "      <td>1</td>\n",
       "      <td>1</td>\n",
       "      <td>5</td>\n",
       "      <td>2</td>\n",
       "    </tr>\n",
       "  </tbody>\n",
       "</table>\n",
       "</div>"
      ],
      "text/plain": [
       "            model   mpg  cyl   disp   hp  drat     wt  qsec  vs  am  gear   \n",
       "26  Porsche 914-2  26.0    4  120.3   91  4.43  2.140  16.7   0   1     5  \\\n",
       "27   Lotus Europa  30.4    4   95.1  113  3.77  1.513  16.9   1   1     5   \n",
       "\n",
       "    carb  \n",
       "26     2  \n",
       "27     2  "
      ]
     },
     "execution_count": 26,
     "metadata": {},
     "output_type": "execute_result"
    }
   ],
   "source": [
    "df = cars()\n",
    "df.loc[lambda df: df[\"gear\"] == 5].loc[lambda df: df[\"cyl\"] == 4]"
   ]
  },
  {
   "cell_type": "markdown",
   "id": "24b30971-703f-401c-ab2f-c933eab93d67",
   "metadata": {},
   "source": [
    "Select a single column as a `pd.Series`:"
   ]
  },
  {
   "cell_type": "code",
   "execution_count": 27,
   "id": "f44ed924-a037-4281-a6b5-61f1f81a69e0",
   "metadata": {},
   "outputs": [
    {
     "data": {
      "text/plain": [
       "0    4\n",
       "1    4\n",
       "2    4\n",
       "3    3\n",
       "4    3\n",
       "Name: gear, dtype: int64"
      ]
     },
     "execution_count": 27,
     "metadata": {},
     "output_type": "execute_result"
    }
   ],
   "source": [
    "df = cars()\n",
    "df.loc[:, \"gear\"].head(5)"
   ]
  },
  {
   "cell_type": "markdown",
   "id": "8e3edd55-8563-49b6-9e2b-3e8850425210",
   "metadata": {},
   "source": [
    "Select one or more columns as a `pd.DataFrame`:"
   ]
  },
  {
   "cell_type": "code",
   "execution_count": 28,
   "id": "5c5d9b86-eb55-44d3-bf1c-33e2d5e8d699",
   "metadata": {},
   "outputs": [
    {
     "data": {
      "text/html": [
       "<div>\n",
       "<style scoped>\n",
       "    .dataframe tbody tr th:only-of-type {\n",
       "        vertical-align: middle;\n",
       "    }\n",
       "\n",
       "    .dataframe tbody tr th {\n",
       "        vertical-align: top;\n",
       "    }\n",
       "\n",
       "    .dataframe thead th {\n",
       "        text-align: right;\n",
       "    }\n",
       "</style>\n",
       "<table border=\"1\" class=\"dataframe\">\n",
       "  <thead>\n",
       "    <tr style=\"text-align: right;\">\n",
       "      <th></th>\n",
       "      <th>gear</th>\n",
       "    </tr>\n",
       "  </thead>\n",
       "  <tbody>\n",
       "    <tr>\n",
       "      <th>0</th>\n",
       "      <td>4</td>\n",
       "    </tr>\n",
       "    <tr>\n",
       "      <th>1</th>\n",
       "      <td>4</td>\n",
       "    </tr>\n",
       "    <tr>\n",
       "      <th>2</th>\n",
       "      <td>4</td>\n",
       "    </tr>\n",
       "    <tr>\n",
       "      <th>3</th>\n",
       "      <td>3</td>\n",
       "    </tr>\n",
       "    <tr>\n",
       "      <th>4</th>\n",
       "      <td>3</td>\n",
       "    </tr>\n",
       "  </tbody>\n",
       "</table>\n",
       "</div>"
      ],
      "text/plain": [
       "   gear\n",
       "0     4\n",
       "1     4\n",
       "2     4\n",
       "3     3\n",
       "4     3"
      ]
     },
     "execution_count": 28,
     "metadata": {},
     "output_type": "execute_result"
    }
   ],
   "source": [
    "df = cars()\n",
    "df.loc[:, [\"gear\"]].head(5)"
   ]
  },
  {
   "cell_type": "markdown",
   "id": "7d647a57-f5a9-4d8f-88ec-e7a91334a6c0",
   "metadata": {},
   "source": [
    "Modify a subpart of a dataframe:"
   ]
  },
  {
   "cell_type": "code",
   "execution_count": 29,
   "id": "809ac565-d167-4f0b-836a-11e45be639a6",
   "metadata": {},
   "outputs": [
    {
     "data": {
      "text/html": [
       "<div>\n",
       "<style scoped>\n",
       "    .dataframe tbody tr th:only-of-type {\n",
       "        vertical-align: middle;\n",
       "    }\n",
       "\n",
       "    .dataframe tbody tr th {\n",
       "        vertical-align: top;\n",
       "    }\n",
       "\n",
       "    .dataframe thead th {\n",
       "        text-align: right;\n",
       "    }\n",
       "</style>\n",
       "<table border=\"1\" class=\"dataframe\">\n",
       "  <thead>\n",
       "    <tr style=\"text-align: right;\">\n",
       "      <th></th>\n",
       "      <th>model</th>\n",
       "      <th>mpg</th>\n",
       "      <th>cyl</th>\n",
       "      <th>disp</th>\n",
       "      <th>hp</th>\n",
       "      <th>drat</th>\n",
       "      <th>wt</th>\n",
       "      <th>qsec</th>\n",
       "      <th>vs</th>\n",
       "      <th>am</th>\n",
       "      <th>gear</th>\n",
       "      <th>carb</th>\n",
       "    </tr>\n",
       "  </thead>\n",
       "  <tbody>\n",
       "    <tr>\n",
       "      <th>0</th>\n",
       "      <td>Mazda RX4</td>\n",
       "      <td>21.0</td>\n",
       "      <td>6</td>\n",
       "      <td>160.0</td>\n",
       "      <td>200</td>\n",
       "      <td>3.90</td>\n",
       "      <td>2.620</td>\n",
       "      <td>16.46</td>\n",
       "      <td>0</td>\n",
       "      <td>1</td>\n",
       "      <td>4</td>\n",
       "      <td>4</td>\n",
       "    </tr>\n",
       "    <tr>\n",
       "      <th>1</th>\n",
       "      <td>Mazda RX4 Wag</td>\n",
       "      <td>21.0</td>\n",
       "      <td>6</td>\n",
       "      <td>160.0</td>\n",
       "      <td>200</td>\n",
       "      <td>3.90</td>\n",
       "      <td>2.875</td>\n",
       "      <td>17.02</td>\n",
       "      <td>0</td>\n",
       "      <td>1</td>\n",
       "      <td>4</td>\n",
       "      <td>4</td>\n",
       "    </tr>\n",
       "    <tr>\n",
       "      <th>3</th>\n",
       "      <td>Hornet 4 Drive</td>\n",
       "      <td>21.4</td>\n",
       "      <td>6</td>\n",
       "      <td>258.0</td>\n",
       "      <td>200</td>\n",
       "      <td>3.08</td>\n",
       "      <td>3.215</td>\n",
       "      <td>19.44</td>\n",
       "      <td>1</td>\n",
       "      <td>0</td>\n",
       "      <td>3</td>\n",
       "      <td>1</td>\n",
       "    </tr>\n",
       "    <tr>\n",
       "      <th>5</th>\n",
       "      <td>Valiant</td>\n",
       "      <td>18.1</td>\n",
       "      <td>6</td>\n",
       "      <td>225.0</td>\n",
       "      <td>200</td>\n",
       "      <td>2.76</td>\n",
       "      <td>3.460</td>\n",
       "      <td>20.22</td>\n",
       "      <td>1</td>\n",
       "      <td>0</td>\n",
       "      <td>3</td>\n",
       "      <td>1</td>\n",
       "    </tr>\n",
       "    <tr>\n",
       "      <th>9</th>\n",
       "      <td>Merc 280</td>\n",
       "      <td>19.2</td>\n",
       "      <td>6</td>\n",
       "      <td>167.6</td>\n",
       "      <td>200</td>\n",
       "      <td>3.92</td>\n",
       "      <td>3.440</td>\n",
       "      <td>18.30</td>\n",
       "      <td>1</td>\n",
       "      <td>0</td>\n",
       "      <td>4</td>\n",
       "      <td>4</td>\n",
       "    </tr>\n",
       "    <tr>\n",
       "      <th>10</th>\n",
       "      <td>Merc 280C</td>\n",
       "      <td>17.8</td>\n",
       "      <td>6</td>\n",
       "      <td>167.6</td>\n",
       "      <td>200</td>\n",
       "      <td>3.92</td>\n",
       "      <td>3.440</td>\n",
       "      <td>18.90</td>\n",
       "      <td>1</td>\n",
       "      <td>0</td>\n",
       "      <td>4</td>\n",
       "      <td>4</td>\n",
       "    </tr>\n",
       "    <tr>\n",
       "      <th>29</th>\n",
       "      <td>Ferrari Dino</td>\n",
       "      <td>19.7</td>\n",
       "      <td>6</td>\n",
       "      <td>145.0</td>\n",
       "      <td>200</td>\n",
       "      <td>3.62</td>\n",
       "      <td>2.770</td>\n",
       "      <td>15.50</td>\n",
       "      <td>0</td>\n",
       "      <td>1</td>\n",
       "      <td>5</td>\n",
       "      <td>6</td>\n",
       "    </tr>\n",
       "  </tbody>\n",
       "</table>\n",
       "</div>"
      ],
      "text/plain": [
       "             model   mpg  cyl   disp   hp  drat     wt   qsec  vs  am  gear   \n",
       "0        Mazda RX4  21.0    6  160.0  200  3.90  2.620  16.46   0   1     4  \\\n",
       "1    Mazda RX4 Wag  21.0    6  160.0  200  3.90  2.875  17.02   0   1     4   \n",
       "3   Hornet 4 Drive  21.4    6  258.0  200  3.08  3.215  19.44   1   0     3   \n",
       "5          Valiant  18.1    6  225.0  200  2.76  3.460  20.22   1   0     3   \n",
       "9         Merc 280  19.2    6  167.6  200  3.92  3.440  18.30   1   0     4   \n",
       "10       Merc 280C  17.8    6  167.6  200  3.92  3.440  18.90   1   0     4   \n",
       "29    Ferrari Dino  19.7    6  145.0  200  3.62  2.770  15.50   0   1     5   \n",
       "\n",
       "    carb  \n",
       "0      4  \n",
       "1      4  \n",
       "3      1  \n",
       "5      1  \n",
       "9      4  \n",
       "10     4  \n",
       "29     6  "
      ]
     },
     "execution_count": 29,
     "metadata": {},
     "output_type": "execute_result"
    }
   ],
   "source": [
    "df = cars()\n",
    "df.loc[df[\"cyl\"] == 6, \"hp\"] = 200\n",
    "df.loc[df[\"cyl\"] == 6, :]"
   ]
  },
  {
   "cell_type": "markdown",
   "id": "0d2d4461-333f-4ac7-8758-6a6ca9507da8",
   "metadata": {},
   "source": [
    "### Boolean expressions in [] and loc[]"
   ]
  },
  {
   "cell_type": "markdown",
   "id": "cb43557e-3fd7-4367-b1da-d6586dbeac0e",
   "metadata": {
    "tags": []
   },
   "source": [
    "When selecting rows with `df[df[\"gear\"] == 5]`, `df[\"gear\"] == 5` is a `pd.Series` wrapping a boolean vector:"
   ]
  },
  {
   "cell_type": "code",
   "execution_count": 30,
   "id": "a0acf952-8352-4a58-bb99-9363323aece1",
   "metadata": {
    "tags": []
   },
   "outputs": [
    {
     "data": {
      "text/plain": [
       "0    False\n",
       "1    False\n",
       "2    False\n",
       "3    False\n",
       "4    False\n",
       "Name: gear, dtype: bool"
      ]
     },
     "execution_count": 30,
     "metadata": {},
     "output_type": "execute_result"
    }
   ],
   "source": [
    "df = cars()\n",
    "(df[\"gear\"] == 5).head(5)"
   ]
  },
  {
   "cell_type": "markdown",
   "id": "5c7fb3f4-cd53-41c1-8dc5-409ecd0f575d",
   "metadata": {
    "tags": []
   },
   "source": [
    "Boolean operators like `&`, `|` and `~` (negation) can be used on those boolean vectors to represent compound filtering conditions. Individual conditions have to be enclosed in parenthesis since `&` and `|` have higher priority in Python than operators like `==`, `>=`, etc.:"
   ]
  },
  {
   "cell_type": "code",
   "execution_count": 31,
   "id": "cbe3d8e9-7bab-4dab-a6d0-bb5d26a3c374",
   "metadata": {},
   "outputs": [
    {
     "data": {
      "text/html": [
       "<div>\n",
       "<style scoped>\n",
       "    .dataframe tbody tr th:only-of-type {\n",
       "        vertical-align: middle;\n",
       "    }\n",
       "\n",
       "    .dataframe tbody tr th {\n",
       "        vertical-align: top;\n",
       "    }\n",
       "\n",
       "    .dataframe thead th {\n",
       "        text-align: right;\n",
       "    }\n",
       "</style>\n",
       "<table border=\"1\" class=\"dataframe\">\n",
       "  <thead>\n",
       "    <tr style=\"text-align: right;\">\n",
       "      <th></th>\n",
       "      <th>model</th>\n",
       "      <th>mpg</th>\n",
       "      <th>cyl</th>\n",
       "      <th>disp</th>\n",
       "      <th>hp</th>\n",
       "      <th>drat</th>\n",
       "      <th>wt</th>\n",
       "      <th>qsec</th>\n",
       "      <th>vs</th>\n",
       "      <th>am</th>\n",
       "      <th>gear</th>\n",
       "      <th>carb</th>\n",
       "    </tr>\n",
       "  </thead>\n",
       "  <tbody>\n",
       "    <tr>\n",
       "      <th>3</th>\n",
       "      <td>Hornet 4 Drive</td>\n",
       "      <td>21.4</td>\n",
       "      <td>6</td>\n",
       "      <td>258.0</td>\n",
       "      <td>110</td>\n",
       "      <td>3.08</td>\n",
       "      <td>3.215</td>\n",
       "      <td>19.44</td>\n",
       "      <td>1</td>\n",
       "      <td>0</td>\n",
       "      <td>3</td>\n",
       "      <td>1</td>\n",
       "    </tr>\n",
       "    <tr>\n",
       "      <th>5</th>\n",
       "      <td>Valiant</td>\n",
       "      <td>18.1</td>\n",
       "      <td>6</td>\n",
       "      <td>225.0</td>\n",
       "      <td>105</td>\n",
       "      <td>2.76</td>\n",
       "      <td>3.460</td>\n",
       "      <td>20.22</td>\n",
       "      <td>1</td>\n",
       "      <td>0</td>\n",
       "      <td>3</td>\n",
       "      <td>1</td>\n",
       "    </tr>\n",
       "    <tr>\n",
       "      <th>20</th>\n",
       "      <td>Toyota Corona</td>\n",
       "      <td>21.5</td>\n",
       "      <td>4</td>\n",
       "      <td>120.1</td>\n",
       "      <td>97</td>\n",
       "      <td>3.70</td>\n",
       "      <td>2.465</td>\n",
       "      <td>20.01</td>\n",
       "      <td>1</td>\n",
       "      <td>0</td>\n",
       "      <td>3</td>\n",
       "      <td>1</td>\n",
       "    </tr>\n",
       "  </tbody>\n",
       "</table>\n",
       "</div>"
      ],
      "text/plain": [
       "             model   mpg  cyl   disp   hp  drat     wt   qsec  vs  am  gear   \n",
       "3   Hornet 4 Drive  21.4    6  258.0  110  3.08  3.215  19.44   1   0     3  \\\n",
       "5          Valiant  18.1    6  225.0  105  2.76  3.460  20.22   1   0     3   \n",
       "20   Toyota Corona  21.5    4  120.1   97  3.70  2.465  20.01   1   0     3   \n",
       "\n",
       "    carb  \n",
       "3      1  \n",
       "5      1  \n",
       "20     1  "
      ]
     },
     "execution_count": 31,
     "metadata": {},
     "output_type": "execute_result"
    }
   ],
   "source": [
    "df = cars()\n",
    "df[(df[\"cyl\"] >= 4) & (df[\"cyl\"] <= 6) & (df[\"gear\"] == 3)]"
   ]
  },
  {
   "cell_type": "markdown",
   "id": "d65b0ee0-5cec-470e-ae8a-59b915e38b60",
   "metadata": {},
   "source": [
    "Use `isin()` series method for subset selection:"
   ]
  },
  {
   "cell_type": "code",
   "execution_count": 32,
   "id": "e5d67c1f-34fe-49c3-8a34-7189f442b67c",
   "metadata": {},
   "outputs": [
    {
     "data": {
      "text/html": [
       "<div>\n",
       "<style scoped>\n",
       "    .dataframe tbody tr th:only-of-type {\n",
       "        vertical-align: middle;\n",
       "    }\n",
       "\n",
       "    .dataframe tbody tr th {\n",
       "        vertical-align: top;\n",
       "    }\n",
       "\n",
       "    .dataframe thead th {\n",
       "        text-align: right;\n",
       "    }\n",
       "</style>\n",
       "<table border=\"1\" class=\"dataframe\">\n",
       "  <thead>\n",
       "    <tr style=\"text-align: right;\">\n",
       "      <th></th>\n",
       "      <th>model</th>\n",
       "      <th>mpg</th>\n",
       "      <th>cyl</th>\n",
       "      <th>disp</th>\n",
       "      <th>hp</th>\n",
       "      <th>drat</th>\n",
       "      <th>wt</th>\n",
       "      <th>qsec</th>\n",
       "      <th>vs</th>\n",
       "      <th>am</th>\n",
       "      <th>gear</th>\n",
       "      <th>carb</th>\n",
       "    </tr>\n",
       "  </thead>\n",
       "  <tbody>\n",
       "    <tr>\n",
       "      <th>3</th>\n",
       "      <td>Hornet 4 Drive</td>\n",
       "      <td>21.4</td>\n",
       "      <td>6</td>\n",
       "      <td>258.0</td>\n",
       "      <td>110</td>\n",
       "      <td>3.08</td>\n",
       "      <td>3.215</td>\n",
       "      <td>19.44</td>\n",
       "      <td>1</td>\n",
       "      <td>0</td>\n",
       "      <td>3</td>\n",
       "      <td>1</td>\n",
       "    </tr>\n",
       "    <tr>\n",
       "      <th>5</th>\n",
       "      <td>Valiant</td>\n",
       "      <td>18.1</td>\n",
       "      <td>6</td>\n",
       "      <td>225.0</td>\n",
       "      <td>105</td>\n",
       "      <td>2.76</td>\n",
       "      <td>3.460</td>\n",
       "      <td>20.22</td>\n",
       "      <td>1</td>\n",
       "      <td>0</td>\n",
       "      <td>3</td>\n",
       "      <td>1</td>\n",
       "    </tr>\n",
       "    <tr>\n",
       "      <th>20</th>\n",
       "      <td>Toyota Corona</td>\n",
       "      <td>21.5</td>\n",
       "      <td>4</td>\n",
       "      <td>120.1</td>\n",
       "      <td>97</td>\n",
       "      <td>3.70</td>\n",
       "      <td>2.465</td>\n",
       "      <td>20.01</td>\n",
       "      <td>1</td>\n",
       "      <td>0</td>\n",
       "      <td>3</td>\n",
       "      <td>1</td>\n",
       "    </tr>\n",
       "  </tbody>\n",
       "</table>\n",
       "</div>"
      ],
      "text/plain": [
       "             model   mpg  cyl   disp   hp  drat     wt   qsec  vs  am  gear   \n",
       "3   Hornet 4 Drive  21.4    6  258.0  110  3.08  3.215  19.44   1   0     3  \\\n",
       "5          Valiant  18.1    6  225.0  105  2.76  3.460  20.22   1   0     3   \n",
       "20   Toyota Corona  21.5    4  120.1   97  3.70  2.465  20.01   1   0     3   \n",
       "\n",
       "    carb  \n",
       "3      1  \n",
       "5      1  \n",
       "20     1  "
      ]
     },
     "execution_count": 32,
     "metadata": {},
     "output_type": "execute_result"
    }
   ],
   "source": [
    "df = cars()\n",
    "df[df[\"cyl\"].isin([4, 6]) & (df[\"gear\"] == 3)]"
   ]
  },
  {
   "cell_type": "markdown",
   "id": "be9d3515-e57b-4865-8009-3aa37e9ca3d5",
   "metadata": {},
   "source": [
    "## Grouping"
   ]
  },
  {
   "cell_type": "markdown",
   "id": "76fdccb0-9e47-44cf-acf7-fb5d6f7a20ac",
   "metadata": {},
   "source": [
    "### Forming groups"
   ]
  },
  {
   "cell_type": "markdown",
   "id": "6764c479-e71d-47c5-a41f-642e1f6818c2",
   "metadata": {},
   "source": [
    "### Aggregating group data"
   ]
  },
  {
   "cell_type": "markdown",
   "id": "a43ba36e-df04-4b93-804f-b00c044d0830",
   "metadata": {},
   "source": [
    "#### Aggregate with specific provided aggregations"
   ]
  },
  {
   "cell_type": "markdown",
   "id": "f870f9d8-494b-4919-943a-4c964f356c8d",
   "metadata": {},
   "source": [
    "`df.groupby()` returns a `DataFrameGroupBy` that supports calls like `min()`, `max()`, `mean()`, `std()`, `var()`, `quantile()` etc.:"
   ]
  },
  {
   "cell_type": "code",
   "execution_count": 28,
   "id": "62a1d95b-47b6-4f51-a991-c635b8029b73",
   "metadata": {
    "tags": []
   },
   "outputs": [
    {
     "data": {
      "text/plain": [
       "cyl  gear\n",
       "4    3        97.000\n",
       "     4        76.000\n",
       "     5       102.000\n",
       "6    3       107.500\n",
       "     4       116.500\n",
       "     5       175.000\n",
       "8    3       194.167\n",
       "     5       299.500\n",
       "Name: hp, dtype: float64"
      ]
     },
     "execution_count": 28,
     "metadata": {},
     "output_type": "execute_result"
    }
   ],
   "source": [
    "df = cars()\n",
    "df.groupby([\"cyl\", \"gear\"])[\"hp\"].mean()"
   ]
  },
  {
   "cell_type": "markdown",
   "id": "7ca7e2ab-ce22-422e-8c2d-5008e832d6cf",
   "metadata": {},
   "source": [
    "To count the number of items in each group use `.size()`:"
   ]
  },
  {
   "cell_type": "code",
   "execution_count": 26,
   "id": "0e0e78cd-b1f7-40d3-adf9-e17bda293172",
   "metadata": {
    "tags": []
   },
   "outputs": [
    {
     "data": {
      "text/plain": [
       "cyl  gear\n",
       "4    3        1\n",
       "     4        8\n",
       "     5        2\n",
       "6    3        2\n",
       "     4        4\n",
       "     5        1\n",
       "8    3       12\n",
       "     5        2\n",
       "dtype: int64"
      ]
     },
     "execution_count": 26,
     "metadata": {},
     "output_type": "execute_result"
    }
   ],
   "source": [
    "df = cars()\n",
    "df.groupby([\"cyl\", \"gear\"]).size()"
   ]
  },
  {
   "cell_type": "markdown",
   "id": "c7cf612f-a3a5-4c6b-989d-1582be991535",
   "metadata": {},
   "source": [
    "Note that confusingly to get the number of rows in the whole dataframe, you have to do `len(df)` or `len(df.index)` - in a dataframe `.size` is a field not a method and it holds the number of cells in the dataframe not the number of rows. For example, to group cars by the number of cylinders and number of gears and see what percentage of all cars have what setup you call `.size()` on the `DataFrameGroupBy` object returned by `groupby([\"cyl\", \"gear\"])`, divide by `len(df)` and multiply the result by `100.0`:"
   ]
  },
  {
   "cell_type": "code",
   "execution_count": 30,
   "id": "f32c2d50-d38c-401e-8408-d3ca03fd24f9",
   "metadata": {
    "tags": []
   },
   "outputs": [
    {
     "data": {
      "text/plain": [
       "cyl  gear\n",
       "4    3        3.125\n",
       "     4       25.000\n",
       "     5        6.250\n",
       "6    3        6.250\n",
       "     4       12.500\n",
       "     5        3.125\n",
       "8    3       37.500\n",
       "     5        6.250\n",
       "dtype: float64"
      ]
     },
     "execution_count": 30,
     "metadata": {},
     "output_type": "execute_result"
    }
   ],
   "source": [
    "df = cars()\n",
    "(df.groupby([\"cyl\", \"gear\"]).size() / len(df)) * 100.0"
   ]
  },
  {
   "cell_type": "markdown",
   "id": "8f2f753a-92ae-459f-83fa-cb25e502c592",
   "metadata": {
    "tags": []
   },
   "source": [
    "To count the groups themselves use the `.ngroups` attribute:"
   ]
  },
  {
   "cell_type": "code",
   "execution_count": 31,
   "id": "790f76cc-c3b4-4524-890a-18950977fcdb",
   "metadata": {
    "tags": []
   },
   "outputs": [
    {
     "data": {
      "text/plain": [
       "8"
      ]
     },
     "execution_count": 31,
     "metadata": {},
     "output_type": "execute_result"
    }
   ],
   "source": [
    "df = cars()\n",
    "df.groupby([\"cyl\", \"gear\"]).ngroups"
   ]
  },
  {
   "cell_type": "markdown",
   "id": "3a3325d6-5ff9-49f5-acf5-27274c8627de",
   "metadata": {},
   "source": [
    "To compute a compound expression involving group level aggregates, for example to compute the range of values within each group (group max - group min), reference to the groupby object and reuse it:"
   ]
  },
  {
   "cell_type": "code",
   "execution_count": 32,
   "id": "4ea4a6d2-f906-4ef2-ac11-2e385238b1d1",
   "metadata": {
    "tags": []
   },
   "outputs": [
    {
     "data": {
      "text/plain": [
       "cyl  gear\n",
       "4    3        0\n",
       "     4       57\n",
       "     5       22\n",
       "6    3        5\n",
       "     4       13\n",
       "     5        0\n",
       "8    3       95\n",
       "     5       71\n",
       "Name: hp, dtype: int64"
      ]
     },
     "execution_count": 32,
     "metadata": {},
     "output_type": "execute_result"
    }
   ],
   "source": [
    "df = cars()\n",
    "df_groupby = df.groupby([\"cyl\", \"gear\"])[\"hp\"]\n",
    "df_groupby.max() - df_groupby.min()"
   ]
  },
  {
   "cell_type": "markdown",
   "id": "411c6e13-bf7c-4475-a4be-d25cb9f5d774",
   "metadata": {},
   "source": [
    "`.pipe()` will accomplish the same thing in a way that can be placed in the middle of a method chain:"
   ]
  },
  {
   "cell_type": "code",
   "execution_count": 33,
   "id": "b48fdea2-4a38-442b-9971-3e5d3fd2bb34",
   "metadata": {
    "tags": []
   },
   "outputs": [
    {
     "data": {
      "text/plain": [
       "32.875"
      ]
     },
     "execution_count": 33,
     "metadata": {},
     "output_type": "execute_result"
    }
   ],
   "source": [
    "(\n",
    "    cars()\n",
    "    .groupby([\"cyl\", \"gear\"])[\"hp\"]\n",
    "    .pipe(lambda group: group.max() - group.min())\n",
    "    .mean()\n",
    ")"
   ]
  },
  {
   "cell_type": "markdown",
   "id": "7c94ada8-59ad-4cae-8ec9-6febdbfc6a8f",
   "metadata": {},
   "source": [
    "#### Aggregate with generic aggregate() method (series-by-series)"
   ]
  },
  {
   "cell_type": "markdown",
   "id": "c995471d-347a-47a2-9e3f-2b35acd0a921",
   "metadata": {},
   "source": [
    "`df.groupby().aggregate(func)` will call `func(series)` once for each series of every group.\n",
    "\n",
    "`func` should return a scalar."
   ]
  },
  {
   "cell_type": "code",
   "execution_count": 70,
   "id": "690d84f2-25a3-4b84-987c-94dec9bb7c03",
   "metadata": {},
   "outputs": [
    {
     "data": {
      "text/html": [
       "<div>\n",
       "<style scoped>\n",
       "    .dataframe tbody tr th:only-of-type {\n",
       "        vertical-align: middle;\n",
       "    }\n",
       "\n",
       "    .dataframe tbody tr th {\n",
       "        vertical-align: top;\n",
       "    }\n",
       "\n",
       "    .dataframe thead th {\n",
       "        text-align: right;\n",
       "    }\n",
       "</style>\n",
       "<table border=\"1\" class=\"dataframe\">\n",
       "  <thead>\n",
       "    <tr style=\"text-align: right;\">\n",
       "      <th></th>\n",
       "      <th>hp</th>\n",
       "    </tr>\n",
       "    <tr>\n",
       "      <th>cyl</th>\n",
       "      <th></th>\n",
       "    </tr>\n",
       "  </thead>\n",
       "  <tbody>\n",
       "    <tr>\n",
       "      <th>4</th>\n",
       "      <td>82.636</td>\n",
       "    </tr>\n",
       "    <tr>\n",
       "      <th>6</th>\n",
       "      <td>122.286</td>\n",
       "    </tr>\n",
       "    <tr>\n",
       "      <th>8</th>\n",
       "      <td>209.214</td>\n",
       "    </tr>\n",
       "  </tbody>\n",
       "</table>\n",
       "</div>"
      ],
      "text/plain": [
       "          hp\n",
       "cyl         \n",
       "4     82.636\n",
       "6    122.286\n",
       "8    209.214"
      ]
     },
     "execution_count": 70,
     "metadata": {},
     "output_type": "execute_result"
    }
   ],
   "source": [
    "df = cars()\n",
    "df.groupby(\"cyl\")[[\"hp\"]].aggregate(\"mean\")"
   ]
  },
  {
   "cell_type": "markdown",
   "id": "74d74444-366c-4a61-82ab-32621aaa293a",
   "metadata": {},
   "source": [
    "Multiple aggregations can be specified:"
   ]
  },
  {
   "cell_type": "code",
   "execution_count": 69,
   "id": "032b91d0-f16c-4160-8f37-939dbd711daa",
   "metadata": {},
   "outputs": [
    {
     "data": {
      "text/html": [
       "<div>\n",
       "<style scoped>\n",
       "    .dataframe tbody tr th:only-of-type {\n",
       "        vertical-align: middle;\n",
       "    }\n",
       "\n",
       "    .dataframe tbody tr th {\n",
       "        vertical-align: top;\n",
       "    }\n",
       "\n",
       "    .dataframe thead tr th {\n",
       "        text-align: left;\n",
       "    }\n",
       "\n",
       "    .dataframe thead tr:last-of-type th {\n",
       "        text-align: right;\n",
       "    }\n",
       "</style>\n",
       "<table border=\"1\" class=\"dataframe\">\n",
       "  <thead>\n",
       "    <tr>\n",
       "      <th></th>\n",
       "      <th colspan=\"3\" halign=\"left\">hp</th>\n",
       "    </tr>\n",
       "    <tr>\n",
       "      <th></th>\n",
       "      <th>size</th>\n",
       "      <th>mean</th>\n",
       "      <th>std</th>\n",
       "    </tr>\n",
       "    <tr>\n",
       "      <th>cyl</th>\n",
       "      <th></th>\n",
       "      <th></th>\n",
       "      <th></th>\n",
       "    </tr>\n",
       "  </thead>\n",
       "  <tbody>\n",
       "    <tr>\n",
       "      <th>4</th>\n",
       "      <td>11</td>\n",
       "      <td>82.636</td>\n",
       "      <td>20.935</td>\n",
       "    </tr>\n",
       "    <tr>\n",
       "      <th>6</th>\n",
       "      <td>7</td>\n",
       "      <td>122.286</td>\n",
       "      <td>24.260</td>\n",
       "    </tr>\n",
       "    <tr>\n",
       "      <th>8</th>\n",
       "      <td>14</td>\n",
       "      <td>209.214</td>\n",
       "      <td>50.977</td>\n",
       "    </tr>\n",
       "  </tbody>\n",
       "</table>\n",
       "</div>"
      ],
      "text/plain": [
       "      hp                 \n",
       "    size     mean     std\n",
       "cyl                      \n",
       "4     11   82.636  20.935\n",
       "6      7  122.286  24.260\n",
       "8     14  209.214  50.977"
      ]
     },
     "execution_count": 69,
     "metadata": {},
     "output_type": "execute_result"
    }
   ],
   "source": [
    "df = cars()\n",
    "df.groupby(\"cyl\")[[\"hp\"]].aggregate([\"size\", \"mean\", \"std\"])"
   ]
  },
  {
   "cell_type": "markdown",
   "id": "2a7cd351-5a85-477e-a85d-4b99146d0e13",
   "metadata": {},
   "source": [
    "Use keyword arguments to rename the resulting columns:"
   ]
  },
  {
   "cell_type": "code",
   "execution_count": 41,
   "id": "7691adcc-727a-40b0-9b20-6cf440da9acd",
   "metadata": {},
   "outputs": [
    {
     "data": {
      "text/html": [
       "<div>\n",
       "<style scoped>\n",
       "    .dataframe tbody tr th:only-of-type {\n",
       "        vertical-align: middle;\n",
       "    }\n",
       "\n",
       "    .dataframe tbody tr th {\n",
       "        vertical-align: top;\n",
       "    }\n",
       "\n",
       "    .dataframe thead th {\n",
       "        text-align: right;\n",
       "    }\n",
       "</style>\n",
       "<table border=\"1\" class=\"dataframe\">\n",
       "  <thead>\n",
       "    <tr style=\"text-align: right;\">\n",
       "      <th></th>\n",
       "      <th>average</th>\n",
       "    </tr>\n",
       "    <tr>\n",
       "      <th>cyl</th>\n",
       "      <th></th>\n",
       "    </tr>\n",
       "  </thead>\n",
       "  <tbody>\n",
       "    <tr>\n",
       "      <th>4</th>\n",
       "      <td>82.636</td>\n",
       "    </tr>\n",
       "    <tr>\n",
       "      <th>6</th>\n",
       "      <td>122.286</td>\n",
       "    </tr>\n",
       "    <tr>\n",
       "      <th>8</th>\n",
       "      <td>209.214</td>\n",
       "    </tr>\n",
       "  </tbody>\n",
       "</table>\n",
       "</div>"
      ],
      "text/plain": [
       "     average\n",
       "cyl         \n",
       "4     82.636\n",
       "6    122.286\n",
       "8    209.214"
      ]
     },
     "execution_count": 41,
     "metadata": {},
     "output_type": "execute_result"
    }
   ],
   "source": [
    "df = cars()\n",
    "df.groupby(\"cyl\").aggregate(average=(\"hp\", \"mean\"))"
   ]
  },
  {
   "cell_type": "markdown",
   "id": "5d96baf5-7ca3-4220-8df6-4624bb8b3378",
   "metadata": {},
   "source": [
    "The last type of aggregate() aggregation has slightly different syntax when dealing with a single series:"
   ]
  },
  {
   "cell_type": "code",
   "execution_count": 42,
   "id": "61ec8d23-b833-470a-ac1c-807b68a1e7dc",
   "metadata": {},
   "outputs": [
    {
     "data": {
      "text/html": [
       "<div>\n",
       "<style scoped>\n",
       "    .dataframe tbody tr th:only-of-type {\n",
       "        vertical-align: middle;\n",
       "    }\n",
       "\n",
       "    .dataframe tbody tr th {\n",
       "        vertical-align: top;\n",
       "    }\n",
       "\n",
       "    .dataframe thead th {\n",
       "        text-align: right;\n",
       "    }\n",
       "</style>\n",
       "<table border=\"1\" class=\"dataframe\">\n",
       "  <thead>\n",
       "    <tr style=\"text-align: right;\">\n",
       "      <th></th>\n",
       "      <th>average</th>\n",
       "    </tr>\n",
       "    <tr>\n",
       "      <th>cyl</th>\n",
       "      <th></th>\n",
       "    </tr>\n",
       "  </thead>\n",
       "  <tbody>\n",
       "    <tr>\n",
       "      <th>4</th>\n",
       "      <td>82.636</td>\n",
       "    </tr>\n",
       "    <tr>\n",
       "      <th>6</th>\n",
       "      <td>122.286</td>\n",
       "    </tr>\n",
       "    <tr>\n",
       "      <th>8</th>\n",
       "      <td>209.214</td>\n",
       "    </tr>\n",
       "  </tbody>\n",
       "</table>\n",
       "</div>"
      ],
      "text/plain": [
       "     average\n",
       "cyl         \n",
       "4     82.636\n",
       "6    122.286\n",
       "8    209.214"
      ]
     },
     "execution_count": 42,
     "metadata": {},
     "output_type": "execute_result"
    }
   ],
   "source": [
    "df = cars()\n",
    "df.groupby(\"cyl\")[\"hp\"].agg(average=np.mean)"
   ]
  },
  {
   "cell_type": "markdown",
   "id": "78caafd1-29e5-4d95-99c4-16eba8f60433",
   "metadata": {},
   "source": [
    "#### Aggregate with generic apply() method (dataframe-by-dataframe)"
   ]
  },
  {
   "cell_type": "markdown",
   "id": "a40985ab-346f-4011-a793-a33d13610313",
   "metadata": {},
   "source": [
    "`df.groupby().apply(func)` will call `func(group)` once for each group, where `group` is a dataframe containing the rows within each group. The form of the result depends of the return type of `func`."
   ]
  },
  {
   "cell_type": "markdown",
   "id": "71ad155a-f38d-45ac-8a85-c59ef737305e",
   "metadata": {
    "tags": []
   },
   "source": [
    "**Case 1:** `func` returns a scalar - the result of `apply(func)` is a series indexed by the group key:"
   ]
  },
  {
   "cell_type": "code",
   "execution_count": 43,
   "id": "ae11dcc4-1893-4ecb-a396-8e451ae7bde6",
   "metadata": {
    "tags": []
   },
   "outputs": [
    {
     "data": {
      "text/plain": [
       "cyl\n",
       "4     82.636\n",
       "6    122.286\n",
       "8    209.214\n",
       "dtype: float64"
      ]
     },
     "execution_count": 43,
     "metadata": {},
     "output_type": "execute_result"
    }
   ],
   "source": [
    "df = cars()\n",
    "df.groupby(\"cyl\")[[\"hp\"]].apply(lambda df: np.mean(df.values))"
   ]
  },
  {
   "cell_type": "markdown",
   "id": "729ec9b7-2581-456e-bb97-f9da03c59a36",
   "metadata": {
    "tags": []
   },
   "source": [
    "**Case 2:** `func` returns a series - the result of `apply(func)` is a dataframe indexed by the group key, with columns given by the index of the returned series:"
   ]
  },
  {
   "cell_type": "code",
   "execution_count": 44,
   "id": "3d9e3608-896e-4f8a-ac9f-1caa35a91018",
   "metadata": {
    "tags": []
   },
   "outputs": [
    {
     "data": {
      "text/html": [
       "<div>\n",
       "<style scoped>\n",
       "    .dataframe tbody tr th:only-of-type {\n",
       "        vertical-align: middle;\n",
       "    }\n",
       "\n",
       "    .dataframe tbody tr th {\n",
       "        vertical-align: top;\n",
       "    }\n",
       "\n",
       "    .dataframe thead th {\n",
       "        text-align: right;\n",
       "    }\n",
       "</style>\n",
       "<table border=\"1\" class=\"dataframe\">\n",
       "  <thead>\n",
       "    <tr style=\"text-align: right;\">\n",
       "      <th></th>\n",
       "      <th>hp</th>\n",
       "      <th>mpg</th>\n",
       "    </tr>\n",
       "    <tr>\n",
       "      <th>cyl</th>\n",
       "      <th></th>\n",
       "      <th></th>\n",
       "    </tr>\n",
       "  </thead>\n",
       "  <tbody>\n",
       "    <tr>\n",
       "      <th>4</th>\n",
       "      <td>82.636</td>\n",
       "      <td>26.664</td>\n",
       "    </tr>\n",
       "    <tr>\n",
       "      <th>6</th>\n",
       "      <td>122.286</td>\n",
       "      <td>19.743</td>\n",
       "    </tr>\n",
       "    <tr>\n",
       "      <th>8</th>\n",
       "      <td>209.214</td>\n",
       "      <td>15.100</td>\n",
       "    </tr>\n",
       "  </tbody>\n",
       "</table>\n",
       "</div>"
      ],
      "text/plain": [
       "          hp     mpg\n",
       "cyl                 \n",
       "4     82.636  26.664\n",
       "6    122.286  19.743\n",
       "8    209.214  15.100"
      ]
     },
     "execution_count": 44,
     "metadata": {},
     "output_type": "execute_result"
    }
   ],
   "source": [
    "df = cars()\n",
    "df.groupby(\"cyl\")[[\"hp\", \"mpg\"]].apply(lambda df: df.mean())"
   ]
  },
  {
   "cell_type": "markdown",
   "id": "28335503-a4b1-4515-95d6-326d1ce00bd4",
   "metadata": {
    "tags": []
   },
   "source": [
    "**Case 3:** `func` returns a dataframe - the result of `apply(func)` is a dataframe with a multi-index and with same columns as the dataframe returned by `func`. The multi-index consists of a group key level concatenated with levels of the index of the dataframes returned by `func`:"
   ]
  },
  {
   "cell_type": "code",
   "execution_count": 45,
   "id": "dd3d4c86-daca-452f-a987-09418f24ca56",
   "metadata": {
    "tags": []
   },
   "outputs": [
    {
     "ename": "KeyError",
     "evalue": "\"['Currency'] not found in axis\"",
     "output_type": "error",
     "traceback": [
      "Traceback \u001b[0;36m(most recent call last)\u001b[0m:\n",
      "\u001b[0m  Cell \u001b[1;32mIn[45], line 2\u001b[0m\n    df.groupby(\"cyl\").apply(lambda df: df.drop(columns=[\"Currency\"]).set_index([\"Year\"]).rolling(3).mean().dropna())\u001b[0m\n",
      "\u001b[0m  File \u001b[1;32m~/.virtualenvs/jupyter-notebooks/lib/python3.11/site-packages/pandas/core/groupby/groupby.py:1353\u001b[0m in \u001b[1;35mapply\u001b[0m\n    result = self._python_apply_general(f, self._selected_obj)\u001b[0m\n",
      "\u001b[0m  File \u001b[1;32m~/.virtualenvs/jupyter-notebooks/lib/python3.11/site-packages/pandas/core/groupby/groupby.py:1402\u001b[0m in \u001b[1;35m_python_apply_general\u001b[0m\n    values, mutated = self.grouper.apply(f, data, self.axis)\u001b[0m\n",
      "\u001b[0m  File \u001b[1;32m~/.virtualenvs/jupyter-notebooks/lib/python3.11/site-packages/pandas/core/groupby/ops.py:767\u001b[0m in \u001b[1;35mapply\u001b[0m\n    res = f(group)\u001b[0m\n",
      "\u001b[0m  Cell \u001b[1;32mIn[45], line 2\u001b[0m in \u001b[1;35m<lambda>\u001b[0m\n    df.groupby(\"cyl\").apply(lambda df: df.drop(columns=[\"Currency\"]).set_index([\"Year\"]).rolling(3).mean().dropna())\u001b[0m\n",
      "\u001b[0m  File \u001b[1;32m~/.virtualenvs/jupyter-notebooks/lib/python3.11/site-packages/pandas/core/frame.py:5266\u001b[0m in \u001b[1;35mdrop\u001b[0m\n    return super().drop(\u001b[0m\n",
      "\u001b[0m  File \u001b[1;32m~/.virtualenvs/jupyter-notebooks/lib/python3.11/site-packages/pandas/core/generic.py:4549\u001b[0m in \u001b[1;35mdrop\u001b[0m\n    obj = obj._drop_axis(labels, axis, level=level, errors=errors)\u001b[0m\n",
      "\u001b[0m  File \u001b[1;32m~/.virtualenvs/jupyter-notebooks/lib/python3.11/site-packages/pandas/core/generic.py:4591\u001b[0m in \u001b[1;35m_drop_axis\u001b[0m\n    new_axis = axis.drop(labels, errors=errors)\u001b[0m\n",
      "\u001b[0;36m  File \u001b[0;32m~/.virtualenvs/jupyter-notebooks/lib/python3.11/site-packages/pandas/core/indexes/base.py:6696\u001b[0;36m in \u001b[0;35mdrop\u001b[0;36m\n\u001b[0;31m    raise KeyError(f\"{list(labels[mask])} not found in axis\")\u001b[0;36m\n",
      "\u001b[0;31mKeyError\u001b[0m\u001b[0;31m:\u001b[0m \"['Currency'] not found in axis\"\n"
     ]
    }
   ],
   "source": [
    "df = cars()\n",
    "df.groupby(\"cyl\").apply(lambda df: df.drop(columns=[\"Currency\"]).set_index([\"Year\"]).rolling(3).mean().dropna())"
   ]
  },
  {
   "cell_type": "markdown",
   "id": "cfa53ad9-2d58-406c-81ac-449c69d2dfe6",
   "metadata": {},
   "source": [
    "### Transforming group data"
   ]
  },
  {
   "cell_type": "markdown",
   "id": "7bb8fa5e-146e-49b1-a5aa-2e2d77ea2743",
   "metadata": {},
   "source": [
    "In Pandas terminology, transformations differ from aggregations in that the result of a transformation has dimensions equal to the dimensions of the original series or dataframe before the `.groupby()`. Common use case is to do something with each row of a dataframe but using some data computed in the context of the group of given row, like the group mean of some attribute."
   ]
  },
  {
   "cell_type": "markdown",
   "id": "83a1731c-fff7-4848-ae05-15ec12d4a396",
   "metadata": {},
   "source": [
    "#### Transform with specific provided transformations"
   ]
  },
  {
   "cell_type": "markdown",
   "id": "9279db4c-788d-4b78-8493-00097cf9d379",
   "metadata": {},
   "source": [
    "#### Transform rows one-by-one with generic transform() method"
   ]
  },
  {
   "cell_type": "markdown",
   "id": "da353be5-e7ba-4074-9f3b-a23326e83379",
   "metadata": {},
   "source": [
    "`df.groupby().transform(func)` will call `func(series_in_group)` once for each series in each group. In contrast to `apply()`, the result of `transform()` is of the same dimensions as the original dataframe.\n",
    "\n",
    "`func(series_in_group)` should either return a series of the same dimensions as `series_in_group` or a scalar, in which case pandas will take care of making a series of length `len(series_in_group)` out of it."
   ]
  },
  {
   "cell_type": "code",
   "execution_count": null,
   "id": "15535587-9eb2-4814-bb73-2973994a3c01",
   "metadata": {},
   "outputs": [],
   "source": [
    "df = usd_exchange_rates_df()\n",
    "df.groupby(\"Currency\")[[\"Currency/USD\", \"USD/Currency\"]].transform(lambda df: df.mean())"
   ]
  }
 ],
 "metadata": {
  "jupytext": {
   "formats": "ipynb,py:percent"
  },
  "kernelspec": {
   "display_name": "Python 3 (ipykernel)",
   "language": "python",
   "name": "python3"
  },
  "language_info": {
   "codemirror_mode": {
    "name": "ipython",
    "version": 3
   },
   "file_extension": ".py",
   "mimetype": "text/x-python",
   "name": "python",
   "nbconvert_exporter": "python",
   "pygments_lexer": "ipython3",
   "version": "3.11.2"
  },
  "toc-showtags": false
 },
 "nbformat": 4,
 "nbformat_minor": 5
}
