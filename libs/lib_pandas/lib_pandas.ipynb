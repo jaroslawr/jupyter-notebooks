{
 "cells": [
  {
   "cell_type": "markdown",
   "id": "fa81b936-31a5-472c-98ef-3b7f06f023b4",
   "metadata": {},
   "source": [
    "# Pandas reference"
   ]
  },
  {
   "cell_type": "markdown",
   "id": "artistic-green",
   "metadata": {},
   "source": [
    "Quick reference on getting common data processing tasks done with Pandas."
   ]
  },
  {
   "cell_type": "markdown",
   "id": "provincial-greek",
   "metadata": {},
   "source": [
    "## Setup"
   ]
  },
  {
   "cell_type": "markdown",
   "id": "0e0422d1-a663-42e9-a847-539b7a37a47e",
   "metadata": {},
   "source": [
    "### Import libraries"
   ]
  },
  {
   "cell_type": "code",
   "execution_count": 1,
   "id": "velvet-newsletter",
   "metadata": {},
   "outputs": [],
   "source": [
    "import numpy as np\n",
    "import pandas as pd"
   ]
  },
  {
   "cell_type": "markdown",
   "id": "celtic-prevention",
   "metadata": {},
   "source": [
    "### Show more data in dataframes"
   ]
  },
  {
   "cell_type": "code",
   "execution_count": 2,
   "id": "partial-juice",
   "metadata": {},
   "outputs": [],
   "source": [
    "pd.options.display.max_rows = 999\n",
    "pd.options.display.max_columns = 100\n",
    "pd.options.display.max_colwidth = 200"
   ]
  },
  {
   "cell_type": "markdown",
   "id": "fc428b06-1b04-490b-9e5f-424cd715d99e",
   "metadata": {},
   "source": [
    "### Set floating point precision"
   ]
  },
  {
   "cell_type": "code",
   "execution_count": 3,
   "id": "22c3ea24-425c-4779-8056-43b8dd29df9a",
   "metadata": {},
   "outputs": [],
   "source": [
    "pd.options.display.precision = 3"
   ]
  },
  {
   "cell_type": "markdown",
   "id": "14a4a5c0-4b34-4e3d-ac91-e940ac453359",
   "metadata": {},
   "source": [
    "## Datasets"
   ]
  },
  {
   "cell_type": "markdown",
   "id": "f1aedb4f-7049-4457-878c-2b5cbc89fabb",
   "metadata": {},
   "source": [
    "### USD exchange rates (yearly averages)"
   ]
  },
  {
   "cell_type": "markdown",
   "id": "fa7d26f1-9551-45ef-a01f-0183ed5863fc",
   "metadata": {},
   "source": [
    "Data from https://www.irs.gov/individuals/international-taxpayers/yearly-average-currency-exchange-rates:"
   ]
  },
  {
   "cell_type": "code",
   "execution_count": 4,
   "id": "d63f1bd1-d57c-4081-afbc-f0875efe03d2",
   "metadata": {},
   "outputs": [],
   "source": [
    "def usd_exchange_rates_df():\n",
    "    return pd.DataFrame(\n",
    "        columns=(\"Year\", \"Currency\", \"Currency/USD\", \"USD/Currency\"),\n",
    "        data=[\n",
    "            [pd.to_datetime(\"2016-12-31\"), \"EUR\", 1.064, 0.940],\n",
    "            [pd.to_datetime(\"2017-12-31\"), \"EUR\", 1.083, 0.923],\n",
    "            [pd.to_datetime(\"2018-12-31\"), \"EUR\", 1.179, 0.848],\n",
    "            [pd.to_datetime(\"2019-12-31\"), \"EUR\", 1.120, 0.893],\n",
    "            [pd.to_datetime(\"2020-12-31\"), \"EUR\", 1.140, 0.877],\n",
    "            [pd.to_datetime(\"2016-12-31\"), \"GBP\", 1.299, 0.770],\n",
    "            [pd.to_datetime(\"2017-12-31\"), \"GBP\", 1.238, 0.808],\n",
    "            [pd.to_datetime(\"2018-12-31\"), \"GBP\", 1.333, 0.750],\n",
    "            [pd.to_datetime(\"2019-12-31\"), \"GBP\", 1.276, 0.784],\n",
    "            [pd.to_datetime(\"2020-12-31\"), \"GBP\", 1.284, 0.779],\n",
    "        ]\n",
    "    )"
   ]
  },
  {
   "cell_type": "markdown",
   "id": "fdbee6f6-87ec-4933-84e8-f07d58af6a90",
   "metadata": {},
   "source": [
    "## Series, dataframes and indexes"
   ]
  },
  {
   "cell_type": "markdown",
   "id": "e377c02a-0fdf-49dd-b051-57783aaa1adf",
   "metadata": {},
   "source": [
    "The basic pandas data type is a series which is a single list of data points:"
   ]
  },
  {
   "cell_type": "code",
   "execution_count": 5,
   "id": "acf45006-fdf0-40f9-bc53-39ff52f4adf6",
   "metadata": {},
   "outputs": [
    {
     "data": {
      "text/plain": [
       "0    a\n",
       "1    b\n",
       "2    c\n",
       "3    d\n",
       "dtype: object"
      ]
     },
     "execution_count": 5,
     "metadata": {},
     "output_type": "execute_result"
    }
   ],
   "source": [
    "series = pd.Series([\"a\", \"b\", \"c\", \"d\"])\n",
    "series"
   ]
  },
  {
   "cell_type": "markdown",
   "id": "b87f12bb-566b-4ad6-8a64-ca7272fb1070",
   "metadata": {},
   "source": [
    "The data points have an associated index: a set of labels for the data points, displayed in the left column of the output above. The default index consists simply of the position of the point in the series. Here is a series with an explicit index:"
   ]
  },
  {
   "cell_type": "code",
   "execution_count": 6,
   "id": "2cdadcc5-a45d-46dd-9683-1ed77ed9b099",
   "metadata": {},
   "outputs": [
    {
     "data": {
      "text/plain": [
       "a    e\n",
       "b    f\n",
       "c    g\n",
       "d    h\n",
       "dtype: object"
      ]
     },
     "execution_count": 6,
     "metadata": {},
     "output_type": "execute_result"
    }
   ],
   "source": [
    "series = pd.Series([\"e\", \"f\", \"g\", \"h\"], index=[\"a\", \"b\", \"c\", \"d\"])\n",
    "series"
   ]
  },
  {
   "cell_type": "markdown",
   "id": "84d7498b-ea57-46bc-b022-c1391d3050e5",
   "metadata": {},
   "source": [
    "The elements can be accessed using the index values via the `loc[]` method:"
   ]
  },
  {
   "cell_type": "code",
   "execution_count": 7,
   "id": "3b23d042-3680-4a16-a962-a4b117e8c5f3",
   "metadata": {},
   "outputs": [
    {
     "data": {
      "text/plain": [
       "'e'"
      ]
     },
     "execution_count": 7,
     "metadata": {},
     "output_type": "execute_result"
    }
   ],
   "source": [
    "series = pd.Series([\"e\", \"f\", \"g\", \"h\"], index=[\"a\", \"b\", \"c\", \"d\"])\n",
    "series.loc[\"a\"]"
   ]
  },
  {
   "cell_type": "markdown",
   "id": "ecfbe0cf-2e3c-48c2-b6d9-4e1be96c1a58",
   "metadata": {},
   "source": [
    "Selection by position in the list of data points is always possible using `iloc[]` regardless of what the index is:"
   ]
  },
  {
   "cell_type": "code",
   "execution_count": 8,
   "id": "cdffeec5-0910-4cb9-997a-6fa48f6e57d2",
   "metadata": {},
   "outputs": [
    {
     "data": {
      "text/plain": [
       "'e'"
      ]
     },
     "execution_count": 8,
     "metadata": {},
     "output_type": "execute_result"
    }
   ],
   "source": [
    "series = pd.Series([\"e\", \"f\", \"g\", \"h\"], index=[\"a\", \"b\", \"c\", \"d\"])\n",
    "series.iloc[0]"
   ]
  },
  {
   "cell_type": "markdown",
   "id": "2c1c8278-1e5a-4e87-873c-3d31dd9e0035",
   "metadata": {},
   "source": [
    "The key in the index can consists of multiple values, in which case the index is called a *multi-index*. Each value in the tuple is called a *level* of the index and each level can optionally have a name:"
   ]
  },
  {
   "cell_type": "code",
   "execution_count": 9,
   "id": "3874c83f-036a-4982-ba94-728a16396411",
   "metadata": {},
   "outputs": [
    {
     "data": {
      "text/plain": [
       "l1  l2\n",
       "a   a     e\n",
       "    b     f\n",
       "b   a     g\n",
       "    b     h\n",
       "dtype: object"
      ]
     },
     "execution_count": 9,
     "metadata": {},
     "output_type": "execute_result"
    }
   ],
   "source": [
    "index = pd.MultiIndex.from_tuples([(\"a\", \"a\"), (\"a\", \"b\"), (\"b\", \"a\"), (\"b\", \"b\")], names=[\"l1\", \"l2\"])\n",
    "series = pd.Series([\"e\", \"f\", \"g\", \"h\"], index=index)\n",
    "series"
   ]
  },
  {
   "cell_type": "markdown",
   "id": "380d7093-f47d-4f22-b94e-1f28716fa1f7",
   "metadata": {},
   "source": [
    "A dataframe is a collection of series and it has two indexes: a row index, mapping a row key to a row, and a column index, mapping a column key to a series."
   ]
  },
  {
   "cell_type": "markdown",
   "id": "d8a1539b-5fdb-461c-8bd0-a09c4cfa5b90",
   "metadata": {},
   "source": [
    "## Selecting rows and columns"
   ]
  },
  {
   "cell_type": "markdown",
   "id": "4a4cce5e-0051-49fe-9cd0-759cb1ac81c9",
   "metadata": {},
   "source": [
    "### Select with []"
   ]
  },
  {
   "cell_type": "markdown",
   "id": "e9de2760-3bae-41d2-b440-e2cfb58fc861",
   "metadata": {},
   "source": [
    "Select rows with `[]`:"
   ]
  },
  {
   "cell_type": "code",
   "execution_count": 10,
   "id": "b6886e1f-380f-4e15-9d48-dd1bc72e9b27",
   "metadata": {},
   "outputs": [
    {
     "data": {
      "text/html": [
       "<div>\n",
       "<style scoped>\n",
       "    .dataframe tbody tr th:only-of-type {\n",
       "        vertical-align: middle;\n",
       "    }\n",
       "\n",
       "    .dataframe tbody tr th {\n",
       "        vertical-align: top;\n",
       "    }\n",
       "\n",
       "    .dataframe thead th {\n",
       "        text-align: right;\n",
       "    }\n",
       "</style>\n",
       "<table border=\"1\" class=\"dataframe\">\n",
       "  <thead>\n",
       "    <tr style=\"text-align: right;\">\n",
       "      <th></th>\n",
       "      <th>Year</th>\n",
       "      <th>Currency</th>\n",
       "      <th>Currency/USD</th>\n",
       "      <th>USD/Currency</th>\n",
       "    </tr>\n",
       "  </thead>\n",
       "  <tbody>\n",
       "    <tr>\n",
       "      <th>0</th>\n",
       "      <td>2016-12-31</td>\n",
       "      <td>EUR</td>\n",
       "      <td>1.064</td>\n",
       "      <td>0.940</td>\n",
       "    </tr>\n",
       "    <tr>\n",
       "      <th>1</th>\n",
       "      <td>2017-12-31</td>\n",
       "      <td>EUR</td>\n",
       "      <td>1.083</td>\n",
       "      <td>0.923</td>\n",
       "    </tr>\n",
       "    <tr>\n",
       "      <th>2</th>\n",
       "      <td>2018-12-31</td>\n",
       "      <td>EUR</td>\n",
       "      <td>1.179</td>\n",
       "      <td>0.848</td>\n",
       "    </tr>\n",
       "    <tr>\n",
       "      <th>3</th>\n",
       "      <td>2019-12-31</td>\n",
       "      <td>EUR</td>\n",
       "      <td>1.120</td>\n",
       "      <td>0.893</td>\n",
       "    </tr>\n",
       "    <tr>\n",
       "      <th>4</th>\n",
       "      <td>2020-12-31</td>\n",
       "      <td>EUR</td>\n",
       "      <td>1.140</td>\n",
       "      <td>0.877</td>\n",
       "    </tr>\n",
       "  </tbody>\n",
       "</table>\n",
       "</div>"
      ],
      "text/plain": [
       "        Year Currency  Currency/USD  USD/Currency\n",
       "0 2016-12-31      EUR         1.064         0.940\n",
       "1 2017-12-31      EUR         1.083         0.923\n",
       "2 2018-12-31      EUR         1.179         0.848\n",
       "3 2019-12-31      EUR         1.120         0.893\n",
       "4 2020-12-31      EUR         1.140         0.877"
      ]
     },
     "execution_count": 10,
     "metadata": {},
     "output_type": "execute_result"
    }
   ],
   "source": [
    "df = usd_exchange_rates_df()\n",
    "df[df[\"Currency\"] == \"EUR\"]"
   ]
  },
  {
   "cell_type": "markdown",
   "id": "a9d45b0a-752d-4a9d-936e-2ab1075b6a7d",
   "metadata": {},
   "source": [
    "`[]` will accept a callable as argument for cases where a reference to the dataframe is not available, for example when chaining method calls on the dataframe:"
   ]
  },
  {
   "cell_type": "code",
   "execution_count": 11,
   "id": "4a79b5da-8fb7-4320-8c35-a00d4853c052",
   "metadata": {},
   "outputs": [
    {
     "data": {
      "text/html": [
       "<div>\n",
       "<style scoped>\n",
       "    .dataframe tbody tr th:only-of-type {\n",
       "        vertical-align: middle;\n",
       "    }\n",
       "\n",
       "    .dataframe tbody tr th {\n",
       "        vertical-align: top;\n",
       "    }\n",
       "\n",
       "    .dataframe thead th {\n",
       "        text-align: right;\n",
       "    }\n",
       "</style>\n",
       "<table border=\"1\" class=\"dataframe\">\n",
       "  <thead>\n",
       "    <tr style=\"text-align: right;\">\n",
       "      <th></th>\n",
       "      <th>Year</th>\n",
       "      <th>Currency</th>\n",
       "      <th>Currency/USD</th>\n",
       "      <th>USD/Currency</th>\n",
       "    </tr>\n",
       "  </thead>\n",
       "  <tbody>\n",
       "    <tr>\n",
       "      <th>2</th>\n",
       "      <td>2018-12-31</td>\n",
       "      <td>EUR</td>\n",
       "      <td>1.179</td>\n",
       "      <td>0.848</td>\n",
       "    </tr>\n",
       "    <tr>\n",
       "      <th>3</th>\n",
       "      <td>2019-12-31</td>\n",
       "      <td>EUR</td>\n",
       "      <td>1.120</td>\n",
       "      <td>0.893</td>\n",
       "    </tr>\n",
       "    <tr>\n",
       "      <th>4</th>\n",
       "      <td>2020-12-31</td>\n",
       "      <td>EUR</td>\n",
       "      <td>1.140</td>\n",
       "      <td>0.877</td>\n",
       "    </tr>\n",
       "  </tbody>\n",
       "</table>\n",
       "</div>"
      ],
      "text/plain": [
       "        Year Currency  Currency/USD  USD/Currency\n",
       "2 2018-12-31      EUR         1.179         0.848\n",
       "3 2019-12-31      EUR         1.120         0.893\n",
       "4 2020-12-31      EUR         1.140         0.877"
      ]
     },
     "execution_count": 11,
     "metadata": {},
     "output_type": "execute_result"
    }
   ],
   "source": [
    "df = usd_exchange_rates_df()\n",
    "df[lambda df: df[\"Year\"] >= pd.to_datetime(\"2018-12-31\")][lambda df: df[\"Currency\"] == \"EUR\"]"
   ]
  },
  {
   "cell_type": "markdown",
   "id": "f66242b7-d7aa-49bb-af35-8d44a5c23293",
   "metadata": {},
   "source": [
    "Select a single column as a `pd.Series` with `[]`:"
   ]
  },
  {
   "cell_type": "code",
   "execution_count": 12,
   "id": "dff09d42-56d8-4175-a541-6fc5e2fbd10f",
   "metadata": {},
   "outputs": [
    {
     "data": {
      "text/plain": [
       "0    1.064\n",
       "1    1.083\n",
       "2    1.179\n",
       "3    1.120\n",
       "4    1.140\n",
       "5    1.299\n",
       "6    1.238\n",
       "7    1.333\n",
       "8    1.276\n",
       "9    1.284\n",
       "Name: Currency/USD, dtype: float64"
      ]
     },
     "execution_count": 12,
     "metadata": {},
     "output_type": "execute_result"
    }
   ],
   "source": [
    "df = usd_exchange_rates_df()\n",
    "df[\"Currency/USD\"]"
   ]
  },
  {
   "cell_type": "markdown",
   "id": "d46e7947-9c66-4a95-a457-0b03284c2218",
   "metadata": {},
   "source": [
    "Select one or more columns as a `pd.DataFrame` by passing a list to `[]`:"
   ]
  },
  {
   "cell_type": "code",
   "execution_count": 13,
   "id": "17951765-e7b8-4fd5-867d-89b600da7571",
   "metadata": {},
   "outputs": [
    {
     "data": {
      "text/html": [
       "<div>\n",
       "<style scoped>\n",
       "    .dataframe tbody tr th:only-of-type {\n",
       "        vertical-align: middle;\n",
       "    }\n",
       "\n",
       "    .dataframe tbody tr th {\n",
       "        vertical-align: top;\n",
       "    }\n",
       "\n",
       "    .dataframe thead th {\n",
       "        text-align: right;\n",
       "    }\n",
       "</style>\n",
       "<table border=\"1\" class=\"dataframe\">\n",
       "  <thead>\n",
       "    <tr style=\"text-align: right;\">\n",
       "      <th></th>\n",
       "      <th>Currency/USD</th>\n",
       "    </tr>\n",
       "  </thead>\n",
       "  <tbody>\n",
       "    <tr>\n",
       "      <th>0</th>\n",
       "      <td>1.064</td>\n",
       "    </tr>\n",
       "    <tr>\n",
       "      <th>1</th>\n",
       "      <td>1.083</td>\n",
       "    </tr>\n",
       "    <tr>\n",
       "      <th>2</th>\n",
       "      <td>1.179</td>\n",
       "    </tr>\n",
       "    <tr>\n",
       "      <th>3</th>\n",
       "      <td>1.120</td>\n",
       "    </tr>\n",
       "    <tr>\n",
       "      <th>4</th>\n",
       "      <td>1.140</td>\n",
       "    </tr>\n",
       "    <tr>\n",
       "      <th>5</th>\n",
       "      <td>1.299</td>\n",
       "    </tr>\n",
       "    <tr>\n",
       "      <th>6</th>\n",
       "      <td>1.238</td>\n",
       "    </tr>\n",
       "    <tr>\n",
       "      <th>7</th>\n",
       "      <td>1.333</td>\n",
       "    </tr>\n",
       "    <tr>\n",
       "      <th>8</th>\n",
       "      <td>1.276</td>\n",
       "    </tr>\n",
       "    <tr>\n",
       "      <th>9</th>\n",
       "      <td>1.284</td>\n",
       "    </tr>\n",
       "  </tbody>\n",
       "</table>\n",
       "</div>"
      ],
      "text/plain": [
       "   Currency/USD\n",
       "0         1.064\n",
       "1         1.083\n",
       "2         1.179\n",
       "3         1.120\n",
       "4         1.140\n",
       "5         1.299\n",
       "6         1.238\n",
       "7         1.333\n",
       "8         1.276\n",
       "9         1.284"
      ]
     },
     "execution_count": 13,
     "metadata": {},
     "output_type": "execute_result"
    }
   ],
   "source": [
    "df = usd_exchange_rates_df()\n",
    "df[[\"Currency/USD\"]]"
   ]
  },
  {
   "cell_type": "markdown",
   "id": "ba467bd5-4ab2-4323-b456-db0c1223da0b",
   "metadata": {},
   "source": [
    "Selection of rows and of columns can be combined:"
   ]
  },
  {
   "cell_type": "code",
   "execution_count": 14,
   "id": "fa7e85e0-0e1d-4bc1-b642-5385ddcfefc6",
   "metadata": {},
   "outputs": [
    {
     "data": {
      "text/plain": [
       "0    1.064\n",
       "1    1.083\n",
       "2    1.179\n",
       "3    1.120\n",
       "4    1.140\n",
       "Name: Currency/USD, dtype: float64"
      ]
     },
     "execution_count": 14,
     "metadata": {},
     "output_type": "execute_result"
    }
   ],
   "source": [
    "df = usd_exchange_rates_df()\n",
    "df[df[\"Currency\"] == \"EUR\"][\"Currency/USD\"]"
   ]
  },
  {
   "cell_type": "markdown",
   "id": "680929fd-35d0-4034-a89f-64a39c550d50",
   "metadata": {},
   "source": [
    "Note that chaining `[]` does not work for the purpose of modifying or inserting data:"
   ]
  },
  {
   "cell_type": "code",
   "execution_count": 15,
   "id": "ec39c65d-ecb7-409d-bc14-0537148b92cf",
   "metadata": {},
   "outputs": [
    {
     "name": "stderr",
     "output_type": "stream",
     "text": [
      "/tmp/ipykernel_792315/3121943903.py:2: SettingWithCopyWarning: \n",
      "A value is trying to be set on a copy of a slice from a DataFrame.\n",
      "Try using .loc[row_indexer,col_indexer] = value instead\n",
      "\n",
      "See the caveats in the documentation: https://pandas.pydata.org/pandas-docs/stable/user_guide/indexing.html#returning-a-view-versus-a-copy\n",
      "  df[df[\"Currency\"] == \"EUR\"][\"Currency/USD\"] = 5\n"
     ]
    }
   ],
   "source": [
    "df = usd_exchange_rates_df()\n",
    "df[df[\"Currency\"] == \"EUR\"][\"Currency/USD\"] = 5"
   ]
  },
  {
   "cell_type": "markdown",
   "id": "17251a0d-178e-4f8a-83ae-03ca21a111bc",
   "metadata": {},
   "source": [
    "`df[][]=` translates to a `df.__getitem__()` call on the data frame and then a `.__setitem__()` call on the resulting object. The problem is that the `df.__getitem__()` call might return either a view or a copy of the dataframe, so the dataframe might or might not be modified.\n",
    "\n",
    "Instead, `df.loc[]` can be used to select rows and columns at the same time. `df.loc[]` will return a view or a copy just like `df[]`, but `df.loc[]=` is just a single method call on the `loc` attribute of the original dataframe, free of the ambiguity of `[][]=`, so that it will always correctly modify the dataframe."
   ]
  },
  {
   "cell_type": "markdown",
   "id": "69f6fe36-2f05-45a5-a52b-743d8d491b9e",
   "metadata": {},
   "source": [
    "### Select with loc[]"
   ]
  },
  {
   "cell_type": "markdown",
   "id": "92a19228-e186-4d14-8068-9c9ae7c7e1e7",
   "metadata": {},
   "source": [
    "Select rows:"
   ]
  },
  {
   "cell_type": "code",
   "execution_count": 16,
   "id": "80806b5b-cb45-43c9-bbe8-563625ac0396",
   "metadata": {},
   "outputs": [
    {
     "data": {
      "text/html": [
       "<div>\n",
       "<style scoped>\n",
       "    .dataframe tbody tr th:only-of-type {\n",
       "        vertical-align: middle;\n",
       "    }\n",
       "\n",
       "    .dataframe tbody tr th {\n",
       "        vertical-align: top;\n",
       "    }\n",
       "\n",
       "    .dataframe thead th {\n",
       "        text-align: right;\n",
       "    }\n",
       "</style>\n",
       "<table border=\"1\" class=\"dataframe\">\n",
       "  <thead>\n",
       "    <tr style=\"text-align: right;\">\n",
       "      <th></th>\n",
       "      <th>Year</th>\n",
       "      <th>Currency</th>\n",
       "      <th>Currency/USD</th>\n",
       "      <th>USD/Currency</th>\n",
       "    </tr>\n",
       "  </thead>\n",
       "  <tbody>\n",
       "    <tr>\n",
       "      <th>0</th>\n",
       "      <td>2016-12-31</td>\n",
       "      <td>EUR</td>\n",
       "      <td>1.064</td>\n",
       "      <td>0.940</td>\n",
       "    </tr>\n",
       "    <tr>\n",
       "      <th>1</th>\n",
       "      <td>2017-12-31</td>\n",
       "      <td>EUR</td>\n",
       "      <td>1.083</td>\n",
       "      <td>0.923</td>\n",
       "    </tr>\n",
       "    <tr>\n",
       "      <th>2</th>\n",
       "      <td>2018-12-31</td>\n",
       "      <td>EUR</td>\n",
       "      <td>1.179</td>\n",
       "      <td>0.848</td>\n",
       "    </tr>\n",
       "    <tr>\n",
       "      <th>3</th>\n",
       "      <td>2019-12-31</td>\n",
       "      <td>EUR</td>\n",
       "      <td>1.120</td>\n",
       "      <td>0.893</td>\n",
       "    </tr>\n",
       "    <tr>\n",
       "      <th>4</th>\n",
       "      <td>2020-12-31</td>\n",
       "      <td>EUR</td>\n",
       "      <td>1.140</td>\n",
       "      <td>0.877</td>\n",
       "    </tr>\n",
       "  </tbody>\n",
       "</table>\n",
       "</div>"
      ],
      "text/plain": [
       "        Year Currency  Currency/USD  USD/Currency\n",
       "0 2016-12-31      EUR         1.064         0.940\n",
       "1 2017-12-31      EUR         1.083         0.923\n",
       "2 2018-12-31      EUR         1.179         0.848\n",
       "3 2019-12-31      EUR         1.120         0.893\n",
       "4 2020-12-31      EUR         1.140         0.877"
      ]
     },
     "execution_count": 16,
     "metadata": {},
     "output_type": "execute_result"
    }
   ],
   "source": [
    "df = usd_exchange_rates_df()\n",
    "df.loc[df[\"Currency\"] == \"EUR\"]"
   ]
  },
  {
   "cell_type": "markdown",
   "id": "c06804e5-fad4-499d-b77a-a0b3f44c1aed",
   "metadata": {},
   "source": [
    "`loc[]` will accept a callable as argument for cases where a reference to the dataframe is not available, for example when chaining method calls on the dataframe:"
   ]
  },
  {
   "cell_type": "code",
   "execution_count": 17,
   "id": "4ccb326c-6a0e-4382-b40e-9e3951220f3f",
   "metadata": {},
   "outputs": [
    {
     "data": {
      "text/html": [
       "<div>\n",
       "<style scoped>\n",
       "    .dataframe tbody tr th:only-of-type {\n",
       "        vertical-align: middle;\n",
       "    }\n",
       "\n",
       "    .dataframe tbody tr th {\n",
       "        vertical-align: top;\n",
       "    }\n",
       "\n",
       "    .dataframe thead th {\n",
       "        text-align: right;\n",
       "    }\n",
       "</style>\n",
       "<table border=\"1\" class=\"dataframe\">\n",
       "  <thead>\n",
       "    <tr style=\"text-align: right;\">\n",
       "      <th></th>\n",
       "      <th>Year</th>\n",
       "      <th>Currency</th>\n",
       "      <th>Currency/USD</th>\n",
       "      <th>USD/Currency</th>\n",
       "    </tr>\n",
       "  </thead>\n",
       "  <tbody>\n",
       "    <tr>\n",
       "      <th>2</th>\n",
       "      <td>2018-12-31</td>\n",
       "      <td>EUR</td>\n",
       "      <td>1.179</td>\n",
       "      <td>0.848</td>\n",
       "    </tr>\n",
       "    <tr>\n",
       "      <th>3</th>\n",
       "      <td>2019-12-31</td>\n",
       "      <td>EUR</td>\n",
       "      <td>1.120</td>\n",
       "      <td>0.893</td>\n",
       "    </tr>\n",
       "    <tr>\n",
       "      <th>4</th>\n",
       "      <td>2020-12-31</td>\n",
       "      <td>EUR</td>\n",
       "      <td>1.140</td>\n",
       "      <td>0.877</td>\n",
       "    </tr>\n",
       "  </tbody>\n",
       "</table>\n",
       "</div>"
      ],
      "text/plain": [
       "        Year Currency  Currency/USD  USD/Currency\n",
       "2 2018-12-31      EUR         1.179         0.848\n",
       "3 2019-12-31      EUR         1.120         0.893\n",
       "4 2020-12-31      EUR         1.140         0.877"
      ]
     },
     "execution_count": 17,
     "metadata": {},
     "output_type": "execute_result"
    }
   ],
   "source": [
    "df = usd_exchange_rates_df()\n",
    "(df.loc[lambda df: df[\"Year\"] >= pd.to_datetime(\"2018-12-31\")]\n",
    " .loc[lambda df: df[\"Currency\"] == \"EUR\"])"
   ]
  },
  {
   "cell_type": "markdown",
   "id": "24b30971-703f-401c-ab2f-c933eab93d67",
   "metadata": {},
   "source": [
    "Select a single column as a `pd.Series`:"
   ]
  },
  {
   "cell_type": "code",
   "execution_count": 18,
   "id": "f44ed924-a037-4281-a6b5-61f1f81a69e0",
   "metadata": {},
   "outputs": [
    {
     "data": {
      "text/plain": [
       "0    1.064\n",
       "1    1.083\n",
       "2    1.179\n",
       "3    1.120\n",
       "4    1.140\n",
       "5    1.299\n",
       "6    1.238\n",
       "7    1.333\n",
       "8    1.276\n",
       "9    1.284\n",
       "Name: Currency/USD, dtype: float64"
      ]
     },
     "execution_count": 18,
     "metadata": {},
     "output_type": "execute_result"
    }
   ],
   "source": [
    "df = usd_exchange_rates_df()\n",
    "df.loc[:, \"Currency/USD\"]"
   ]
  },
  {
   "cell_type": "markdown",
   "id": "8e3edd55-8563-49b6-9e2b-3e8850425210",
   "metadata": {},
   "source": [
    "Select one or more columns as a `pd.DataFrame`:"
   ]
  },
  {
   "cell_type": "code",
   "execution_count": 19,
   "id": "5c5d9b86-eb55-44d3-bf1c-33e2d5e8d699",
   "metadata": {},
   "outputs": [
    {
     "data": {
      "text/html": [
       "<div>\n",
       "<style scoped>\n",
       "    .dataframe tbody tr th:only-of-type {\n",
       "        vertical-align: middle;\n",
       "    }\n",
       "\n",
       "    .dataframe tbody tr th {\n",
       "        vertical-align: top;\n",
       "    }\n",
       "\n",
       "    .dataframe thead th {\n",
       "        text-align: right;\n",
       "    }\n",
       "</style>\n",
       "<table border=\"1\" class=\"dataframe\">\n",
       "  <thead>\n",
       "    <tr style=\"text-align: right;\">\n",
       "      <th></th>\n",
       "      <th>Currency/USD</th>\n",
       "    </tr>\n",
       "  </thead>\n",
       "  <tbody>\n",
       "    <tr>\n",
       "      <th>0</th>\n",
       "      <td>1.064</td>\n",
       "    </tr>\n",
       "    <tr>\n",
       "      <th>1</th>\n",
       "      <td>1.083</td>\n",
       "    </tr>\n",
       "    <tr>\n",
       "      <th>2</th>\n",
       "      <td>1.179</td>\n",
       "    </tr>\n",
       "    <tr>\n",
       "      <th>3</th>\n",
       "      <td>1.120</td>\n",
       "    </tr>\n",
       "    <tr>\n",
       "      <th>4</th>\n",
       "      <td>1.140</td>\n",
       "    </tr>\n",
       "    <tr>\n",
       "      <th>5</th>\n",
       "      <td>1.299</td>\n",
       "    </tr>\n",
       "    <tr>\n",
       "      <th>6</th>\n",
       "      <td>1.238</td>\n",
       "    </tr>\n",
       "    <tr>\n",
       "      <th>7</th>\n",
       "      <td>1.333</td>\n",
       "    </tr>\n",
       "    <tr>\n",
       "      <th>8</th>\n",
       "      <td>1.276</td>\n",
       "    </tr>\n",
       "    <tr>\n",
       "      <th>9</th>\n",
       "      <td>1.284</td>\n",
       "    </tr>\n",
       "  </tbody>\n",
       "</table>\n",
       "</div>"
      ],
      "text/plain": [
       "   Currency/USD\n",
       "0         1.064\n",
       "1         1.083\n",
       "2         1.179\n",
       "3         1.120\n",
       "4         1.140\n",
       "5         1.299\n",
       "6         1.238\n",
       "7         1.333\n",
       "8         1.276\n",
       "9         1.284"
      ]
     },
     "execution_count": 19,
     "metadata": {},
     "output_type": "execute_result"
    }
   ],
   "source": [
    "df = usd_exchange_rates_df()\n",
    "df.loc[:, [\"Currency/USD\"]]"
   ]
  },
  {
   "cell_type": "markdown",
   "id": "7d647a57-f5a9-4d8f-88ec-e7a91334a6c0",
   "metadata": {},
   "source": [
    "Modify a subpart of a dataframe:"
   ]
  },
  {
   "cell_type": "code",
   "execution_count": 20,
   "id": "809ac565-d167-4f0b-836a-11e45be639a6",
   "metadata": {},
   "outputs": [
    {
     "data": {
      "text/html": [
       "<div>\n",
       "<style scoped>\n",
       "    .dataframe tbody tr th:only-of-type {\n",
       "        vertical-align: middle;\n",
       "    }\n",
       "\n",
       "    .dataframe tbody tr th {\n",
       "        vertical-align: top;\n",
       "    }\n",
       "\n",
       "    .dataframe thead th {\n",
       "        text-align: right;\n",
       "    }\n",
       "</style>\n",
       "<table border=\"1\" class=\"dataframe\">\n",
       "  <thead>\n",
       "    <tr style=\"text-align: right;\">\n",
       "      <th></th>\n",
       "      <th>Year</th>\n",
       "      <th>Currency</th>\n",
       "      <th>Currency/USD</th>\n",
       "      <th>USD/Currency</th>\n",
       "    </tr>\n",
       "  </thead>\n",
       "  <tbody>\n",
       "    <tr>\n",
       "      <th>0</th>\n",
       "      <td>2016-12-31</td>\n",
       "      <td>EUR</td>\n",
       "      <td>2.000</td>\n",
       "      <td>0.940</td>\n",
       "    </tr>\n",
       "    <tr>\n",
       "      <th>1</th>\n",
       "      <td>2017-12-31</td>\n",
       "      <td>EUR</td>\n",
       "      <td>2.000</td>\n",
       "      <td>0.923</td>\n",
       "    </tr>\n",
       "    <tr>\n",
       "      <th>2</th>\n",
       "      <td>2018-12-31</td>\n",
       "      <td>EUR</td>\n",
       "      <td>2.000</td>\n",
       "      <td>0.848</td>\n",
       "    </tr>\n",
       "    <tr>\n",
       "      <th>3</th>\n",
       "      <td>2019-12-31</td>\n",
       "      <td>EUR</td>\n",
       "      <td>2.000</td>\n",
       "      <td>0.893</td>\n",
       "    </tr>\n",
       "    <tr>\n",
       "      <th>4</th>\n",
       "      <td>2020-12-31</td>\n",
       "      <td>EUR</td>\n",
       "      <td>2.000</td>\n",
       "      <td>0.877</td>\n",
       "    </tr>\n",
       "    <tr>\n",
       "      <th>5</th>\n",
       "      <td>2016-12-31</td>\n",
       "      <td>GBP</td>\n",
       "      <td>1.299</td>\n",
       "      <td>0.500</td>\n",
       "    </tr>\n",
       "    <tr>\n",
       "      <th>6</th>\n",
       "      <td>2017-12-31</td>\n",
       "      <td>GBP</td>\n",
       "      <td>1.238</td>\n",
       "      <td>0.500</td>\n",
       "    </tr>\n",
       "    <tr>\n",
       "      <th>7</th>\n",
       "      <td>2018-12-31</td>\n",
       "      <td>GBP</td>\n",
       "      <td>1.333</td>\n",
       "      <td>0.500</td>\n",
       "    </tr>\n",
       "    <tr>\n",
       "      <th>8</th>\n",
       "      <td>2019-12-31</td>\n",
       "      <td>GBP</td>\n",
       "      <td>1.276</td>\n",
       "      <td>0.500</td>\n",
       "    </tr>\n",
       "    <tr>\n",
       "      <th>9</th>\n",
       "      <td>2020-12-31</td>\n",
       "      <td>GBP</td>\n",
       "      <td>1.284</td>\n",
       "      <td>0.500</td>\n",
       "    </tr>\n",
       "  </tbody>\n",
       "</table>\n",
       "</div>"
      ],
      "text/plain": [
       "        Year Currency  Currency/USD  USD/Currency\n",
       "0 2016-12-31      EUR         2.000         0.940\n",
       "1 2017-12-31      EUR         2.000         0.923\n",
       "2 2018-12-31      EUR         2.000         0.848\n",
       "3 2019-12-31      EUR         2.000         0.893\n",
       "4 2020-12-31      EUR         2.000         0.877\n",
       "5 2016-12-31      GBP         1.299         0.500\n",
       "6 2017-12-31      GBP         1.238         0.500\n",
       "7 2018-12-31      GBP         1.333         0.500\n",
       "8 2019-12-31      GBP         1.276         0.500\n",
       "9 2020-12-31      GBP         1.284         0.500"
      ]
     },
     "execution_count": 20,
     "metadata": {},
     "output_type": "execute_result"
    }
   ],
   "source": [
    "df = usd_exchange_rates_df()\n",
    "df.loc[df[\"Currency\"] == \"EUR\", \"Currency/USD\"] = 2\n",
    "df.loc[df[\"Currency\"] == \"GBP\", \"USD/Currency\"] = 0.5\n",
    "df"
   ]
  },
  {
   "cell_type": "markdown",
   "id": "bd3d04b1-8922-46e9-8fb9-78346c35bcf3",
   "metadata": {},
   "source": [
    "### Select with loc[] and a multi-index"
   ]
  },
  {
   "cell_type": "markdown",
   "id": "80de25eb-4781-440a-b223-af20d47a5a47",
   "metadata": {},
   "source": [
    "When using `loc[]` with multi-index both the row and column filter need to be passed as arguments:"
   ]
  },
  {
   "cell_type": "code",
   "execution_count": 21,
   "id": "16ee3c66-0c08-476b-89f0-24990af9c8a6",
   "metadata": {},
   "outputs": [
    {
     "data": {
      "text/plain": [
       "Currency/USD    1.083\n",
       "USD/Currency    0.923\n",
       "Name: (EUR, 2017-12-31 00:00:00), dtype: float64"
      ]
     },
     "execution_count": 21,
     "metadata": {},
     "output_type": "execute_result"
    }
   ],
   "source": [
    "df = usd_exchange_rates_df().set_index([\"Currency\", \"Year\"])\n",
    "df.loc[(\"EUR\", pd.to_datetime(\"2017-12-31\")), :]"
   ]
  },
  {
   "cell_type": "markdown",
   "id": "967abbae-ce5d-4554-996d-27437124d152",
   "metadata": {},
   "source": [
    "The elements of the tuple can be lists or `slice()` objects:"
   ]
  },
  {
   "cell_type": "code",
   "execution_count": 22,
   "id": "4944311a-e891-48b8-b4ac-a91c77bb393f",
   "metadata": {},
   "outputs": [
    {
     "data": {
      "text/html": [
       "<div>\n",
       "<style scoped>\n",
       "    .dataframe tbody tr th:only-of-type {\n",
       "        vertical-align: middle;\n",
       "    }\n",
       "\n",
       "    .dataframe tbody tr th {\n",
       "        vertical-align: top;\n",
       "    }\n",
       "\n",
       "    .dataframe thead th {\n",
       "        text-align: right;\n",
       "    }\n",
       "</style>\n",
       "<table border=\"1\" class=\"dataframe\">\n",
       "  <thead>\n",
       "    <tr style=\"text-align: right;\">\n",
       "      <th></th>\n",
       "      <th></th>\n",
       "      <th>Currency/USD</th>\n",
       "      <th>USD/Currency</th>\n",
       "    </tr>\n",
       "    <tr>\n",
       "      <th>Currency</th>\n",
       "      <th>Year</th>\n",
       "      <th></th>\n",
       "      <th></th>\n",
       "    </tr>\n",
       "  </thead>\n",
       "  <tbody>\n",
       "    <tr>\n",
       "      <th rowspan=\"3\" valign=\"top\">EUR</th>\n",
       "      <th>2017-12-31</th>\n",
       "      <td>1.083</td>\n",
       "      <td>0.923</td>\n",
       "    </tr>\n",
       "    <tr>\n",
       "      <th>2018-12-31</th>\n",
       "      <td>1.179</td>\n",
       "      <td>0.848</td>\n",
       "    </tr>\n",
       "    <tr>\n",
       "      <th>2019-12-31</th>\n",
       "      <td>1.120</td>\n",
       "      <td>0.893</td>\n",
       "    </tr>\n",
       "    <tr>\n",
       "      <th rowspan=\"3\" valign=\"top\">GBP</th>\n",
       "      <th>2017-12-31</th>\n",
       "      <td>1.238</td>\n",
       "      <td>0.808</td>\n",
       "    </tr>\n",
       "    <tr>\n",
       "      <th>2018-12-31</th>\n",
       "      <td>1.333</td>\n",
       "      <td>0.750</td>\n",
       "    </tr>\n",
       "    <tr>\n",
       "      <th>2019-12-31</th>\n",
       "      <td>1.276</td>\n",
       "      <td>0.784</td>\n",
       "    </tr>\n",
       "  </tbody>\n",
       "</table>\n",
       "</div>"
      ],
      "text/plain": [
       "                     Currency/USD  USD/Currency\n",
       "Currency Year                                  \n",
       "EUR      2017-12-31         1.083         0.923\n",
       "         2018-12-31         1.179         0.848\n",
       "         2019-12-31         1.120         0.893\n",
       "GBP      2017-12-31         1.238         0.808\n",
       "         2018-12-31         1.333         0.750\n",
       "         2019-12-31         1.276         0.784"
      ]
     },
     "execution_count": 22,
     "metadata": {},
     "output_type": "execute_result"
    }
   ],
   "source": [
    "df = usd_exchange_rates_df().set_index([\"Currency\", \"Year\"])\n",
    "df.loc[([\"EUR\", \"GBP\"], slice(pd.to_datetime(\"2017-12-31\"), pd.to_datetime(\"2019-12-31\"))), :]"
   ]
  },
  {
   "cell_type": "markdown",
   "id": "55615be2-8bf3-4863-9eed-1327a0191241",
   "metadata": {},
   "source": [
    "To filter only on first N levels of the multi-index, simply omit the criteria for all remaining levels:"
   ]
  },
  {
   "cell_type": "code",
   "execution_count": 23,
   "id": "4e7f72fb-5b5b-419a-9903-e68a8fb14eee",
   "metadata": {},
   "outputs": [
    {
     "data": {
      "text/html": [
       "<div>\n",
       "<style scoped>\n",
       "    .dataframe tbody tr th:only-of-type {\n",
       "        vertical-align: middle;\n",
       "    }\n",
       "\n",
       "    .dataframe tbody tr th {\n",
       "        vertical-align: top;\n",
       "    }\n",
       "\n",
       "    .dataframe thead th {\n",
       "        text-align: right;\n",
       "    }\n",
       "</style>\n",
       "<table border=\"1\" class=\"dataframe\">\n",
       "  <thead>\n",
       "    <tr style=\"text-align: right;\">\n",
       "      <th></th>\n",
       "      <th>Currency/USD</th>\n",
       "      <th>USD/Currency</th>\n",
       "    </tr>\n",
       "    <tr>\n",
       "      <th>Year</th>\n",
       "      <th></th>\n",
       "      <th></th>\n",
       "    </tr>\n",
       "  </thead>\n",
       "  <tbody>\n",
       "    <tr>\n",
       "      <th>2016-12-31</th>\n",
       "      <td>1.064</td>\n",
       "      <td>0.940</td>\n",
       "    </tr>\n",
       "    <tr>\n",
       "      <th>2017-12-31</th>\n",
       "      <td>1.083</td>\n",
       "      <td>0.923</td>\n",
       "    </tr>\n",
       "    <tr>\n",
       "      <th>2018-12-31</th>\n",
       "      <td>1.179</td>\n",
       "      <td>0.848</td>\n",
       "    </tr>\n",
       "    <tr>\n",
       "      <th>2019-12-31</th>\n",
       "      <td>1.120</td>\n",
       "      <td>0.893</td>\n",
       "    </tr>\n",
       "    <tr>\n",
       "      <th>2020-12-31</th>\n",
       "      <td>1.140</td>\n",
       "      <td>0.877</td>\n",
       "    </tr>\n",
       "  </tbody>\n",
       "</table>\n",
       "</div>"
      ],
      "text/plain": [
       "            Currency/USD  USD/Currency\n",
       "Year                                  \n",
       "2016-12-31         1.064         0.940\n",
       "2017-12-31         1.083         0.923\n",
       "2018-12-31         1.179         0.848\n",
       "2019-12-31         1.120         0.893\n",
       "2020-12-31         1.140         0.877"
      ]
     },
     "execution_count": 23,
     "metadata": {},
     "output_type": "execute_result"
    }
   ],
   "source": [
    "df = usd_exchange_rates_df().set_index([\"Currency\", \"Year\"])\n",
    "df.loc[\"EUR\", :]"
   ]
  },
  {
   "cell_type": "markdown",
   "id": "61673b0f-9f52-49cb-a6c4-85b24970f5f4",
   "metadata": {},
   "source": [
    "To filter only on middle or last N levels of the multi-index, use `slice(None)` to select everything at the upper levels (`slice(None)` is just the equivalent of `:`, which can not be used as an element in a tuple):"
   ]
  },
  {
   "cell_type": "code",
   "execution_count": 24,
   "id": "590b3648-3b48-4df0-8252-3390e5210b5d",
   "metadata": {},
   "outputs": [
    {
     "data": {
      "text/html": [
       "<div>\n",
       "<style scoped>\n",
       "    .dataframe tbody tr th:only-of-type {\n",
       "        vertical-align: middle;\n",
       "    }\n",
       "\n",
       "    .dataframe tbody tr th {\n",
       "        vertical-align: top;\n",
       "    }\n",
       "\n",
       "    .dataframe thead th {\n",
       "        text-align: right;\n",
       "    }\n",
       "</style>\n",
       "<table border=\"1\" class=\"dataframe\">\n",
       "  <thead>\n",
       "    <tr style=\"text-align: right;\">\n",
       "      <th></th>\n",
       "      <th></th>\n",
       "      <th>Currency/USD</th>\n",
       "      <th>USD/Currency</th>\n",
       "    </tr>\n",
       "    <tr>\n",
       "      <th>Currency</th>\n",
       "      <th>Year</th>\n",
       "      <th></th>\n",
       "      <th></th>\n",
       "    </tr>\n",
       "  </thead>\n",
       "  <tbody>\n",
       "    <tr>\n",
       "      <th>EUR</th>\n",
       "      <th>2017-12-31</th>\n",
       "      <td>1.083</td>\n",
       "      <td>0.923</td>\n",
       "    </tr>\n",
       "    <tr>\n",
       "      <th>GBP</th>\n",
       "      <th>2017-12-31</th>\n",
       "      <td>1.238</td>\n",
       "      <td>0.808</td>\n",
       "    </tr>\n",
       "  </tbody>\n",
       "</table>\n",
       "</div>"
      ],
      "text/plain": [
       "                     Currency/USD  USD/Currency\n",
       "Currency Year                                  \n",
       "EUR      2017-12-31         1.083         0.923\n",
       "GBP      2017-12-31         1.238         0.808"
      ]
     },
     "execution_count": 24,
     "metadata": {},
     "output_type": "execute_result"
    }
   ],
   "source": [
    "df = usd_exchange_rates_df().set_index([\"Currency\", \"Year\"])\n",
    "df.loc[(slice(None), pd.to_datetime(\"2017-12-31\")), :]"
   ]
  },
  {
   "cell_type": "markdown",
   "id": "0d2d4461-333f-4ac7-8758-6a6ca9507da8",
   "metadata": {},
   "source": [
    "### Boolean masks for [] and loc[]"
   ]
  },
  {
   "cell_type": "markdown",
   "id": "3052e6f8-4646-482b-8733-b11a4453fde2",
   "metadata": {},
   "source": [
    "Boolean masks can be formed with `&`, `|` and `~` (negation) and passed to `[]` and to `loc[]`. Conditions have to be enclosed in parenthesis since `&` and `|` have higher priority in Python than operators like `>=`:"
   ]
  },
  {
   "cell_type": "code",
   "execution_count": 25,
   "id": "cbe3d8e9-7bab-4dab-a6d0-bb5d26a3c374",
   "metadata": {},
   "outputs": [
    {
     "data": {
      "text/html": [
       "<div>\n",
       "<style scoped>\n",
       "    .dataframe tbody tr th:only-of-type {\n",
       "        vertical-align: middle;\n",
       "    }\n",
       "\n",
       "    .dataframe tbody tr th {\n",
       "        vertical-align: top;\n",
       "    }\n",
       "\n",
       "    .dataframe thead th {\n",
       "        text-align: right;\n",
       "    }\n",
       "</style>\n",
       "<table border=\"1\" class=\"dataframe\">\n",
       "  <thead>\n",
       "    <tr style=\"text-align: right;\">\n",
       "      <th></th>\n",
       "      <th>Year</th>\n",
       "      <th>Currency</th>\n",
       "      <th>Currency/USD</th>\n",
       "      <th>USD/Currency</th>\n",
       "    </tr>\n",
       "  </thead>\n",
       "  <tbody>\n",
       "    <tr>\n",
       "      <th>2</th>\n",
       "      <td>2018-12-31</td>\n",
       "      <td>EUR</td>\n",
       "      <td>1.179</td>\n",
       "      <td>0.848</td>\n",
       "    </tr>\n",
       "    <tr>\n",
       "      <th>3</th>\n",
       "      <td>2019-12-31</td>\n",
       "      <td>EUR</td>\n",
       "      <td>1.120</td>\n",
       "      <td>0.893</td>\n",
       "    </tr>\n",
       "    <tr>\n",
       "      <th>4</th>\n",
       "      <td>2020-12-31</td>\n",
       "      <td>EUR</td>\n",
       "      <td>1.140</td>\n",
       "      <td>0.877</td>\n",
       "    </tr>\n",
       "    <tr>\n",
       "      <th>7</th>\n",
       "      <td>2018-12-31</td>\n",
       "      <td>GBP</td>\n",
       "      <td>1.333</td>\n",
       "      <td>0.750</td>\n",
       "    </tr>\n",
       "    <tr>\n",
       "      <th>8</th>\n",
       "      <td>2019-12-31</td>\n",
       "      <td>GBP</td>\n",
       "      <td>1.276</td>\n",
       "      <td>0.784</td>\n",
       "    </tr>\n",
       "    <tr>\n",
       "      <th>9</th>\n",
       "      <td>2020-12-31</td>\n",
       "      <td>GBP</td>\n",
       "      <td>1.284</td>\n",
       "      <td>0.779</td>\n",
       "    </tr>\n",
       "  </tbody>\n",
       "</table>\n",
       "</div>"
      ],
      "text/plain": [
       "        Year Currency  Currency/USD  USD/Currency\n",
       "2 2018-12-31      EUR         1.179         0.848\n",
       "3 2019-12-31      EUR         1.120         0.893\n",
       "4 2020-12-31      EUR         1.140         0.877\n",
       "7 2018-12-31      GBP         1.333         0.750\n",
       "8 2019-12-31      GBP         1.276         0.784\n",
       "9 2020-12-31      GBP         1.284         0.779"
      ]
     },
     "execution_count": 25,
     "metadata": {},
     "output_type": "execute_result"
    }
   ],
   "source": [
    "df = usd_exchange_rates_df()\n",
    "df[(df[\"Year\"] >= pd.to_datetime(\"2018-12-31\")) &\n",
    "   (df[\"Year\"] <= pd.to_datetime(\"2020-12-31\"))]"
   ]
  },
  {
   "cell_type": "markdown",
   "id": "f2103b20-7d9a-4cf2-80cc-4a054760108a",
   "metadata": {},
   "source": [
    "The condition inside `[]` translates to a boolean vector:"
   ]
  },
  {
   "cell_type": "code",
   "execution_count": 26,
   "id": "bb24f14e-ac44-436d-9da1-2b7e400da74e",
   "metadata": {},
   "outputs": [
    {
     "data": {
      "text/plain": [
       "0    False\n",
       "1    False\n",
       "2     True\n",
       "3     True\n",
       "4     True\n",
       "5    False\n",
       "6    False\n",
       "7     True\n",
       "8     True\n",
       "9     True\n",
       "Name: Year, dtype: bool"
      ]
     },
     "execution_count": 26,
     "metadata": {},
     "output_type": "execute_result"
    }
   ],
   "source": [
    "df = usd_exchange_rates_df()\n",
    "((df[\"Year\"] >= pd.to_datetime(\"2018-12-31\")) &\n",
    " (df[\"Year\"] <= pd.to_datetime(\"2020-12-31\")))"
   ]
  },
  {
   "cell_type": "markdown",
   "id": "d65b0ee0-5cec-470e-ae8a-59b915e38b60",
   "metadata": {},
   "source": [
    "Use `isin()` series method for subset selection:"
   ]
  },
  {
   "cell_type": "code",
   "execution_count": 27,
   "id": "e5d67c1f-34fe-49c3-8a34-7189f442b67c",
   "metadata": {},
   "outputs": [
    {
     "data": {
      "text/html": [
       "<div>\n",
       "<style scoped>\n",
       "    .dataframe tbody tr th:only-of-type {\n",
       "        vertical-align: middle;\n",
       "    }\n",
       "\n",
       "    .dataframe tbody tr th {\n",
       "        vertical-align: top;\n",
       "    }\n",
       "\n",
       "    .dataframe thead th {\n",
       "        text-align: right;\n",
       "    }\n",
       "</style>\n",
       "<table border=\"1\" class=\"dataframe\">\n",
       "  <thead>\n",
       "    <tr style=\"text-align: right;\">\n",
       "      <th></th>\n",
       "      <th>Year</th>\n",
       "      <th>Currency</th>\n",
       "      <th>Currency/USD</th>\n",
       "      <th>USD/Currency</th>\n",
       "    </tr>\n",
       "  </thead>\n",
       "  <tbody>\n",
       "    <tr>\n",
       "      <th>2</th>\n",
       "      <td>2018-12-31</td>\n",
       "      <td>EUR</td>\n",
       "      <td>1.179</td>\n",
       "      <td>0.848</td>\n",
       "    </tr>\n",
       "    <tr>\n",
       "      <th>3</th>\n",
       "      <td>2019-12-31</td>\n",
       "      <td>EUR</td>\n",
       "      <td>1.120</td>\n",
       "      <td>0.893</td>\n",
       "    </tr>\n",
       "    <tr>\n",
       "      <th>4</th>\n",
       "      <td>2020-12-31</td>\n",
       "      <td>EUR</td>\n",
       "      <td>1.140</td>\n",
       "      <td>0.877</td>\n",
       "    </tr>\n",
       "    <tr>\n",
       "      <th>7</th>\n",
       "      <td>2018-12-31</td>\n",
       "      <td>GBP</td>\n",
       "      <td>1.333</td>\n",
       "      <td>0.750</td>\n",
       "    </tr>\n",
       "    <tr>\n",
       "      <th>8</th>\n",
       "      <td>2019-12-31</td>\n",
       "      <td>GBP</td>\n",
       "      <td>1.276</td>\n",
       "      <td>0.784</td>\n",
       "    </tr>\n",
       "    <tr>\n",
       "      <th>9</th>\n",
       "      <td>2020-12-31</td>\n",
       "      <td>GBP</td>\n",
       "      <td>1.284</td>\n",
       "      <td>0.779</td>\n",
       "    </tr>\n",
       "  </tbody>\n",
       "</table>\n",
       "</div>"
      ],
      "text/plain": [
       "        Year Currency  Currency/USD  USD/Currency\n",
       "2 2018-12-31      EUR         1.179         0.848\n",
       "3 2019-12-31      EUR         1.120         0.893\n",
       "4 2020-12-31      EUR         1.140         0.877\n",
       "7 2018-12-31      GBP         1.333         0.750\n",
       "8 2019-12-31      GBP         1.276         0.784\n",
       "9 2020-12-31      GBP         1.284         0.779"
      ]
     },
     "execution_count": 27,
     "metadata": {},
     "output_type": "execute_result"
    }
   ],
   "source": [
    "df = usd_exchange_rates_df()\n",
    "df[df[\"Year\"].isin([\n",
    "    pd.to_datetime(\"2018-12-31\"),\n",
    "    pd.to_datetime(\"2019-12-31\"),\n",
    "    pd.to_datetime(\"2020-12-31\")\n",
    "])]"
   ]
  },
  {
   "cell_type": "markdown",
   "id": "be9d3515-e57b-4865-8009-3aa37e9ca3d5",
   "metadata": {},
   "source": [
    "## Grouping"
   ]
  },
  {
   "cell_type": "markdown",
   "id": "a43ba36e-df04-4b93-804f-b00c044d0830",
   "metadata": {},
   "source": [
    "### Reduce directly using DataFrameGroupBy/SeriesGroupBy methods"
   ]
  },
  {
   "cell_type": "markdown",
   "id": "f870f9d8-494b-4919-943a-4c964f356c8d",
   "metadata": {},
   "source": [
    "`df.groupby()` returns a `DataFrameGroupBy` that supports calls like `mean()`, `std()`, `min()`, `max()`, etc.:"
   ]
  },
  {
   "cell_type": "code",
   "execution_count": 28,
   "id": "62a1d95b-47b6-4f51-a991-c635b8029b73",
   "metadata": {
    "tags": []
   },
   "outputs": [
    {
     "data": {
      "text/html": [
       "<div>\n",
       "<style scoped>\n",
       "    .dataframe tbody tr th:only-of-type {\n",
       "        vertical-align: middle;\n",
       "    }\n",
       "\n",
       "    .dataframe tbody tr th {\n",
       "        vertical-align: top;\n",
       "    }\n",
       "\n",
       "    .dataframe thead th {\n",
       "        text-align: right;\n",
       "    }\n",
       "</style>\n",
       "<table border=\"1\" class=\"dataframe\">\n",
       "  <thead>\n",
       "    <tr style=\"text-align: right;\">\n",
       "      <th></th>\n",
       "      <th>Currency/USD</th>\n",
       "      <th>USD/Currency</th>\n",
       "    </tr>\n",
       "    <tr>\n",
       "      <th>Currency</th>\n",
       "      <th></th>\n",
       "      <th></th>\n",
       "    </tr>\n",
       "  </thead>\n",
       "  <tbody>\n",
       "    <tr>\n",
       "      <th>EUR</th>\n",
       "      <td>1.117</td>\n",
       "      <td>0.896</td>\n",
       "    </tr>\n",
       "    <tr>\n",
       "      <th>GBP</th>\n",
       "      <td>1.286</td>\n",
       "      <td>0.778</td>\n",
       "    </tr>\n",
       "  </tbody>\n",
       "</table>\n",
       "</div>"
      ],
      "text/plain": [
       "          Currency/USD  USD/Currency\n",
       "Currency                            \n",
       "EUR              1.117         0.896\n",
       "GBP              1.286         0.778"
      ]
     },
     "execution_count": 28,
     "metadata": {},
     "output_type": "execute_result"
    }
   ],
   "source": [
    "df = usd_exchange_rates_df()\n",
    "df.groupby(\"Currency\")[[\"Currency/USD\", \"USD/Currency\"]].mean()"
   ]
  },
  {
   "cell_type": "markdown",
   "id": "3a3325d6-5ff9-49f5-acf5-27274c8627de",
   "metadata": {},
   "source": [
    "You can compute a compound expression for each group without repeating the `groupby()` step by using `pipe()`:"
   ]
  },
  {
   "cell_type": "code",
   "execution_count": 29,
   "id": "b48fdea2-4a38-442b-9971-3e5d3fd2bb34",
   "metadata": {
    "tags": []
   },
   "outputs": [
    {
     "data": {
      "text/html": [
       "<div>\n",
       "<style scoped>\n",
       "    .dataframe tbody tr th:only-of-type {\n",
       "        vertical-align: middle;\n",
       "    }\n",
       "\n",
       "    .dataframe tbody tr th {\n",
       "        vertical-align: top;\n",
       "    }\n",
       "\n",
       "    .dataframe thead th {\n",
       "        text-align: right;\n",
       "    }\n",
       "</style>\n",
       "<table border=\"1\" class=\"dataframe\">\n",
       "  <thead>\n",
       "    <tr style=\"text-align: right;\">\n",
       "      <th></th>\n",
       "      <th>Currency/USD</th>\n",
       "      <th>USD/Currency</th>\n",
       "    </tr>\n",
       "    <tr>\n",
       "      <th>Currency</th>\n",
       "      <th></th>\n",
       "      <th></th>\n",
       "    </tr>\n",
       "  </thead>\n",
       "  <tbody>\n",
       "    <tr>\n",
       "      <th>EUR</th>\n",
       "      <td>0.057</td>\n",
       "      <td>0.046</td>\n",
       "    </tr>\n",
       "    <tr>\n",
       "      <th>GBP</th>\n",
       "      <td>0.023</td>\n",
       "      <td>0.014</td>\n",
       "    </tr>\n",
       "  </tbody>\n",
       "</table>\n",
       "</div>"
      ],
      "text/plain": [
       "          Currency/USD  USD/Currency\n",
       "Currency                            \n",
       "EUR              0.057         0.046\n",
       "GBP              0.023         0.014"
      ]
     },
     "execution_count": 29,
     "metadata": {},
     "output_type": "execute_result"
    }
   ],
   "source": [
    "df = usd_exchange_rates_df()\n",
    "(\n",
    "    df.groupby(\"Currency\")[[\"Currency/USD\", \"USD/Currency\"]]\n",
    "    .pipe(lambda currency: currency.quantile(0.75) - currency.quantile(0.25))\n",
    ")"
   ]
  },
  {
   "cell_type": "markdown",
   "id": "7c94ada8-59ad-4cae-8ec9-6febdbfc6a8f",
   "metadata": {},
   "source": [
    "### Reduce group-by-group series-by-series with agg()"
   ]
  },
  {
   "cell_type": "markdown",
   "id": "c995471d-347a-47a2-9e3f-2b35acd0a921",
   "metadata": {},
   "source": [
    "`df.groupby().agg(func)` will call `func(series)` once for each series of every group.\n",
    "\n",
    "`func` should return a scalar."
   ]
  },
  {
   "cell_type": "code",
   "execution_count": 30,
   "id": "690d84f2-25a3-4b84-987c-94dec9bb7c03",
   "metadata": {},
   "outputs": [
    {
     "data": {
      "text/html": [
       "<div>\n",
       "<style scoped>\n",
       "    .dataframe tbody tr th:only-of-type {\n",
       "        vertical-align: middle;\n",
       "    }\n",
       "\n",
       "    .dataframe tbody tr th {\n",
       "        vertical-align: top;\n",
       "    }\n",
       "\n",
       "    .dataframe thead th {\n",
       "        text-align: right;\n",
       "    }\n",
       "</style>\n",
       "<table border=\"1\" class=\"dataframe\">\n",
       "  <thead>\n",
       "    <tr style=\"text-align: right;\">\n",
       "      <th></th>\n",
       "      <th>Year</th>\n",
       "      <th>Currency/USD</th>\n",
       "      <th>USD/Currency</th>\n",
       "    </tr>\n",
       "    <tr>\n",
       "      <th>Currency</th>\n",
       "      <th></th>\n",
       "      <th></th>\n",
       "      <th></th>\n",
       "    </tr>\n",
       "  </thead>\n",
       "  <tbody>\n",
       "    <tr>\n",
       "      <th>EUR</th>\n",
       "      <td>2018-12-31 04:48:00</td>\n",
       "      <td>1.117</td>\n",
       "      <td>0.896</td>\n",
       "    </tr>\n",
       "    <tr>\n",
       "      <th>GBP</th>\n",
       "      <td>2018-12-31 04:48:00</td>\n",
       "      <td>1.286</td>\n",
       "      <td>0.778</td>\n",
       "    </tr>\n",
       "  </tbody>\n",
       "</table>\n",
       "</div>"
      ],
      "text/plain": [
       "                        Year  Currency/USD  USD/Currency\n",
       "Currency                                                \n",
       "EUR      2018-12-31 04:48:00         1.117         0.896\n",
       "GBP      2018-12-31 04:48:00         1.286         0.778"
      ]
     },
     "execution_count": 30,
     "metadata": {},
     "output_type": "execute_result"
    }
   ],
   "source": [
    "df = usd_exchange_rates_df()\n",
    "df.groupby(\"Currency\").agg(np.mean)"
   ]
  },
  {
   "cell_type": "markdown",
   "id": "74d74444-366c-4a61-82ab-32621aaa293a",
   "metadata": {},
   "source": [
    "Multiple aggregations can be specified:"
   ]
  },
  {
   "cell_type": "code",
   "execution_count": 31,
   "id": "032b91d0-f16c-4160-8f37-939dbd711daa",
   "metadata": {},
   "outputs": [
    {
     "data": {
      "text/html": [
       "<div>\n",
       "<style scoped>\n",
       "    .dataframe tbody tr th:only-of-type {\n",
       "        vertical-align: middle;\n",
       "    }\n",
       "\n",
       "    .dataframe tbody tr th {\n",
       "        vertical-align: top;\n",
       "    }\n",
       "\n",
       "    .dataframe thead tr th {\n",
       "        text-align: left;\n",
       "    }\n",
       "\n",
       "    .dataframe thead tr:last-of-type th {\n",
       "        text-align: right;\n",
       "    }\n",
       "</style>\n",
       "<table border=\"1\" class=\"dataframe\">\n",
       "  <thead>\n",
       "    <tr>\n",
       "      <th></th>\n",
       "      <th colspan=\"2\" halign=\"left\">Currency/USD</th>\n",
       "      <th colspan=\"2\" halign=\"left\">USD/Currency</th>\n",
       "    </tr>\n",
       "    <tr>\n",
       "      <th></th>\n",
       "      <th>mean</th>\n",
       "      <th>var</th>\n",
       "      <th>mean</th>\n",
       "      <th>var</th>\n",
       "    </tr>\n",
       "    <tr>\n",
       "      <th>Currency</th>\n",
       "      <th></th>\n",
       "      <th></th>\n",
       "      <th></th>\n",
       "      <th></th>\n",
       "    </tr>\n",
       "  </thead>\n",
       "  <tbody>\n",
       "    <tr>\n",
       "      <th>EUR</th>\n",
       "      <td>1.117</td>\n",
       "      <td>0.002</td>\n",
       "      <td>0.896</td>\n",
       "      <td>1.335e-03</td>\n",
       "    </tr>\n",
       "    <tr>\n",
       "      <th>GBP</th>\n",
       "      <td>1.286</td>\n",
       "      <td>0.001</td>\n",
       "      <td>0.778</td>\n",
       "      <td>4.462e-04</td>\n",
       "    </tr>\n",
       "  </tbody>\n",
       "</table>\n",
       "</div>"
      ],
      "text/plain": [
       "         Currency/USD        USD/Currency           \n",
       "                 mean    var         mean        var\n",
       "Currency                                            \n",
       "EUR             1.117  0.002        0.896  1.335e-03\n",
       "GBP             1.286  0.001        0.778  4.462e-04"
      ]
     },
     "execution_count": 31,
     "metadata": {},
     "output_type": "execute_result"
    }
   ],
   "source": [
    "df = usd_exchange_rates_df()\n",
    "df.groupby(\"Currency\")[[\"Currency/USD\", \"USD/Currency\"]].agg([np.mean, np.var])"
   ]
  },
  {
   "cell_type": "markdown",
   "id": "2a7cd351-5a85-477e-a85d-4b99146d0e13",
   "metadata": {},
   "source": [
    "Use keyword arguments to rename the resulting columns:"
   ]
  },
  {
   "cell_type": "code",
   "execution_count": 32,
   "id": "7691adcc-727a-40b0-9b20-6cf440da9acd",
   "metadata": {},
   "outputs": [
    {
     "data": {
      "text/html": [
       "<div>\n",
       "<style scoped>\n",
       "    .dataframe tbody tr th:only-of-type {\n",
       "        vertical-align: middle;\n",
       "    }\n",
       "\n",
       "    .dataframe tbody tr th {\n",
       "        vertical-align: top;\n",
       "    }\n",
       "\n",
       "    .dataframe thead th {\n",
       "        text-align: right;\n",
       "    }\n",
       "</style>\n",
       "<table border=\"1\" class=\"dataframe\">\n",
       "  <thead>\n",
       "    <tr style=\"text-align: right;\">\n",
       "      <th></th>\n",
       "      <th>avg_cur2usd</th>\n",
       "      <th>avg_usd2cur</th>\n",
       "    </tr>\n",
       "    <tr>\n",
       "      <th>Currency</th>\n",
       "      <th></th>\n",
       "      <th></th>\n",
       "    </tr>\n",
       "  </thead>\n",
       "  <tbody>\n",
       "    <tr>\n",
       "      <th>EUR</th>\n",
       "      <td>1.117</td>\n",
       "      <td>0.896</td>\n",
       "    </tr>\n",
       "    <tr>\n",
       "      <th>GBP</th>\n",
       "      <td>1.286</td>\n",
       "      <td>0.778</td>\n",
       "    </tr>\n",
       "  </tbody>\n",
       "</table>\n",
       "</div>"
      ],
      "text/plain": [
       "          avg_cur2usd  avg_usd2cur\n",
       "Currency                          \n",
       "EUR             1.117        0.896\n",
       "GBP             1.286        0.778"
      ]
     },
     "execution_count": 32,
     "metadata": {},
     "output_type": "execute_result"
    }
   ],
   "source": [
    "df = usd_exchange_rates_df()\n",
    "df.groupby(\"Currency\")[[\"Currency/USD\", \"USD/Currency\"]].agg(\n",
    "    avg_cur2usd=(\"Currency/USD\", np.mean),\n",
    "    avg_usd2cur=(\"USD/Currency\", np.mean),\n",
    ")"
   ]
  },
  {
   "cell_type": "markdown",
   "id": "5d96baf5-7ca3-4220-8df6-4624bb8b3378",
   "metadata": {},
   "source": [
    "The last type of agg() aggregation has slightly different syntax when dealing with a single series:"
   ]
  },
  {
   "cell_type": "code",
   "execution_count": 33,
   "id": "61ec8d23-b833-470a-ac1c-807b68a1e7dc",
   "metadata": {},
   "outputs": [
    {
     "data": {
      "text/html": [
       "<div>\n",
       "<style scoped>\n",
       "    .dataframe tbody tr th:only-of-type {\n",
       "        vertical-align: middle;\n",
       "    }\n",
       "\n",
       "    .dataframe tbody tr th {\n",
       "        vertical-align: top;\n",
       "    }\n",
       "\n",
       "    .dataframe thead th {\n",
       "        text-align: right;\n",
       "    }\n",
       "</style>\n",
       "<table border=\"1\" class=\"dataframe\">\n",
       "  <thead>\n",
       "    <tr style=\"text-align: right;\">\n",
       "      <th></th>\n",
       "      <th>average</th>\n",
       "    </tr>\n",
       "    <tr>\n",
       "      <th>Currency</th>\n",
       "      <th></th>\n",
       "    </tr>\n",
       "  </thead>\n",
       "  <tbody>\n",
       "    <tr>\n",
       "      <th>EUR</th>\n",
       "      <td>1.117</td>\n",
       "    </tr>\n",
       "    <tr>\n",
       "      <th>GBP</th>\n",
       "      <td>1.286</td>\n",
       "    </tr>\n",
       "  </tbody>\n",
       "</table>\n",
       "</div>"
      ],
      "text/plain": [
       "          average\n",
       "Currency         \n",
       "EUR         1.117\n",
       "GBP         1.286"
      ]
     },
     "execution_count": 33,
     "metadata": {},
     "output_type": "execute_result"
    }
   ],
   "source": [
    "df = usd_exchange_rates_df()\n",
    "df.groupby(\"Currency\")[\"Currency/USD\"].agg(average=np.mean)"
   ]
  },
  {
   "cell_type": "markdown",
   "id": "9279db4c-788d-4b78-8493-00097cf9d379",
   "metadata": {},
   "source": [
    "### Transform rows one-by-one with transform()"
   ]
  },
  {
   "cell_type": "markdown",
   "id": "da353be5-e7ba-4074-9f3b-a23326e83379",
   "metadata": {},
   "source": [
    "`df.groupby().transform(func)` will call `func(series_in_group)` once for each series in each group. In contrast to `apply()`, the result of `transform()` is of the same dimensions as the original dataframe.\n",
    "\n",
    "`func(series_in_group)` should either return a series of the same dimensions as `series_in_group` or a scalar, in which case pandas will take care of making a series of length `len(series_in_group)` out of it."
   ]
  },
  {
   "cell_type": "code",
   "execution_count": 34,
   "id": "15535587-9eb2-4814-bb73-2973994a3c01",
   "metadata": {},
   "outputs": [
    {
     "data": {
      "text/html": [
       "<div>\n",
       "<style scoped>\n",
       "    .dataframe tbody tr th:only-of-type {\n",
       "        vertical-align: middle;\n",
       "    }\n",
       "\n",
       "    .dataframe tbody tr th {\n",
       "        vertical-align: top;\n",
       "    }\n",
       "\n",
       "    .dataframe thead th {\n",
       "        text-align: right;\n",
       "    }\n",
       "</style>\n",
       "<table border=\"1\" class=\"dataframe\">\n",
       "  <thead>\n",
       "    <tr style=\"text-align: right;\">\n",
       "      <th></th>\n",
       "      <th>Currency/USD</th>\n",
       "      <th>USD/Currency</th>\n",
       "    </tr>\n",
       "  </thead>\n",
       "  <tbody>\n",
       "    <tr>\n",
       "      <th>0</th>\n",
       "      <td>1.117</td>\n",
       "      <td>0.896</td>\n",
       "    </tr>\n",
       "    <tr>\n",
       "      <th>1</th>\n",
       "      <td>1.117</td>\n",
       "      <td>0.896</td>\n",
       "    </tr>\n",
       "    <tr>\n",
       "      <th>2</th>\n",
       "      <td>1.117</td>\n",
       "      <td>0.896</td>\n",
       "    </tr>\n",
       "    <tr>\n",
       "      <th>3</th>\n",
       "      <td>1.117</td>\n",
       "      <td>0.896</td>\n",
       "    </tr>\n",
       "    <tr>\n",
       "      <th>4</th>\n",
       "      <td>1.117</td>\n",
       "      <td>0.896</td>\n",
       "    </tr>\n",
       "    <tr>\n",
       "      <th>5</th>\n",
       "      <td>1.286</td>\n",
       "      <td>0.778</td>\n",
       "    </tr>\n",
       "    <tr>\n",
       "      <th>6</th>\n",
       "      <td>1.286</td>\n",
       "      <td>0.778</td>\n",
       "    </tr>\n",
       "    <tr>\n",
       "      <th>7</th>\n",
       "      <td>1.286</td>\n",
       "      <td>0.778</td>\n",
       "    </tr>\n",
       "    <tr>\n",
       "      <th>8</th>\n",
       "      <td>1.286</td>\n",
       "      <td>0.778</td>\n",
       "    </tr>\n",
       "    <tr>\n",
       "      <th>9</th>\n",
       "      <td>1.286</td>\n",
       "      <td>0.778</td>\n",
       "    </tr>\n",
       "  </tbody>\n",
       "</table>\n",
       "</div>"
      ],
      "text/plain": [
       "   Currency/USD  USD/Currency\n",
       "0         1.117         0.896\n",
       "1         1.117         0.896\n",
       "2         1.117         0.896\n",
       "3         1.117         0.896\n",
       "4         1.117         0.896\n",
       "5         1.286         0.778\n",
       "6         1.286         0.778\n",
       "7         1.286         0.778\n",
       "8         1.286         0.778\n",
       "9         1.286         0.778"
      ]
     },
     "execution_count": 34,
     "metadata": {},
     "output_type": "execute_result"
    }
   ],
   "source": [
    "df = usd_exchange_rates_df()\n",
    "df.groupby(\"Currency\")[[\"Currency/USD\", \"USD/Currency\"]].transform(lambda df: df.mean())"
   ]
  },
  {
   "cell_type": "markdown",
   "id": "b3014c69-7af1-4a13-928b-aaaba7d9ee2a",
   "metadata": {},
   "source": [
    "### Reduce group-by-group with apply()"
   ]
  },
  {
   "cell_type": "markdown",
   "id": "23d27aa9-4f4e-401e-99c2-e30bf3e4f973",
   "metadata": {},
   "source": [
    "`df.groupby().apply(func)` will call `func(group)` once for each group, where `group` is a dataframe containing the rows within each group. The form of the result depends of the return type of `func`."
   ]
  },
  {
   "cell_type": "markdown",
   "id": "bea05b16-750c-43f2-9c82-9fe9c31742d9",
   "metadata": {
    "tags": []
   },
   "source": [
    "**Case 1:** `func` returns a scalar - the result of `apply(func)` is a series indexed by the group key:"
   ]
  },
  {
   "cell_type": "code",
   "execution_count": 35,
   "id": "ae11dcc4-1893-4ecb-a396-8e451ae7bde6",
   "metadata": {
    "tags": []
   },
   "outputs": [
    {
     "data": {
      "text/plain": [
       "Currency\n",
       "EUR    1.117\n",
       "GBP    1.286\n",
       "dtype: float64"
      ]
     },
     "execution_count": 35,
     "metadata": {},
     "output_type": "execute_result"
    }
   ],
   "source": [
    "df.groupby(\"Currency\")[[\"Currency/USD\"]].apply(lambda df: np.mean(df.values))"
   ]
  },
  {
   "cell_type": "markdown",
   "id": "7d2671f1-1e25-45fb-a952-a8cd2feabfdf",
   "metadata": {
    "tags": []
   },
   "source": [
    "**Case 2:** `func` returns a series - the result of `apply(func)` is a dataframe indexed by the group key, with columns given by the index of the returned series:"
   ]
  },
  {
   "cell_type": "code",
   "execution_count": 36,
   "id": "3d9e3608-896e-4f8a-ac9f-1caa35a91018",
   "metadata": {
    "tags": []
   },
   "outputs": [
    {
     "data": {
      "text/html": [
       "<div>\n",
       "<style scoped>\n",
       "    .dataframe tbody tr th:only-of-type {\n",
       "        vertical-align: middle;\n",
       "    }\n",
       "\n",
       "    .dataframe tbody tr th {\n",
       "        vertical-align: top;\n",
       "    }\n",
       "\n",
       "    .dataframe thead th {\n",
       "        text-align: right;\n",
       "    }\n",
       "</style>\n",
       "<table border=\"1\" class=\"dataframe\">\n",
       "  <thead>\n",
       "    <tr style=\"text-align: right;\">\n",
       "      <th></th>\n",
       "      <th>Currency/USD</th>\n",
       "      <th>USD/Currency</th>\n",
       "    </tr>\n",
       "    <tr>\n",
       "      <th>Currency</th>\n",
       "      <th></th>\n",
       "      <th></th>\n",
       "    </tr>\n",
       "  </thead>\n",
       "  <tbody>\n",
       "    <tr>\n",
       "      <th>EUR</th>\n",
       "      <td>1.117</td>\n",
       "      <td>0.896</td>\n",
       "    </tr>\n",
       "    <tr>\n",
       "      <th>GBP</th>\n",
       "      <td>1.286</td>\n",
       "      <td>0.778</td>\n",
       "    </tr>\n",
       "  </tbody>\n",
       "</table>\n",
       "</div>"
      ],
      "text/plain": [
       "          Currency/USD  USD/Currency\n",
       "Currency                            \n",
       "EUR              1.117         0.896\n",
       "GBP              1.286         0.778"
      ]
     },
     "execution_count": 36,
     "metadata": {},
     "output_type": "execute_result"
    }
   ],
   "source": [
    "df = usd_exchange_rates_df()\n",
    "df.groupby(\"Currency\")[[\"Currency/USD\", \"USD/Currency\"]].apply(lambda df: df.mean())"
   ]
  },
  {
   "cell_type": "markdown",
   "id": "8bf0049e-b4f3-4c7b-8b72-e85e6a1b227c",
   "metadata": {
    "tags": []
   },
   "source": [
    "**Case 3:** `func` returns a dataframe - the result of `apply(func)` is a dataframe with a multi-index and with same columns as the dataframe returned by `func`. The multi-index consists of a group key level concatenated with levels of the index of the dataframes returned by `func`:"
   ]
  },
  {
   "cell_type": "code",
   "execution_count": 37,
   "id": "dd3d4c86-daca-452f-a987-09418f24ca56",
   "metadata": {
    "tags": []
   },
   "outputs": [
    {
     "data": {
      "text/html": [
       "<div>\n",
       "<style scoped>\n",
       "    .dataframe tbody tr th:only-of-type {\n",
       "        vertical-align: middle;\n",
       "    }\n",
       "\n",
       "    .dataframe tbody tr th {\n",
       "        vertical-align: top;\n",
       "    }\n",
       "\n",
       "    .dataframe thead th {\n",
       "        text-align: right;\n",
       "    }\n",
       "</style>\n",
       "<table border=\"1\" class=\"dataframe\">\n",
       "  <thead>\n",
       "    <tr style=\"text-align: right;\">\n",
       "      <th></th>\n",
       "      <th></th>\n",
       "      <th>Currency/USD</th>\n",
       "      <th>USD/Currency</th>\n",
       "    </tr>\n",
       "    <tr>\n",
       "      <th>Currency</th>\n",
       "      <th>Year</th>\n",
       "      <th></th>\n",
       "      <th></th>\n",
       "    </tr>\n",
       "  </thead>\n",
       "  <tbody>\n",
       "    <tr>\n",
       "      <th rowspan=\"3\" valign=\"top\">EUR</th>\n",
       "      <th>2018-12-31</th>\n",
       "      <td>1.109</td>\n",
       "      <td>0.904</td>\n",
       "    </tr>\n",
       "    <tr>\n",
       "      <th>2019-12-31</th>\n",
       "      <td>1.127</td>\n",
       "      <td>0.888</td>\n",
       "    </tr>\n",
       "    <tr>\n",
       "      <th>2020-12-31</th>\n",
       "      <td>1.146</td>\n",
       "      <td>0.873</td>\n",
       "    </tr>\n",
       "    <tr>\n",
       "      <th rowspan=\"3\" valign=\"top\">GBP</th>\n",
       "      <th>2018-12-31</th>\n",
       "      <td>1.290</td>\n",
       "      <td>0.776</td>\n",
       "    </tr>\n",
       "    <tr>\n",
       "      <th>2019-12-31</th>\n",
       "      <td>1.282</td>\n",
       "      <td>0.781</td>\n",
       "    </tr>\n",
       "    <tr>\n",
       "      <th>2020-12-31</th>\n",
       "      <td>1.298</td>\n",
       "      <td>0.771</td>\n",
       "    </tr>\n",
       "  </tbody>\n",
       "</table>\n",
       "</div>"
      ],
      "text/plain": [
       "                     Currency/USD  USD/Currency\n",
       "Currency Year                                  \n",
       "EUR      2018-12-31         1.109         0.904\n",
       "         2019-12-31         1.127         0.888\n",
       "         2020-12-31         1.146         0.873\n",
       "GBP      2018-12-31         1.290         0.776\n",
       "         2019-12-31         1.282         0.781\n",
       "         2020-12-31         1.298         0.771"
      ]
     },
     "execution_count": 37,
     "metadata": {},
     "output_type": "execute_result"
    }
   ],
   "source": [
    "df = usd_exchange_rates_df()\n",
    "df.groupby(\"Currency\").apply(lambda df: df.drop(columns=[\"Currency\"]).set_index([\"Year\"]).rolling(3).mean().dropna())"
   ]
  },
  {
   "cell_type": "markdown",
   "id": "e0ed0373-06c5-4548-b26b-b6581edec4c9",
   "metadata": {},
   "source": [
    "## Pivoting and unpivoting"
   ]
  },
  {
   "cell_type": "markdown",
   "id": "e62ac3e5-c7b5-440d-8fa2-a28d521536b0",
   "metadata": {},
   "source": [
    "The USD exchange rates dataframe is neither in fully long format nor in fully wide format: there is one row per each year+currency pair, but there are two different \"observations\" stored in two columns: \"Currency/USD\" and \"USD/Currency\".\n",
    "\n",
    "Thus the dataframe can be both:\n",
    "- pivoted (widened) so that each currency becomes a separate column\n",
    "- unpivoted (lengthened) so that each row is split into two and there is a \"Direction\" column equal to either \"Currency/USD\" or \"USD/Currency\" and a value column with the actual rate"
   ]
  },
  {
   "cell_type": "markdown",
   "id": "50f8f5a9-2f94-4671-aff2-7a13557daffc",
   "metadata": {},
   "source": [
    "### Pivot with multi-index and unstack()"
   ]
  },
  {
   "cell_type": "code",
   "execution_count": 38,
   "id": "a55bb4a2-d09d-427e-8ac8-76caf806c56c",
   "metadata": {},
   "outputs": [
    {
     "data": {
      "text/html": [
       "<div>\n",
       "<style scoped>\n",
       "    .dataframe tbody tr th:only-of-type {\n",
       "        vertical-align: middle;\n",
       "    }\n",
       "\n",
       "    .dataframe tbody tr th {\n",
       "        vertical-align: top;\n",
       "    }\n",
       "\n",
       "    .dataframe thead tr th {\n",
       "        text-align: left;\n",
       "    }\n",
       "\n",
       "    .dataframe thead tr:last-of-type th {\n",
       "        text-align: right;\n",
       "    }\n",
       "</style>\n",
       "<table border=\"1\" class=\"dataframe\">\n",
       "  <thead>\n",
       "    <tr>\n",
       "      <th></th>\n",
       "      <th colspan=\"2\" halign=\"left\">Currency/USD</th>\n",
       "      <th colspan=\"2\" halign=\"left\">USD/Currency</th>\n",
       "    </tr>\n",
       "    <tr>\n",
       "      <th>Currency</th>\n",
       "      <th>EUR</th>\n",
       "      <th>GBP</th>\n",
       "      <th>EUR</th>\n",
       "      <th>GBP</th>\n",
       "    </tr>\n",
       "    <tr>\n",
       "      <th>Year</th>\n",
       "      <th></th>\n",
       "      <th></th>\n",
       "      <th></th>\n",
       "      <th></th>\n",
       "    </tr>\n",
       "  </thead>\n",
       "  <tbody>\n",
       "    <tr>\n",
       "      <th>2016-12-31</th>\n",
       "      <td>1.064</td>\n",
       "      <td>1.299</td>\n",
       "      <td>0.940</td>\n",
       "      <td>0.770</td>\n",
       "    </tr>\n",
       "    <tr>\n",
       "      <th>2017-12-31</th>\n",
       "      <td>1.083</td>\n",
       "      <td>1.238</td>\n",
       "      <td>0.923</td>\n",
       "      <td>0.808</td>\n",
       "    </tr>\n",
       "    <tr>\n",
       "      <th>2018-12-31</th>\n",
       "      <td>1.179</td>\n",
       "      <td>1.333</td>\n",
       "      <td>0.848</td>\n",
       "      <td>0.750</td>\n",
       "    </tr>\n",
       "    <tr>\n",
       "      <th>2019-12-31</th>\n",
       "      <td>1.120</td>\n",
       "      <td>1.276</td>\n",
       "      <td>0.893</td>\n",
       "      <td>0.784</td>\n",
       "    </tr>\n",
       "    <tr>\n",
       "      <th>2020-12-31</th>\n",
       "      <td>1.140</td>\n",
       "      <td>1.284</td>\n",
       "      <td>0.877</td>\n",
       "      <td>0.779</td>\n",
       "    </tr>\n",
       "  </tbody>\n",
       "</table>\n",
       "</div>"
      ],
      "text/plain": [
       "           Currency/USD        USD/Currency       \n",
       "Currency            EUR    GBP          EUR    GBP\n",
       "Year                                              \n",
       "2016-12-31        1.064  1.299        0.940  0.770\n",
       "2017-12-31        1.083  1.238        0.923  0.808\n",
       "2018-12-31        1.179  1.333        0.848  0.750\n",
       "2019-12-31        1.120  1.276        0.893  0.784\n",
       "2020-12-31        1.140  1.284        0.877  0.779"
      ]
     },
     "execution_count": 38,
     "metadata": {},
     "output_type": "execute_result"
    }
   ],
   "source": [
    "df = usd_exchange_rates_df().set_index([\"Currency\", \"Year\"])\n",
    "df.unstack(level=0)"
   ]
  },
  {
   "cell_type": "markdown",
   "id": "398dfdbe-8462-4b7a-ac82-5b6a61791a8d",
   "metadata": {},
   "source": [
    "### Unpivot with multi-index and stack()"
   ]
  },
  {
   "cell_type": "code",
   "execution_count": 39,
   "id": "0347f12b-9f72-4543-85a6-ca4f40af3394",
   "metadata": {},
   "outputs": [
    {
     "data": {
      "text/plain": [
       "Currency  Year        Direction   \n",
       "EUR       2016-12-31  Currency/USD    1.064\n",
       "                      USD/Currency    0.940\n",
       "          2017-12-31  Currency/USD    1.083\n",
       "                      USD/Currency    0.923\n",
       "          2018-12-31  Currency/USD    1.179\n",
       "                      USD/Currency    0.848\n",
       "          2019-12-31  Currency/USD    1.120\n",
       "                      USD/Currency    0.893\n",
       "          2020-12-31  Currency/USD    1.140\n",
       "                      USD/Currency    0.877\n",
       "GBP       2016-12-31  Currency/USD    1.299\n",
       "                      USD/Currency    0.770\n",
       "          2017-12-31  Currency/USD    1.238\n",
       "                      USD/Currency    0.808\n",
       "          2018-12-31  Currency/USD    1.333\n",
       "                      USD/Currency    0.750\n",
       "          2019-12-31  Currency/USD    1.276\n",
       "                      USD/Currency    0.784\n",
       "          2020-12-31  Currency/USD    1.284\n",
       "                      USD/Currency    0.779\n",
       "dtype: float64"
      ]
     },
     "execution_count": 39,
     "metadata": {},
     "output_type": "execute_result"
    }
   ],
   "source": [
    "df = usd_exchange_rates_df().set_index([\"Currency\", \"Year\"])\n",
    "df.stack().rename_axis(index={None: \"Direction\"})"
   ]
  },
  {
   "cell_type": "markdown",
   "id": "742eb3b5-abbd-4bea-a0a6-ab82033a3940",
   "metadata": {},
   "source": [
    "### Pivot with pivot()"
   ]
  },
  {
   "cell_type": "code",
   "execution_count": 40,
   "id": "2d31f950-2f48-4006-9ed6-2371fe767513",
   "metadata": {},
   "outputs": [
    {
     "data": {
      "text/html": [
       "<div>\n",
       "<style scoped>\n",
       "    .dataframe tbody tr th:only-of-type {\n",
       "        vertical-align: middle;\n",
       "    }\n",
       "\n",
       "    .dataframe tbody tr th {\n",
       "        vertical-align: top;\n",
       "    }\n",
       "\n",
       "    .dataframe thead tr th {\n",
       "        text-align: left;\n",
       "    }\n",
       "\n",
       "    .dataframe thead tr:last-of-type th {\n",
       "        text-align: right;\n",
       "    }\n",
       "</style>\n",
       "<table border=\"1\" class=\"dataframe\">\n",
       "  <thead>\n",
       "    <tr>\n",
       "      <th></th>\n",
       "      <th colspan=\"2\" halign=\"left\">Currency/USD</th>\n",
       "      <th colspan=\"2\" halign=\"left\">USD/Currency</th>\n",
       "    </tr>\n",
       "    <tr>\n",
       "      <th>Currency</th>\n",
       "      <th>EUR</th>\n",
       "      <th>GBP</th>\n",
       "      <th>EUR</th>\n",
       "      <th>GBP</th>\n",
       "    </tr>\n",
       "    <tr>\n",
       "      <th>Year</th>\n",
       "      <th></th>\n",
       "      <th></th>\n",
       "      <th></th>\n",
       "      <th></th>\n",
       "    </tr>\n",
       "  </thead>\n",
       "  <tbody>\n",
       "    <tr>\n",
       "      <th>2016-12-31</th>\n",
       "      <td>1.064</td>\n",
       "      <td>1.299</td>\n",
       "      <td>0.940</td>\n",
       "      <td>0.770</td>\n",
       "    </tr>\n",
       "    <tr>\n",
       "      <th>2017-12-31</th>\n",
       "      <td>1.083</td>\n",
       "      <td>1.238</td>\n",
       "      <td>0.923</td>\n",
       "      <td>0.808</td>\n",
       "    </tr>\n",
       "    <tr>\n",
       "      <th>2018-12-31</th>\n",
       "      <td>1.179</td>\n",
       "      <td>1.333</td>\n",
       "      <td>0.848</td>\n",
       "      <td>0.750</td>\n",
       "    </tr>\n",
       "    <tr>\n",
       "      <th>2019-12-31</th>\n",
       "      <td>1.120</td>\n",
       "      <td>1.276</td>\n",
       "      <td>0.893</td>\n",
       "      <td>0.784</td>\n",
       "    </tr>\n",
       "    <tr>\n",
       "      <th>2020-12-31</th>\n",
       "      <td>1.140</td>\n",
       "      <td>1.284</td>\n",
       "      <td>0.877</td>\n",
       "      <td>0.779</td>\n",
       "    </tr>\n",
       "  </tbody>\n",
       "</table>\n",
       "</div>"
      ],
      "text/plain": [
       "           Currency/USD        USD/Currency       \n",
       "Currency            EUR    GBP          EUR    GBP\n",
       "Year                                              \n",
       "2016-12-31        1.064  1.299        0.940  0.770\n",
       "2017-12-31        1.083  1.238        0.923  0.808\n",
       "2018-12-31        1.179  1.333        0.848  0.750\n",
       "2019-12-31        1.120  1.276        0.893  0.784\n",
       "2020-12-31        1.140  1.284        0.877  0.779"
      ]
     },
     "execution_count": 40,
     "metadata": {},
     "output_type": "execute_result"
    }
   ],
   "source": [
    "df = usd_exchange_rates_df()\n",
    "df.pivot(index=[\"Year\"], columns=[\"Currency\"], values=[\"Currency/USD\", \"USD/Currency\"])"
   ]
  },
  {
   "cell_type": "markdown",
   "id": "047e037e-20bd-4e6b-95f4-183f59de37aa",
   "metadata": {},
   "source": [
    "### Unpivot with melt()"
   ]
  },
  {
   "cell_type": "code",
   "execution_count": 41,
   "id": "c2edbb1d-b758-4efb-9c8d-1827a1d52aa0",
   "metadata": {
    "tags": []
   },
   "outputs": [
    {
     "data": {
      "text/html": [
       "<div>\n",
       "<style scoped>\n",
       "    .dataframe tbody tr th:only-of-type {\n",
       "        vertical-align: middle;\n",
       "    }\n",
       "\n",
       "    .dataframe tbody tr th {\n",
       "        vertical-align: top;\n",
       "    }\n",
       "\n",
       "    .dataframe thead th {\n",
       "        text-align: right;\n",
       "    }\n",
       "</style>\n",
       "<table border=\"1\" class=\"dataframe\">\n",
       "  <thead>\n",
       "    <tr style=\"text-align: right;\">\n",
       "      <th></th>\n",
       "      <th>Year</th>\n",
       "      <th>Currency</th>\n",
       "      <th>Direction</th>\n",
       "      <th>Value</th>\n",
       "    </tr>\n",
       "  </thead>\n",
       "  <tbody>\n",
       "    <tr>\n",
       "      <th>0</th>\n",
       "      <td>2016-12-31</td>\n",
       "      <td>EUR</td>\n",
       "      <td>Currency/USD</td>\n",
       "      <td>1.064</td>\n",
       "    </tr>\n",
       "    <tr>\n",
       "      <th>1</th>\n",
       "      <td>2017-12-31</td>\n",
       "      <td>EUR</td>\n",
       "      <td>Currency/USD</td>\n",
       "      <td>1.083</td>\n",
       "    </tr>\n",
       "    <tr>\n",
       "      <th>2</th>\n",
       "      <td>2018-12-31</td>\n",
       "      <td>EUR</td>\n",
       "      <td>Currency/USD</td>\n",
       "      <td>1.179</td>\n",
       "    </tr>\n",
       "    <tr>\n",
       "      <th>3</th>\n",
       "      <td>2019-12-31</td>\n",
       "      <td>EUR</td>\n",
       "      <td>Currency/USD</td>\n",
       "      <td>1.120</td>\n",
       "    </tr>\n",
       "    <tr>\n",
       "      <th>4</th>\n",
       "      <td>2020-12-31</td>\n",
       "      <td>EUR</td>\n",
       "      <td>Currency/USD</td>\n",
       "      <td>1.140</td>\n",
       "    </tr>\n",
       "    <tr>\n",
       "      <th>5</th>\n",
       "      <td>2016-12-31</td>\n",
       "      <td>GBP</td>\n",
       "      <td>Currency/USD</td>\n",
       "      <td>1.299</td>\n",
       "    </tr>\n",
       "    <tr>\n",
       "      <th>6</th>\n",
       "      <td>2017-12-31</td>\n",
       "      <td>GBP</td>\n",
       "      <td>Currency/USD</td>\n",
       "      <td>1.238</td>\n",
       "    </tr>\n",
       "    <tr>\n",
       "      <th>7</th>\n",
       "      <td>2018-12-31</td>\n",
       "      <td>GBP</td>\n",
       "      <td>Currency/USD</td>\n",
       "      <td>1.333</td>\n",
       "    </tr>\n",
       "    <tr>\n",
       "      <th>8</th>\n",
       "      <td>2019-12-31</td>\n",
       "      <td>GBP</td>\n",
       "      <td>Currency/USD</td>\n",
       "      <td>1.276</td>\n",
       "    </tr>\n",
       "    <tr>\n",
       "      <th>9</th>\n",
       "      <td>2020-12-31</td>\n",
       "      <td>GBP</td>\n",
       "      <td>Currency/USD</td>\n",
       "      <td>1.284</td>\n",
       "    </tr>\n",
       "    <tr>\n",
       "      <th>10</th>\n",
       "      <td>2016-12-31</td>\n",
       "      <td>EUR</td>\n",
       "      <td>USD/Currency</td>\n",
       "      <td>0.940</td>\n",
       "    </tr>\n",
       "    <tr>\n",
       "      <th>11</th>\n",
       "      <td>2017-12-31</td>\n",
       "      <td>EUR</td>\n",
       "      <td>USD/Currency</td>\n",
       "      <td>0.923</td>\n",
       "    </tr>\n",
       "    <tr>\n",
       "      <th>12</th>\n",
       "      <td>2018-12-31</td>\n",
       "      <td>EUR</td>\n",
       "      <td>USD/Currency</td>\n",
       "      <td>0.848</td>\n",
       "    </tr>\n",
       "    <tr>\n",
       "      <th>13</th>\n",
       "      <td>2019-12-31</td>\n",
       "      <td>EUR</td>\n",
       "      <td>USD/Currency</td>\n",
       "      <td>0.893</td>\n",
       "    </tr>\n",
       "    <tr>\n",
       "      <th>14</th>\n",
       "      <td>2020-12-31</td>\n",
       "      <td>EUR</td>\n",
       "      <td>USD/Currency</td>\n",
       "      <td>0.877</td>\n",
       "    </tr>\n",
       "    <tr>\n",
       "      <th>15</th>\n",
       "      <td>2016-12-31</td>\n",
       "      <td>GBP</td>\n",
       "      <td>USD/Currency</td>\n",
       "      <td>0.770</td>\n",
       "    </tr>\n",
       "    <tr>\n",
       "      <th>16</th>\n",
       "      <td>2017-12-31</td>\n",
       "      <td>GBP</td>\n",
       "      <td>USD/Currency</td>\n",
       "      <td>0.808</td>\n",
       "    </tr>\n",
       "    <tr>\n",
       "      <th>17</th>\n",
       "      <td>2018-12-31</td>\n",
       "      <td>GBP</td>\n",
       "      <td>USD/Currency</td>\n",
       "      <td>0.750</td>\n",
       "    </tr>\n",
       "    <tr>\n",
       "      <th>18</th>\n",
       "      <td>2019-12-31</td>\n",
       "      <td>GBP</td>\n",
       "      <td>USD/Currency</td>\n",
       "      <td>0.784</td>\n",
       "    </tr>\n",
       "    <tr>\n",
       "      <th>19</th>\n",
       "      <td>2020-12-31</td>\n",
       "      <td>GBP</td>\n",
       "      <td>USD/Currency</td>\n",
       "      <td>0.779</td>\n",
       "    </tr>\n",
       "  </tbody>\n",
       "</table>\n",
       "</div>"
      ],
      "text/plain": [
       "         Year Currency     Direction  Value\n",
       "0  2016-12-31      EUR  Currency/USD  1.064\n",
       "1  2017-12-31      EUR  Currency/USD  1.083\n",
       "2  2018-12-31      EUR  Currency/USD  1.179\n",
       "3  2019-12-31      EUR  Currency/USD  1.120\n",
       "4  2020-12-31      EUR  Currency/USD  1.140\n",
       "5  2016-12-31      GBP  Currency/USD  1.299\n",
       "6  2017-12-31      GBP  Currency/USD  1.238\n",
       "7  2018-12-31      GBP  Currency/USD  1.333\n",
       "8  2019-12-31      GBP  Currency/USD  1.276\n",
       "9  2020-12-31      GBP  Currency/USD  1.284\n",
       "10 2016-12-31      EUR  USD/Currency  0.940\n",
       "11 2017-12-31      EUR  USD/Currency  0.923\n",
       "12 2018-12-31      EUR  USD/Currency  0.848\n",
       "13 2019-12-31      EUR  USD/Currency  0.893\n",
       "14 2020-12-31      EUR  USD/Currency  0.877\n",
       "15 2016-12-31      GBP  USD/Currency  0.770\n",
       "16 2017-12-31      GBP  USD/Currency  0.808\n",
       "17 2018-12-31      GBP  USD/Currency  0.750\n",
       "18 2019-12-31      GBP  USD/Currency  0.784\n",
       "19 2020-12-31      GBP  USD/Currency  0.779"
      ]
     },
     "execution_count": 41,
     "metadata": {},
     "output_type": "execute_result"
    }
   ],
   "source": [
    "df = usd_exchange_rates_df()\n",
    "df.melt(id_vars=[\"Year\", \"Currency\"], var_name=\"Direction\", value_name=\"Value\")"
   ]
  }
 ],
 "metadata": {
  "jupytext": {
   "formats": "ipynb,py:percent"
  },
  "kernelspec": {
   "display_name": "Python 3 (ipykernel)",
   "language": "python",
   "name": "python3"
  },
  "language_info": {
   "codemirror_mode": {
    "name": "ipython",
    "version": 3
   },
   "file_extension": ".py",
   "mimetype": "text/x-python",
   "name": "python",
   "nbconvert_exporter": "python",
   "pygments_lexer": "ipython3",
   "version": "3.11.2"
  },
  "toc-showtags": false
 },
 "nbformat": 4,
 "nbformat_minor": 5
}
