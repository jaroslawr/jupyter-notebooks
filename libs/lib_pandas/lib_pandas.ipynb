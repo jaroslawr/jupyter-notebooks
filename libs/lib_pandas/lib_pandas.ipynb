{
 "cells": [
  {
   "cell_type": "markdown",
   "id": "fa81b936-31a5-472c-98ef-3b7f06f023b4",
   "metadata": {},
   "source": [
    "# Data analysis with Pandas"
   ]
  },
  {
   "cell_type": "markdown",
   "id": "8fbcce94-54d5-4f2e-a056-1ca03279d6b4",
   "metadata": {},
   "source": [
    "This is a guide to doing data analysis with Pandas written to help understand the most important concepts and usage patterns in a way that sticks with you. I try to make things understandable and memorable by adhering to some principles:\n",
    "\n",
    "- Identify and explore important general concepts:\n",
    "    - the Pandas data model: series, dataframes, indexes and multi-indexes\n",
    "    - wide classes of operations on data: selection, grouping, aggregations and transformations, sorting\n",
    "    - shapes that datasets come in and how to convert between them: long vs wide\n",
    "- Use well chosen examples:\n",
    "    - preferrably real datasets\n",
    "    - understandable for a broad audience\n",
    "    - interesting\n",
    "    - distinct from one another in structure\n",
    "- Stay concise, avoid minutiae that can be easily looked up in the documentation, provide pointers to references instead\n"
   ]
  },
  {
   "cell_type": "markdown",
   "id": "artistic-green",
   "metadata": {},
   "source": [
    "Before we begin we need to import all the libraries we will use. We also change some options that I almost always find useful to change:"
   ]
  },
  {
   "cell_type": "code",
   "execution_count": 1,
   "id": "5c4bbbae-0e06-4050-91e7-88525697000e",
   "metadata": {},
   "outputs": [
    {
     "name": "stdout",
     "output_type": "stream",
     "text": [
      "Exception reporting mode: Plain\n"
     ]
    }
   ],
   "source": [
    "# Import libraries\n",
    "import numpy as np\n",
    "import pandas as pd\n",
    "\n",
    "# Make Pandas less eager to hide data in dataframes with \"...\"\n",
    "pd.options.display.max_rows = 999\n",
    "pd.options.display.max_columns = 100\n",
    "pd.options.display.max_colwidth = 200\n",
    "\n",
    "# Sensible floating point precision for basic use cases\n",
    "pd.options.display.precision = 3\n",
    "\n",
    "# Short exception tracebacks\n",
    "%xmode Plain"
   ]
  },
  {
   "cell_type": "markdown",
   "id": "a4bc195e-8ae5-4b91-9fc8-1cc3d7829cfe",
   "metadata": {},
   "source": [
    "## Pandas data model"
   ]
  },
  {
   "cell_type": "markdown",
   "id": "8208038d-2636-4d32-b8f0-b199c030e3a8",
   "metadata": {},
   "source": [
    "We begin by exploring the basic Pandas data structures: series, indexes and dataframes. Our goal in this section is to show how things fit together in Pandas conceptually, rather than to be comprehensive about the specific features. We use many simple examples to build a solid foundation of understanding for analysing real datasets afterwards."
   ]
  },
  {
   "cell_type": "markdown",
   "id": "eeecb4a4-3a8e-40e5-8f3b-d8fd7496ef36",
   "metadata": {},
   "source": [
    "### Series and basic indexes"
   ]
  },
  {
   "cell_type": "markdown",
   "id": "4380a5d3-f5a5-488d-b8a7-0e9876d76d9e",
   "metadata": {},
   "source": [
    "The basic pandas data type is a series which is a collection of data points. For our first example, we look at the number of points scored in the 2022/2023 NBA season by individual players. The numbers for 5 players who scored the most are as follows:"
   ]
  },
  {
   "cell_type": "code",
   "execution_count": 2,
   "id": "3eb6c342-5c04-431d-9d88-43790a600171",
   "metadata": {},
   "outputs": [
    {
     "data": {
      "text/plain": [
       "0    2225\n",
       "1    2183\n",
       "2    2138\n",
       "3    2135\n",
       "4    1959\n",
       "dtype: int64"
      ]
     },
     "execution_count": 2,
     "metadata": {},
     "output_type": "execute_result"
    }
   ],
   "source": [
    "points_by_pos = pd.Series([2225, 2183, 2138, 2135, 1959])\n",
    "points_by_pos"
   ]
  },
  {
   "cell_type": "markdown",
   "id": "9a2e5d31-49c9-4ec4-a890-3beff7622aeb",
   "metadata": {},
   "source": [
    "The right column of the output shows the values in the series.  `dtype: int64` refers to the data type of the values."
   ]
  },
  {
   "cell_type": "markdown",
   "id": "839f9e89-becf-43f0-ad0e-43e5ed921b38",
   "metadata": {},
   "source": [
    "The left column of the output shows labels corresponding to the values in the series. The labels are part of the *index* that is a part of every series. By default the series is indexed simply using position of each value in the series. The index object in this case looks like this:"
   ]
  },
  {
   "cell_type": "code",
   "execution_count": 3,
   "id": "77929e07-0847-4f62-9578-f5cf3d5bece5",
   "metadata": {
    "tags": []
   },
   "outputs": [
    {
     "data": {
      "text/plain": [
       "RangeIndex(start=0, stop=5, step=1)"
      ]
     },
     "execution_count": 3,
     "metadata": {},
     "output_type": "execute_result"
    }
   ],
   "source": [
    "points_by_pos.index"
   ]
  },
  {
   "cell_type": "markdown",
   "id": "932813fb-0b60-45bf-ba66-cae67dfbbe64",
   "metadata": {},
   "source": [
    "The  series `loc[]` method takes an index label as argument and looks up the corresponding value in the series. For the default index it ends up working like basic list indexing (in the simplest case, since it does label lookup it does not support negative indexing):"
   ]
  },
  {
   "cell_type": "code",
   "execution_count": 4,
   "id": "35f91ebf-fb61-441e-b0d6-18b083eea1fd",
   "metadata": {
    "tags": []
   },
   "outputs": [
    {
     "data": {
      "text/plain": [
       "2138"
      ]
     },
     "execution_count": 4,
     "metadata": {},
     "output_type": "execute_result"
    }
   ],
   "source": [
    "points_by_pos.loc[2]"
   ]
  },
  {
   "cell_type": "markdown",
   "id": "e0b5d1fb-71fa-4e02-b131-9eaddfe14d43",
   "metadata": {},
   "source": [
    "The index is what makes a series something more than a simple list. It makes it possible to refer to the values in the series by whatever label is appropriate: by a string, by a date, by a pair of numbers, ... It also plays a role similar to a database index, hence the name: it speeds up operations like joins that have to lookup by label repeatedly.  We can usefully index each number in this series with the name of the player who scored that many points:"
   ]
  },
  {
   "cell_type": "code",
   "execution_count": 5,
   "id": "f7aa7e77-24e8-4821-8176-9bb6e6627ac9",
   "metadata": {},
   "outputs": [
    {
     "data": {
      "text/plain": [
       "Jayson Tatum               2225\n",
       "Joel Embiid                2183\n",
       "Luka Dončić                2138\n",
       "Shai Gilgeous-Alexander    2135\n",
       "Giannis Antetokounmpo      1959\n",
       "dtype: int64"
      ]
     },
     "execution_count": 5,
     "metadata": {},
     "output_type": "execute_result"
    }
   ],
   "source": [
    "points_by_player = pd.Series({\n",
    "    \"Jayson Tatum\": 2225,\n",
    "    \"Joel Embiid\": 2183,\n",
    "    \"Luka Dončić\": 2138,\n",
    "    \"Shai Gilgeous-Alexander\": 2135,\n",
    "    \"Giannis Antetokounmpo\": 1959\n",
    "})\n",
    "points_by_player"
   ]
  },
  {
   "cell_type": "markdown",
   "id": "ce99c4fb-127e-4c4f-b5a1-93207d1bcaed",
   "metadata": {},
   "source": [
    "The index object itself now looks like this:"
   ]
  },
  {
   "cell_type": "code",
   "execution_count": 6,
   "id": "3e4f51b1-13bf-48cc-a766-dec2e0ab2b58",
   "metadata": {
    "tags": []
   },
   "outputs": [
    {
     "data": {
      "text/plain": [
       "Index(['Jayson Tatum', 'Joel Embiid', 'Luka Dončić', 'Shai Gilgeous-Alexander',\n",
       "       'Giannis Antetokounmpo'],\n",
       "      dtype='object')"
      ]
     },
     "execution_count": 6,
     "metadata": {},
     "output_type": "execute_result"
    }
   ],
   "source": [
    "points_by_player.index"
   ]
  },
  {
   "cell_type": "markdown",
   "id": "0f47320d-cf9e-4b71-b99d-47d310474a7f",
   "metadata": {},
   "source": [
    "#### Selecting data"
   ]
  },
  {
   "cell_type": "markdown",
   "id": "d2514a12-74fd-435c-b786-558dd002eb47",
   "metadata": {},
   "source": [
    "With the index in place, we can now lookup the score for a player using the label:"
   ]
  },
  {
   "cell_type": "code",
   "execution_count": 7,
   "id": "9a75d34b-3e05-456a-8a3b-8fea031ba1c2",
   "metadata": {
    "tags": []
   },
   "outputs": [
    {
     "data": {
      "text/plain": [
       "2225"
      ]
     },
     "execution_count": 7,
     "metadata": {},
     "output_type": "execute_result"
    }
   ],
   "source": [
    "points_by_player.loc[\"Jayson Tatum\"]"
   ]
  },
  {
   "cell_type": "markdown",
   "id": "e85a7a93-3e87-4f96-b7eb-910ad23330c6",
   "metadata": {
    "tags": []
   },
   "source": [
    "We can always lookup scores using list-like indices with `iloc[]`, regardless of what the series index is:"
   ]
  },
  {
   "cell_type": "code",
   "execution_count": 8,
   "id": "57bf2a49-79b8-4547-b3cb-abb4281508fc",
   "metadata": {
    "tags": []
   },
   "outputs": [
    {
     "data": {
      "text/plain": [
       "2225"
      ]
     },
     "execution_count": 8,
     "metadata": {},
     "output_type": "execute_result"
    }
   ],
   "source": [
    "points_by_player.iloc[0]"
   ]
  },
  {
   "cell_type": "markdown",
   "id": "d5879ff6-55d6-43c1-8687-e94c5151c2d6",
   "metadata": {},
   "source": [
    "We can pass in a list as a argument when using both `loc[]` and `iloc[]` which allows to select a subset of the series, including the selection of a single data point as a single-element series rather than as a scalar:"
   ]
  },
  {
   "cell_type": "code",
   "execution_count": 9,
   "id": "84646922-caca-4c06-96d5-1bd8064ae2cb",
   "metadata": {
    "tags": []
   },
   "outputs": [
    {
     "data": {
      "text/plain": [
       "Jayson Tatum               2225\n",
       "Joel Embiid                2183\n",
       "Luka Dončić                2138\n",
       "Shai Gilgeous-Alexander    2135\n",
       "Giannis Antetokounmpo      1959\n",
       "dtype: int64"
      ]
     },
     "execution_count": 9,
     "metadata": {},
     "output_type": "execute_result"
    }
   ],
   "source": [
    "points_by_player"
   ]
  },
  {
   "cell_type": "code",
   "execution_count": 10,
   "id": "b68c1ddd-21d5-4e29-9082-dfa88398b258",
   "metadata": {
    "tags": []
   },
   "outputs": [
    {
     "data": {
      "text/plain": [
       "Jayson Tatum    2225\n",
       "dtype: int64"
      ]
     },
     "execution_count": 10,
     "metadata": {},
     "output_type": "execute_result"
    }
   ],
   "source": [
    "points_by_player.loc[[\"Jayson Tatum\"]]"
   ]
  },
  {
   "cell_type": "code",
   "execution_count": 11,
   "id": "3eb85a9a-f9be-4014-b9ea-d45dee104c00",
   "metadata": {
    "tags": []
   },
   "outputs": [
    {
     "data": {
      "text/plain": [
       "Jayson Tatum    2225\n",
       "Joel Embiid     2183\n",
       "dtype: int64"
      ]
     },
     "execution_count": 11,
     "metadata": {},
     "output_type": "execute_result"
    }
   ],
   "source": [
    "points_by_player.loc[[\"Jayson Tatum\", \"Joel Embiid\"]]"
   ]
  },
  {
   "cell_type": "code",
   "execution_count": 12,
   "id": "3b8652cf-ecc5-49d7-bab3-8f284e3e27e5",
   "metadata": {
    "tags": []
   },
   "outputs": [
    {
     "data": {
      "text/plain": [
       "Jayson Tatum    2225\n",
       "dtype: int64"
      ]
     },
     "execution_count": 12,
     "metadata": {},
     "output_type": "execute_result"
    }
   ],
   "source": [
    "points_by_player.iloc[[0]]"
   ]
  },
  {
   "cell_type": "code",
   "execution_count": 87,
   "id": "5cbdbe54-792e-45b5-ae6f-2849423fba2d",
   "metadata": {
    "tags": []
   },
   "outputs": [
    {
     "data": {
      "text/plain": [
       "Jayson Tatum    2225\n",
       "Joel Embiid     2183\n",
       "dtype: int64"
      ]
     },
     "execution_count": 87,
     "metadata": {},
     "output_type": "execute_result"
    }
   ],
   "source": [
    "points_by_player.iloc[[0, 1]]"
   ]
  },
  {
   "cell_type": "markdown",
   "id": "2cc1568a-0727-4f31-9010-3d4fe5f94167",
   "metadata": {
    "tags": []
   },
   "source": [
    "Both `loc[]` and `iloc[]` also accept a slice as an argument, in case of `iloc[]` this works nearly the same as slicing a Python list, with the right endpoint not included in the result:"
   ]
  },
  {
   "cell_type": "code",
   "execution_count": 14,
   "id": "9041f3bb-4fd7-4175-a880-9756cf97a032",
   "metadata": {
    "tags": []
   },
   "outputs": [
    {
     "data": {
      "text/plain": [
       "Joel Embiid                2183\n",
       "Luka Dončić                2138\n",
       "Shai Gilgeous-Alexander    2135\n",
       "dtype: int64"
      ]
     },
     "execution_count": 14,
     "metadata": {},
     "output_type": "execute_result"
    }
   ],
   "source": [
    "points_by_player.iloc[1:4]"
   ]
  },
  {
   "cell_type": "markdown",
   "id": "1bb3b998-6860-49c7-8b4b-334321b74a04",
   "metadata": {},
   "source": [
    "In case of `loc[]` in contrast to Python lists and to `iloc[]` the right endpoint of the slice is included in the result:"
   ]
  },
  {
   "cell_type": "code",
   "execution_count": 15,
   "id": "0d650abe-7f88-40c5-bc2e-7e7edef5964d",
   "metadata": {
    "tags": []
   },
   "outputs": [
    {
     "data": {
      "text/plain": [
       "Joel Embiid                2183\n",
       "Luka Dončić                2138\n",
       "Shai Gilgeous-Alexander    2135\n",
       "dtype: int64"
      ]
     },
     "execution_count": 15,
     "metadata": {},
     "output_type": "execute_result"
    }
   ],
   "source": [
    "points_by_player.loc[\"Joel Embiid\":\"Shai Gilgeous-Alexander\"]"
   ]
  },
  {
   "cell_type": "markdown",
   "id": "d38a2a5b-e50a-4073-bebc-905919a26ab8",
   "metadata": {},
   "source": [
    "Finally, you can also select elements using `[]`:"
   ]
  },
  {
   "cell_type": "code",
   "execution_count": 85,
   "id": "6f7682ea-18a4-47ed-9070-687cf4137f29",
   "metadata": {},
   "outputs": [
    {
     "data": {
      "text/plain": [
       "2183"
      ]
     },
     "execution_count": 85,
     "metadata": {},
     "output_type": "execute_result"
    }
   ],
   "source": [
    "points_by_player[\"Joel Embiid\"]"
   ]
  },
  {
   "cell_type": "markdown",
   "id": "1c864a1a-8ef1-4202-a00d-3559e46ecb3c",
   "metadata": {},
   "source": [
    "However `[]` can be quite confusing - whether it looks up elements by label or by position depends on the data type of the argument and on the data type of the labels:\n",
    "  - `[]` with a single integer argument selects element by label, when series labels are integers, otherwise it selects by position, though the last behaviour is now deprecated and will get removed\n",
    "  - `[]` with a slice with integer endpoints selects by position regardless of the datatype of the label\n",
    "\n",
    "There are also additional caveats when using `[]` with dataframes that we cover later, this is why we suggest to explictly select by label with `loc[]` or by position with `iloc[]`, except for some very basic uses (selection of column from dataframe)."
   ]
  },
  {
   "cell_type": "markdown",
   "id": "36f689c4-7051-41de-8e6e-0acad8e7bd64",
   "metadata": {},
   "source": [
    "#### Sorting by label and by value"
   ]
  },
  {
   "cell_type": "markdown",
   "id": "6d08b38a-4fcc-4619-a2e2-5acb011181db",
   "metadata": {},
   "source": [
    "The ability to select data in a series by label using a slice brings up an important point: data points in the series conceptually have a definite order that is arbitrary, it is up to the user to sort the series in a way that is convenient for the task at hand. Consider a series using dates as labels - it is very tempting to expect `series.loc[pd.to_datetime(\"2023-01-01\"):pd.to_datetime(\"2023-12-31\")]` to get us simultaneously a) only data from 2023 and b) all the data from 2023 present in the series. The sneaky thing is that this is only guaranteed to be true if the series is sorted by label using calendar-like ordering - when the data was already in the right order in the data source it was imported from, or when it was explictly sorted. We can check if this is the case using attributes of the series index:"
   ]
  },
  {
   "cell_type": "code",
   "execution_count": 17,
   "id": "80004328-86a7-4d2d-932c-1f6708854019",
   "metadata": {
    "tags": []
   },
   "outputs": [
    {
     "data": {
      "text/plain": [
       "False"
      ]
     },
     "execution_count": 17,
     "metadata": {},
     "output_type": "execute_result"
    }
   ],
   "source": [
    "points_by_player.index.is_monotonic_decreasing # series labels are in the decreasing order according to <= etc."
   ]
  },
  {
   "cell_type": "code",
   "execution_count": 18,
   "id": "13935950-359d-44fc-8fb5-2b68a2038673",
   "metadata": {
    "tags": []
   },
   "outputs": [
    {
     "data": {
      "text/plain": [
       "False"
      ]
     },
     "execution_count": 18,
     "metadata": {},
     "output_type": "execute_result"
    }
   ],
   "source": [
    "points_by_player.index.is_monotonic_increasing # series labels are in the increasing order according to <= etc."
   ]
  },
  {
   "cell_type": "markdown",
   "id": "8366a051-faba-45ee-8545-42d45a03b225",
   "metadata": {},
   "source": [
    "If the series is not sorted by label and we try to use `loc[]` with a slice argument, Pandas will first look for an element equal to the left end point of the slice and will include consecutive elements of the series in the result until encountering the element equal to the right endpoint. In this case it is possible for `series.loc[pd.to_datetime(\"2023-01-01\"):pd.to_datetime(\"2023-12-31\")]` to both include data points that are not from 2023 and to not include some series data points that are in fact from 2023. If either a label equal to the left endpoint or a label equal to the right endpoint can not be found in the series Pandas will raise a `KeyError`. To avoid confusion of this kind, it is a good habit to put series and dataframes that are inputs for data analysis in some definite order that is convenient given how the data will be analysed, for example if you intend to slice the series by date, sort it by date. `sort_index()` without arguments will put the series labels in a monotonic increasing order, with `ascending=False` keyword argument in a monotonic decreasing order:"
   ]
  },
  {
   "cell_type": "code",
   "execution_count": 19,
   "id": "8fefa03c-0b02-4c90-ac9a-c7194884b259",
   "metadata": {
    "tags": []
   },
   "outputs": [
    {
     "data": {
      "text/plain": [
       "Jayson Tatum               2225\n",
       "Joel Embiid                2183\n",
       "Luka Dončić                2138\n",
       "Shai Gilgeous-Alexander    2135\n",
       "Giannis Antetokounmpo      1959\n",
       "dtype: int64"
      ]
     },
     "execution_count": 19,
     "metadata": {},
     "output_type": "execute_result"
    }
   ],
   "source": [
    "points_by_player"
   ]
  },
  {
   "cell_type": "code",
   "execution_count": 20,
   "id": "8db64aed-5c63-4a21-a7c1-377d8e878c77",
   "metadata": {
    "tags": []
   },
   "outputs": [
    {
     "data": {
      "text/plain": [
       "Giannis Antetokounmpo      1959\n",
       "Jayson Tatum               2225\n",
       "Joel Embiid                2183\n",
       "Luka Dončić                2138\n",
       "Shai Gilgeous-Alexander    2135\n",
       "dtype: int64"
      ]
     },
     "execution_count": 20,
     "metadata": {},
     "output_type": "execute_result"
    }
   ],
   "source": [
    "points_by_player_sorted = points_by_player.sort_index()\n",
    "points_by_player_sorted"
   ]
  },
  {
   "cell_type": "code",
   "execution_count": 21,
   "id": "dc734f64-bd20-4816-a85b-0b9e4c8c92a2",
   "metadata": {
    "tags": []
   },
   "outputs": [
    {
     "data": {
      "text/plain": [
       "True"
      ]
     },
     "execution_count": 21,
     "metadata": {},
     "output_type": "execute_result"
    }
   ],
   "source": [
    "points_by_player_sorted.index.is_monotonic_increasing"
   ]
  },
  {
   "cell_type": "code",
   "execution_count": 22,
   "id": "a4e00f1a-554f-45ad-9433-168aa4c92d97",
   "metadata": {
    "tags": []
   },
   "outputs": [
    {
     "data": {
      "text/plain": [
       "Shai Gilgeous-Alexander    2135\n",
       "Luka Dončić                2138\n",
       "Joel Embiid                2183\n",
       "Jayson Tatum               2225\n",
       "Giannis Antetokounmpo      1959\n",
       "dtype: int64"
      ]
     },
     "execution_count": 22,
     "metadata": {},
     "output_type": "execute_result"
    }
   ],
   "source": [
    "points_by_player_sorted = points_by_player.sort_index(ascending=False)\n",
    "points_by_player_sorted"
   ]
  },
  {
   "cell_type": "code",
   "execution_count": 23,
   "id": "65e49b99-873e-4cfc-8bac-5739c304adf4",
   "metadata": {
    "tags": []
   },
   "outputs": [
    {
     "data": {
      "text/plain": [
       "True"
      ]
     },
     "execution_count": 23,
     "metadata": {},
     "output_type": "execute_result"
    }
   ],
   "source": [
    "points_by_player_sorted.index.is_monotonic_decreasing"
   ]
  },
  {
   "cell_type": "markdown",
   "id": "fedfb4f5-4c4e-4e08-88f0-4e9cfedce44d",
   "metadata": {},
   "source": [
    "Note that labels and corresponding values are inseparable during sorting. `sort_index()` compares labels but reorders whole pairs composed of label and value. `sort_values()`, the second main way to sort a series, compares values and reorders pairs of label and value:"
   ]
  },
  {
   "cell_type": "code",
   "execution_count": 24,
   "id": "5145327c-0d67-4d3f-9ace-4daac5c0f577",
   "metadata": {
    "tags": []
   },
   "outputs": [
    {
     "data": {
      "text/plain": [
       "Giannis Antetokounmpo      1959\n",
       "Shai Gilgeous-Alexander    2135\n",
       "Luka Dončić                2138\n",
       "Joel Embiid                2183\n",
       "Jayson Tatum               2225\n",
       "dtype: int64"
      ]
     },
     "execution_count": 24,
     "metadata": {},
     "output_type": "execute_result"
    }
   ],
   "source": [
    "points_by_player.sort_values()"
   ]
  },
  {
   "cell_type": "markdown",
   "id": "7a0809e2-832f-4e6e-ae29-ffc1df5209dc",
   "metadata": {},
   "source": [
    "#### Calculating with series"
   ]
  },
  {
   "cell_type": "markdown",
   "id": "bbfd9ae4-e0b9-4ed0-a62e-4c9885127e09",
   "metadata": {},
   "source": [
    "Moving on, series have many methods for doing basic calculations:"
   ]
  },
  {
   "cell_type": "code",
   "execution_count": 25,
   "id": "779cde34-9386-4e5f-ad78-a144fb668184",
   "metadata": {
    "tags": []
   },
   "outputs": [
    {
     "data": {
      "text/plain": [
       "(1959, 2225)"
      ]
     },
     "execution_count": 25,
     "metadata": {},
     "output_type": "execute_result"
    }
   ],
   "source": [
    "(points_by_player.min(), points_by_player.max())"
   ]
  },
  {
   "cell_type": "code",
   "execution_count": 26,
   "id": "b2d7c484-204e-4aab-b7ba-d721374ba8d5",
   "metadata": {
    "tags": []
   },
   "outputs": [
    {
     "data": {
      "text/plain": [
       "2128.0"
      ]
     },
     "execution_count": 26,
     "metadata": {},
     "output_type": "execute_result"
    }
   ],
   "source": [
    "points_by_player.mean()"
   ]
  },
  {
   "cell_type": "code",
   "execution_count": 27,
   "id": "a0d43fed-2cac-4491-9539-f24a60b69f14",
   "metadata": {
    "tags": []
   },
   "outputs": [
    {
     "data": {
      "text/plain": [
       "10640"
      ]
     },
     "execution_count": 27,
     "metadata": {},
     "output_type": "execute_result"
    }
   ],
   "source": [
    "points_by_player.sum()"
   ]
  },
  {
   "cell_type": "markdown",
   "id": "3799b234-9815-4b5f-8f32-5f16f4f387a6",
   "metadata": {},
   "source": [
    "We can add, subtract, multiply, divide, ... a series by a constant or a constant by a series resulting in the given arithmetical operation being applied to each element of the series (and each time with the same constant as the second operand), producing a series of the same length. For example, we can express the number of points as a fraction of the points scored by the player who scored the most in this season - to do so we divide the series by a constant (the top score given by `points_by_player.iloc[0]`):"
   ]
  },
  {
   "cell_type": "code",
   "execution_count": 28,
   "id": "2a7ebae9-c963-4a0e-8a34-da646718cd70",
   "metadata": {},
   "outputs": [
    {
     "data": {
      "text/plain": [
       "Jayson Tatum               1.000\n",
       "Joel Embiid                0.981\n",
       "Luka Dončić                0.961\n",
       "Shai Gilgeous-Alexander    0.960\n",
       "Giannis Antetokounmpo      0.880\n",
       "dtype: float64"
      ]
     },
     "execution_count": 28,
     "metadata": {},
     "output_type": "execute_result"
    }
   ],
   "source": [
    "points_by_player / points_by_player.iloc[0]"
   ]
  },
  {
   "cell_type": "markdown",
   "id": "3c96f2cc-0a8f-4e42-8a1a-53ad37a717e2",
   "metadata": {
    "tags": []
   },
   "source": [
    "We can also compute what is the fraction of the total those five players scored that each players points constitute:"
   ]
  },
  {
   "cell_type": "code",
   "execution_count": 29,
   "id": "cae1b59b-3e54-4d74-8b95-ee4caca3b838",
   "metadata": {},
   "outputs": [
    {
     "data": {
      "text/plain": [
       "Jayson Tatum               0.209\n",
       "Joel Embiid                0.205\n",
       "Luka Dončić                0.201\n",
       "Shai Gilgeous-Alexander    0.201\n",
       "Giannis Antetokounmpo      0.184\n",
       "dtype: float64"
      ]
     },
     "execution_count": 29,
     "metadata": {},
     "output_type": "execute_result"
    }
   ],
   "source": [
    "points_by_player / points_by_player.sum()"
   ]
  },
  {
   "cell_type": "markdown",
   "id": "b19bac77-c587-457d-8b30-8dcc6b6cd2d4",
   "metadata": {
    "tags": []
   },
   "source": [
    "Series can be compared to a constant using standard comparison operators:"
   ]
  },
  {
   "cell_type": "code",
   "execution_count": 30,
   "id": "d8d3b316-0534-4069-bdee-4fcb796cfcd0",
   "metadata": {
    "tags": []
   },
   "outputs": [
    {
     "data": {
      "text/plain": [
       "Jayson Tatum                True\n",
       "Joel Embiid                 True\n",
       "Luka Dončić                 True\n",
       "Shai Gilgeous-Alexander     True\n",
       "Giannis Antetokounmpo      False\n",
       "dtype: bool"
      ]
     },
     "execution_count": 30,
     "metadata": {},
     "output_type": "execute_result"
    }
   ],
   "source": [
    "points_by_player >= 2000"
   ]
  },
  {
   "cell_type": "markdown",
   "id": "fdfbea19-fe77-404a-ad57-3493cf8a4eda",
   "metadata": {},
   "source": [
    "Lets look at another series so that we can discuss things like adding two series. Here is how many points the same five players scored one season earlier:"
   ]
  },
  {
   "cell_type": "code",
   "execution_count": 31,
   "id": "9b4dce74-5891-4ce4-b4b0-fb8f7eddbc91",
   "metadata": {
    "tags": []
   },
   "outputs": [
    {
     "data": {
      "text/plain": [
       "Giannis Antetokounmpo      2002\n",
       "Jayson Tatum               2046\n",
       "Shai Gilgeous-Alexander    1371\n",
       "Luka Dončić                1847\n",
       "Joel Embiid                2079\n",
       "dtype: int64"
      ]
     },
     "execution_count": 31,
     "metadata": {},
     "output_type": "execute_result"
    }
   ],
   "source": [
    "points_by_player_prev_season = pd.Series({\n",
    "    \"Giannis Antetokounmpo\": 2002,\n",
    "    \"Jayson Tatum\": 2046,\n",
    "    \"Shai Gilgeous-Alexander\": 1371,\n",
    "    \"Luka Dončić\": 1847,\n",
    "    \"Joel Embiid\": 2079\n",
    "})\n",
    "points_by_player_prev_season"
   ]
  },
  {
   "cell_type": "markdown",
   "id": "057b7fce-5569-458a-82ca-9199390dfa1c",
   "metadata": {},
   "source": [
    "We can now sum points from both season:"
   ]
  },
  {
   "cell_type": "code",
   "execution_count": 32,
   "id": "91b63ea5-004e-4e36-8575-036614beb128",
   "metadata": {
    "tags": []
   },
   "outputs": [
    {
     "data": {
      "text/plain": [
       "Giannis Antetokounmpo      3961\n",
       "Jayson Tatum               4271\n",
       "Joel Embiid                4262\n",
       "Luka Dončić                3985\n",
       "Shai Gilgeous-Alexander    3506\n",
       "dtype: int64"
      ]
     },
     "execution_count": 32,
     "metadata": {},
     "output_type": "execute_result"
    }
   ],
   "source": [
    "points_by_player + points_by_player_prev_season"
   ]
  },
  {
   "cell_type": "markdown",
   "id": "6c399eab-e979-4548-b291-72738f91e807",
   "metadata": {},
   "source": [
    "### Dataframes"
   ]
  },
  {
   "cell_type": "markdown",
   "id": "6fd7a984-071b-4c5d-8b37-ce51fd831181",
   "metadata": {},
   "source": [
    "For the purposes of understanding the Pandas API and not its implementation, a dataframe is a two dimensional table of values with labels attached to both rows and columns, like a series of column series. All the column series share the same row index, or to put it differently all the columns share the same row labels. Another index, the column index, assigns labels to the columns themselves. The dataframe API generalizes the series API, with the additional complexity introduced by the second dimension and the fact that different columns can hold different types of values. Lets see how this looks like - we start by putting the example series from the previous section in a dataframe:"
   ]
  },
  {
   "cell_type": "code",
   "execution_count": 33,
   "id": "18167bea-8eb4-4c29-a434-fba9f224dc48",
   "metadata": {
    "tags": []
   },
   "outputs": [
    {
     "data": {
      "text/html": [
       "<div>\n",
       "<style scoped>\n",
       "    .dataframe tbody tr th:only-of-type {\n",
       "        vertical-align: middle;\n",
       "    }\n",
       "\n",
       "    .dataframe tbody tr th {\n",
       "        vertical-align: top;\n",
       "    }\n",
       "\n",
       "    .dataframe thead th {\n",
       "        text-align: right;\n",
       "    }\n",
       "</style>\n",
       "<table border=\"1\" class=\"dataframe\">\n",
       "  <thead>\n",
       "    <tr style=\"text-align: right;\">\n",
       "      <th></th>\n",
       "      <th>2021/2022</th>\n",
       "      <th>2022/2023</th>\n",
       "    </tr>\n",
       "  </thead>\n",
       "  <tbody>\n",
       "    <tr>\n",
       "      <th>Giannis Antetokounmpo</th>\n",
       "      <td>2002</td>\n",
       "      <td>1959</td>\n",
       "    </tr>\n",
       "    <tr>\n",
       "      <th>Jayson Tatum</th>\n",
       "      <td>2046</td>\n",
       "      <td>2225</td>\n",
       "    </tr>\n",
       "    <tr>\n",
       "      <th>Joel Embiid</th>\n",
       "      <td>2079</td>\n",
       "      <td>2183</td>\n",
       "    </tr>\n",
       "    <tr>\n",
       "      <th>Luka Dončić</th>\n",
       "      <td>1847</td>\n",
       "      <td>2138</td>\n",
       "    </tr>\n",
       "    <tr>\n",
       "      <th>Shai Gilgeous-Alexander</th>\n",
       "      <td>1371</td>\n",
       "      <td>2135</td>\n",
       "    </tr>\n",
       "  </tbody>\n",
       "</table>\n",
       "</div>"
      ],
      "text/plain": [
       "                         2021/2022  2022/2023\n",
       "Giannis Antetokounmpo         2002       1959\n",
       "Jayson Tatum                  2046       2225\n",
       "Joel Embiid                   2079       2183\n",
       "Luka Dončić                   1847       2138\n",
       "Shai Gilgeous-Alexander       1371       2135"
      ]
     },
     "execution_count": 33,
     "metadata": {},
     "output_type": "execute_result"
    }
   ],
   "source": [
    "points_by_player_by_season = pd.DataFrame({\n",
    "    \"2021/2022\": points_by_player_prev_season,\n",
    "    \"2022/2023\": points_by_player\n",
    "})\n",
    "points_by_player_by_season"
   ]
  },
  {
   "cell_type": "markdown",
   "id": "25b67e76-36d0-4a6c-bff0-8ba3ade9eac3",
   "metadata": {},
   "source": [
    "You can access the column series with `[]` in simple cases, though as with series `loc[]` is often preferred:"
   ]
  },
  {
   "cell_type": "code",
   "execution_count": 34,
   "id": "c6d33ede-1996-47b0-84c6-118509f5216f",
   "metadata": {},
   "outputs": [
    {
     "data": {
      "text/plain": [
       "Giannis Antetokounmpo      2002\n",
       "Jayson Tatum               2046\n",
       "Joel Embiid                2079\n",
       "Luka Dončić                1847\n",
       "Shai Gilgeous-Alexander    1371\n",
       "Name: 2021/2022, dtype: int64"
      ]
     },
     "execution_count": 34,
     "metadata": {},
     "output_type": "execute_result"
    }
   ],
   "source": [
    "points_by_player_by_season[\"2021/2022\"]"
   ]
  },
  {
   "cell_type": "markdown",
   "id": "4491d1f5-6118-4e36-a8ef-ceee8cf360a8",
   "metadata": {},
   "source": [
    "`index` attribute in case of a dataframe holds the row index and is shared across all the column series:"
   ]
  },
  {
   "cell_type": "code",
   "execution_count": 35,
   "id": "d211bfe0-a358-461f-90e8-c8e72eb62dec",
   "metadata": {
    "tags": []
   },
   "outputs": [
    {
     "data": {
      "text/plain": [
       "Index(['Giannis Antetokounmpo', 'Jayson Tatum', 'Joel Embiid', 'Luka Dončić',\n",
       "       'Shai Gilgeous-Alexander'],\n",
       "      dtype='object')"
      ]
     },
     "execution_count": 35,
     "metadata": {},
     "output_type": "execute_result"
    }
   ],
   "source": [
    "points_by_player_by_season.index"
   ]
  },
  {
   "cell_type": "code",
   "execution_count": 36,
   "id": "50a9b946-b34d-4101-be40-53e4c7bafd84",
   "metadata": {},
   "outputs": [
    {
     "data": {
      "text/plain": [
       "True"
      ]
     },
     "execution_count": 36,
     "metadata": {},
     "output_type": "execute_result"
    }
   ],
   "source": [
    "points_by_player_by_season[\"2021/2022\"].index is points_by_player_by_season.index"
   ]
  },
  {
   "cell_type": "code",
   "execution_count": 37,
   "id": "f7cf6f1a-2f8d-4888-be6f-7d88890f9abc",
   "metadata": {},
   "outputs": [
    {
     "data": {
      "text/plain": [
       "True"
      ]
     },
     "execution_count": 37,
     "metadata": {},
     "output_type": "execute_result"
    }
   ],
   "source": [
    "points_by_player_by_season[\"2022/2023\"].index is points_by_player_by_season.index"
   ]
  },
  {
   "cell_type": "markdown",
   "id": "fb097231-7b12-458d-904f-225551305124",
   "metadata": {},
   "source": [
    "The index labelling the columns looks like this:"
   ]
  },
  {
   "cell_type": "code",
   "execution_count": 38,
   "id": "44fe5ac9-dea9-4ce5-99cf-8e56d74f3d7f",
   "metadata": {
    "tags": []
   },
   "outputs": [
    {
     "data": {
      "text/plain": [
       "Index(['2021/2022', '2022/2023'], dtype='object')"
      ]
     },
     "execution_count": 38,
     "metadata": {},
     "output_type": "execute_result"
    }
   ],
   "source": [
    "points_by_player_by_season.columns"
   ]
  },
  {
   "cell_type": "markdown",
   "id": "3ac66145-6d66-4167-95af-b6f63e384153",
   "metadata": {},
   "source": [
    "#### Selecting data"
   ]
  },
  {
   "cell_type": "markdown",
   "id": "14a4a5c0-4b34-4e3d-ac91-e940ac453359",
   "metadata": {},
   "source": [
    "## Cars dataset"
   ]
  },
  {
   "cell_type": "markdown",
   "id": "75396b4f-bb77-4c9c-b413-b0246b23afbf",
   "metadata": {},
   "source": [
    "We will use the mtcars dataset as the default basic example in the following sections. Its contents are easy to understand and interesting and also it is provided in a common simple form: each row describes a single unique unit of observation (a car) and each column is a different measurement for the same unit of observation (miles/gallon, number of cylinders, horsepower etc.):"
   ]
  },
  {
   "cell_type": "code",
   "execution_count": 39,
   "id": "d63f1bd1-d57c-4081-afbc-f0875efe03d2",
   "metadata": {},
   "outputs": [],
   "source": [
    "CARS = pd.read_csv(\"mtcars.csv\")\n",
    "\n",
    "def cars():\n",
    "    # Return a fresh copy every time so that examples do not affect each other\n",
    "    return CARS.copy()"
   ]
  },
  {
   "cell_type": "markdown",
   "id": "f97e000c-f02b-4905-bcad-d79c90051561",
   "metadata": {},
   "source": [
    "## Exploring datasets"
   ]
  },
  {
   "cell_type": "markdown",
   "id": "1f8f8528-7e8e-48c4-8a07-46aa2891384e",
   "metadata": {},
   "source": [
    "`.head(n)` returns the first `n` rows, `.tail(n)` the last `n` rows, and `.sample(n)` random `n` rows:"
   ]
  },
  {
   "cell_type": "code",
   "execution_count": 40,
   "id": "7f6f8722-a4a0-4d3d-affc-d790947679bc",
   "metadata": {
    "scrolled": true
   },
   "outputs": [
    {
     "data": {
      "text/html": [
       "<div>\n",
       "<style scoped>\n",
       "    .dataframe tbody tr th:only-of-type {\n",
       "        vertical-align: middle;\n",
       "    }\n",
       "\n",
       "    .dataframe tbody tr th {\n",
       "        vertical-align: top;\n",
       "    }\n",
       "\n",
       "    .dataframe thead th {\n",
       "        text-align: right;\n",
       "    }\n",
       "</style>\n",
       "<table border=\"1\" class=\"dataframe\">\n",
       "  <thead>\n",
       "    <tr style=\"text-align: right;\">\n",
       "      <th></th>\n",
       "      <th>model</th>\n",
       "      <th>mpg</th>\n",
       "      <th>cyl</th>\n",
       "      <th>disp</th>\n",
       "      <th>hp</th>\n",
       "      <th>drat</th>\n",
       "      <th>wt</th>\n",
       "      <th>qsec</th>\n",
       "      <th>vs</th>\n",
       "      <th>am</th>\n",
       "      <th>gear</th>\n",
       "      <th>carb</th>\n",
       "    </tr>\n",
       "  </thead>\n",
       "  <tbody>\n",
       "    <tr>\n",
       "      <th>0</th>\n",
       "      <td>Mazda RX4</td>\n",
       "      <td>21.0</td>\n",
       "      <td>6</td>\n",
       "      <td>160.0</td>\n",
       "      <td>110</td>\n",
       "      <td>3.9</td>\n",
       "      <td>2.620</td>\n",
       "      <td>16.46</td>\n",
       "      <td>0</td>\n",
       "      <td>1</td>\n",
       "      <td>4</td>\n",
       "      <td>4</td>\n",
       "    </tr>\n",
       "    <tr>\n",
       "      <th>1</th>\n",
       "      <td>Mazda RX4 Wag</td>\n",
       "      <td>21.0</td>\n",
       "      <td>6</td>\n",
       "      <td>160.0</td>\n",
       "      <td>110</td>\n",
       "      <td>3.9</td>\n",
       "      <td>2.875</td>\n",
       "      <td>17.02</td>\n",
       "      <td>0</td>\n",
       "      <td>1</td>\n",
       "      <td>4</td>\n",
       "      <td>4</td>\n",
       "    </tr>\n",
       "  </tbody>\n",
       "</table>\n",
       "</div>"
      ],
      "text/plain": [
       "           model   mpg  cyl   disp   hp  drat     wt   qsec  vs  am  gear  \\\n",
       "0      Mazda RX4  21.0    6  160.0  110   3.9  2.620  16.46   0   1     4   \n",
       "1  Mazda RX4 Wag  21.0    6  160.0  110   3.9  2.875  17.02   0   1     4   \n",
       "\n",
       "   carb  \n",
       "0     4  \n",
       "1     4  "
      ]
     },
     "metadata": {},
     "output_type": "display_data"
    },
    {
     "data": {
      "text/html": [
       "<div>\n",
       "<style scoped>\n",
       "    .dataframe tbody tr th:only-of-type {\n",
       "        vertical-align: middle;\n",
       "    }\n",
       "\n",
       "    .dataframe tbody tr th {\n",
       "        vertical-align: top;\n",
       "    }\n",
       "\n",
       "    .dataframe thead th {\n",
       "        text-align: right;\n",
       "    }\n",
       "</style>\n",
       "<table border=\"1\" class=\"dataframe\">\n",
       "  <thead>\n",
       "    <tr style=\"text-align: right;\">\n",
       "      <th></th>\n",
       "      <th>model</th>\n",
       "      <th>mpg</th>\n",
       "      <th>cyl</th>\n",
       "      <th>disp</th>\n",
       "      <th>hp</th>\n",
       "      <th>drat</th>\n",
       "      <th>wt</th>\n",
       "      <th>qsec</th>\n",
       "      <th>vs</th>\n",
       "      <th>am</th>\n",
       "      <th>gear</th>\n",
       "      <th>carb</th>\n",
       "    </tr>\n",
       "  </thead>\n",
       "  <tbody>\n",
       "    <tr>\n",
       "      <th>30</th>\n",
       "      <td>Maserati Bora</td>\n",
       "      <td>15.0</td>\n",
       "      <td>8</td>\n",
       "      <td>301.0</td>\n",
       "      <td>335</td>\n",
       "      <td>3.54</td>\n",
       "      <td>3.57</td>\n",
       "      <td>14.6</td>\n",
       "      <td>0</td>\n",
       "      <td>1</td>\n",
       "      <td>5</td>\n",
       "      <td>8</td>\n",
       "    </tr>\n",
       "    <tr>\n",
       "      <th>31</th>\n",
       "      <td>Volvo 142E</td>\n",
       "      <td>21.4</td>\n",
       "      <td>4</td>\n",
       "      <td>121.0</td>\n",
       "      <td>109</td>\n",
       "      <td>4.11</td>\n",
       "      <td>2.78</td>\n",
       "      <td>18.6</td>\n",
       "      <td>1</td>\n",
       "      <td>1</td>\n",
       "      <td>4</td>\n",
       "      <td>2</td>\n",
       "    </tr>\n",
       "  </tbody>\n",
       "</table>\n",
       "</div>"
      ],
      "text/plain": [
       "            model   mpg  cyl   disp   hp  drat    wt  qsec  vs  am  gear  carb\n",
       "30  Maserati Bora  15.0    8  301.0  335  3.54  3.57  14.6   0   1     5     8\n",
       "31     Volvo 142E  21.4    4  121.0  109  4.11  2.78  18.6   1   1     4     2"
      ]
     },
     "metadata": {},
     "output_type": "display_data"
    },
    {
     "data": {
      "text/html": [
       "<div>\n",
       "<style scoped>\n",
       "    .dataframe tbody tr th:only-of-type {\n",
       "        vertical-align: middle;\n",
       "    }\n",
       "\n",
       "    .dataframe tbody tr th {\n",
       "        vertical-align: top;\n",
       "    }\n",
       "\n",
       "    .dataframe thead th {\n",
       "        text-align: right;\n",
       "    }\n",
       "</style>\n",
       "<table border=\"1\" class=\"dataframe\">\n",
       "  <thead>\n",
       "    <tr style=\"text-align: right;\">\n",
       "      <th></th>\n",
       "      <th>model</th>\n",
       "      <th>mpg</th>\n",
       "      <th>cyl</th>\n",
       "      <th>disp</th>\n",
       "      <th>hp</th>\n",
       "      <th>drat</th>\n",
       "      <th>wt</th>\n",
       "      <th>qsec</th>\n",
       "      <th>vs</th>\n",
       "      <th>am</th>\n",
       "      <th>gear</th>\n",
       "      <th>carb</th>\n",
       "    </tr>\n",
       "  </thead>\n",
       "  <tbody>\n",
       "    <tr>\n",
       "      <th>5</th>\n",
       "      <td>Valiant</td>\n",
       "      <td>18.1</td>\n",
       "      <td>6</td>\n",
       "      <td>225.0</td>\n",
       "      <td>105</td>\n",
       "      <td>2.76</td>\n",
       "      <td>3.46</td>\n",
       "      <td>20.22</td>\n",
       "      <td>1</td>\n",
       "      <td>0</td>\n",
       "      <td>3</td>\n",
       "      <td>1</td>\n",
       "    </tr>\n",
       "    <tr>\n",
       "      <th>7</th>\n",
       "      <td>Merc 240D</td>\n",
       "      <td>24.4</td>\n",
       "      <td>4</td>\n",
       "      <td>146.7</td>\n",
       "      <td>62</td>\n",
       "      <td>3.69</td>\n",
       "      <td>3.19</td>\n",
       "      <td>20.00</td>\n",
       "      <td>1</td>\n",
       "      <td>0</td>\n",
       "      <td>4</td>\n",
       "      <td>2</td>\n",
       "    </tr>\n",
       "  </tbody>\n",
       "</table>\n",
       "</div>"
      ],
      "text/plain": [
       "       model   mpg  cyl   disp   hp  drat    wt   qsec  vs  am  gear  carb\n",
       "5    Valiant  18.1    6  225.0  105  2.76  3.46  20.22   1   0     3     1\n",
       "7  Merc 240D  24.4    4  146.7   62  3.69  3.19  20.00   1   0     4     2"
      ]
     },
     "metadata": {},
     "output_type": "display_data"
    }
   ],
   "source": [
    "df = cars()\n",
    "display(df.head(2))\n",
    "display(df.tail(2))\n",
    "display(df.sample(2))"
   ]
  },
  {
   "cell_type": "markdown",
   "id": "b6adec3d-b616-4096-bcca-7665403d7849",
   "metadata": {},
   "source": [
    "`info()` prints a summary description of a dataframe that contains a lot of useful information: number of entries in the index (which is equal to the total number of rows), a list of columns along with the datatype of the column and the number of non-null values and overall memory usage of the dataframe. The downside is that all this information is simply printed and nothing is returned:"
   ]
  },
  {
   "cell_type": "code",
   "execution_count": 41,
   "id": "c8954bd8-16d1-4182-87c3-1f22c379dc90",
   "metadata": {},
   "outputs": [
    {
     "name": "stdout",
     "output_type": "stream",
     "text": [
      "<class 'pandas.core.frame.DataFrame'>\n",
      "RangeIndex: 32 entries, 0 to 31\n",
      "Data columns (total 12 columns):\n",
      " #   Column  Non-Null Count  Dtype  \n",
      "---  ------  --------------  -----  \n",
      " 0   model   32 non-null     object \n",
      " 1   mpg     32 non-null     float64\n",
      " 2   cyl     32 non-null     int64  \n",
      " 3   disp    32 non-null     float64\n",
      " 4   hp      32 non-null     int64  \n",
      " 5   drat    32 non-null     float64\n",
      " 6   wt      32 non-null     float64\n",
      " 7   qsec    32 non-null     float64\n",
      " 8   vs      32 non-null     int64  \n",
      " 9   am      32 non-null     int64  \n",
      " 10  gear    32 non-null     int64  \n",
      " 11  carb    32 non-null     int64  \n",
      "dtypes: float64(5), int64(6), object(1)\n",
      "memory usage: 3.1+ KB\n"
     ]
    }
   ],
   "source": [
    "df = cars()\n",
    "df.info()"
   ]
  },
  {
   "cell_type": "markdown",
   "id": "c702336f-8f80-46bd-a66d-2dcddbb87a22",
   "metadata": {},
   "source": [
    "`len(df)` returns the number of rows in a dataframe:"
   ]
  },
  {
   "cell_type": "code",
   "execution_count": 42,
   "id": "8f9f956a-eb57-40ee-9132-389775a375fc",
   "metadata": {},
   "outputs": [
    {
     "data": {
      "text/plain": [
       "32"
      ]
     },
     "execution_count": 42,
     "metadata": {},
     "output_type": "execute_result"
    }
   ],
   "source": [
    "df = cars()\n",
    "len(df)"
   ]
  },
  {
   "cell_type": "markdown",
   "id": "7abdba10-7831-4c40-bd77-57175469b713",
   "metadata": {},
   "source": [
    "`count()` returns number of rows with non-null value. Since this differs for each column series, when called on a dataframe it returns a series with a single value for each column label:"
   ]
  },
  {
   "cell_type": "code",
   "execution_count": 43,
   "id": "fd7ad70a-6cec-4c39-a107-fc1aea8190bc",
   "metadata": {},
   "outputs": [
    {
     "data": {
      "text/plain": [
       "model    32\n",
       "mpg      32\n",
       "cyl      32\n",
       "disp     32\n",
       "hp       32\n",
       "drat     32\n",
       "wt       32\n",
       "qsec     32\n",
       "vs       32\n",
       "am       32\n",
       "gear     32\n",
       "carb     32\n",
       "dtype: int64"
      ]
     },
     "execution_count": 43,
     "metadata": {},
     "output_type": "execute_result"
    }
   ],
   "source": [
    "df = cars()\n",
    "df.count()"
   ]
  },
  {
   "cell_type": "markdown",
   "id": "cbed8c53-b26b-407d-ac79-1b53f7a8ed8f",
   "metadata": {},
   "source": [
    "`df.dtypes` returns a series indexed by column name that contains the dtype of each column of `df`:"
   ]
  },
  {
   "cell_type": "code",
   "execution_count": 44,
   "id": "d2c7a491-54d3-432f-ac6a-70eca5f524fc",
   "metadata": {},
   "outputs": [
    {
     "data": {
      "text/plain": [
       "model     object\n",
       "mpg      float64\n",
       "cyl        int64\n",
       "disp     float64\n",
       "hp         int64\n",
       "drat     float64\n",
       "wt       float64\n",
       "qsec     float64\n",
       "vs         int64\n",
       "am         int64\n",
       "gear       int64\n",
       "carb       int64\n",
       "dtype: object"
      ]
     },
     "execution_count": 44,
     "metadata": {},
     "output_type": "execute_result"
    }
   ],
   "source": [
    "df = cars()\n",
    "df.dtypes"
   ]
  },
  {
   "cell_type": "markdown",
   "id": "db3a708f-96ec-4012-829b-516900cd9687",
   "metadata": {},
   "source": [
    "`describe()` returns a dataframe that basic summary statistics and the number of non-null rows for each column:"
   ]
  },
  {
   "cell_type": "code",
   "execution_count": 45,
   "id": "54964028-263c-470a-8e00-3e4462e09a98",
   "metadata": {},
   "outputs": [
    {
     "data": {
      "text/html": [
       "<div>\n",
       "<style scoped>\n",
       "    .dataframe tbody tr th:only-of-type {\n",
       "        vertical-align: middle;\n",
       "    }\n",
       "\n",
       "    .dataframe tbody tr th {\n",
       "        vertical-align: top;\n",
       "    }\n",
       "\n",
       "    .dataframe thead th {\n",
       "        text-align: right;\n",
       "    }\n",
       "</style>\n",
       "<table border=\"1\" class=\"dataframe\">\n",
       "  <thead>\n",
       "    <tr style=\"text-align: right;\">\n",
       "      <th></th>\n",
       "      <th>mpg</th>\n",
       "      <th>cyl</th>\n",
       "      <th>disp</th>\n",
       "      <th>hp</th>\n",
       "      <th>drat</th>\n",
       "      <th>wt</th>\n",
       "      <th>qsec</th>\n",
       "      <th>vs</th>\n",
       "      <th>am</th>\n",
       "      <th>gear</th>\n",
       "      <th>carb</th>\n",
       "    </tr>\n",
       "  </thead>\n",
       "  <tbody>\n",
       "    <tr>\n",
       "      <th>count</th>\n",
       "      <td>32.000</td>\n",
       "      <td>32.000</td>\n",
       "      <td>32.000</td>\n",
       "      <td>32.000</td>\n",
       "      <td>32.000</td>\n",
       "      <td>32.000</td>\n",
       "      <td>32.000</td>\n",
       "      <td>32.000</td>\n",
       "      <td>32.000</td>\n",
       "      <td>32.000</td>\n",
       "      <td>32.000</td>\n",
       "    </tr>\n",
       "    <tr>\n",
       "      <th>mean</th>\n",
       "      <td>20.091</td>\n",
       "      <td>6.188</td>\n",
       "      <td>230.722</td>\n",
       "      <td>146.688</td>\n",
       "      <td>3.597</td>\n",
       "      <td>3.217</td>\n",
       "      <td>17.849</td>\n",
       "      <td>0.438</td>\n",
       "      <td>0.406</td>\n",
       "      <td>3.688</td>\n",
       "      <td>2.812</td>\n",
       "    </tr>\n",
       "    <tr>\n",
       "      <th>std</th>\n",
       "      <td>6.027</td>\n",
       "      <td>1.786</td>\n",
       "      <td>123.939</td>\n",
       "      <td>68.563</td>\n",
       "      <td>0.535</td>\n",
       "      <td>0.978</td>\n",
       "      <td>1.787</td>\n",
       "      <td>0.504</td>\n",
       "      <td>0.499</td>\n",
       "      <td>0.738</td>\n",
       "      <td>1.615</td>\n",
       "    </tr>\n",
       "    <tr>\n",
       "      <th>min</th>\n",
       "      <td>10.400</td>\n",
       "      <td>4.000</td>\n",
       "      <td>71.100</td>\n",
       "      <td>52.000</td>\n",
       "      <td>2.760</td>\n",
       "      <td>1.513</td>\n",
       "      <td>14.500</td>\n",
       "      <td>0.000</td>\n",
       "      <td>0.000</td>\n",
       "      <td>3.000</td>\n",
       "      <td>1.000</td>\n",
       "    </tr>\n",
       "    <tr>\n",
       "      <th>25%</th>\n",
       "      <td>15.425</td>\n",
       "      <td>4.000</td>\n",
       "      <td>120.825</td>\n",
       "      <td>96.500</td>\n",
       "      <td>3.080</td>\n",
       "      <td>2.581</td>\n",
       "      <td>16.892</td>\n",
       "      <td>0.000</td>\n",
       "      <td>0.000</td>\n",
       "      <td>3.000</td>\n",
       "      <td>2.000</td>\n",
       "    </tr>\n",
       "    <tr>\n",
       "      <th>50%</th>\n",
       "      <td>19.200</td>\n",
       "      <td>6.000</td>\n",
       "      <td>196.300</td>\n",
       "      <td>123.000</td>\n",
       "      <td>3.695</td>\n",
       "      <td>3.325</td>\n",
       "      <td>17.710</td>\n",
       "      <td>0.000</td>\n",
       "      <td>0.000</td>\n",
       "      <td>4.000</td>\n",
       "      <td>2.000</td>\n",
       "    </tr>\n",
       "    <tr>\n",
       "      <th>75%</th>\n",
       "      <td>22.800</td>\n",
       "      <td>8.000</td>\n",
       "      <td>326.000</td>\n",
       "      <td>180.000</td>\n",
       "      <td>3.920</td>\n",
       "      <td>3.610</td>\n",
       "      <td>18.900</td>\n",
       "      <td>1.000</td>\n",
       "      <td>1.000</td>\n",
       "      <td>4.000</td>\n",
       "      <td>4.000</td>\n",
       "    </tr>\n",
       "    <tr>\n",
       "      <th>max</th>\n",
       "      <td>33.900</td>\n",
       "      <td>8.000</td>\n",
       "      <td>472.000</td>\n",
       "      <td>335.000</td>\n",
       "      <td>4.930</td>\n",
       "      <td>5.424</td>\n",
       "      <td>22.900</td>\n",
       "      <td>1.000</td>\n",
       "      <td>1.000</td>\n",
       "      <td>5.000</td>\n",
       "      <td>8.000</td>\n",
       "    </tr>\n",
       "  </tbody>\n",
       "</table>\n",
       "</div>"
      ],
      "text/plain": [
       "          mpg     cyl     disp       hp    drat      wt    qsec      vs  \\\n",
       "count  32.000  32.000   32.000   32.000  32.000  32.000  32.000  32.000   \n",
       "mean   20.091   6.188  230.722  146.688   3.597   3.217  17.849   0.438   \n",
       "std     6.027   1.786  123.939   68.563   0.535   0.978   1.787   0.504   \n",
       "min    10.400   4.000   71.100   52.000   2.760   1.513  14.500   0.000   \n",
       "25%    15.425   4.000  120.825   96.500   3.080   2.581  16.892   0.000   \n",
       "50%    19.200   6.000  196.300  123.000   3.695   3.325  17.710   0.000   \n",
       "75%    22.800   8.000  326.000  180.000   3.920   3.610  18.900   1.000   \n",
       "max    33.900   8.000  472.000  335.000   4.930   5.424  22.900   1.000   \n",
       "\n",
       "           am    gear    carb  \n",
       "count  32.000  32.000  32.000  \n",
       "mean    0.406   3.688   2.812  \n",
       "std     0.499   0.738   1.615  \n",
       "min     0.000   3.000   1.000  \n",
       "25%     0.000   3.000   2.000  \n",
       "50%     0.000   4.000   2.000  \n",
       "75%     1.000   4.000   4.000  \n",
       "max     1.000   5.000   8.000  "
      ]
     },
     "execution_count": 45,
     "metadata": {},
     "output_type": "execute_result"
    }
   ],
   "source": [
    "df = cars()\n",
    "df.describe()"
   ]
  },
  {
   "cell_type": "markdown",
   "id": "4f66f71e-7adc-46bb-8dbd-06af302b852b",
   "metadata": {},
   "source": [
    "`value_counts()` on the given column series returns a series describing how many rows take each unique value:"
   ]
  },
  {
   "cell_type": "code",
   "execution_count": 46,
   "id": "d507e84e-f986-4cb7-8f44-6ebad08e6668",
   "metadata": {},
   "outputs": [
    {
     "data": {
      "text/plain": [
       "cyl\n",
       "8    14\n",
       "4    11\n",
       "6     7\n",
       "Name: count, dtype: int64"
      ]
     },
     "execution_count": 46,
     "metadata": {},
     "output_type": "execute_result"
    }
   ],
   "source": [
    "df = cars()\n",
    "df[\"cyl\"].value_counts()"
   ]
  },
  {
   "cell_type": "markdown",
   "id": "a36f9a6a-e76c-471f-aab1-2a5f19d75ed3",
   "metadata": {},
   "source": [
    "`value_counts(normalize=True)` returns a series describing what fraction of all rows have each unique value, rather than the raw counts:"
   ]
  },
  {
   "cell_type": "code",
   "execution_count": 47,
   "id": "23c2862b-c19e-4ce4-a47c-fbf6af07cdc3",
   "metadata": {},
   "outputs": [
    {
     "data": {
      "text/plain": [
       "cyl\n",
       "8    0.438\n",
       "4    0.344\n",
       "6    0.219\n",
       "Name: proportion, dtype: float64"
      ]
     },
     "execution_count": 47,
     "metadata": {},
     "output_type": "execute_result"
    }
   ],
   "source": [
    "df = cars()\n",
    "df[\"cyl\"].value_counts(normalize=True)"
   ]
  },
  {
   "cell_type": "markdown",
   "id": "420d38b6-d6dc-49d9-b290-69633e0b7518",
   "metadata": {},
   "source": [
    "`unique()` returns only the unique value themselves:"
   ]
  },
  {
   "cell_type": "code",
   "execution_count": 48,
   "id": "dfc0415e-e409-46d7-a1d2-462123d6eddb",
   "metadata": {},
   "outputs": [
    {
     "data": {
      "text/plain": [
       "array([6, 4, 8])"
      ]
     },
     "execution_count": 48,
     "metadata": {},
     "output_type": "execute_result"
    }
   ],
   "source": [
    "df[\"cyl\"].unique()"
   ]
  },
  {
   "cell_type": "markdown",
   "id": "dab62299-93cb-4322-8944-3b3304676708",
   "metadata": {},
   "source": [
    "`nunique()` returns the number of unique values:"
   ]
  },
  {
   "cell_type": "code",
   "execution_count": 49,
   "id": "723bf4b6-e407-49de-81f8-80cbc4bb3c30",
   "metadata": {},
   "outputs": [
    {
     "data": {
      "text/plain": [
       "3"
      ]
     },
     "execution_count": 49,
     "metadata": {},
     "output_type": "execute_result"
    }
   ],
   "source": [
    "df[\"cyl\"].nunique()"
   ]
  },
  {
   "cell_type": "markdown",
   "id": "beb798bd-dc20-4eac-b322-5c86682b672f",
   "metadata": {},
   "source": [
    "`nlargest(n)` returns `n` largest values and `nsmallest(n)` `n` smallest (`n` defaults to 5):"
   ]
  },
  {
   "cell_type": "code",
   "execution_count": 50,
   "id": "1478dabb-2dcd-4065-9ccb-36846304ce60",
   "metadata": {},
   "outputs": [
    {
     "data": {
      "text/plain": [
       "30    335\n",
       "28    264\n",
       "6     245\n",
       "23    245\n",
       "16    230\n",
       "Name: hp, dtype: int64"
      ]
     },
     "execution_count": 50,
     "metadata": {},
     "output_type": "execute_result"
    }
   ],
   "source": [
    "df[\"hp\"].nlargest()"
   ]
  },
  {
   "cell_type": "code",
   "execution_count": 51,
   "id": "648bb610-765b-48ac-97b7-75fe4e69a3f4",
   "metadata": {},
   "outputs": [
    {
     "data": {
      "text/plain": [
       "18    52\n",
       "7     62\n",
       "19    65\n",
       "17    66\n",
       "25    66\n",
       "Name: hp, dtype: int64"
      ]
     },
     "execution_count": 51,
     "metadata": {},
     "output_type": "execute_result"
    }
   ],
   "source": [
    "df[\"hp\"].nsmallest()"
   ]
  },
  {
   "cell_type": "markdown",
   "id": "06e28e1d-3a7d-49ff-917c-75534bb5792d",
   "metadata": {},
   "source": [
    "To see the cars with largest horse power, use the fact that the index of the series returned by `nlargest` is a subset of the dataframe index and hence can be used to subset the dataframe:"
   ]
  },
  {
   "cell_type": "code",
   "execution_count": 52,
   "id": "e250d165-4f22-4d98-9570-ca1e53778b1d",
   "metadata": {},
   "outputs": [
    {
     "data": {
      "text/html": [
       "<div>\n",
       "<style scoped>\n",
       "    .dataframe tbody tr th:only-of-type {\n",
       "        vertical-align: middle;\n",
       "    }\n",
       "\n",
       "    .dataframe tbody tr th {\n",
       "        vertical-align: top;\n",
       "    }\n",
       "\n",
       "    .dataframe thead th {\n",
       "        text-align: right;\n",
       "    }\n",
       "</style>\n",
       "<table border=\"1\" class=\"dataframe\">\n",
       "  <thead>\n",
       "    <tr style=\"text-align: right;\">\n",
       "      <th></th>\n",
       "      <th>model</th>\n",
       "      <th>mpg</th>\n",
       "      <th>cyl</th>\n",
       "      <th>disp</th>\n",
       "      <th>hp</th>\n",
       "      <th>drat</th>\n",
       "      <th>wt</th>\n",
       "      <th>qsec</th>\n",
       "      <th>vs</th>\n",
       "      <th>am</th>\n",
       "      <th>gear</th>\n",
       "      <th>carb</th>\n",
       "    </tr>\n",
       "  </thead>\n",
       "  <tbody>\n",
       "    <tr>\n",
       "      <th>30</th>\n",
       "      <td>Maserati Bora</td>\n",
       "      <td>15.0</td>\n",
       "      <td>8</td>\n",
       "      <td>301.0</td>\n",
       "      <td>335</td>\n",
       "      <td>3.54</td>\n",
       "      <td>3.570</td>\n",
       "      <td>14.60</td>\n",
       "      <td>0</td>\n",
       "      <td>1</td>\n",
       "      <td>5</td>\n",
       "      <td>8</td>\n",
       "    </tr>\n",
       "    <tr>\n",
       "      <th>28</th>\n",
       "      <td>Ford Pantera L</td>\n",
       "      <td>15.8</td>\n",
       "      <td>8</td>\n",
       "      <td>351.0</td>\n",
       "      <td>264</td>\n",
       "      <td>4.22</td>\n",
       "      <td>3.170</td>\n",
       "      <td>14.50</td>\n",
       "      <td>0</td>\n",
       "      <td>1</td>\n",
       "      <td>5</td>\n",
       "      <td>4</td>\n",
       "    </tr>\n",
       "    <tr>\n",
       "      <th>6</th>\n",
       "      <td>Duster 360</td>\n",
       "      <td>14.3</td>\n",
       "      <td>8</td>\n",
       "      <td>360.0</td>\n",
       "      <td>245</td>\n",
       "      <td>3.21</td>\n",
       "      <td>3.570</td>\n",
       "      <td>15.84</td>\n",
       "      <td>0</td>\n",
       "      <td>0</td>\n",
       "      <td>3</td>\n",
       "      <td>4</td>\n",
       "    </tr>\n",
       "    <tr>\n",
       "      <th>23</th>\n",
       "      <td>Camaro Z28</td>\n",
       "      <td>13.3</td>\n",
       "      <td>8</td>\n",
       "      <td>350.0</td>\n",
       "      <td>245</td>\n",
       "      <td>3.73</td>\n",
       "      <td>3.840</td>\n",
       "      <td>15.41</td>\n",
       "      <td>0</td>\n",
       "      <td>0</td>\n",
       "      <td>3</td>\n",
       "      <td>4</td>\n",
       "    </tr>\n",
       "    <tr>\n",
       "      <th>16</th>\n",
       "      <td>Chrysler Imperial</td>\n",
       "      <td>14.7</td>\n",
       "      <td>8</td>\n",
       "      <td>440.0</td>\n",
       "      <td>230</td>\n",
       "      <td>3.23</td>\n",
       "      <td>5.345</td>\n",
       "      <td>17.42</td>\n",
       "      <td>0</td>\n",
       "      <td>0</td>\n",
       "      <td>3</td>\n",
       "      <td>4</td>\n",
       "    </tr>\n",
       "  </tbody>\n",
       "</table>\n",
       "</div>"
      ],
      "text/plain": [
       "                model   mpg  cyl   disp   hp  drat     wt   qsec  vs  am  \\\n",
       "30      Maserati Bora  15.0    8  301.0  335  3.54  3.570  14.60   0   1   \n",
       "28     Ford Pantera L  15.8    8  351.0  264  4.22  3.170  14.50   0   1   \n",
       "6          Duster 360  14.3    8  360.0  245  3.21  3.570  15.84   0   0   \n",
       "23         Camaro Z28  13.3    8  350.0  245  3.73  3.840  15.41   0   0   \n",
       "16  Chrysler Imperial  14.7    8  440.0  230  3.23  5.345  17.42   0   0   \n",
       "\n",
       "    gear  carb  \n",
       "30     5     8  \n",
       "28     5     4  \n",
       "6      3     4  \n",
       "23     3     4  \n",
       "16     3     4  "
      ]
     },
     "execution_count": 52,
     "metadata": {},
     "output_type": "execute_result"
    }
   ],
   "source": [
    "df.loc[df[\"hp\"].nlargest().index]"
   ]
  },
  {
   "cell_type": "markdown",
   "id": "2bac2142-625a-4e4f-8398-6c02ccaa6073",
   "metadata": {},
   "source": [
    "## Selecting rows and columns"
   ]
  },
  {
   "cell_type": "markdown",
   "id": "268fff5f-65ef-4d24-b609-85703c71ab56",
   "metadata": {},
   "source": [
    "### Selecting with []"
   ]
  },
  {
   "cell_type": "markdown",
   "id": "544d3736-4ae5-4eb6-9e9e-a32a8b88f82a",
   "metadata": {},
   "source": [
    "Select rows with `[]`:"
   ]
  },
  {
   "cell_type": "code",
   "execution_count": 53,
   "id": "83b18ce5-b1f8-4008-b166-c7d309c24db5",
   "metadata": {},
   "outputs": [
    {
     "data": {
      "text/html": [
       "<div>\n",
       "<style scoped>\n",
       "    .dataframe tbody tr th:only-of-type {\n",
       "        vertical-align: middle;\n",
       "    }\n",
       "\n",
       "    .dataframe tbody tr th {\n",
       "        vertical-align: top;\n",
       "    }\n",
       "\n",
       "    .dataframe thead th {\n",
       "        text-align: right;\n",
       "    }\n",
       "</style>\n",
       "<table border=\"1\" class=\"dataframe\">\n",
       "  <thead>\n",
       "    <tr style=\"text-align: right;\">\n",
       "      <th></th>\n",
       "      <th>model</th>\n",
       "      <th>mpg</th>\n",
       "      <th>cyl</th>\n",
       "      <th>disp</th>\n",
       "      <th>hp</th>\n",
       "      <th>drat</th>\n",
       "      <th>wt</th>\n",
       "      <th>qsec</th>\n",
       "      <th>vs</th>\n",
       "      <th>am</th>\n",
       "      <th>gear</th>\n",
       "      <th>carb</th>\n",
       "    </tr>\n",
       "  </thead>\n",
       "  <tbody>\n",
       "    <tr>\n",
       "      <th>26</th>\n",
       "      <td>Porsche 914-2</td>\n",
       "      <td>26.0</td>\n",
       "      <td>4</td>\n",
       "      <td>120.3</td>\n",
       "      <td>91</td>\n",
       "      <td>4.43</td>\n",
       "      <td>2.140</td>\n",
       "      <td>16.7</td>\n",
       "      <td>0</td>\n",
       "      <td>1</td>\n",
       "      <td>5</td>\n",
       "      <td>2</td>\n",
       "    </tr>\n",
       "    <tr>\n",
       "      <th>27</th>\n",
       "      <td>Lotus Europa</td>\n",
       "      <td>30.4</td>\n",
       "      <td>4</td>\n",
       "      <td>95.1</td>\n",
       "      <td>113</td>\n",
       "      <td>3.77</td>\n",
       "      <td>1.513</td>\n",
       "      <td>16.9</td>\n",
       "      <td>1</td>\n",
       "      <td>1</td>\n",
       "      <td>5</td>\n",
       "      <td>2</td>\n",
       "    </tr>\n",
       "    <tr>\n",
       "      <th>28</th>\n",
       "      <td>Ford Pantera L</td>\n",
       "      <td>15.8</td>\n",
       "      <td>8</td>\n",
       "      <td>351.0</td>\n",
       "      <td>264</td>\n",
       "      <td>4.22</td>\n",
       "      <td>3.170</td>\n",
       "      <td>14.5</td>\n",
       "      <td>0</td>\n",
       "      <td>1</td>\n",
       "      <td>5</td>\n",
       "      <td>4</td>\n",
       "    </tr>\n",
       "    <tr>\n",
       "      <th>29</th>\n",
       "      <td>Ferrari Dino</td>\n",
       "      <td>19.7</td>\n",
       "      <td>6</td>\n",
       "      <td>145.0</td>\n",
       "      <td>175</td>\n",
       "      <td>3.62</td>\n",
       "      <td>2.770</td>\n",
       "      <td>15.5</td>\n",
       "      <td>0</td>\n",
       "      <td>1</td>\n",
       "      <td>5</td>\n",
       "      <td>6</td>\n",
       "    </tr>\n",
       "    <tr>\n",
       "      <th>30</th>\n",
       "      <td>Maserati Bora</td>\n",
       "      <td>15.0</td>\n",
       "      <td>8</td>\n",
       "      <td>301.0</td>\n",
       "      <td>335</td>\n",
       "      <td>3.54</td>\n",
       "      <td>3.570</td>\n",
       "      <td>14.6</td>\n",
       "      <td>0</td>\n",
       "      <td>1</td>\n",
       "      <td>5</td>\n",
       "      <td>8</td>\n",
       "    </tr>\n",
       "  </tbody>\n",
       "</table>\n",
       "</div>"
      ],
      "text/plain": [
       "             model   mpg  cyl   disp   hp  drat     wt  qsec  vs  am  gear  \\\n",
       "26   Porsche 914-2  26.0    4  120.3   91  4.43  2.140  16.7   0   1     5   \n",
       "27    Lotus Europa  30.4    4   95.1  113  3.77  1.513  16.9   1   1     5   \n",
       "28  Ford Pantera L  15.8    8  351.0  264  4.22  3.170  14.5   0   1     5   \n",
       "29    Ferrari Dino  19.7    6  145.0  175  3.62  2.770  15.5   0   1     5   \n",
       "30   Maserati Bora  15.0    8  301.0  335  3.54  3.570  14.6   0   1     5   \n",
       "\n",
       "    carb  \n",
       "26     2  \n",
       "27     2  \n",
       "28     4  \n",
       "29     6  \n",
       "30     8  "
      ]
     },
     "execution_count": 53,
     "metadata": {},
     "output_type": "execute_result"
    }
   ],
   "source": [
    "df = cars()\n",
    "df[df[\"gear\"] == 5]"
   ]
  },
  {
   "cell_type": "markdown",
   "id": "99f72fde-0b1d-4906-97ab-b2c59c31cf0a",
   "metadata": {},
   "source": [
    "Select a single column as a `pd.Series` with `[]`:"
   ]
  },
  {
   "cell_type": "code",
   "execution_count": 54,
   "id": "591f33ad-2984-4070-949f-48422221896d",
   "metadata": {},
   "outputs": [
    {
     "data": {
      "text/plain": [
       "0    4\n",
       "1    4\n",
       "2    4\n",
       "3    3\n",
       "4    3\n",
       "Name: gear, dtype: int64"
      ]
     },
     "execution_count": 54,
     "metadata": {},
     "output_type": "execute_result"
    }
   ],
   "source": [
    "df = cars()\n",
    "df[\"gear\"].head(5)"
   ]
  },
  {
   "cell_type": "markdown",
   "id": "3b54beb6-af2a-48a2-b090-0b87b01dfc06",
   "metadata": {},
   "source": [
    "Select one or more columns as a `pd.DataFrame` by passing a list to `[]` - note how a dataframe with one column is of different type than a series and is displayed in a different way:"
   ]
  },
  {
   "cell_type": "code",
   "execution_count": 55,
   "id": "9b4a9b2f-d910-493c-9b71-20237ba85361",
   "metadata": {},
   "outputs": [
    {
     "data": {
      "text/html": [
       "<div>\n",
       "<style scoped>\n",
       "    .dataframe tbody tr th:only-of-type {\n",
       "        vertical-align: middle;\n",
       "    }\n",
       "\n",
       "    .dataframe tbody tr th {\n",
       "        vertical-align: top;\n",
       "    }\n",
       "\n",
       "    .dataframe thead th {\n",
       "        text-align: right;\n",
       "    }\n",
       "</style>\n",
       "<table border=\"1\" class=\"dataframe\">\n",
       "  <thead>\n",
       "    <tr style=\"text-align: right;\">\n",
       "      <th></th>\n",
       "      <th>gear</th>\n",
       "    </tr>\n",
       "  </thead>\n",
       "  <tbody>\n",
       "    <tr>\n",
       "      <th>0</th>\n",
       "      <td>4</td>\n",
       "    </tr>\n",
       "    <tr>\n",
       "      <th>1</th>\n",
       "      <td>4</td>\n",
       "    </tr>\n",
       "    <tr>\n",
       "      <th>2</th>\n",
       "      <td>4</td>\n",
       "    </tr>\n",
       "    <tr>\n",
       "      <th>3</th>\n",
       "      <td>3</td>\n",
       "    </tr>\n",
       "    <tr>\n",
       "      <th>4</th>\n",
       "      <td>3</td>\n",
       "    </tr>\n",
       "  </tbody>\n",
       "</table>\n",
       "</div>"
      ],
      "text/plain": [
       "   gear\n",
       "0     4\n",
       "1     4\n",
       "2     4\n",
       "3     3\n",
       "4     3"
      ]
     },
     "execution_count": 55,
     "metadata": {},
     "output_type": "execute_result"
    }
   ],
   "source": [
    "df = cars()\n",
    "df[[\"gear\"]].head(5)"
   ]
  },
  {
   "cell_type": "markdown",
   "id": "db0e781d-64bd-4fa7-be2c-5c982b89a117",
   "metadata": {},
   "source": [
    "Selection of rows and of columns can be combined:"
   ]
  },
  {
   "cell_type": "code",
   "execution_count": 56,
   "id": "d5868bc9-fabd-4af2-86ed-3a820b672add",
   "metadata": {},
   "outputs": [
    {
     "data": {
      "text/plain": [
       "26    4\n",
       "27    4\n",
       "28    8\n",
       "29    6\n",
       "30    8\n",
       "Name: cyl, dtype: int64"
      ]
     },
     "execution_count": 56,
     "metadata": {},
     "output_type": "execute_result"
    }
   ],
   "source": [
    "df = cars()\n",
    "df[df[\"gear\"] == 5][\"cyl\"]"
   ]
  },
  {
   "cell_type": "markdown",
   "id": "83ddee61-a493-4473-858e-b9f0ae9be976",
   "metadata": {},
   "source": [
    "This form of row and column selection does not work for the purpose of modifying or inserting data:"
   ]
  },
  {
   "cell_type": "code",
   "execution_count": 57,
   "id": "b73576d5-bcd5-4f43-baf2-0e431c74e24a",
   "metadata": {},
   "outputs": [
    {
     "name": "stderr",
     "output_type": "stream",
     "text": [
      "/tmp/ipykernel_25095/3887564797.py:2: SettingWithCopyWarning: \n",
      "A value is trying to be set on a copy of a slice from a DataFrame.\n",
      "Try using .loc[row_indexer,col_indexer] = value instead\n",
      "\n",
      "See the caveats in the documentation: https://pandas.pydata.org/pandas-docs/stable/user_guide/indexing.html#returning-a-view-versus-a-copy\n",
      "  df[df[\"gear\"] == 5][\"cyl\"] = 3\n"
     ]
    }
   ],
   "source": [
    "df = cars()\n",
    "df[df[\"gear\"] == 5][\"cyl\"] = 3"
   ]
  },
  {
   "cell_type": "markdown",
   "id": "2aba761f-6608-474a-8cd0-74dde9ef3325",
   "metadata": {},
   "source": [
    "Lets breakdown how the `df[df[\"gear\"] == 5][\"cyl\"] = 3` expression translates to method calls on the underlying objects: `df[df[\"gear\"] == 5]` translates to a `df.__getitem__(df[\"gear\"] == 5)` call on the data frame and then the `[\"cyl\"] = 3` part to a `.__setitem__(3)` call on the resulting object. The problem is that the `__getitem__` call might return either a view or a copy of the dataframe, so the original dataframe might or might not be modified.\n",
    "\n",
    "Instead, `df.loc[]` can be used to select rows and columns at the same time. `df.loc[]` will return a view or a copy just like `df[]`, but `df.loc[]=` is just a single `__setitem__` method call on the object stored in the `loc` attribute of the original dataframe, free of the ambiguity of `[][]=`, so that it will always correctly modify the dataframe."
   ]
  },
  {
   "cell_type": "markdown",
   "id": "c1db0dd6-049a-4a32-8d88-261380318289",
   "metadata": {},
   "source": [
    "### Selecting with loc[]"
   ]
  },
  {
   "cell_type": "markdown",
   "id": "c99b8929-bc25-48fd-9894-c2d40cced61c",
   "metadata": {},
   "source": [
    "Select rows:"
   ]
  },
  {
   "cell_type": "code",
   "execution_count": 58,
   "id": "010b91aa-45db-46a6-a74d-46b109529355",
   "metadata": {},
   "outputs": [
    {
     "data": {
      "text/html": [
       "<div>\n",
       "<style scoped>\n",
       "    .dataframe tbody tr th:only-of-type {\n",
       "        vertical-align: middle;\n",
       "    }\n",
       "\n",
       "    .dataframe tbody tr th {\n",
       "        vertical-align: top;\n",
       "    }\n",
       "\n",
       "    .dataframe thead th {\n",
       "        text-align: right;\n",
       "    }\n",
       "</style>\n",
       "<table border=\"1\" class=\"dataframe\">\n",
       "  <thead>\n",
       "    <tr style=\"text-align: right;\">\n",
       "      <th></th>\n",
       "      <th>model</th>\n",
       "      <th>mpg</th>\n",
       "      <th>cyl</th>\n",
       "      <th>disp</th>\n",
       "      <th>hp</th>\n",
       "      <th>drat</th>\n",
       "      <th>wt</th>\n",
       "      <th>qsec</th>\n",
       "      <th>vs</th>\n",
       "      <th>am</th>\n",
       "      <th>gear</th>\n",
       "      <th>carb</th>\n",
       "    </tr>\n",
       "  </thead>\n",
       "  <tbody>\n",
       "    <tr>\n",
       "      <th>26</th>\n",
       "      <td>Porsche 914-2</td>\n",
       "      <td>26.0</td>\n",
       "      <td>4</td>\n",
       "      <td>120.3</td>\n",
       "      <td>91</td>\n",
       "      <td>4.43</td>\n",
       "      <td>2.140</td>\n",
       "      <td>16.7</td>\n",
       "      <td>0</td>\n",
       "      <td>1</td>\n",
       "      <td>5</td>\n",
       "      <td>2</td>\n",
       "    </tr>\n",
       "    <tr>\n",
       "      <th>27</th>\n",
       "      <td>Lotus Europa</td>\n",
       "      <td>30.4</td>\n",
       "      <td>4</td>\n",
       "      <td>95.1</td>\n",
       "      <td>113</td>\n",
       "      <td>3.77</td>\n",
       "      <td>1.513</td>\n",
       "      <td>16.9</td>\n",
       "      <td>1</td>\n",
       "      <td>1</td>\n",
       "      <td>5</td>\n",
       "      <td>2</td>\n",
       "    </tr>\n",
       "    <tr>\n",
       "      <th>28</th>\n",
       "      <td>Ford Pantera L</td>\n",
       "      <td>15.8</td>\n",
       "      <td>8</td>\n",
       "      <td>351.0</td>\n",
       "      <td>264</td>\n",
       "      <td>4.22</td>\n",
       "      <td>3.170</td>\n",
       "      <td>14.5</td>\n",
       "      <td>0</td>\n",
       "      <td>1</td>\n",
       "      <td>5</td>\n",
       "      <td>4</td>\n",
       "    </tr>\n",
       "    <tr>\n",
       "      <th>29</th>\n",
       "      <td>Ferrari Dino</td>\n",
       "      <td>19.7</td>\n",
       "      <td>6</td>\n",
       "      <td>145.0</td>\n",
       "      <td>175</td>\n",
       "      <td>3.62</td>\n",
       "      <td>2.770</td>\n",
       "      <td>15.5</td>\n",
       "      <td>0</td>\n",
       "      <td>1</td>\n",
       "      <td>5</td>\n",
       "      <td>6</td>\n",
       "    </tr>\n",
       "    <tr>\n",
       "      <th>30</th>\n",
       "      <td>Maserati Bora</td>\n",
       "      <td>15.0</td>\n",
       "      <td>8</td>\n",
       "      <td>301.0</td>\n",
       "      <td>335</td>\n",
       "      <td>3.54</td>\n",
       "      <td>3.570</td>\n",
       "      <td>14.6</td>\n",
       "      <td>0</td>\n",
       "      <td>1</td>\n",
       "      <td>5</td>\n",
       "      <td>8</td>\n",
       "    </tr>\n",
       "  </tbody>\n",
       "</table>\n",
       "</div>"
      ],
      "text/plain": [
       "             model   mpg  cyl   disp   hp  drat     wt  qsec  vs  am  gear  \\\n",
       "26   Porsche 914-2  26.0    4  120.3   91  4.43  2.140  16.7   0   1     5   \n",
       "27    Lotus Europa  30.4    4   95.1  113  3.77  1.513  16.9   1   1     5   \n",
       "28  Ford Pantera L  15.8    8  351.0  264  4.22  3.170  14.5   0   1     5   \n",
       "29    Ferrari Dino  19.7    6  145.0  175  3.62  2.770  15.5   0   1     5   \n",
       "30   Maserati Bora  15.0    8  301.0  335  3.54  3.570  14.6   0   1     5   \n",
       "\n",
       "    carb  \n",
       "26     2  \n",
       "27     2  \n",
       "28     4  \n",
       "29     6  \n",
       "30     8  "
      ]
     },
     "execution_count": 58,
     "metadata": {},
     "output_type": "execute_result"
    }
   ],
   "source": [
    "df = cars()\n",
    "df.loc[df[\"gear\"] == 5]"
   ]
  },
  {
   "cell_type": "markdown",
   "id": "909b94f1-f0b7-49c4-a826-434ab519e0a0",
   "metadata": {},
   "source": [
    "Select a single column as a `pd.Series`:"
   ]
  },
  {
   "cell_type": "code",
   "execution_count": 59,
   "id": "aff62398-295f-441e-974a-e2d6a5cedbc5",
   "metadata": {},
   "outputs": [
    {
     "data": {
      "text/plain": [
       "0    4\n",
       "1    4\n",
       "2    4\n",
       "3    3\n",
       "4    3\n",
       "Name: gear, dtype: int64"
      ]
     },
     "execution_count": 59,
     "metadata": {},
     "output_type": "execute_result"
    }
   ],
   "source": [
    "df = cars()\n",
    "df.loc[:, \"gear\"].head(5)"
   ]
  },
  {
   "cell_type": "markdown",
   "id": "79924553-ac56-48d8-8bf6-d8ef8f714d75",
   "metadata": {},
   "source": [
    "Select one or more columns as a `pd.DataFrame`:"
   ]
  },
  {
   "cell_type": "code",
   "execution_count": 60,
   "id": "efc43126-3dab-41aa-87da-7426a8521f27",
   "metadata": {},
   "outputs": [
    {
     "data": {
      "text/html": [
       "<div>\n",
       "<style scoped>\n",
       "    .dataframe tbody tr th:only-of-type {\n",
       "        vertical-align: middle;\n",
       "    }\n",
       "\n",
       "    .dataframe tbody tr th {\n",
       "        vertical-align: top;\n",
       "    }\n",
       "\n",
       "    .dataframe thead th {\n",
       "        text-align: right;\n",
       "    }\n",
       "</style>\n",
       "<table border=\"1\" class=\"dataframe\">\n",
       "  <thead>\n",
       "    <tr style=\"text-align: right;\">\n",
       "      <th></th>\n",
       "      <th>gear</th>\n",
       "    </tr>\n",
       "  </thead>\n",
       "  <tbody>\n",
       "    <tr>\n",
       "      <th>0</th>\n",
       "      <td>4</td>\n",
       "    </tr>\n",
       "    <tr>\n",
       "      <th>1</th>\n",
       "      <td>4</td>\n",
       "    </tr>\n",
       "    <tr>\n",
       "      <th>2</th>\n",
       "      <td>4</td>\n",
       "    </tr>\n",
       "    <tr>\n",
       "      <th>3</th>\n",
       "      <td>3</td>\n",
       "    </tr>\n",
       "    <tr>\n",
       "      <th>4</th>\n",
       "      <td>3</td>\n",
       "    </tr>\n",
       "  </tbody>\n",
       "</table>\n",
       "</div>"
      ],
      "text/plain": [
       "   gear\n",
       "0     4\n",
       "1     4\n",
       "2     4\n",
       "3     3\n",
       "4     3"
      ]
     },
     "execution_count": 60,
     "metadata": {},
     "output_type": "execute_result"
    }
   ],
   "source": [
    "df = cars()\n",
    "df.loc[:, [\"gear\"]].head(5)"
   ]
  },
  {
   "cell_type": "markdown",
   "id": "048d1a8d-c26f-4fbe-8cea-a6faa6177e31",
   "metadata": {},
   "source": [
    "Modify a subpart of a dataframe:"
   ]
  },
  {
   "cell_type": "code",
   "execution_count": 61,
   "id": "a95c715a-8e85-4f98-8dbd-ee6fa4cf4ff1",
   "metadata": {
    "scrolled": true
   },
   "outputs": [
    {
     "data": {
      "text/html": [
       "<div>\n",
       "<style scoped>\n",
       "    .dataframe tbody tr th:only-of-type {\n",
       "        vertical-align: middle;\n",
       "    }\n",
       "\n",
       "    .dataframe tbody tr th {\n",
       "        vertical-align: top;\n",
       "    }\n",
       "\n",
       "    .dataframe thead th {\n",
       "        text-align: right;\n",
       "    }\n",
       "</style>\n",
       "<table border=\"1\" class=\"dataframe\">\n",
       "  <thead>\n",
       "    <tr style=\"text-align: right;\">\n",
       "      <th></th>\n",
       "      <th>model</th>\n",
       "      <th>mpg</th>\n",
       "      <th>cyl</th>\n",
       "      <th>disp</th>\n",
       "      <th>hp</th>\n",
       "      <th>drat</th>\n",
       "      <th>wt</th>\n",
       "      <th>qsec</th>\n",
       "      <th>vs</th>\n",
       "      <th>am</th>\n",
       "      <th>gear</th>\n",
       "      <th>carb</th>\n",
       "    </tr>\n",
       "  </thead>\n",
       "  <tbody>\n",
       "    <tr>\n",
       "      <th>0</th>\n",
       "      <td>Mazda RX4</td>\n",
       "      <td>21.0</td>\n",
       "      <td>6</td>\n",
       "      <td>160.0</td>\n",
       "      <td>200</td>\n",
       "      <td>3.90</td>\n",
       "      <td>2.620</td>\n",
       "      <td>16.46</td>\n",
       "      <td>0</td>\n",
       "      <td>1</td>\n",
       "      <td>4</td>\n",
       "      <td>4</td>\n",
       "    </tr>\n",
       "    <tr>\n",
       "      <th>1</th>\n",
       "      <td>Mazda RX4 Wag</td>\n",
       "      <td>21.0</td>\n",
       "      <td>6</td>\n",
       "      <td>160.0</td>\n",
       "      <td>200</td>\n",
       "      <td>3.90</td>\n",
       "      <td>2.875</td>\n",
       "      <td>17.02</td>\n",
       "      <td>0</td>\n",
       "      <td>1</td>\n",
       "      <td>4</td>\n",
       "      <td>4</td>\n",
       "    </tr>\n",
       "    <tr>\n",
       "      <th>3</th>\n",
       "      <td>Hornet 4 Drive</td>\n",
       "      <td>21.4</td>\n",
       "      <td>6</td>\n",
       "      <td>258.0</td>\n",
       "      <td>200</td>\n",
       "      <td>3.08</td>\n",
       "      <td>3.215</td>\n",
       "      <td>19.44</td>\n",
       "      <td>1</td>\n",
       "      <td>0</td>\n",
       "      <td>3</td>\n",
       "      <td>1</td>\n",
       "    </tr>\n",
       "    <tr>\n",
       "      <th>5</th>\n",
       "      <td>Valiant</td>\n",
       "      <td>18.1</td>\n",
       "      <td>6</td>\n",
       "      <td>225.0</td>\n",
       "      <td>200</td>\n",
       "      <td>2.76</td>\n",
       "      <td>3.460</td>\n",
       "      <td>20.22</td>\n",
       "      <td>1</td>\n",
       "      <td>0</td>\n",
       "      <td>3</td>\n",
       "      <td>1</td>\n",
       "    </tr>\n",
       "    <tr>\n",
       "      <th>9</th>\n",
       "      <td>Merc 280</td>\n",
       "      <td>19.2</td>\n",
       "      <td>6</td>\n",
       "      <td>167.6</td>\n",
       "      <td>200</td>\n",
       "      <td>3.92</td>\n",
       "      <td>3.440</td>\n",
       "      <td>18.30</td>\n",
       "      <td>1</td>\n",
       "      <td>0</td>\n",
       "      <td>4</td>\n",
       "      <td>4</td>\n",
       "    </tr>\n",
       "    <tr>\n",
       "      <th>10</th>\n",
       "      <td>Merc 280C</td>\n",
       "      <td>17.8</td>\n",
       "      <td>6</td>\n",
       "      <td>167.6</td>\n",
       "      <td>200</td>\n",
       "      <td>3.92</td>\n",
       "      <td>3.440</td>\n",
       "      <td>18.90</td>\n",
       "      <td>1</td>\n",
       "      <td>0</td>\n",
       "      <td>4</td>\n",
       "      <td>4</td>\n",
       "    </tr>\n",
       "    <tr>\n",
       "      <th>29</th>\n",
       "      <td>Ferrari Dino</td>\n",
       "      <td>19.7</td>\n",
       "      <td>6</td>\n",
       "      <td>145.0</td>\n",
       "      <td>200</td>\n",
       "      <td>3.62</td>\n",
       "      <td>2.770</td>\n",
       "      <td>15.50</td>\n",
       "      <td>0</td>\n",
       "      <td>1</td>\n",
       "      <td>5</td>\n",
       "      <td>6</td>\n",
       "    </tr>\n",
       "  </tbody>\n",
       "</table>\n",
       "</div>"
      ],
      "text/plain": [
       "             model   mpg  cyl   disp   hp  drat     wt   qsec  vs  am  gear  \\\n",
       "0        Mazda RX4  21.0    6  160.0  200  3.90  2.620  16.46   0   1     4   \n",
       "1    Mazda RX4 Wag  21.0    6  160.0  200  3.90  2.875  17.02   0   1     4   \n",
       "3   Hornet 4 Drive  21.4    6  258.0  200  3.08  3.215  19.44   1   0     3   \n",
       "5          Valiant  18.1    6  225.0  200  2.76  3.460  20.22   1   0     3   \n",
       "9         Merc 280  19.2    6  167.6  200  3.92  3.440  18.30   1   0     4   \n",
       "10       Merc 280C  17.8    6  167.6  200  3.92  3.440  18.90   1   0     4   \n",
       "29    Ferrari Dino  19.7    6  145.0  200  3.62  2.770  15.50   0   1     5   \n",
       "\n",
       "    carb  \n",
       "0      4  \n",
       "1      4  \n",
       "3      1  \n",
       "5      1  \n",
       "9      4  \n",
       "10     4  \n",
       "29     6  "
      ]
     },
     "execution_count": 61,
     "metadata": {},
     "output_type": "execute_result"
    }
   ],
   "source": [
    "df = cars()\n",
    "df.loc[df[\"cyl\"] == 6, \"hp\"] = 200\n",
    "df.loc[df[\"cyl\"] == 6, :]"
   ]
  },
  {
   "cell_type": "markdown",
   "id": "1f430d60-54a0-469d-8e4e-7cb7fe882143",
   "metadata": {},
   "source": [
    "### Boolean expressions in [] and loc[]"
   ]
  },
  {
   "cell_type": "markdown",
   "id": "0aac46ec-5a41-4865-a56f-7dbd7c284c20",
   "metadata": {},
   "source": [
    "When selecting rows with `df[df[\"gear\"] == 5]`, `df[\"gear\"] == 5` is a `pd.Series` wrapping a boolean vector:"
   ]
  },
  {
   "cell_type": "code",
   "execution_count": 62,
   "id": "20f17776-a914-4592-acff-94b5f5583b68",
   "metadata": {},
   "outputs": [
    {
     "data": {
      "text/plain": [
       "0    False\n",
       "1    False\n",
       "2    False\n",
       "3    False\n",
       "4    False\n",
       "Name: gear, dtype: bool"
      ]
     },
     "execution_count": 62,
     "metadata": {},
     "output_type": "execute_result"
    }
   ],
   "source": [
    "df = cars()\n",
    "(df[\"gear\"] == 5).head(5)"
   ]
  },
  {
   "cell_type": "markdown",
   "id": "094093b0-ccdf-486e-8ccf-06a96ec3359f",
   "metadata": {},
   "source": [
    "Boolean operators like `&`, `|` and `~` (negation) can be used on those boolean vectors to represent compound filtering conditions. Individual conditions have to be enclosed in parenthesis since `&` and `|` have higher priority in Python than operators like `==`, `>=`, etc.:"
   ]
  },
  {
   "cell_type": "code",
   "execution_count": 63,
   "id": "e6ffaa8a-9536-4bec-be45-490797aa24c0",
   "metadata": {},
   "outputs": [
    {
     "data": {
      "text/html": [
       "<div>\n",
       "<style scoped>\n",
       "    .dataframe tbody tr th:only-of-type {\n",
       "        vertical-align: middle;\n",
       "    }\n",
       "\n",
       "    .dataframe tbody tr th {\n",
       "        vertical-align: top;\n",
       "    }\n",
       "\n",
       "    .dataframe thead th {\n",
       "        text-align: right;\n",
       "    }\n",
       "</style>\n",
       "<table border=\"1\" class=\"dataframe\">\n",
       "  <thead>\n",
       "    <tr style=\"text-align: right;\">\n",
       "      <th></th>\n",
       "      <th>model</th>\n",
       "      <th>mpg</th>\n",
       "      <th>cyl</th>\n",
       "      <th>disp</th>\n",
       "      <th>hp</th>\n",
       "      <th>drat</th>\n",
       "      <th>wt</th>\n",
       "      <th>qsec</th>\n",
       "      <th>vs</th>\n",
       "      <th>am</th>\n",
       "      <th>gear</th>\n",
       "      <th>carb</th>\n",
       "    </tr>\n",
       "  </thead>\n",
       "  <tbody>\n",
       "    <tr>\n",
       "      <th>3</th>\n",
       "      <td>Hornet 4 Drive</td>\n",
       "      <td>21.4</td>\n",
       "      <td>6</td>\n",
       "      <td>258.0</td>\n",
       "      <td>110</td>\n",
       "      <td>3.08</td>\n",
       "      <td>3.215</td>\n",
       "      <td>19.44</td>\n",
       "      <td>1</td>\n",
       "      <td>0</td>\n",
       "      <td>3</td>\n",
       "      <td>1</td>\n",
       "    </tr>\n",
       "    <tr>\n",
       "      <th>5</th>\n",
       "      <td>Valiant</td>\n",
       "      <td>18.1</td>\n",
       "      <td>6</td>\n",
       "      <td>225.0</td>\n",
       "      <td>105</td>\n",
       "      <td>2.76</td>\n",
       "      <td>3.460</td>\n",
       "      <td>20.22</td>\n",
       "      <td>1</td>\n",
       "      <td>0</td>\n",
       "      <td>3</td>\n",
       "      <td>1</td>\n",
       "    </tr>\n",
       "    <tr>\n",
       "      <th>20</th>\n",
       "      <td>Toyota Corona</td>\n",
       "      <td>21.5</td>\n",
       "      <td>4</td>\n",
       "      <td>120.1</td>\n",
       "      <td>97</td>\n",
       "      <td>3.70</td>\n",
       "      <td>2.465</td>\n",
       "      <td>20.01</td>\n",
       "      <td>1</td>\n",
       "      <td>0</td>\n",
       "      <td>3</td>\n",
       "      <td>1</td>\n",
       "    </tr>\n",
       "  </tbody>\n",
       "</table>\n",
       "</div>"
      ],
      "text/plain": [
       "             model   mpg  cyl   disp   hp  drat     wt   qsec  vs  am  gear  \\\n",
       "3   Hornet 4 Drive  21.4    6  258.0  110  3.08  3.215  19.44   1   0     3   \n",
       "5          Valiant  18.1    6  225.0  105  2.76  3.460  20.22   1   0     3   \n",
       "20   Toyota Corona  21.5    4  120.1   97  3.70  2.465  20.01   1   0     3   \n",
       "\n",
       "    carb  \n",
       "3      1  \n",
       "5      1  \n",
       "20     1  "
      ]
     },
     "execution_count": 63,
     "metadata": {},
     "output_type": "execute_result"
    }
   ],
   "source": [
    "df = cars()\n",
    "df[(df[\"cyl\"] >= 4) & (df[\"cyl\"] <= 6) & (df[\"gear\"] == 3)]"
   ]
  },
  {
   "cell_type": "markdown",
   "id": "e979b4d8-b300-45bd-8495-e7d356ee6498",
   "metadata": {},
   "source": [
    "Use `isin()` series method for subset selection:"
   ]
  },
  {
   "cell_type": "code",
   "execution_count": 64,
   "id": "7603f3d2-5b69-4451-b542-c639e398c74c",
   "metadata": {},
   "outputs": [
    {
     "data": {
      "text/html": [
       "<div>\n",
       "<style scoped>\n",
       "    .dataframe tbody tr th:only-of-type {\n",
       "        vertical-align: middle;\n",
       "    }\n",
       "\n",
       "    .dataframe tbody tr th {\n",
       "        vertical-align: top;\n",
       "    }\n",
       "\n",
       "    .dataframe thead th {\n",
       "        text-align: right;\n",
       "    }\n",
       "</style>\n",
       "<table border=\"1\" class=\"dataframe\">\n",
       "  <thead>\n",
       "    <tr style=\"text-align: right;\">\n",
       "      <th></th>\n",
       "      <th>model</th>\n",
       "      <th>mpg</th>\n",
       "      <th>cyl</th>\n",
       "      <th>disp</th>\n",
       "      <th>hp</th>\n",
       "      <th>drat</th>\n",
       "      <th>wt</th>\n",
       "      <th>qsec</th>\n",
       "      <th>vs</th>\n",
       "      <th>am</th>\n",
       "      <th>gear</th>\n",
       "      <th>carb</th>\n",
       "    </tr>\n",
       "  </thead>\n",
       "  <tbody>\n",
       "    <tr>\n",
       "      <th>3</th>\n",
       "      <td>Hornet 4 Drive</td>\n",
       "      <td>21.4</td>\n",
       "      <td>6</td>\n",
       "      <td>258.0</td>\n",
       "      <td>110</td>\n",
       "      <td>3.08</td>\n",
       "      <td>3.215</td>\n",
       "      <td>19.44</td>\n",
       "      <td>1</td>\n",
       "      <td>0</td>\n",
       "      <td>3</td>\n",
       "      <td>1</td>\n",
       "    </tr>\n",
       "    <tr>\n",
       "      <th>5</th>\n",
       "      <td>Valiant</td>\n",
       "      <td>18.1</td>\n",
       "      <td>6</td>\n",
       "      <td>225.0</td>\n",
       "      <td>105</td>\n",
       "      <td>2.76</td>\n",
       "      <td>3.460</td>\n",
       "      <td>20.22</td>\n",
       "      <td>1</td>\n",
       "      <td>0</td>\n",
       "      <td>3</td>\n",
       "      <td>1</td>\n",
       "    </tr>\n",
       "    <tr>\n",
       "      <th>20</th>\n",
       "      <td>Toyota Corona</td>\n",
       "      <td>21.5</td>\n",
       "      <td>4</td>\n",
       "      <td>120.1</td>\n",
       "      <td>97</td>\n",
       "      <td>3.70</td>\n",
       "      <td>2.465</td>\n",
       "      <td>20.01</td>\n",
       "      <td>1</td>\n",
       "      <td>0</td>\n",
       "      <td>3</td>\n",
       "      <td>1</td>\n",
       "    </tr>\n",
       "  </tbody>\n",
       "</table>\n",
       "</div>"
      ],
      "text/plain": [
       "             model   mpg  cyl   disp   hp  drat     wt   qsec  vs  am  gear  \\\n",
       "3   Hornet 4 Drive  21.4    6  258.0  110  3.08  3.215  19.44   1   0     3   \n",
       "5          Valiant  18.1    6  225.0  105  2.76  3.460  20.22   1   0     3   \n",
       "20   Toyota Corona  21.5    4  120.1   97  3.70  2.465  20.01   1   0     3   \n",
       "\n",
       "    carb  \n",
       "3      1  \n",
       "5      1  \n",
       "20     1  "
      ]
     },
     "execution_count": 64,
     "metadata": {},
     "output_type": "execute_result"
    }
   ],
   "source": [
    "df = cars()\n",
    "df[df[\"cyl\"].isin([4, 6]) & (df[\"gear\"] == 3)]"
   ]
  },
  {
   "cell_type": "markdown",
   "id": "0cce955f-9f0e-4855-92bc-b02328ace4f5",
   "metadata": {},
   "source": [
    "### Selecting with iloc[]"
   ]
  },
  {
   "cell_type": "markdown",
   "id": "7decf8e0-c652-4821-8828-46fc7fe61f55",
   "metadata": {},
   "source": [
    "`iloc[]` returns rows and columns specified using list-like indexes (positive or negative offset of the row in the series or of the rows and optionally columns of the data frame):"
   ]
  },
  {
   "cell_type": "code",
   "execution_count": 65,
   "id": "edc345c3-a774-4d31-9a96-f9fb2b3df209",
   "metadata": {},
   "outputs": [
    {
     "data": {
      "text/plain": [
       "model    Datsun 710\n",
       "mpg            22.8\n",
       "cyl               4\n",
       "disp          108.0\n",
       "hp               93\n",
       "drat           3.85\n",
       "wt             2.32\n",
       "qsec          18.61\n",
       "vs                1\n",
       "am                1\n",
       "gear              4\n",
       "carb              1\n",
       "Name: 2, dtype: object"
      ]
     },
     "execution_count": 65,
     "metadata": {},
     "output_type": "execute_result"
    }
   ],
   "source": [
    "df = cars()\n",
    "df.iloc[2]"
   ]
  },
  {
   "cell_type": "code",
   "execution_count": 66,
   "id": "ebef705b-6b46-407c-942b-f0e53bea0591",
   "metadata": {},
   "outputs": [
    {
     "data": {
      "text/plain": [
       "model    Maserati Bora\n",
       "mpg               15.0\n",
       "cyl                  8\n",
       "disp             301.0\n",
       "hp                 335\n",
       "drat              3.54\n",
       "wt                3.57\n",
       "qsec              14.6\n",
       "vs                   0\n",
       "am                   1\n",
       "gear                 5\n",
       "carb                 8\n",
       "Name: 30, dtype: object"
      ]
     },
     "execution_count": 66,
     "metadata": {},
     "output_type": "execute_result"
    }
   ],
   "source": [
    "df = cars()\n",
    "df.iloc[-2]"
   ]
  },
  {
   "cell_type": "code",
   "execution_count": 67,
   "id": "544b1f92-90a1-4f6d-818e-43aad35530a7",
   "metadata": {
    "scrolled": true
   },
   "outputs": [
    {
     "data": {
      "text/html": [
       "<div>\n",
       "<style scoped>\n",
       "    .dataframe tbody tr th:only-of-type {\n",
       "        vertical-align: middle;\n",
       "    }\n",
       "\n",
       "    .dataframe tbody tr th {\n",
       "        vertical-align: top;\n",
       "    }\n",
       "\n",
       "    .dataframe thead th {\n",
       "        text-align: right;\n",
       "    }\n",
       "</style>\n",
       "<table border=\"1\" class=\"dataframe\">\n",
       "  <thead>\n",
       "    <tr style=\"text-align: right;\">\n",
       "      <th></th>\n",
       "      <th>model</th>\n",
       "      <th>mpg</th>\n",
       "      <th>cyl</th>\n",
       "      <th>disp</th>\n",
       "      <th>hp</th>\n",
       "      <th>drat</th>\n",
       "      <th>wt</th>\n",
       "      <th>qsec</th>\n",
       "      <th>vs</th>\n",
       "      <th>am</th>\n",
       "      <th>gear</th>\n",
       "      <th>carb</th>\n",
       "    </tr>\n",
       "  </thead>\n",
       "  <tbody>\n",
       "    <tr>\n",
       "      <th>0</th>\n",
       "      <td>Mazda RX4</td>\n",
       "      <td>21.0</td>\n",
       "      <td>6</td>\n",
       "      <td>160.0</td>\n",
       "      <td>110</td>\n",
       "      <td>3.90</td>\n",
       "      <td>2.620</td>\n",
       "      <td>16.46</td>\n",
       "      <td>0</td>\n",
       "      <td>1</td>\n",
       "      <td>4</td>\n",
       "      <td>4</td>\n",
       "    </tr>\n",
       "    <tr>\n",
       "      <th>1</th>\n",
       "      <td>Mazda RX4 Wag</td>\n",
       "      <td>21.0</td>\n",
       "      <td>6</td>\n",
       "      <td>160.0</td>\n",
       "      <td>110</td>\n",
       "      <td>3.90</td>\n",
       "      <td>2.875</td>\n",
       "      <td>17.02</td>\n",
       "      <td>0</td>\n",
       "      <td>1</td>\n",
       "      <td>4</td>\n",
       "      <td>4</td>\n",
       "    </tr>\n",
       "    <tr>\n",
       "      <th>2</th>\n",
       "      <td>Datsun 710</td>\n",
       "      <td>22.8</td>\n",
       "      <td>4</td>\n",
       "      <td>108.0</td>\n",
       "      <td>93</td>\n",
       "      <td>3.85</td>\n",
       "      <td>2.320</td>\n",
       "      <td>18.61</td>\n",
       "      <td>1</td>\n",
       "      <td>1</td>\n",
       "      <td>4</td>\n",
       "      <td>1</td>\n",
       "    </tr>\n",
       "  </tbody>\n",
       "</table>\n",
       "</div>"
      ],
      "text/plain": [
       "           model   mpg  cyl   disp   hp  drat     wt   qsec  vs  am  gear  \\\n",
       "0      Mazda RX4  21.0    6  160.0  110  3.90  2.620  16.46   0   1     4   \n",
       "1  Mazda RX4 Wag  21.0    6  160.0  110  3.90  2.875  17.02   0   1     4   \n",
       "2     Datsun 710  22.8    4  108.0   93  3.85  2.320  18.61   1   1     4   \n",
       "\n",
       "   carb  \n",
       "0     4  \n",
       "1     4  \n",
       "2     1  "
      ]
     },
     "execution_count": 67,
     "metadata": {},
     "output_type": "execute_result"
    }
   ],
   "source": [
    "df = cars()\n",
    "df.iloc[0:3]"
   ]
  },
  {
   "cell_type": "markdown",
   "id": "592dfdaf-8191-423c-872f-8e670edd66b4",
   "metadata": {},
   "source": [
    "## Groups and aggregations"
   ]
  },
  {
   "cell_type": "markdown",
   "id": "a68acda9-abb5-4028-a28a-3340286224cb",
   "metadata": {},
   "source": [
    "### Basics of groups"
   ]
  },
  {
   "cell_type": "markdown",
   "id": "7583538d-345a-4049-9d54-4172435a8e44",
   "metadata": {},
   "source": [
    "To form groups you call `.groupby` on a series or on a dataframe, supplying the group key in one of several supported ways."
   ]
  },
  {
   "cell_type": "markdown",
   "id": "a157ccb9-641e-4f32-9c62-f033daccf336",
   "metadata": {},
   "source": [
    "In the simplest case you supply the name of the column to use as the group key:"
   ]
  },
  {
   "cell_type": "code",
   "execution_count": 68,
   "id": "009b3de0-3ef7-4a78-8805-268a266cd6ed",
   "metadata": {},
   "outputs": [
    {
     "data": {
      "text/plain": [
       "<pandas.core.groupby.generic.DataFrameGroupBy object at 0x7f264009d5b0>"
      ]
     },
     "execution_count": 68,
     "metadata": {},
     "output_type": "execute_result"
    }
   ],
   "source": [
    "df.groupby(\"cyl\")"
   ]
  },
  {
   "cell_type": "markdown",
   "id": "e6d7468a-a17b-4e53-92ed-d6f246d6071c",
   "metadata": {},
   "source": [
    "This `DataframeGroupBy` object is the starting point from which various groupwise operations can be done:"
   ]
  },
  {
   "cell_type": "code",
   "execution_count": 69,
   "id": "2d30486b-8a1c-47ed-8a1d-81c3c87dc7ef",
   "metadata": {
    "tags": []
   },
   "outputs": [
    {
     "data": {
      "text/html": [
       "<div>\n",
       "<style scoped>\n",
       "    .dataframe tbody tr th:only-of-type {\n",
       "        vertical-align: middle;\n",
       "    }\n",
       "\n",
       "    .dataframe tbody tr th {\n",
       "        vertical-align: top;\n",
       "    }\n",
       "\n",
       "    .dataframe thead th {\n",
       "        text-align: right;\n",
       "    }\n",
       "</style>\n",
       "<table border=\"1\" class=\"dataframe\">\n",
       "  <thead>\n",
       "    <tr style=\"text-align: right;\">\n",
       "      <th></th>\n",
       "      <th>mpg</th>\n",
       "      <th>disp</th>\n",
       "      <th>hp</th>\n",
       "      <th>drat</th>\n",
       "      <th>wt</th>\n",
       "      <th>qsec</th>\n",
       "      <th>vs</th>\n",
       "      <th>am</th>\n",
       "      <th>gear</th>\n",
       "      <th>carb</th>\n",
       "    </tr>\n",
       "    <tr>\n",
       "      <th>cyl</th>\n",
       "      <th></th>\n",
       "      <th></th>\n",
       "      <th></th>\n",
       "      <th></th>\n",
       "      <th></th>\n",
       "      <th></th>\n",
       "      <th></th>\n",
       "      <th></th>\n",
       "      <th></th>\n",
       "      <th></th>\n",
       "    </tr>\n",
       "  </thead>\n",
       "  <tbody>\n",
       "    <tr>\n",
       "      <th>4</th>\n",
       "      <td>26.664</td>\n",
       "      <td>105.136</td>\n",
       "      <td>82.636</td>\n",
       "      <td>4.071</td>\n",
       "      <td>2.286</td>\n",
       "      <td>19.137</td>\n",
       "      <td>0.909</td>\n",
       "      <td>0.727</td>\n",
       "      <td>4.091</td>\n",
       "      <td>1.545</td>\n",
       "    </tr>\n",
       "    <tr>\n",
       "      <th>6</th>\n",
       "      <td>19.743</td>\n",
       "      <td>183.314</td>\n",
       "      <td>122.286</td>\n",
       "      <td>3.586</td>\n",
       "      <td>3.117</td>\n",
       "      <td>17.977</td>\n",
       "      <td>0.571</td>\n",
       "      <td>0.429</td>\n",
       "      <td>3.857</td>\n",
       "      <td>3.429</td>\n",
       "    </tr>\n",
       "    <tr>\n",
       "      <th>8</th>\n",
       "      <td>15.100</td>\n",
       "      <td>353.100</td>\n",
       "      <td>209.214</td>\n",
       "      <td>3.229</td>\n",
       "      <td>3.999</td>\n",
       "      <td>16.772</td>\n",
       "      <td>0.000</td>\n",
       "      <td>0.143</td>\n",
       "      <td>3.286</td>\n",
       "      <td>3.500</td>\n",
       "    </tr>\n",
       "  </tbody>\n",
       "</table>\n",
       "</div>"
      ],
      "text/plain": [
       "        mpg     disp       hp   drat     wt    qsec     vs     am   gear  \\\n",
       "cyl                                                                        \n",
       "4    26.664  105.136   82.636  4.071  2.286  19.137  0.909  0.727  4.091   \n",
       "6    19.743  183.314  122.286  3.586  3.117  17.977  0.571  0.429  3.857   \n",
       "8    15.100  353.100  209.214  3.229  3.999  16.772  0.000  0.143  3.286   \n",
       "\n",
       "      carb  \n",
       "cyl         \n",
       "4    1.545  \n",
       "6    3.429  \n",
       "8    3.500  "
      ]
     },
     "execution_count": 69,
     "metadata": {},
     "output_type": "execute_result"
    }
   ],
   "source": [
    "df.groupby(\"cyl\").mean(numeric_only=True)"
   ]
  },
  {
   "cell_type": "markdown",
   "id": "c86dc7dc-a3cd-40dd-bf53-05e779331f83",
   "metadata": {},
   "source": [
    "You can also select a single series from the dataframe groupby object which results in a `SeriesGroupBy` object:"
   ]
  },
  {
   "cell_type": "code",
   "execution_count": 70,
   "id": "621e0684-d016-48c4-86e1-b20a0d64fe69",
   "metadata": {
    "tags": []
   },
   "outputs": [
    {
     "data": {
      "text/plain": [
       "<pandas.core.groupby.generic.SeriesGroupBy object at 0x7f263ef39e20>"
      ]
     },
     "execution_count": 70,
     "metadata": {},
     "output_type": "execute_result"
    }
   ],
   "source": [
    "df.groupby(\"cyl\")[\"mpg\"]"
   ]
  },
  {
   "cell_type": "markdown",
   "id": "e48500fd-8d0a-48c2-8607-615669c444e7",
   "metadata": {},
   "source": [
    "Aggregations then produce a single value per group and result in a `pd.Series`:"
   ]
  },
  {
   "cell_type": "code",
   "execution_count": 71,
   "id": "653ab275-3b86-4b9a-8ecc-d0f2488dd284",
   "metadata": {
    "tags": []
   },
   "outputs": [
    {
     "data": {
      "text/plain": [
       "cyl\n",
       "4    26.664\n",
       "6    19.743\n",
       "8    15.100\n",
       "Name: mpg, dtype: float64"
      ]
     },
     "execution_count": 71,
     "metadata": {},
     "output_type": "execute_result"
    }
   ],
   "source": [
    "df.groupby(\"cyl\")[\"mpg\"].mean()"
   ]
  },
  {
   "cell_type": "markdown",
   "id": "d6a347d2-54ab-4b83-84bd-c74f91abaedf",
   "metadata": {},
   "source": [
    "### Aggregating using predefined aggregations"
   ]
  },
  {
   "cell_type": "markdown",
   "id": "52dc9929-6c07-44ac-bde5-1e06c2f5a6c0",
   "metadata": {},
   "source": [
    "The `SeriesGroupBy` and `DataframeGroupBy` objects both support calls like `min()`, `max()`, `mean()`, `std()`, `var()`, `quantile()` etc. that are groupwise versions of the respective series/dataframe operation:"
   ]
  },
  {
   "cell_type": "code",
   "execution_count": 72,
   "id": "2a48623d-5094-4855-aad4-d18034be5aa6",
   "metadata": {},
   "outputs": [
    {
     "data": {
      "text/plain": [
       "cyl  gear\n",
       "4    3        97.000\n",
       "     4        76.000\n",
       "     5       102.000\n",
       "6    3       107.500\n",
       "     4       116.500\n",
       "     5       175.000\n",
       "8    3       194.167\n",
       "     5       299.500\n",
       "Name: hp, dtype: float64"
      ]
     },
     "execution_count": 72,
     "metadata": {},
     "output_type": "execute_result"
    }
   ],
   "source": [
    "df = cars()\n",
    "df.groupby([\"cyl\", \"gear\"])[\"hp\"].mean()"
   ]
  },
  {
   "cell_type": "markdown",
   "id": "b1b66d2a-be42-4fec-aa2f-767c6c5fbc19",
   "metadata": {},
   "source": [
    "To count the number of rows in each group call `.size()` on the groupby object:"
   ]
  },
  {
   "cell_type": "code",
   "execution_count": 73,
   "id": "0020707c-6558-4f72-899a-8a91cc471827",
   "metadata": {},
   "outputs": [
    {
     "data": {
      "text/plain": [
       "cyl  gear\n",
       "4    3        1\n",
       "     4        8\n",
       "     5        2\n",
       "6    3        2\n",
       "     4        4\n",
       "     5        1\n",
       "8    3       12\n",
       "     5        2\n",
       "dtype: int64"
      ]
     },
     "execution_count": 73,
     "metadata": {},
     "output_type": "execute_result"
    }
   ],
   "source": [
    "df = cars()\n",
    "df.groupby([\"cyl\", \"gear\"]).size()"
   ]
  },
  {
   "cell_type": "markdown",
   "id": "c89ffad1-e56f-470c-b907-ccf4b197b4b5",
   "metadata": {},
   "source": [
    "Confusingly, to get the number of rows in the whole dataframe, you have to call `len(df)` or `len(df.index)`, rather than `df.size()`. In a dataframe, `.size` is a field not a method and it holds the number of cells in the dataframe not the number of rows. For example, to see what fraction of all cars have which setup in terms of number of cylinders and number of gears you call `.size()` on the groupby object returned by `groupby([\"cyl\", \"gear\"])`, but divide by `len(df)`:"
   ]
  },
  {
   "cell_type": "code",
   "execution_count": 74,
   "id": "7518078c-a1e4-46f7-9403-e7cc4c540cd4",
   "metadata": {},
   "outputs": [
    {
     "data": {
      "text/plain": [
       "cyl  gear\n",
       "4    3       0.031\n",
       "     4       0.250\n",
       "     5       0.062\n",
       "6    3       0.062\n",
       "     4       0.125\n",
       "     5       0.031\n",
       "8    3       0.375\n",
       "     5       0.062\n",
       "dtype: float64"
      ]
     },
     "execution_count": 74,
     "metadata": {},
     "output_type": "execute_result"
    }
   ],
   "source": [
    "df = cars()\n",
    "df.groupby([\"cyl\", \"gear\"]).size() / len(df)"
   ]
  },
  {
   "cell_type": "markdown",
   "id": "7ae4f406-ccc3-4633-b7c0-59b0b532f2c7",
   "metadata": {},
   "source": [
    "To count the groups themselves use the `.ngroups` attribute:"
   ]
  },
  {
   "cell_type": "code",
   "execution_count": 75,
   "id": "d90aecb6-3265-4deb-9575-74a23dc1183b",
   "metadata": {},
   "outputs": [
    {
     "data": {
      "text/plain": [
       "8"
      ]
     },
     "execution_count": 75,
     "metadata": {},
     "output_type": "execute_result"
    }
   ],
   "source": [
    "df = cars()\n",
    "df.groupby([\"cyl\", \"gear\"]).ngroups"
   ]
  },
  {
   "cell_type": "markdown",
   "id": "83bcd7f1-bece-4ab1-b3f8-1f0890f09775",
   "metadata": {},
   "source": [
    "To compute a compound expression involving group level aggregates, for example the range of values within each group (group max - group min), reference to the groupby object and reuse it:"
   ]
  },
  {
   "cell_type": "code",
   "execution_count": 76,
   "id": "d3fe1e78-5e90-4246-b862-498593f0fbf2",
   "metadata": {},
   "outputs": [
    {
     "data": {
      "text/plain": [
       "cyl  gear\n",
       "4    3        0\n",
       "     4       57\n",
       "     5       22\n",
       "6    3        5\n",
       "     4       13\n",
       "     5        0\n",
       "8    3       95\n",
       "     5       71\n",
       "Name: hp, dtype: int64"
      ]
     },
     "execution_count": 76,
     "metadata": {},
     "output_type": "execute_result"
    }
   ],
   "source": [
    "df = cars()\n",
    "df_groupby = df.groupby([\"cyl\", \"gear\"])[\"hp\"]\n",
    "df_groupby.max() - df_groupby.min()"
   ]
  },
  {
   "cell_type": "markdown",
   "id": "555e1a81-b745-42e9-8386-2c7123616275",
   "metadata": {},
   "source": [
    "### Aggregating using generic agg()"
   ]
  },
  {
   "cell_type": "markdown",
   "id": "b45132c3-577e-46fe-bea7-64dbbae9bc70",
   "metadata": {},
   "source": [
    "`agg(func)` calls `func(series)` once for each `series` of every group. `func` can be a function name, a function or a lambda expression and it should return a scalar value. The result of `agg` is a series or a dataframe depending whether aggregation is done on a single series or on a dataframe but also whether one aggregation is done or many. There are also multiple ways of providing arguments specifying the aggregations to do. Hence there are many cases which we now try to outline."
   ]
  },
  {
   "cell_type": "markdown",
   "id": "31fdd1c6-a7cd-4172-89a7-9471994e2e8d",
   "metadata": {},
   "source": [
    "#### Aggregating a single series"
   ]
  },
  {
   "cell_type": "markdown",
   "id": "bf05eb82-afb1-457e-ae07-6b43b16dbb51",
   "metadata": {},
   "source": [
    "The simplest aggregation is done on a single series and results in a series:"
   ]
  },
  {
   "cell_type": "code",
   "execution_count": 77,
   "id": "7b395aa6-d61f-495b-aa69-b8e0f3e784c6",
   "metadata": {},
   "outputs": [
    {
     "data": {
      "text/plain": [
       "cyl\n",
       "4     82.636\n",
       "6    122.286\n",
       "8    209.214\n",
       "Name: hp, dtype: float64"
      ]
     },
     "execution_count": 77,
     "metadata": {},
     "output_type": "execute_result"
    }
   ],
   "source": [
    "df = cars()\n",
    "df.groupby(\"cyl\")[\"hp\"].agg(\"mean\")"
   ]
  },
  {
   "cell_type": "markdown",
   "id": "8de237d0-6941-4e33-803d-8fb83cea1c02",
   "metadata": {},
   "source": [
    "When you pass a list as the argument to `agg` the result will be a dataframe, since then in general there can be more than one group and more than one aggregation - the groups become rows and the aggregations become columns of the result:"
   ]
  },
  {
   "cell_type": "code",
   "execution_count": 78,
   "id": "18415d56-779c-4243-b537-767f16932802",
   "metadata": {},
   "outputs": [
    {
     "data": {
      "text/html": [
       "<div>\n",
       "<style scoped>\n",
       "    .dataframe tbody tr th:only-of-type {\n",
       "        vertical-align: middle;\n",
       "    }\n",
       "\n",
       "    .dataframe tbody tr th {\n",
       "        vertical-align: top;\n",
       "    }\n",
       "\n",
       "    .dataframe thead th {\n",
       "        text-align: right;\n",
       "    }\n",
       "</style>\n",
       "<table border=\"1\" class=\"dataframe\">\n",
       "  <thead>\n",
       "    <tr style=\"text-align: right;\">\n",
       "      <th></th>\n",
       "      <th>size</th>\n",
       "      <th>mean</th>\n",
       "      <th>std</th>\n",
       "    </tr>\n",
       "    <tr>\n",
       "      <th>cyl</th>\n",
       "      <th></th>\n",
       "      <th></th>\n",
       "      <th></th>\n",
       "    </tr>\n",
       "  </thead>\n",
       "  <tbody>\n",
       "    <tr>\n",
       "      <th>4</th>\n",
       "      <td>11</td>\n",
       "      <td>82.636</td>\n",
       "      <td>20.935</td>\n",
       "    </tr>\n",
       "    <tr>\n",
       "      <th>6</th>\n",
       "      <td>7</td>\n",
       "      <td>122.286</td>\n",
       "      <td>24.260</td>\n",
       "    </tr>\n",
       "    <tr>\n",
       "      <th>8</th>\n",
       "      <td>14</td>\n",
       "      <td>209.214</td>\n",
       "      <td>50.977</td>\n",
       "    </tr>\n",
       "  </tbody>\n",
       "</table>\n",
       "</div>"
      ],
      "text/plain": [
       "     size     mean     std\n",
       "cyl                       \n",
       "4      11   82.636  20.935\n",
       "6       7  122.286  24.260\n",
       "8      14  209.214  50.977"
      ]
     },
     "execution_count": 78,
     "metadata": {},
     "output_type": "execute_result"
    }
   ],
   "source": [
    "df = cars()\n",
    "df.groupby(\"cyl\")[\"hp\"].agg([\"size\", \"mean\", \"std\"])"
   ]
  },
  {
   "cell_type": "markdown",
   "id": "d74745bc-a29e-4a4c-a734-626b2fde3c5a",
   "metadata": {},
   "source": [
    "This might be useful also with only one aggregation in the list, just to force the aggregation result to be a dataframe:"
   ]
  },
  {
   "cell_type": "code",
   "execution_count": 79,
   "id": "a1276bbc-e78f-47da-8ebd-b318acc52db6",
   "metadata": {},
   "outputs": [
    {
     "data": {
      "text/html": [
       "<div>\n",
       "<style scoped>\n",
       "    .dataframe tbody tr th:only-of-type {\n",
       "        vertical-align: middle;\n",
       "    }\n",
       "\n",
       "    .dataframe tbody tr th {\n",
       "        vertical-align: top;\n",
       "    }\n",
       "\n",
       "    .dataframe thead th {\n",
       "        text-align: right;\n",
       "    }\n",
       "</style>\n",
       "<table border=\"1\" class=\"dataframe\">\n",
       "  <thead>\n",
       "    <tr style=\"text-align: right;\">\n",
       "      <th></th>\n",
       "      <th>mean</th>\n",
       "    </tr>\n",
       "    <tr>\n",
       "      <th>cyl</th>\n",
       "      <th></th>\n",
       "    </tr>\n",
       "  </thead>\n",
       "  <tbody>\n",
       "    <tr>\n",
       "      <th>4</th>\n",
       "      <td>82.636</td>\n",
       "    </tr>\n",
       "    <tr>\n",
       "      <th>6</th>\n",
       "      <td>122.286</td>\n",
       "    </tr>\n",
       "    <tr>\n",
       "      <th>8</th>\n",
       "      <td>209.214</td>\n",
       "    </tr>\n",
       "  </tbody>\n",
       "</table>\n",
       "</div>"
      ],
      "text/plain": [
       "        mean\n",
       "cyl         \n",
       "4     82.636\n",
       "6    122.286\n",
       "8    209.214"
      ]
     },
     "execution_count": 79,
     "metadata": {},
     "output_type": "execute_result"
    }
   ],
   "source": [
    "df = cars()\n",
    "df.groupby(\"cyl\")[\"hp\"].agg([\"mean\"])"
   ]
  },
  {
   "cell_type": "markdown",
   "id": "febfe3be-dffa-442e-aeba-50cd3decfdfa",
   "metadata": {},
   "source": [
    "`agg()` can also be called with keyword arguments, in which case the name of the argument specifies the name of the column for the aggregated data in the resulting dataframe. The value of each keyword argument should again be a function or a function name to perform the aggregation:"
   ]
  },
  {
   "cell_type": "code",
   "execution_count": 80,
   "id": "25037418-6341-4cf1-949a-65363c8e6bdf",
   "metadata": {},
   "outputs": [
    {
     "data": {
      "text/html": [
       "<div>\n",
       "<style scoped>\n",
       "    .dataframe tbody tr th:only-of-type {\n",
       "        vertical-align: middle;\n",
       "    }\n",
       "\n",
       "    .dataframe tbody tr th {\n",
       "        vertical-align: top;\n",
       "    }\n",
       "\n",
       "    .dataframe thead th {\n",
       "        text-align: right;\n",
       "    }\n",
       "</style>\n",
       "<table border=\"1\" class=\"dataframe\">\n",
       "  <thead>\n",
       "    <tr style=\"text-align: right;\">\n",
       "      <th></th>\n",
       "      <th>count</th>\n",
       "      <th>average</th>\n",
       "      <th>stddev</th>\n",
       "    </tr>\n",
       "    <tr>\n",
       "      <th>cyl</th>\n",
       "      <th></th>\n",
       "      <th></th>\n",
       "      <th></th>\n",
       "    </tr>\n",
       "  </thead>\n",
       "  <tbody>\n",
       "    <tr>\n",
       "      <th>4</th>\n",
       "      <td>11</td>\n",
       "      <td>82.636</td>\n",
       "      <td>20.935</td>\n",
       "    </tr>\n",
       "    <tr>\n",
       "      <th>6</th>\n",
       "      <td>7</td>\n",
       "      <td>122.286</td>\n",
       "      <td>24.260</td>\n",
       "    </tr>\n",
       "    <tr>\n",
       "      <th>8</th>\n",
       "      <td>14</td>\n",
       "      <td>209.214</td>\n",
       "      <td>50.977</td>\n",
       "    </tr>\n",
       "  </tbody>\n",
       "</table>\n",
       "</div>"
      ],
      "text/plain": [
       "     count  average  stddev\n",
       "cyl                        \n",
       "4       11   82.636  20.935\n",
       "6        7  122.286  24.260\n",
       "8       14  209.214  50.977"
      ]
     },
     "execution_count": 80,
     "metadata": {},
     "output_type": "execute_result"
    }
   ],
   "source": [
    "df = cars()\n",
    "df.groupby(\"cyl\")[\"hp\"].agg(count=\"size\", average=\"mean\", stddev=\"std\")"
   ]
  },
  {
   "cell_type": "markdown",
   "id": "fd62b1cc-c05f-4177-9ca3-eb71ef9045be",
   "metadata": {},
   "source": [
    "#### Aggregating a dataframe"
   ]
  },
  {
   "cell_type": "markdown",
   "id": "e7c79945-4706-4b15-af7e-dbdd4520196c",
   "metadata": {},
   "source": [
    "Next case is aggregation of multiple series. When a single aggregation is applied, the result is a simple dataframe whose column names are the same as the columns that were aggregated:"
   ]
  },
  {
   "cell_type": "code",
   "execution_count": 81,
   "id": "e833e618-15e0-4907-8f85-ad2dc20e8e05",
   "metadata": {},
   "outputs": [
    {
     "data": {
      "text/html": [
       "<div>\n",
       "<style scoped>\n",
       "    .dataframe tbody tr th:only-of-type {\n",
       "        vertical-align: middle;\n",
       "    }\n",
       "\n",
       "    .dataframe tbody tr th {\n",
       "        vertical-align: top;\n",
       "    }\n",
       "\n",
       "    .dataframe thead th {\n",
       "        text-align: right;\n",
       "    }\n",
       "</style>\n",
       "<table border=\"1\" class=\"dataframe\">\n",
       "  <thead>\n",
       "    <tr style=\"text-align: right;\">\n",
       "      <th></th>\n",
       "      <th>hp</th>\n",
       "      <th>wt</th>\n",
       "    </tr>\n",
       "    <tr>\n",
       "      <th>cyl</th>\n",
       "      <th></th>\n",
       "      <th></th>\n",
       "    </tr>\n",
       "  </thead>\n",
       "  <tbody>\n",
       "    <tr>\n",
       "      <th>4</th>\n",
       "      <td>82.636</td>\n",
       "      <td>2.286</td>\n",
       "    </tr>\n",
       "    <tr>\n",
       "      <th>6</th>\n",
       "      <td>122.286</td>\n",
       "      <td>3.117</td>\n",
       "    </tr>\n",
       "    <tr>\n",
       "      <th>8</th>\n",
       "      <td>209.214</td>\n",
       "      <td>3.999</td>\n",
       "    </tr>\n",
       "  </tbody>\n",
       "</table>\n",
       "</div>"
      ],
      "text/plain": [
       "          hp     wt\n",
       "cyl                \n",
       "4     82.636  2.286\n",
       "6    122.286  3.117\n",
       "8    209.214  3.999"
      ]
     },
     "execution_count": 81,
     "metadata": {},
     "output_type": "execute_result"
    }
   ],
   "source": [
    "df = cars()\n",
    "df.groupby(\"cyl\")[[\"hp\", \"wt\"]].agg(\"mean\")"
   ]
  },
  {
   "cell_type": "markdown",
   "id": "4013a048-a368-47e1-be42-772dd1c5d7d2",
   "metadata": {},
   "source": [
    "When multiple aggregations are applied to a dataframe, the result is a dataframe with a column multi-index:"
   ]
  },
  {
   "cell_type": "code",
   "execution_count": 82,
   "id": "7527347d-7ce0-41d2-a8a9-1650d11c3a0a",
   "metadata": {},
   "outputs": [
    {
     "data": {
      "text/html": [
       "<div>\n",
       "<style scoped>\n",
       "    .dataframe tbody tr th:only-of-type {\n",
       "        vertical-align: middle;\n",
       "    }\n",
       "\n",
       "    .dataframe tbody tr th {\n",
       "        vertical-align: top;\n",
       "    }\n",
       "\n",
       "    .dataframe thead tr th {\n",
       "        text-align: left;\n",
       "    }\n",
       "\n",
       "    .dataframe thead tr:last-of-type th {\n",
       "        text-align: right;\n",
       "    }\n",
       "</style>\n",
       "<table border=\"1\" class=\"dataframe\">\n",
       "  <thead>\n",
       "    <tr>\n",
       "      <th></th>\n",
       "      <th colspan=\"2\" halign=\"left\">hp</th>\n",
       "      <th colspan=\"2\" halign=\"left\">wt</th>\n",
       "    </tr>\n",
       "    <tr>\n",
       "      <th></th>\n",
       "      <th>mean</th>\n",
       "      <th>std</th>\n",
       "      <th>mean</th>\n",
       "      <th>std</th>\n",
       "    </tr>\n",
       "    <tr>\n",
       "      <th>cyl</th>\n",
       "      <th></th>\n",
       "      <th></th>\n",
       "      <th></th>\n",
       "      <th></th>\n",
       "    </tr>\n",
       "  </thead>\n",
       "  <tbody>\n",
       "    <tr>\n",
       "      <th>4</th>\n",
       "      <td>82.636</td>\n",
       "      <td>20.935</td>\n",
       "      <td>2.286</td>\n",
       "      <td>0.570</td>\n",
       "    </tr>\n",
       "    <tr>\n",
       "      <th>6</th>\n",
       "      <td>122.286</td>\n",
       "      <td>24.260</td>\n",
       "      <td>3.117</td>\n",
       "      <td>0.356</td>\n",
       "    </tr>\n",
       "    <tr>\n",
       "      <th>8</th>\n",
       "      <td>209.214</td>\n",
       "      <td>50.977</td>\n",
       "      <td>3.999</td>\n",
       "      <td>0.759</td>\n",
       "    </tr>\n",
       "  </tbody>\n",
       "</table>\n",
       "</div>"
      ],
      "text/plain": [
       "          hp             wt       \n",
       "        mean     std   mean    std\n",
       "cyl                               \n",
       "4     82.636  20.935  2.286  0.570\n",
       "6    122.286  24.260  3.117  0.356\n",
       "8    209.214  50.977  3.999  0.759"
      ]
     },
     "execution_count": 82,
     "metadata": {},
     "output_type": "execute_result"
    }
   ],
   "source": [
    "df = cars()\n",
    "df.groupby(\"cyl\")[[\"hp\", \"wt\"]].agg([\"mean\", \"std\"])"
   ]
  },
  {
   "cell_type": "markdown",
   "id": "c00b863a-0fc9-49a6-9046-eee0301aa68e",
   "metadata": {},
   "source": [
    "You can avoid the column multi-index by using the keyword arguments to `agg()`. The name of the keyword argument again specifies the name of the aggregated series in the resulting dataframe, but values of the keyword arguments now have to be tuples of the form `(name_of_column_to_aggregate,aggregation)` where `aggregation` is as always a function or function name:"
   ]
  },
  {
   "cell_type": "code",
   "execution_count": 83,
   "id": "bf9e49b8-4ca0-4d00-a5e1-cb3e5587bead",
   "metadata": {},
   "outputs": [
    {
     "data": {
      "text/html": [
       "<div>\n",
       "<style scoped>\n",
       "    .dataframe tbody tr th:only-of-type {\n",
       "        vertical-align: middle;\n",
       "    }\n",
       "\n",
       "    .dataframe tbody tr th {\n",
       "        vertical-align: top;\n",
       "    }\n",
       "\n",
       "    .dataframe thead th {\n",
       "        text-align: right;\n",
       "    }\n",
       "</style>\n",
       "<table border=\"1\" class=\"dataframe\">\n",
       "  <thead>\n",
       "    <tr style=\"text-align: right;\">\n",
       "      <th></th>\n",
       "      <th>hp_mean</th>\n",
       "      <th>hp_std</th>\n",
       "      <th>wt_mean</th>\n",
       "      <th>wt_std</th>\n",
       "    </tr>\n",
       "    <tr>\n",
       "      <th>cyl</th>\n",
       "      <th></th>\n",
       "      <th></th>\n",
       "      <th></th>\n",
       "      <th></th>\n",
       "    </tr>\n",
       "  </thead>\n",
       "  <tbody>\n",
       "    <tr>\n",
       "      <th>4</th>\n",
       "      <td>82.636</td>\n",
       "      <td>20.935</td>\n",
       "      <td>2.286</td>\n",
       "      <td>0.570</td>\n",
       "    </tr>\n",
       "    <tr>\n",
       "      <th>6</th>\n",
       "      <td>122.286</td>\n",
       "      <td>24.260</td>\n",
       "      <td>3.117</td>\n",
       "      <td>0.356</td>\n",
       "    </tr>\n",
       "    <tr>\n",
       "      <th>8</th>\n",
       "      <td>209.214</td>\n",
       "      <td>50.977</td>\n",
       "      <td>3.999</td>\n",
       "      <td>0.759</td>\n",
       "    </tr>\n",
       "  </tbody>\n",
       "</table>\n",
       "</div>"
      ],
      "text/plain": [
       "     hp_mean  hp_std  wt_mean  wt_std\n",
       "cyl                                  \n",
       "4     82.636  20.935    2.286   0.570\n",
       "6    122.286  24.260    3.117   0.356\n",
       "8    209.214  50.977    3.999   0.759"
      ]
     },
     "execution_count": 83,
     "metadata": {},
     "output_type": "execute_result"
    }
   ],
   "source": [
    "df = cars()\n",
    "df.groupby(\"cyl\")[[\"hp\", \"wt\"]].agg(\n",
    "    hp_mean=(\"hp\", \"mean\"),\n",
    "    hp_std=(\"hp\", \"std\"),\n",
    "    wt_mean=(\"wt\", \"mean\"),\n",
    "    wt_std=(\"wt\", \"std\"),\n",
    ")"
   ]
  },
  {
   "cell_type": "markdown",
   "id": "2a49194c-0f3c-49ca-84eb-e578eecd4245",
   "metadata": {},
   "source": [
    "Finally when aggregating a dataframe there is yet another way of specifying arguments for `agg`: to do different aggregations for different columns you can pass a dict as an argument. The result will be a dataframe and if any columns is aggregated using more than one function, it will have a column multi-index:"
   ]
  },
  {
   "cell_type": "code",
   "execution_count": 84,
   "id": "259f8783-75c4-4d97-b69b-1cb20c70f015",
   "metadata": {},
   "outputs": [
    {
     "data": {
      "text/html": [
       "<div>\n",
       "<style scoped>\n",
       "    .dataframe tbody tr th:only-of-type {\n",
       "        vertical-align: middle;\n",
       "    }\n",
       "\n",
       "    .dataframe tbody tr th {\n",
       "        vertical-align: top;\n",
       "    }\n",
       "\n",
       "    .dataframe thead tr th {\n",
       "        text-align: left;\n",
       "    }\n",
       "\n",
       "    .dataframe thead tr:last-of-type th {\n",
       "        text-align: right;\n",
       "    }\n",
       "</style>\n",
       "<table border=\"1\" class=\"dataframe\">\n",
       "  <thead>\n",
       "    <tr>\n",
       "      <th></th>\n",
       "      <th colspan=\"2\" halign=\"left\">hp</th>\n",
       "      <th>wt</th>\n",
       "    </tr>\n",
       "    <tr>\n",
       "      <th></th>\n",
       "      <th>mean</th>\n",
       "      <th>std</th>\n",
       "      <th>mean</th>\n",
       "    </tr>\n",
       "    <tr>\n",
       "      <th>cyl</th>\n",
       "      <th></th>\n",
       "      <th></th>\n",
       "      <th></th>\n",
       "    </tr>\n",
       "  </thead>\n",
       "  <tbody>\n",
       "    <tr>\n",
       "      <th>4</th>\n",
       "      <td>82.636</td>\n",
       "      <td>20.935</td>\n",
       "      <td>2.286</td>\n",
       "    </tr>\n",
       "    <tr>\n",
       "      <th>6</th>\n",
       "      <td>122.286</td>\n",
       "      <td>24.260</td>\n",
       "      <td>3.117</td>\n",
       "    </tr>\n",
       "    <tr>\n",
       "      <th>8</th>\n",
       "      <td>209.214</td>\n",
       "      <td>50.977</td>\n",
       "      <td>3.999</td>\n",
       "    </tr>\n",
       "  </tbody>\n",
       "</table>\n",
       "</div>"
      ],
      "text/plain": [
       "          hp             wt\n",
       "        mean     std   mean\n",
       "cyl                        \n",
       "4     82.636  20.935  2.286\n",
       "6    122.286  24.260  3.117\n",
       "8    209.214  50.977  3.999"
      ]
     },
     "execution_count": 84,
     "metadata": {},
     "output_type": "execute_result"
    }
   ],
   "source": [
    "df = cars()\n",
    "df.groupby(\"cyl\")[[\"hp\", \"wt\"]].agg({\n",
    "    \"hp\": [\"mean\", \"std\"],\n",
    "    \"wt\": \"mean\"\n",
    "})"
   ]
  }
 ],
 "metadata": {
  "jupytext": {
   "formats": "ipynb,py:percent"
  },
  "kernelspec": {
   "display_name": "Python 3 (ipykernel)",
   "language": "python",
   "name": "python3"
  },
  "language_info": {
   "codemirror_mode": {
    "name": "ipython",
    "version": 3
   },
   "file_extension": ".py",
   "mimetype": "text/x-python",
   "name": "python",
   "nbconvert_exporter": "python",
   "pygments_lexer": "ipython3",
   "version": "3.12.0"
  },
  "toc-autonumbering": false,
  "toc-showcode": false,
  "toc-showmarkdowntxt": false,
  "toc-showtags": false
 },
 "nbformat": 4,
 "nbformat_minor": 5
}
