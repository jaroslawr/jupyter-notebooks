{
 "cells": [
  {
   "cell_type": "markdown",
   "id": "80dfdd98-b882-4a12-a580-e9acbfd3ba26",
   "metadata": {},
   "source": [
    "# Data analysis: Survivors of sinking of the Titanic"
   ]
  },
  {
   "cell_type": "markdown",
   "id": "efb1f996-9ce7-47dc-bf8a-85034906328d",
   "metadata": {},
   "source": [
    "Data analysis of survivors of sinking of the Titanic, using data from:\n",
    "\n",
    "<https://hbiostat.org/data/>"
   ]
  },
  {
   "cell_type": "markdown",
   "id": "e41b736a-cd17-4cb9-87e8-06fef490a4a3",
   "metadata": {},
   "source": [
    "## Setup"
   ]
  },
  {
   "cell_type": "code",
   "execution_count": 1,
   "id": "9aaacf69-223d-4748-87ba-999a88b8da12",
   "metadata": {},
   "outputs": [],
   "source": [
    "import numpy as np\n",
    "import pandas as pd\n",
    "import matplotlib.pyplot as plt\n",
    "import seaborn as sns"
   ]
  },
  {
   "cell_type": "code",
   "execution_count": 2,
   "id": "f0fffc78-941f-4fb2-91f2-ec84436f455e",
   "metadata": {},
   "outputs": [],
   "source": [
    "plt.style.use(\"ggplot\")"
   ]
  },
  {
   "cell_type": "code",
   "execution_count": 3,
   "id": "291400a3-389a-47e9-b5ce-43ca77b8f3f9",
   "metadata": {},
   "outputs": [],
   "source": [
    "pd.options.display.precision = 2"
   ]
  },
  {
   "cell_type": "markdown",
   "id": "8a8510e6-da3c-4580-b6d8-bd57dc507cd4",
   "metadata": {},
   "source": [
    "## Read data"
   ]
  },
  {
   "cell_type": "code",
   "execution_count": 4,
   "id": "75a4a3e2-e6e3-4970-abd1-64c49c9f0d2d",
   "metadata": {},
   "outputs": [
    {
     "data": {
      "text/html": [
       "<div>\n",
       "<style scoped>\n",
       "    .dataframe tbody tr th:only-of-type {\n",
       "        vertical-align: middle;\n",
       "    }\n",
       "\n",
       "    .dataframe tbody tr th {\n",
       "        vertical-align: top;\n",
       "    }\n",
       "\n",
       "    .dataframe thead th {\n",
       "        text-align: right;\n",
       "    }\n",
       "</style>\n",
       "<table border=\"1\" class=\"dataframe\">\n",
       "  <thead>\n",
       "    <tr style=\"text-align: right;\">\n",
       "      <th></th>\n",
       "      <th>row.names</th>\n",
       "      <th>pclass</th>\n",
       "      <th>survived</th>\n",
       "      <th>name</th>\n",
       "      <th>age</th>\n",
       "      <th>embarked</th>\n",
       "      <th>home.dest</th>\n",
       "      <th>room</th>\n",
       "      <th>ticket</th>\n",
       "      <th>boat</th>\n",
       "      <th>sex</th>\n",
       "    </tr>\n",
       "  </thead>\n",
       "  <tbody>\n",
       "    <tr>\n",
       "      <th>0</th>\n",
       "      <td>1</td>\n",
       "      <td>1st</td>\n",
       "      <td>1</td>\n",
       "      <td>Allen, Miss Elisabeth Walton</td>\n",
       "      <td>29.00</td>\n",
       "      <td>Southampton</td>\n",
       "      <td>St Louis, MO</td>\n",
       "      <td>B-5</td>\n",
       "      <td>24160 L221</td>\n",
       "      <td>2</td>\n",
       "      <td>female</td>\n",
       "    </tr>\n",
       "    <tr>\n",
       "      <th>1</th>\n",
       "      <td>2</td>\n",
       "      <td>1st</td>\n",
       "      <td>0</td>\n",
       "      <td>Allison, Miss Helen Loraine</td>\n",
       "      <td>2.00</td>\n",
       "      <td>Southampton</td>\n",
       "      <td>Montreal, PQ / Chesterville, ON</td>\n",
       "      <td>C26</td>\n",
       "      <td>NaN</td>\n",
       "      <td>NaN</td>\n",
       "      <td>female</td>\n",
       "    </tr>\n",
       "    <tr>\n",
       "      <th>2</th>\n",
       "      <td>3</td>\n",
       "      <td>1st</td>\n",
       "      <td>0</td>\n",
       "      <td>Allison, Mr Hudson Joshua Creighton</td>\n",
       "      <td>30.00</td>\n",
       "      <td>Southampton</td>\n",
       "      <td>Montreal, PQ / Chesterville, ON</td>\n",
       "      <td>C26</td>\n",
       "      <td>NaN</td>\n",
       "      <td>(135)</td>\n",
       "      <td>male</td>\n",
       "    </tr>\n",
       "    <tr>\n",
       "      <th>3</th>\n",
       "      <td>4</td>\n",
       "      <td>1st</td>\n",
       "      <td>0</td>\n",
       "      <td>Allison, Mrs Hudson J.C. (Bessie Waldo Daniels)</td>\n",
       "      <td>25.00</td>\n",
       "      <td>Southampton</td>\n",
       "      <td>Montreal, PQ / Chesterville, ON</td>\n",
       "      <td>C26</td>\n",
       "      <td>NaN</td>\n",
       "      <td>NaN</td>\n",
       "      <td>female</td>\n",
       "    </tr>\n",
       "    <tr>\n",
       "      <th>4</th>\n",
       "      <td>5</td>\n",
       "      <td>1st</td>\n",
       "      <td>1</td>\n",
       "      <td>Allison, Master Hudson Trevor</td>\n",
       "      <td>0.92</td>\n",
       "      <td>Southampton</td>\n",
       "      <td>Montreal, PQ / Chesterville, ON</td>\n",
       "      <td>C22</td>\n",
       "      <td>NaN</td>\n",
       "      <td>11</td>\n",
       "      <td>male</td>\n",
       "    </tr>\n",
       "  </tbody>\n",
       "</table>\n",
       "</div>"
      ],
      "text/plain": [
       "   row.names pclass  survived  \\\n",
       "0          1    1st         1   \n",
       "1          2    1st         0   \n",
       "2          3    1st         0   \n",
       "3          4    1st         0   \n",
       "4          5    1st         1   \n",
       "\n",
       "                                              name    age     embarked  \\\n",
       "0                     Allen, Miss Elisabeth Walton  29.00  Southampton   \n",
       "1                      Allison, Miss Helen Loraine   2.00  Southampton   \n",
       "2              Allison, Mr Hudson Joshua Creighton  30.00  Southampton   \n",
       "3  Allison, Mrs Hudson J.C. (Bessie Waldo Daniels)  25.00  Southampton   \n",
       "4                    Allison, Master Hudson Trevor   0.92  Southampton   \n",
       "\n",
       "                         home.dest room      ticket   boat     sex  \n",
       "0                     St Louis, MO  B-5  24160 L221      2  female  \n",
       "1  Montreal, PQ / Chesterville, ON  C26         NaN    NaN  female  \n",
       "2  Montreal, PQ / Chesterville, ON  C26         NaN  (135)    male  \n",
       "3  Montreal, PQ / Chesterville, ON  C26         NaN    NaN  female  \n",
       "4  Montreal, PQ / Chesterville, ON  C22         NaN     11    male  "
      ]
     },
     "execution_count": 4,
     "metadata": {},
     "output_type": "execute_result"
    }
   ],
   "source": [
    "df = pd.read_csv(\"titanic.txt\")\n",
    "df.head(5)"
   ]
  },
  {
   "cell_type": "markdown",
   "id": "3cb864c1-ca5b-4176-95b0-94851ea31d89",
   "metadata": {},
   "source": [
    "## Analysis"
   ]
  },
  {
   "cell_type": "markdown",
   "id": "a0911889-43f8-4593-aad9-b04e2b09c4c2",
   "metadata": {},
   "source": [
    "### Number of passengers and survivors"
   ]
  },
  {
   "cell_type": "code",
   "execution_count": 5,
   "id": "3c4fcbfc-3bf9-4527-bf71-916697b351dd",
   "metadata": {},
   "outputs": [],
   "source": [
    "def survivors(df):\n",
    "    return len(df[df == 1])\n",
    "\n",
    "def survivors_pct(df):\n",
    "    if len(df) > 0:\n",
    "        return len(df[df == 1]) / len(df)\n",
    "    else:\n",
    "        return 0.0"
   ]
  },
  {
   "cell_type": "code",
   "execution_count": 6,
   "id": "772f8b0b-0ac6-4785-a7b1-2cc7f1ffa7d6",
   "metadata": {},
   "outputs": [
    {
     "data": {
      "text/plain": [
       "1313"
      ]
     },
     "execution_count": 6,
     "metadata": {},
     "output_type": "execute_result"
    }
   ],
   "source": [
    "len(df)"
   ]
  },
  {
   "cell_type": "code",
   "execution_count": 7,
   "id": "e5c6fc70-f269-40fe-a93b-8f94fee8adcc",
   "metadata": {},
   "outputs": [
    {
     "data": {
      "text/plain": [
       "449"
      ]
     },
     "execution_count": 7,
     "metadata": {},
     "output_type": "execute_result"
    }
   ],
   "source": [
    "survivors(df[\"survived\"])"
   ]
  },
  {
   "cell_type": "code",
   "execution_count": 8,
   "id": "b3c2ac0a-1db2-4491-a30b-c623528fc5d4",
   "metadata": {},
   "outputs": [
    {
     "data": {
      "text/plain": [
       "0.341964965727342"
      ]
     },
     "execution_count": 8,
     "metadata": {},
     "output_type": "execute_result"
    }
   ],
   "source": [
    "survivors_pct(df[\"survived\"])"
   ]
  },
  {
   "cell_type": "markdown",
   "id": "a291507f-37e1-4cc0-bc01-78bab8dd4670",
   "metadata": {},
   "source": [
    "### Survivors by gender"
   ]
  },
  {
   "cell_type": "code",
   "execution_count": 9,
   "id": "d677a981-089a-4683-bdaa-4d8c9a87f239",
   "metadata": {},
   "outputs": [
    {
     "data": {
      "text/html": [
       "<div>\n",
       "<style scoped>\n",
       "    .dataframe tbody tr th:only-of-type {\n",
       "        vertical-align: middle;\n",
       "    }\n",
       "\n",
       "    .dataframe tbody tr th {\n",
       "        vertical-align: top;\n",
       "    }\n",
       "\n",
       "    .dataframe thead th {\n",
       "        text-align: right;\n",
       "    }\n",
       "</style>\n",
       "<table border=\"1\" class=\"dataframe\">\n",
       "  <thead>\n",
       "    <tr style=\"text-align: right;\">\n",
       "      <th></th>\n",
       "      <th>survivors_pct</th>\n",
       "      <th>survivors</th>\n",
       "      <th>total</th>\n",
       "    </tr>\n",
       "    <tr>\n",
       "      <th>sex</th>\n",
       "      <th></th>\n",
       "      <th></th>\n",
       "      <th></th>\n",
       "    </tr>\n",
       "  </thead>\n",
       "  <tbody>\n",
       "    <tr>\n",
       "      <th>female</th>\n",
       "      <td>0.66</td>\n",
       "      <td>307</td>\n",
       "      <td>463</td>\n",
       "    </tr>\n",
       "    <tr>\n",
       "      <th>male</th>\n",
       "      <td>0.17</td>\n",
       "      <td>142</td>\n",
       "      <td>850</td>\n",
       "    </tr>\n",
       "  </tbody>\n",
       "</table>\n",
       "</div>"
      ],
      "text/plain": [
       "        survivors_pct  survivors  total\n",
       "sex                                    \n",
       "female           0.66        307    463\n",
       "male             0.17        142    850"
      ]
     },
     "execution_count": 9,
     "metadata": {},
     "output_type": "execute_result"
    }
   ],
   "source": [
    "survivors_by_sex = df.groupby(\"sex\")[\"survived\"].agg(\n",
    "    survivors_pct=survivors_pct,\n",
    "    survivors=survivors,\n",
    "    total=len\n",
    ")\n",
    "survivors_by_sex"
   ]
  },
  {
   "cell_type": "code",
   "execution_count": 10,
   "id": "cac88b4e-859e-4d3f-a148-64a27682b468",
   "metadata": {},
   "outputs": [
    {
     "data": {
      "text/plain": [
       "<seaborn.axisgrid.FacetGrid at 0x7f2f893a4210>"
      ]
     },
     "execution_count": 10,
     "metadata": {},
     "output_type": "execute_result"
    },
    {
     "data": {
      "image/png": "[encoded data removed]",
      "text/plain": [
       "<Figure size 570.486x500 with 1 Axes>"
      ]
     },
     "metadata": {},
     "output_type": "display_data"
    }
   ],
   "source": [
    "sns.catplot(data=df, y=\"sex\", hue=\"survived\", kind=\"count\")"
   ]
  },
  {
   "cell_type": "code",
   "execution_count": 11,
   "id": "2c48c0a0-83e7-4897-b68e-03a77e29608c",
   "metadata": {},
   "outputs": [
    {
     "data": {
      "text/plain": [
       "<seaborn.axisgrid.FacetGrid at 0x7f2fcd62ec50>"
      ]
     },
     "execution_count": 11,
     "metadata": {},
     "output_type": "execute_result"
    },
    {
     "data": {
      "image/png": "[encoded data removed]",
      "text/plain": [
       "<Figure size 500x500 with 1 Axes>"
      ]
     },
     "metadata": {},
     "output_type": "display_data"
    }
   ],
   "source": [
    "sns.catplot(data=df, y=\"sex\", x=\"survived\", kind=\"point\", join=False, orient=\"h\", capsize=0.25)"
   ]
  },
  {
   "cell_type": "markdown",
   "id": "40776ae4-ca82-4d14-bba7-ac886741a8b4",
   "metadata": {},
   "source": [
    "### Survivors by passenger class"
   ]
  },
  {
   "cell_type": "code",
   "execution_count": 12,
   "id": "956b62bc-f35d-48e4-a07e-9a412f8a6f45",
   "metadata": {},
   "outputs": [
    {
     "data": {
      "text/html": [
       "<div>\n",
       "<style scoped>\n",
       "    .dataframe tbody tr th:only-of-type {\n",
       "        vertical-align: middle;\n",
       "    }\n",
       "\n",
       "    .dataframe tbody tr th {\n",
       "        vertical-align: top;\n",
       "    }\n",
       "\n",
       "    .dataframe thead th {\n",
       "        text-align: right;\n",
       "    }\n",
       "</style>\n",
       "<table border=\"1\" class=\"dataframe\">\n",
       "  <thead>\n",
       "    <tr style=\"text-align: right;\">\n",
       "      <th></th>\n",
       "      <th>survivors_pct</th>\n",
       "      <th>survivors</th>\n",
       "      <th>total</th>\n",
       "    </tr>\n",
       "    <tr>\n",
       "      <th>pclass</th>\n",
       "      <th></th>\n",
       "      <th></th>\n",
       "      <th></th>\n",
       "    </tr>\n",
       "  </thead>\n",
       "  <tbody>\n",
       "    <tr>\n",
       "      <th>1st</th>\n",
       "      <td>0.60</td>\n",
       "      <td>193</td>\n",
       "      <td>322</td>\n",
       "    </tr>\n",
       "    <tr>\n",
       "      <th>2nd</th>\n",
       "      <td>0.42</td>\n",
       "      <td>119</td>\n",
       "      <td>280</td>\n",
       "    </tr>\n",
       "    <tr>\n",
       "      <th>3rd</th>\n",
       "      <td>0.19</td>\n",
       "      <td>137</td>\n",
       "      <td>711</td>\n",
       "    </tr>\n",
       "  </tbody>\n",
       "</table>\n",
       "</div>"
      ],
      "text/plain": [
       "        survivors_pct  survivors  total\n",
       "pclass                                 \n",
       "1st              0.60        193    322\n",
       "2nd              0.42        119    280\n",
       "3rd              0.19        137    711"
      ]
     },
     "execution_count": 12,
     "metadata": {},
     "output_type": "execute_result"
    }
   ],
   "source": [
    "survivors_by_class = df.groupby(\"pclass\")[\"survived\"].agg(\n",
    "    survivors_pct=survivors_pct,\n",
    "    survivors=survivors,\n",
    "    total=len\n",
    ")\n",
    "survivors_by_class"
   ]
  },
  {
   "cell_type": "code",
   "execution_count": 13,
   "id": "5eab337b-3a00-43db-836c-3cf879479b0c",
   "metadata": {},
   "outputs": [
    {
     "data": {
      "text/plain": [
       "<seaborn.axisgrid.FacetGrid at 0x7f2f897ba6d0>"
      ]
     },
     "execution_count": 13,
     "metadata": {},
     "output_type": "execute_result"
    },
    {
     "data": {
      "image/png": "[encoded data removed]",
      "text/plain": [
       "<Figure size 570.486x500 with 1 Axes>"
      ]
     },
     "metadata": {},
     "output_type": "display_data"
    }
   ],
   "source": [
    "sns.catplot(data=df, y=\"pclass\", hue=\"survived\", kind=\"count\")"
   ]
  },
  {
   "cell_type": "code",
   "execution_count": 14,
   "id": "b5857f1b-dfa1-47f2-b9e7-1fad6c39600b",
   "metadata": {},
   "outputs": [
    {
     "data": {
      "text/plain": [
       "<seaborn.axisgrid.FacetGrid at 0x7f2f89926b50>"
      ]
     },
     "execution_count": 14,
     "metadata": {},
     "output_type": "execute_result"
    },
    {
     "data": {
      "image/png": "[encoded data removed]",
      "text/plain": [
       "<Figure size 500x500 with 1 Axes>"
      ]
     },
     "metadata": {},
     "output_type": "display_data"
    }
   ],
   "source": [
    "sns.catplot(data=df, y=\"pclass\", x=\"survived\", kind=\"point\", join=False, orient=\"h\", capsize=0.25)"
   ]
  },
  {
   "cell_type": "markdown",
   "id": "27479589-1f95-4290-a68a-0a5063e61b1c",
   "metadata": {},
   "source": [
    "### Divide age into buckets"
   ]
  },
  {
   "cell_type": "code",
   "execution_count": 15,
   "id": "fa75d35f-e8ea-49ea-a5cf-47765af8e78c",
   "metadata": {},
   "outputs": [
    {
     "data": {
      "text/plain": [
       "(0.1667, 71.0)"
      ]
     },
     "execution_count": 15,
     "metadata": {},
     "output_type": "execute_result"
    }
   ],
   "source": [
    "(df[\"age\"].min(), df[\"age\"].max())"
   ]
  },
  {
   "cell_type": "code",
   "execution_count": 16,
   "id": "d8a31ad0-4e9d-4be6-8a17-b57b3b1f861d",
   "metadata": {},
   "outputs": [
    {
     "data": {
      "text/plain": [
       "array([ 0., 10., 20., 30., 40., 50., 60., 70., 80.])"
      ]
     },
     "execution_count": 16,
     "metadata": {},
     "output_type": "execute_result"
    }
   ],
   "source": [
    "bins = np.arange(0.0, 90.0, 10.0)\n",
    "bins"
   ]
  },
  {
   "cell_type": "code",
   "execution_count": 17,
   "id": "03a9ab4d-0d3b-46c2-95cc-e6efc3096a9f",
   "metadata": {},
   "outputs": [
    {
     "data": {
      "text/html": [
       "<div>\n",
       "<style scoped>\n",
       "    .dataframe tbody tr th:only-of-type {\n",
       "        vertical-align: middle;\n",
       "    }\n",
       "\n",
       "    .dataframe tbody tr th {\n",
       "        vertical-align: top;\n",
       "    }\n",
       "\n",
       "    .dataframe thead th {\n",
       "        text-align: right;\n",
       "    }\n",
       "</style>\n",
       "<table border=\"1\" class=\"dataframe\">\n",
       "  <thead>\n",
       "    <tr style=\"text-align: right;\">\n",
       "      <th></th>\n",
       "      <th>row.names</th>\n",
       "      <th>pclass</th>\n",
       "      <th>survived</th>\n",
       "      <th>name</th>\n",
       "      <th>age</th>\n",
       "      <th>embarked</th>\n",
       "      <th>home.dest</th>\n",
       "      <th>room</th>\n",
       "      <th>ticket</th>\n",
       "      <th>boat</th>\n",
       "      <th>sex</th>\n",
       "      <th>age_bucket</th>\n",
       "    </tr>\n",
       "  </thead>\n",
       "  <tbody>\n",
       "    <tr>\n",
       "      <th>0</th>\n",
       "      <td>1</td>\n",
       "      <td>1st</td>\n",
       "      <td>1</td>\n",
       "      <td>Allen, Miss Elisabeth Walton</td>\n",
       "      <td>29.0</td>\n",
       "      <td>Southampton</td>\n",
       "      <td>St Louis, MO</td>\n",
       "      <td>B-5</td>\n",
       "      <td>24160 L221</td>\n",
       "      <td>2</td>\n",
       "      <td>female</td>\n",
       "      <td>(20.0, 30.0]</td>\n",
       "    </tr>\n",
       "    <tr>\n",
       "      <th>1</th>\n",
       "      <td>2</td>\n",
       "      <td>1st</td>\n",
       "      <td>0</td>\n",
       "      <td>Allison, Miss Helen Loraine</td>\n",
       "      <td>2.0</td>\n",
       "      <td>Southampton</td>\n",
       "      <td>Montreal, PQ / Chesterville, ON</td>\n",
       "      <td>C26</td>\n",
       "      <td>NaN</td>\n",
       "      <td>NaN</td>\n",
       "      <td>female</td>\n",
       "      <td>(0.0, 10.0]</td>\n",
       "    </tr>\n",
       "    <tr>\n",
       "      <th>2</th>\n",
       "      <td>3</td>\n",
       "      <td>1st</td>\n",
       "      <td>0</td>\n",
       "      <td>Allison, Mr Hudson Joshua Creighton</td>\n",
       "      <td>30.0</td>\n",
       "      <td>Southampton</td>\n",
       "      <td>Montreal, PQ / Chesterville, ON</td>\n",
       "      <td>C26</td>\n",
       "      <td>NaN</td>\n",
       "      <td>(135)</td>\n",
       "      <td>male</td>\n",
       "      <td>(20.0, 30.0]</td>\n",
       "    </tr>\n",
       "  </tbody>\n",
       "</table>\n",
       "</div>"
      ],
      "text/plain": [
       "   row.names pclass  survived                                 name   age  \\\n",
       "0          1    1st         1         Allen, Miss Elisabeth Walton  29.0   \n",
       "1          2    1st         0          Allison, Miss Helen Loraine   2.0   \n",
       "2          3    1st         0  Allison, Mr Hudson Joshua Creighton  30.0   \n",
       "\n",
       "      embarked                        home.dest room      ticket   boat  \\\n",
       "0  Southampton                     St Louis, MO  B-5  24160 L221      2   \n",
       "1  Southampton  Montreal, PQ / Chesterville, ON  C26         NaN    NaN   \n",
       "2  Southampton  Montreal, PQ / Chesterville, ON  C26         NaN  (135)   \n",
       "\n",
       "      sex    age_bucket  \n",
       "0  female  (20.0, 30.0]  \n",
       "1  female   (0.0, 10.0]  \n",
       "2    male  (20.0, 30.0]  "
      ]
     },
     "execution_count": 17,
     "metadata": {},
     "output_type": "execute_result"
    }
   ],
   "source": [
    "df[\"age_bucket\"] = pd.cut(df[\"age\"], bins=bins)\n",
    "df.head(3)"
   ]
  },
  {
   "cell_type": "markdown",
   "id": "0f1f0b89-2f2d-49e4-a781-62a2792ad7e6",
   "metadata": {},
   "source": [
    "### Survivors by age"
   ]
  },
  {
   "cell_type": "code",
   "execution_count": 18,
   "id": "1d0ce89d-f3d0-41e6-8186-95d7f3a9e6a9",
   "metadata": {},
   "outputs": [
    {
     "data": {
      "text/html": [
       "<div>\n",
       "<style scoped>\n",
       "    .dataframe tbody tr th:only-of-type {\n",
       "        vertical-align: middle;\n",
       "    }\n",
       "\n",
       "    .dataframe tbody tr th {\n",
       "        vertical-align: top;\n",
       "    }\n",
       "\n",
       "    .dataframe thead th {\n",
       "        text-align: right;\n",
       "    }\n",
       "</style>\n",
       "<table border=\"1\" class=\"dataframe\">\n",
       "  <thead>\n",
       "    <tr style=\"text-align: right;\">\n",
       "      <th></th>\n",
       "      <th>survivors_pct</th>\n",
       "      <th>survivors</th>\n",
       "      <th>total</th>\n",
       "    </tr>\n",
       "    <tr>\n",
       "      <th>age_bucket</th>\n",
       "      <th></th>\n",
       "      <th></th>\n",
       "      <th></th>\n",
       "    </tr>\n",
       "  </thead>\n",
       "  <tbody>\n",
       "    <tr>\n",
       "      <th>(0.0, 10.0]</th>\n",
       "      <td>0.70</td>\n",
       "      <td>33</td>\n",
       "      <td>47</td>\n",
       "    </tr>\n",
       "    <tr>\n",
       "      <th>(10.0, 20.0]</th>\n",
       "      <td>0.47</td>\n",
       "      <td>46</td>\n",
       "      <td>98</td>\n",
       "    </tr>\n",
       "    <tr>\n",
       "      <th>(20.0, 30.0]</th>\n",
       "      <td>0.36</td>\n",
       "      <td>70</td>\n",
       "      <td>197</td>\n",
       "    </tr>\n",
       "    <tr>\n",
       "      <th>(30.0, 40.0]</th>\n",
       "      <td>0.48</td>\n",
       "      <td>62</td>\n",
       "      <td>130</td>\n",
       "    </tr>\n",
       "    <tr>\n",
       "      <th>(40.0, 50.0]</th>\n",
       "      <td>0.45</td>\n",
       "      <td>42</td>\n",
       "      <td>93</td>\n",
       "    </tr>\n",
       "    <tr>\n",
       "      <th>(50.0, 60.0]</th>\n",
       "      <td>0.51</td>\n",
       "      <td>24</td>\n",
       "      <td>47</td>\n",
       "    </tr>\n",
       "    <tr>\n",
       "      <th>(60.0, 70.0]</th>\n",
       "      <td>0.22</td>\n",
       "      <td>4</td>\n",
       "      <td>18</td>\n",
       "    </tr>\n",
       "    <tr>\n",
       "      <th>(70.0, 80.0]</th>\n",
       "      <td>0.00</td>\n",
       "      <td>0</td>\n",
       "      <td>3</td>\n",
       "    </tr>\n",
       "  </tbody>\n",
       "</table>\n",
       "</div>"
      ],
      "text/plain": [
       "              survivors_pct  survivors  total\n",
       "age_bucket                                   \n",
       "(0.0, 10.0]            0.70         33     47\n",
       "(10.0, 20.0]           0.47         46     98\n",
       "(20.0, 30.0]           0.36         70    197\n",
       "(30.0, 40.0]           0.48         62    130\n",
       "(40.0, 50.0]           0.45         42     93\n",
       "(50.0, 60.0]           0.51         24     47\n",
       "(60.0, 70.0]           0.22          4     18\n",
       "(70.0, 80.0]           0.00          0      3"
      ]
     },
     "execution_count": 18,
     "metadata": {},
     "output_type": "execute_result"
    }
   ],
   "source": [
    "survivors_by_age = df.groupby(\"age_bucket\")[\"survived\"].agg(\n",
    "    survivors_pct=survivors_pct,\n",
    "    survivors=survivors,\n",
    "    total=len\n",
    ")\n",
    "survivors_by_age"
   ]
  },
  {
   "cell_type": "code",
   "execution_count": 19,
   "id": "3ddcde84-a466-4ea9-8436-d9f5818933ad",
   "metadata": {},
   "outputs": [
    {
     "data": {
      "text/plain": [
       "<seaborn.axisgrid.FacetGrid at 0x7f2f899efc50>"
      ]
     },
     "execution_count": 19,
     "metadata": {},
     "output_type": "execute_result"
    },
    {
     "data": {
      "image/png": "[encoded data removed]",
      "text/plain": [
       "<Figure size 570.486x500 with 1 Axes>"
      ]
     },
     "metadata": {},
     "output_type": "display_data"
    }
   ],
   "source": [
    "sns.catplot(data=df, y=\"age_bucket\", hue=\"survived\", kind=\"count\")"
   ]
  },
  {
   "cell_type": "code",
   "execution_count": 20,
   "id": "42bef8f9-4392-473d-967a-044915523cff",
   "metadata": {},
   "outputs": [
    {
     "data": {
      "text/plain": [
       "<seaborn.axisgrid.FacetGrid at 0x7f2f89679350>"
      ]
     },
     "execution_count": 20,
     "metadata": {},
     "output_type": "execute_result"
    },
    {
     "data": {
      "image/png": "[encoded data removed]",
      "text/plain": [
       "<Figure size 500x500 with 1 Axes>"
      ]
     },
     "metadata": {},
     "output_type": "display_data"
    }
   ],
   "source": [
    "sns.catplot(data=df, y=\"age_bucket\", x=\"survived\", kind=\"point\", join=False, orient=\"h\", capsize=0.25)"
   ]
  },
  {
   "cell_type": "markdown",
   "id": "a3aa535c-bf85-42d6-94a2-652dc1160dd3",
   "metadata": {},
   "source": [
    "### Survivors by gender and passenger class"
   ]
  },
  {
   "cell_type": "code",
   "execution_count": 21,
   "id": "6e15dc64-6a56-4ce1-a169-064ee9ef17fe",
   "metadata": {},
   "outputs": [
    {
     "data": {
      "text/html": [
       "<div>\n",
       "<style scoped>\n",
       "    .dataframe tbody tr th:only-of-type {\n",
       "        vertical-align: middle;\n",
       "    }\n",
       "\n",
       "    .dataframe tbody tr th {\n",
       "        vertical-align: top;\n",
       "    }\n",
       "\n",
       "    .dataframe thead tr th {\n",
       "        text-align: left;\n",
       "    }\n",
       "\n",
       "    .dataframe thead tr:last-of-type th {\n",
       "        text-align: right;\n",
       "    }\n",
       "</style>\n",
       "<table border=\"1\" class=\"dataframe\">\n",
       "  <thead>\n",
       "    <tr>\n",
       "      <th></th>\n",
       "      <th colspan=\"3\" halign=\"left\">survivors_pct</th>\n",
       "      <th colspan=\"3\" halign=\"left\">survivors</th>\n",
       "      <th colspan=\"3\" halign=\"left\">total</th>\n",
       "    </tr>\n",
       "    <tr>\n",
       "      <th>pclass</th>\n",
       "      <th>1st</th>\n",
       "      <th>2nd</th>\n",
       "      <th>3rd</th>\n",
       "      <th>1st</th>\n",
       "      <th>2nd</th>\n",
       "      <th>3rd</th>\n",
       "      <th>1st</th>\n",
       "      <th>2nd</th>\n",
       "      <th>3rd</th>\n",
       "    </tr>\n",
       "    <tr>\n",
       "      <th>sex</th>\n",
       "      <th></th>\n",
       "      <th></th>\n",
       "      <th></th>\n",
       "      <th></th>\n",
       "      <th></th>\n",
       "      <th></th>\n",
       "      <th></th>\n",
       "      <th></th>\n",
       "      <th></th>\n",
       "    </tr>\n",
       "  </thead>\n",
       "  <tbody>\n",
       "    <tr>\n",
       "      <th>female</th>\n",
       "      <td>0.94</td>\n",
       "      <td>0.88</td>\n",
       "      <td>0.37</td>\n",
       "      <td>134</td>\n",
       "      <td>94</td>\n",
       "      <td>79</td>\n",
       "      <td>143</td>\n",
       "      <td>107</td>\n",
       "      <td>213</td>\n",
       "    </tr>\n",
       "    <tr>\n",
       "      <th>male</th>\n",
       "      <td>0.33</td>\n",
       "      <td>0.14</td>\n",
       "      <td>0.12</td>\n",
       "      <td>59</td>\n",
       "      <td>25</td>\n",
       "      <td>58</td>\n",
       "      <td>179</td>\n",
       "      <td>173</td>\n",
       "      <td>498</td>\n",
       "    </tr>\n",
       "  </tbody>\n",
       "</table>\n",
       "</div>"
      ],
      "text/plain": [
       "       survivors_pct             survivors         total          \n",
       "pclass           1st   2nd   3rd       1st 2nd 3rd   1st  2nd  3rd\n",
       "sex                                                               \n",
       "female          0.94  0.88  0.37       134  94  79   143  107  213\n",
       "male            0.33  0.14  0.12        59  25  58   179  173  498"
      ]
     },
     "execution_count": 21,
     "metadata": {},
     "output_type": "execute_result"
    }
   ],
   "source": [
    "survivors_by_class_and_sex = df.groupby([\"pclass\", \"sex\"])[\"survived\"].agg(\n",
    "    survivors_pct=survivors_pct,\n",
    "    survivors=survivors, \n",
    "    total=len\n",
    ")\n",
    "survivors_by_class_and_sex.unstack(level=0)"
   ]
  },
  {
   "cell_type": "code",
   "execution_count": 22,
   "id": "363044a8-2090-4b86-8006-991c41574560",
   "metadata": {},
   "outputs": [
    {
     "data": {
      "text/plain": [
       "<seaborn.axisgrid.FacetGrid at 0x7f2f8962ae50>"
      ]
     },
     "execution_count": 22,
     "metadata": {},
     "output_type": "execute_result"
    },
    {
     "data": {
      "image/png": "[encoded data removed]",
      "text/plain": [
       "<Figure size 1270.49x400 with 3 Axes>"
      ]
     },
     "metadata": {},
     "output_type": "display_data"
    }
   ],
   "source": [
    "sns.catplot(data=df, y=\"sex\", hue=\"survived\", col=\"pclass\", kind=\"count\", height=4)"
   ]
  },
  {
   "cell_type": "code",
   "execution_count": 23,
   "id": "e0e09ab6-b3a7-47d4-ba57-d87430328a26",
   "metadata": {},
   "outputs": [
    {
     "data": {
      "text/plain": [
       "<seaborn.axisgrid.FacetGrid at 0x7f2f89594650>"
      ]
     },
     "execution_count": 23,
     "metadata": {},
     "output_type": "execute_result"
    },
    {
     "data": {
      "image/png": "[encoded data removed]",
      "text/plain": [
       "<Figure size 1200x400 with 3 Axes>"
      ]
     },
     "metadata": {},
     "output_type": "display_data"
    }
   ],
   "source": [
    "sns.catplot(data=df, y=\"sex\", x=\"survived\", col=\"pclass\", kind=\"point\", join=False, orient=\"h\", capsize=0.25, height=4)"
   ]
  },
  {
   "cell_type": "markdown",
   "id": "aa9cfe05-f6df-4161-ae6f-607d696f7a22",
   "metadata": {},
   "source": [
    "### Survivors by age and passenger class"
   ]
  },
  {
   "cell_type": "code",
   "execution_count": 24,
   "id": "04b1ebf1-8a41-4136-aa00-50dc488f39fa",
   "metadata": {},
   "outputs": [
    {
     "data": {
      "text/html": [
       "<div>\n",
       "<style scoped>\n",
       "    .dataframe tbody tr th:only-of-type {\n",
       "        vertical-align: middle;\n",
       "    }\n",
       "\n",
       "    .dataframe tbody tr th {\n",
       "        vertical-align: top;\n",
       "    }\n",
       "\n",
       "    .dataframe thead tr th {\n",
       "        text-align: left;\n",
       "    }\n",
       "\n",
       "    .dataframe thead tr:last-of-type th {\n",
       "        text-align: right;\n",
       "    }\n",
       "</style>\n",
       "<table border=\"1\" class=\"dataframe\">\n",
       "  <thead>\n",
       "    <tr>\n",
       "      <th></th>\n",
       "      <th colspan=\"3\" halign=\"left\">survivors_pct</th>\n",
       "      <th colspan=\"3\" halign=\"left\">survivors</th>\n",
       "      <th colspan=\"3\" halign=\"left\">total</th>\n",
       "    </tr>\n",
       "    <tr>\n",
       "      <th>pclass</th>\n",
       "      <th>1st</th>\n",
       "      <th>2nd</th>\n",
       "      <th>3rd</th>\n",
       "      <th>1st</th>\n",
       "      <th>2nd</th>\n",
       "      <th>3rd</th>\n",
       "      <th>1st</th>\n",
       "      <th>2nd</th>\n",
       "      <th>3rd</th>\n",
       "    </tr>\n",
       "    <tr>\n",
       "      <th>age_bucket</th>\n",
       "      <th></th>\n",
       "      <th></th>\n",
       "      <th></th>\n",
       "      <th></th>\n",
       "      <th></th>\n",
       "      <th></th>\n",
       "      <th></th>\n",
       "      <th></th>\n",
       "      <th></th>\n",
       "    </tr>\n",
       "  </thead>\n",
       "  <tbody>\n",
       "    <tr>\n",
       "      <th>(0.0, 10.0]</th>\n",
       "      <td>0.75</td>\n",
       "      <td>1.00</td>\n",
       "      <td>0.43</td>\n",
       "      <td>3.0</td>\n",
       "      <td>20.0</td>\n",
       "      <td>10.0</td>\n",
       "      <td>4.0</td>\n",
       "      <td>20.0</td>\n",
       "      <td>23.0</td>\n",
       "    </tr>\n",
       "    <tr>\n",
       "      <th>(10.0, 20.0]</th>\n",
       "      <td>0.89</td>\n",
       "      <td>0.52</td>\n",
       "      <td>0.28</td>\n",
       "      <td>17.0</td>\n",
       "      <td>15.0</td>\n",
       "      <td>14.0</td>\n",
       "      <td>19.0</td>\n",
       "      <td>29.0</td>\n",
       "      <td>50.0</td>\n",
       "    </tr>\n",
       "    <tr>\n",
       "      <th>(20.0, 30.0]</th>\n",
       "      <td>0.67</td>\n",
       "      <td>0.33</td>\n",
       "      <td>0.18</td>\n",
       "      <td>30.0</td>\n",
       "      <td>28.0</td>\n",
       "      <td>12.0</td>\n",
       "      <td>45.0</td>\n",
       "      <td>84.0</td>\n",
       "      <td>68.0</td>\n",
       "    </tr>\n",
       "    <tr>\n",
       "      <th>(30.0, 40.0]</th>\n",
       "      <td>0.67</td>\n",
       "      <td>0.49</td>\n",
       "      <td>0.21</td>\n",
       "      <td>33.0</td>\n",
       "      <td>21.0</td>\n",
       "      <td>8.0</td>\n",
       "      <td>49.0</td>\n",
       "      <td>43.0</td>\n",
       "      <td>38.0</td>\n",
       "    </tr>\n",
       "    <tr>\n",
       "      <th>(40.0, 50.0]</th>\n",
       "      <td>0.54</td>\n",
       "      <td>0.44</td>\n",
       "      <td>0.14</td>\n",
       "      <td>29.0</td>\n",
       "      <td>11.0</td>\n",
       "      <td>2.0</td>\n",
       "      <td>54.0</td>\n",
       "      <td>25.0</td>\n",
       "      <td>14.0</td>\n",
       "    </tr>\n",
       "    <tr>\n",
       "      <th>(50.0, 60.0]</th>\n",
       "      <td>0.62</td>\n",
       "      <td>0.11</td>\n",
       "      <td>0.00</td>\n",
       "      <td>23.0</td>\n",
       "      <td>1.0</td>\n",
       "      <td>0.0</td>\n",
       "      <td>37.0</td>\n",
       "      <td>9.0</td>\n",
       "      <td>1.0</td>\n",
       "    </tr>\n",
       "    <tr>\n",
       "      <th>(60.0, 70.0]</th>\n",
       "      <td>0.25</td>\n",
       "      <td>0.00</td>\n",
       "      <td>0.00</td>\n",
       "      <td>4.0</td>\n",
       "      <td>0.0</td>\n",
       "      <td>0.0</td>\n",
       "      <td>16.0</td>\n",
       "      <td>1.0</td>\n",
       "      <td>1.0</td>\n",
       "    </tr>\n",
       "    <tr>\n",
       "      <th>(70.0, 80.0]</th>\n",
       "      <td>0.00</td>\n",
       "      <td>0.00</td>\n",
       "      <td>NaN</td>\n",
       "      <td>0.0</td>\n",
       "      <td>0.0</td>\n",
       "      <td>NaN</td>\n",
       "      <td>2.0</td>\n",
       "      <td>1.0</td>\n",
       "      <td>NaN</td>\n",
       "    </tr>\n",
       "  </tbody>\n",
       "</table>\n",
       "</div>"
      ],
      "text/plain": [
       "             survivors_pct             survivors             total            \n",
       "pclass                 1st   2nd   3rd       1st   2nd   3rd   1st   2nd   3rd\n",
       "age_bucket                                                                    \n",
       "(0.0, 10.0]           0.75  1.00  0.43       3.0  20.0  10.0   4.0  20.0  23.0\n",
       "(10.0, 20.0]          0.89  0.52  0.28      17.0  15.0  14.0  19.0  29.0  50.0\n",
       "(20.0, 30.0]          0.67  0.33  0.18      30.0  28.0  12.0  45.0  84.0  68.0\n",
       "(30.0, 40.0]          0.67  0.49  0.21      33.0  21.0   8.0  49.0  43.0  38.0\n",
       "(40.0, 50.0]          0.54  0.44  0.14      29.0  11.0   2.0  54.0  25.0  14.0\n",
       "(50.0, 60.0]          0.62  0.11  0.00      23.0   1.0   0.0  37.0   9.0   1.0\n",
       "(60.0, 70.0]          0.25  0.00  0.00       4.0   0.0   0.0  16.0   1.0   1.0\n",
       "(70.0, 80.0]          0.00  0.00   NaN       0.0   0.0   NaN   2.0   1.0   NaN"
      ]
     },
     "execution_count": 24,
     "metadata": {},
     "output_type": "execute_result"
    }
   ],
   "source": [
    "survivors_by_class_and_age = df.groupby([\"pclass\", \"age_bucket\"])[\"survived\"].agg(\n",
    "    survivors_pct=survivors_pct,\n",
    "    survivors=survivors, \n",
    "    total=len\n",
    ")\n",
    "survivors_by_class_and_age.unstack(level=0)"
   ]
  },
  {
   "cell_type": "code",
   "execution_count": 25,
   "id": "a56e6863-7446-4bcd-9fc2-5f9c1285c442",
   "metadata": {},
   "outputs": [
    {
     "data": {
      "text/plain": [
       "<seaborn.axisgrid.FacetGrid at 0x7f2f870126d0>"
      ]
     },
     "execution_count": 25,
     "metadata": {},
     "output_type": "execute_result"
    },
    {
     "data": {
      "image/png": "[encoded data removed]",
      "text/plain": [
       "<Figure size 1270.49x400 with 3 Axes>"
      ]
     },
     "metadata": {},
     "output_type": "display_data"
    }
   ],
   "source": [
    "sns.catplot(data=df, y=\"age_bucket\", hue=\"survived\", col=\"pclass\", kind=\"count\", height=4)"
   ]
  },
  {
   "cell_type": "code",
   "execution_count": 26,
   "id": "77256e62-fa8b-4377-b3c8-bc47699834c0",
   "metadata": {
    "tags": []
   },
   "outputs": [
    {
     "data": {
      "text/plain": [
       "<seaborn.axisgrid.FacetGrid at 0x7f2f86b10e10>"
      ]
     },
     "execution_count": 26,
     "metadata": {},
     "output_type": "execute_result"
    },
    {
     "data": {
      "image/png": "[encoded data removed]",
      "text/plain": [
       "<Figure size 1200x400 with 3 Axes>"
      ]
     },
     "metadata": {},
     "output_type": "display_data"
    }
   ],
   "source": [
    "sns.catplot(data=df, y=\"age_bucket\", x=\"survived\", col=\"pclass\", kind=\"point\", join=False, orient=\"h\", capsize=0.25, height=4)"
   ]
  }
 ],
 "metadata": {
  "jupytext": {
   "formats": "ipynb,py:percent"
  },
  "kernelspec": {
   "display_name": "Python 3 (ipykernel)",
   "language": "python",
   "name": "python3"
  },
  "language_info": {
   "codemirror_mode": {
    "name": "ipython",
    "version": 3
   },
   "file_extension": ".py",
   "mimetype": "text/x-python",
   "name": "python",
   "nbconvert_exporter": "python",
   "pygments_lexer": "ipython3",
   "version": "3.11.2"
  }
 },
 "nbformat": 4,
 "nbformat_minor": 5
}
