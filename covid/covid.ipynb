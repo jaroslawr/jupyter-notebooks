{
 "cells": [
  {
   "cell_type": "markdown",
   "id": "standard-campbell",
   "metadata": {},
   "source": [
    "# Data analysis: Covid cases over time"
   ]
  },
  {
   "cell_type": "markdown",
   "id": "finite-department",
   "metadata": {},
   "source": [
    "Data analysis of daily new covid cases in different countries, using data from:\n",
    "\n",
    "https://github.com/CSSEGISandData/COVID-19"
   ]
  },
  {
   "cell_type": "markdown",
   "id": "integral-there",
   "metadata": {},
   "source": [
    "## Imports"
   ]
  },
  {
   "cell_type": "code",
   "execution_count": 1,
   "id": "occupied-washer",
   "metadata": {},
   "outputs": [],
   "source": [
    "import numpy as np\n",
    "import pandas as pd\n",
    "import matplotlib.pyplot as plt\n",
    "\n",
    "import datetime"
   ]
  },
  {
   "cell_type": "markdown",
   "id": "unusual-spotlight",
   "metadata": {},
   "source": [
    "## Setup"
   ]
  },
  {
   "cell_type": "code",
   "execution_count": 2,
   "id": "gorgeous-freeze",
   "metadata": {},
   "outputs": [],
   "source": [
    "plt.style.use(\"ggplot\")"
   ]
  },
  {
   "cell_type": "markdown",
   "id": "dirty-acceptance",
   "metadata": {},
   "source": [
    "## Read data"
   ]
  },
  {
   "cell_type": "code",
   "execution_count": 3,
   "id": "least-hello",
   "metadata": {},
   "outputs": [],
   "source": [
    "df = pd.read_csv(\"time_series_covid19_confirmed_global.csv\")"
   ]
  },
  {
   "cell_type": "code",
   "execution_count": 4,
   "id": "dimensional-significance",
   "metadata": {},
   "outputs": [
    {
     "data": {
      "text/html": [
       "<div>\n",
       "<style scoped>\n",
       "    .dataframe tbody tr th:only-of-type {\n",
       "        vertical-align: middle;\n",
       "    }\n",
       "\n",
       "    .dataframe tbody tr th {\n",
       "        vertical-align: top;\n",
       "    }\n",
       "\n",
       "    .dataframe thead th {\n",
       "        text-align: right;\n",
       "    }\n",
       "</style>\n",
       "<table border=\"1\" class=\"dataframe\">\n",
       "  <thead>\n",
       "    <tr style=\"text-align: right;\">\n",
       "      <th></th>\n",
       "      <th>Province/State</th>\n",
       "      <th>Country/Region</th>\n",
       "      <th>Lat</th>\n",
       "      <th>Long</th>\n",
       "      <th>1/22/20</th>\n",
       "      <th>1/23/20</th>\n",
       "      <th>1/24/20</th>\n",
       "      <th>1/25/20</th>\n",
       "      <th>1/26/20</th>\n",
       "      <th>1/27/20</th>\n",
       "      <th>...</th>\n",
       "      <th>4/12/21</th>\n",
       "      <th>4/13/21</th>\n",
       "      <th>4/14/21</th>\n",
       "      <th>4/15/21</th>\n",
       "      <th>4/16/21</th>\n",
       "      <th>4/17/21</th>\n",
       "      <th>4/18/21</th>\n",
       "      <th>4/19/21</th>\n",
       "      <th>4/20/21</th>\n",
       "      <th>4/21/21</th>\n",
       "    </tr>\n",
       "  </thead>\n",
       "  <tbody>\n",
       "    <tr>\n",
       "      <th>0</th>\n",
       "      <td>NaN</td>\n",
       "      <td>Afghanistan</td>\n",
       "      <td>33.93911</td>\n",
       "      <td>67.709953</td>\n",
       "      <td>0</td>\n",
       "      <td>0</td>\n",
       "      <td>0</td>\n",
       "      <td>0</td>\n",
       "      <td>0</td>\n",
       "      <td>0</td>\n",
       "      <td>...</td>\n",
       "      <td>57242</td>\n",
       "      <td>57364</td>\n",
       "      <td>57492</td>\n",
       "      <td>57534</td>\n",
       "      <td>57612</td>\n",
       "      <td>57721</td>\n",
       "      <td>57793</td>\n",
       "      <td>57898</td>\n",
       "      <td>58037</td>\n",
       "      <td>58214</td>\n",
       "    </tr>\n",
       "    <tr>\n",
       "      <th>1</th>\n",
       "      <td>NaN</td>\n",
       "      <td>Albania</td>\n",
       "      <td>41.15330</td>\n",
       "      <td>20.168300</td>\n",
       "      <td>0</td>\n",
       "      <td>0</td>\n",
       "      <td>0</td>\n",
       "      <td>0</td>\n",
       "      <td>0</td>\n",
       "      <td>0</td>\n",
       "      <td>...</td>\n",
       "      <td>128518</td>\n",
       "      <td>128752</td>\n",
       "      <td>128959</td>\n",
       "      <td>129128</td>\n",
       "      <td>129307</td>\n",
       "      <td>129456</td>\n",
       "      <td>129594</td>\n",
       "      <td>129694</td>\n",
       "      <td>129842</td>\n",
       "      <td>129980</td>\n",
       "    </tr>\n",
       "    <tr>\n",
       "      <th>2</th>\n",
       "      <td>NaN</td>\n",
       "      <td>Algeria</td>\n",
       "      <td>28.03390</td>\n",
       "      <td>1.659600</td>\n",
       "      <td>0</td>\n",
       "      <td>0</td>\n",
       "      <td>0</td>\n",
       "      <td>0</td>\n",
       "      <td>0</td>\n",
       "      <td>0</td>\n",
       "      <td>...</td>\n",
       "      <td>118645</td>\n",
       "      <td>118799</td>\n",
       "      <td>118975</td>\n",
       "      <td>119142</td>\n",
       "      <td>119323</td>\n",
       "      <td>119486</td>\n",
       "      <td>119642</td>\n",
       "      <td>119805</td>\n",
       "      <td>119992</td>\n",
       "      <td>120174</td>\n",
       "    </tr>\n",
       "  </tbody>\n",
       "</table>\n",
       "<p>3 rows × 460 columns</p>\n",
       "</div>"
      ],
      "text/plain": [
       "  Province/State Country/Region       Lat       Long  1/22/20  1/23/20  \\\n",
       "0            NaN    Afghanistan  33.93911  67.709953        0        0   \n",
       "1            NaN        Albania  41.15330  20.168300        0        0   \n",
       "2            NaN        Algeria  28.03390   1.659600        0        0   \n",
       "\n",
       "   1/24/20  1/25/20  1/26/20  1/27/20  ...  4/12/21  4/13/21  4/14/21  \\\n",
       "0        0        0        0        0  ...    57242    57364    57492   \n",
       "1        0        0        0        0  ...   128518   128752   128959   \n",
       "2        0        0        0        0  ...   118645   118799   118975   \n",
       "\n",
       "   4/15/21  4/16/21  4/17/21  4/18/21  4/19/21  4/20/21  4/21/21  \n",
       "0    57534    57612    57721    57793    57898    58037    58214  \n",
       "1   129128   129307   129456   129594   129694   129842   129980  \n",
       "2   119142   119323   119486   119642   119805   119992   120174  \n",
       "\n",
       "[3 rows x 460 columns]"
      ]
     },
     "execution_count": 4,
     "metadata": {},
     "output_type": "execute_result"
    }
   ],
   "source": [
    "df.head(3)"
   ]
  },
  {
   "cell_type": "markdown",
   "id": "previous-planet",
   "metadata": {},
   "source": [
    "## Remove unused columns"
   ]
  },
  {
   "cell_type": "code",
   "execution_count": 5,
   "id": "hollow-modern",
   "metadata": {},
   "outputs": [],
   "source": [
    "df.drop([\"Lat\", \"Long\"], axis=1, inplace=True)"
   ]
  },
  {
   "cell_type": "code",
   "execution_count": 6,
   "id": "international-musical",
   "metadata": {
    "tags": []
   },
   "outputs": [
    {
     "data": {
      "text/html": [
       "<div>\n",
       "<style scoped>\n",
       "    .dataframe tbody tr th:only-of-type {\n",
       "        vertical-align: middle;\n",
       "    }\n",
       "\n",
       "    .dataframe tbody tr th {\n",
       "        vertical-align: top;\n",
       "    }\n",
       "\n",
       "    .dataframe thead th {\n",
       "        text-align: right;\n",
       "    }\n",
       "</style>\n",
       "<table border=\"1\" class=\"dataframe\">\n",
       "  <thead>\n",
       "    <tr style=\"text-align: right;\">\n",
       "      <th></th>\n",
       "      <th>Province/State</th>\n",
       "      <th>Country/Region</th>\n",
       "      <th>1/22/20</th>\n",
       "      <th>1/23/20</th>\n",
       "      <th>1/24/20</th>\n",
       "      <th>1/25/20</th>\n",
       "      <th>1/26/20</th>\n",
       "      <th>1/27/20</th>\n",
       "      <th>1/28/20</th>\n",
       "      <th>1/29/20</th>\n",
       "      <th>...</th>\n",
       "      <th>4/12/21</th>\n",
       "      <th>4/13/21</th>\n",
       "      <th>4/14/21</th>\n",
       "      <th>4/15/21</th>\n",
       "      <th>4/16/21</th>\n",
       "      <th>4/17/21</th>\n",
       "      <th>4/18/21</th>\n",
       "      <th>4/19/21</th>\n",
       "      <th>4/20/21</th>\n",
       "      <th>4/21/21</th>\n",
       "    </tr>\n",
       "  </thead>\n",
       "  <tbody>\n",
       "    <tr>\n",
       "      <th>0</th>\n",
       "      <td>NaN</td>\n",
       "      <td>Afghanistan</td>\n",
       "      <td>0</td>\n",
       "      <td>0</td>\n",
       "      <td>0</td>\n",
       "      <td>0</td>\n",
       "      <td>0</td>\n",
       "      <td>0</td>\n",
       "      <td>0</td>\n",
       "      <td>0</td>\n",
       "      <td>...</td>\n",
       "      <td>57242</td>\n",
       "      <td>57364</td>\n",
       "      <td>57492</td>\n",
       "      <td>57534</td>\n",
       "      <td>57612</td>\n",
       "      <td>57721</td>\n",
       "      <td>57793</td>\n",
       "      <td>57898</td>\n",
       "      <td>58037</td>\n",
       "      <td>58214</td>\n",
       "    </tr>\n",
       "    <tr>\n",
       "      <th>1</th>\n",
       "      <td>NaN</td>\n",
       "      <td>Albania</td>\n",
       "      <td>0</td>\n",
       "      <td>0</td>\n",
       "      <td>0</td>\n",
       "      <td>0</td>\n",
       "      <td>0</td>\n",
       "      <td>0</td>\n",
       "      <td>0</td>\n",
       "      <td>0</td>\n",
       "      <td>...</td>\n",
       "      <td>128518</td>\n",
       "      <td>128752</td>\n",
       "      <td>128959</td>\n",
       "      <td>129128</td>\n",
       "      <td>129307</td>\n",
       "      <td>129456</td>\n",
       "      <td>129594</td>\n",
       "      <td>129694</td>\n",
       "      <td>129842</td>\n",
       "      <td>129980</td>\n",
       "    </tr>\n",
       "    <tr>\n",
       "      <th>2</th>\n",
       "      <td>NaN</td>\n",
       "      <td>Algeria</td>\n",
       "      <td>0</td>\n",
       "      <td>0</td>\n",
       "      <td>0</td>\n",
       "      <td>0</td>\n",
       "      <td>0</td>\n",
       "      <td>0</td>\n",
       "      <td>0</td>\n",
       "      <td>0</td>\n",
       "      <td>...</td>\n",
       "      <td>118645</td>\n",
       "      <td>118799</td>\n",
       "      <td>118975</td>\n",
       "      <td>119142</td>\n",
       "      <td>119323</td>\n",
       "      <td>119486</td>\n",
       "      <td>119642</td>\n",
       "      <td>119805</td>\n",
       "      <td>119992</td>\n",
       "      <td>120174</td>\n",
       "    </tr>\n",
       "  </tbody>\n",
       "</table>\n",
       "<p>3 rows × 458 columns</p>\n",
       "</div>"
      ],
      "text/plain": [
       "  Province/State Country/Region  1/22/20  1/23/20  1/24/20  1/25/20  1/26/20  \\\n",
       "0            NaN    Afghanistan        0        0        0        0        0   \n",
       "1            NaN        Albania        0        0        0        0        0   \n",
       "2            NaN        Algeria        0        0        0        0        0   \n",
       "\n",
       "   1/27/20  1/28/20  1/29/20  ...  4/12/21  4/13/21  4/14/21  4/15/21  \\\n",
       "0        0        0        0  ...    57242    57364    57492    57534   \n",
       "1        0        0        0  ...   128518   128752   128959   129128   \n",
       "2        0        0        0  ...   118645   118799   118975   119142   \n",
       "\n",
       "   4/16/21  4/17/21  4/18/21  4/19/21  4/20/21  4/21/21  \n",
       "0    57612    57721    57793    57898    58037    58214  \n",
       "1   129307   129456   129594   129694   129842   129980  \n",
       "2   119323   119486   119642   119805   119992   120174  \n",
       "\n",
       "[3 rows x 458 columns]"
      ]
     },
     "execution_count": 6,
     "metadata": {},
     "output_type": "execute_result"
    }
   ],
   "source": [
    "df.head(3)"
   ]
  },
  {
   "cell_type": "markdown",
   "id": "higher-onion",
   "metadata": {},
   "source": [
    "## Convert from wide format to long"
   ]
  },
  {
   "cell_type": "code",
   "execution_count": 7,
   "id": "paperback-edgar",
   "metadata": {},
   "outputs": [],
   "source": [
    "df = df.melt(id_vars=[\"Province/State\", \"Country/Region\"], var_name=\"Date\", value_name=\"Cases\")"
   ]
  },
  {
   "cell_type": "code",
   "execution_count": 8,
   "id": "scheduled-delicious",
   "metadata": {},
   "outputs": [
    {
     "data": {
      "text/html": [
       "<div>\n",
       "<style scoped>\n",
       "    .dataframe tbody tr th:only-of-type {\n",
       "        vertical-align: middle;\n",
       "    }\n",
       "\n",
       "    .dataframe tbody tr th {\n",
       "        vertical-align: top;\n",
       "    }\n",
       "\n",
       "    .dataframe thead th {\n",
       "        text-align: right;\n",
       "    }\n",
       "</style>\n",
       "<table border=\"1\" class=\"dataframe\">\n",
       "  <thead>\n",
       "    <tr style=\"text-align: right;\">\n",
       "      <th></th>\n",
       "      <th>Province/State</th>\n",
       "      <th>Country/Region</th>\n",
       "      <th>Date</th>\n",
       "      <th>Cases</th>\n",
       "    </tr>\n",
       "  </thead>\n",
       "  <tbody>\n",
       "    <tr>\n",
       "      <th>0</th>\n",
       "      <td>NaN</td>\n",
       "      <td>Afghanistan</td>\n",
       "      <td>1/22/20</td>\n",
       "      <td>0</td>\n",
       "    </tr>\n",
       "    <tr>\n",
       "      <th>1</th>\n",
       "      <td>NaN</td>\n",
       "      <td>Albania</td>\n",
       "      <td>1/22/20</td>\n",
       "      <td>0</td>\n",
       "    </tr>\n",
       "    <tr>\n",
       "      <th>2</th>\n",
       "      <td>NaN</td>\n",
       "      <td>Algeria</td>\n",
       "      <td>1/22/20</td>\n",
       "      <td>0</td>\n",
       "    </tr>\n",
       "  </tbody>\n",
       "</table>\n",
       "</div>"
      ],
      "text/plain": [
       "  Province/State Country/Region     Date  Cases\n",
       "0            NaN    Afghanistan  1/22/20      0\n",
       "1            NaN        Albania  1/22/20      0\n",
       "2            NaN        Algeria  1/22/20      0"
      ]
     },
     "execution_count": 8,
     "metadata": {},
     "output_type": "execute_result"
    }
   ],
   "source": [
    "df.head(3)"
   ]
  },
  {
   "cell_type": "markdown",
   "id": "center-banana",
   "metadata": {},
   "source": [
    "## Make values in date column proper dates"
   ]
  },
  {
   "cell_type": "code",
   "execution_count": 9,
   "id": "dominican-moisture",
   "metadata": {},
   "outputs": [
    {
     "data": {
      "text/plain": [
       "Province/State    object\n",
       "Country/Region    object\n",
       "Date              object\n",
       "Cases              int64\n",
       "dtype: object"
      ]
     },
     "execution_count": 9,
     "metadata": {},
     "output_type": "execute_result"
    }
   ],
   "source": [
    "df.dtypes"
   ]
  },
  {
   "cell_type": "code",
   "execution_count": 10,
   "id": "floppy-minneapolis",
   "metadata": {},
   "outputs": [],
   "source": [
    "df[\"Date\"] = pd.to_datetime(df[\"Date\"])"
   ]
  },
  {
   "cell_type": "code",
   "execution_count": 11,
   "id": "female-wichita",
   "metadata": {},
   "outputs": [
    {
     "data": {
      "text/plain": [
       "Province/State            object\n",
       "Country/Region            object\n",
       "Date              datetime64[ns]\n",
       "Cases                      int64\n",
       "dtype: object"
      ]
     },
     "execution_count": 11,
     "metadata": {},
     "output_type": "execute_result"
    }
   ],
   "source": [
    "df.dtypes"
   ]
  },
  {
   "cell_type": "code",
   "execution_count": 12,
   "id": "future-pendant",
   "metadata": {},
   "outputs": [
    {
     "data": {
      "text/html": [
       "<div>\n",
       "<style scoped>\n",
       "    .dataframe tbody tr th:only-of-type {\n",
       "        vertical-align: middle;\n",
       "    }\n",
       "\n",
       "    .dataframe tbody tr th {\n",
       "        vertical-align: top;\n",
       "    }\n",
       "\n",
       "    .dataframe thead th {\n",
       "        text-align: right;\n",
       "    }\n",
       "</style>\n",
       "<table border=\"1\" class=\"dataframe\">\n",
       "  <thead>\n",
       "    <tr style=\"text-align: right;\">\n",
       "      <th></th>\n",
       "      <th>Province/State</th>\n",
       "      <th>Country/Region</th>\n",
       "      <th>Date</th>\n",
       "      <th>Cases</th>\n",
       "    </tr>\n",
       "  </thead>\n",
       "  <tbody>\n",
       "    <tr>\n",
       "      <th>0</th>\n",
       "      <td>NaN</td>\n",
       "      <td>Afghanistan</td>\n",
       "      <td>2020-01-22</td>\n",
       "      <td>0</td>\n",
       "    </tr>\n",
       "    <tr>\n",
       "      <th>1</th>\n",
       "      <td>NaN</td>\n",
       "      <td>Albania</td>\n",
       "      <td>2020-01-22</td>\n",
       "      <td>0</td>\n",
       "    </tr>\n",
       "    <tr>\n",
       "      <th>2</th>\n",
       "      <td>NaN</td>\n",
       "      <td>Algeria</td>\n",
       "      <td>2020-01-22</td>\n",
       "      <td>0</td>\n",
       "    </tr>\n",
       "  </tbody>\n",
       "</table>\n",
       "</div>"
      ],
      "text/plain": [
       "  Province/State Country/Region       Date  Cases\n",
       "0            NaN    Afghanistan 2020-01-22      0\n",
       "1            NaN        Albania 2020-01-22      0\n",
       "2            NaN        Algeria 2020-01-22      0"
      ]
     },
     "execution_count": 12,
     "metadata": {},
     "output_type": "execute_result"
    }
   ],
   "source": [
    "df.head(3)"
   ]
  },
  {
   "cell_type": "markdown",
   "id": "human-lighter",
   "metadata": {},
   "source": [
    "## Sum provinces, aggregate to country level"
   ]
  },
  {
   "cell_type": "code",
   "execution_count": 13,
   "id": "tracked-coral",
   "metadata": {
    "tags": []
   },
   "outputs": [
    {
     "data": {
      "text/html": [
       "<div>\n",
       "<style scoped>\n",
       "    .dataframe tbody tr th:only-of-type {\n",
       "        vertical-align: middle;\n",
       "    }\n",
       "\n",
       "    .dataframe tbody tr th {\n",
       "        vertical-align: top;\n",
       "    }\n",
       "\n",
       "    .dataframe thead th {\n",
       "        text-align: right;\n",
       "    }\n",
       "</style>\n",
       "<table border=\"1\" class=\"dataframe\">\n",
       "  <thead>\n",
       "    <tr style=\"text-align: right;\">\n",
       "      <th></th>\n",
       "      <th>Province/State</th>\n",
       "      <th>Country/Region</th>\n",
       "      <th>Date</th>\n",
       "      <th>Cases</th>\n",
       "    </tr>\n",
       "  </thead>\n",
       "  <tbody>\n",
       "    <tr>\n",
       "      <th>94783</th>\n",
       "      <td>Anguilla</td>\n",
       "      <td>United Kingdom</td>\n",
       "      <td>2021-01-01</td>\n",
       "      <td>13</td>\n",
       "    </tr>\n",
       "    <tr>\n",
       "      <th>94784</th>\n",
       "      <td>Bermuda</td>\n",
       "      <td>United Kingdom</td>\n",
       "      <td>2021-01-01</td>\n",
       "      <td>604</td>\n",
       "    </tr>\n",
       "    <tr>\n",
       "      <th>94785</th>\n",
       "      <td>British Virgin Islands</td>\n",
       "      <td>United Kingdom</td>\n",
       "      <td>2021-01-01</td>\n",
       "      <td>86</td>\n",
       "    </tr>\n",
       "    <tr>\n",
       "      <th>94786</th>\n",
       "      <td>Cayman Islands</td>\n",
       "      <td>United Kingdom</td>\n",
       "      <td>2021-01-01</td>\n",
       "      <td>338</td>\n",
       "    </tr>\n",
       "    <tr>\n",
       "      <th>94787</th>\n",
       "      <td>Channel Islands</td>\n",
       "      <td>United Kingdom</td>\n",
       "      <td>2021-01-01</td>\n",
       "      <td>3059</td>\n",
       "    </tr>\n",
       "    <tr>\n",
       "      <th>94788</th>\n",
       "      <td>Falkland Islands (Malvinas)</td>\n",
       "      <td>United Kingdom</td>\n",
       "      <td>2021-01-01</td>\n",
       "      <td>29</td>\n",
       "    </tr>\n",
       "    <tr>\n",
       "      <th>94789</th>\n",
       "      <td>Gibraltar</td>\n",
       "      <td>United Kingdom</td>\n",
       "      <td>2021-01-01</td>\n",
       "      <td>2212</td>\n",
       "    </tr>\n",
       "    <tr>\n",
       "      <th>94790</th>\n",
       "      <td>Isle of Man</td>\n",
       "      <td>United Kingdom</td>\n",
       "      <td>2021-01-01</td>\n",
       "      <td>377</td>\n",
       "    </tr>\n",
       "    <tr>\n",
       "      <th>94791</th>\n",
       "      <td>Montserrat</td>\n",
       "      <td>United Kingdom</td>\n",
       "      <td>2021-01-01</td>\n",
       "      <td>13</td>\n",
       "    </tr>\n",
       "    <tr>\n",
       "      <th>94792</th>\n",
       "      <td>Saint Helena, Ascension and Tristan da Cunha</td>\n",
       "      <td>United Kingdom</td>\n",
       "      <td>2021-01-01</td>\n",
       "      <td>4</td>\n",
       "    </tr>\n",
       "    <tr>\n",
       "      <th>94793</th>\n",
       "      <td>Turks and Caicos Islands</td>\n",
       "      <td>United Kingdom</td>\n",
       "      <td>2021-01-01</td>\n",
       "      <td>893</td>\n",
       "    </tr>\n",
       "    <tr>\n",
       "      <th>94794</th>\n",
       "      <td>NaN</td>\n",
       "      <td>United Kingdom</td>\n",
       "      <td>2021-01-01</td>\n",
       "      <td>2542065</td>\n",
       "    </tr>\n",
       "  </tbody>\n",
       "</table>\n",
       "</div>"
      ],
      "text/plain": [
       "                                     Province/State  Country/Region  \\\n",
       "94783                                      Anguilla  United Kingdom   \n",
       "94784                                       Bermuda  United Kingdom   \n",
       "94785                        British Virgin Islands  United Kingdom   \n",
       "94786                                Cayman Islands  United Kingdom   \n",
       "94787                               Channel Islands  United Kingdom   \n",
       "94788                   Falkland Islands (Malvinas)  United Kingdom   \n",
       "94789                                     Gibraltar  United Kingdom   \n",
       "94790                                   Isle of Man  United Kingdom   \n",
       "94791                                    Montserrat  United Kingdom   \n",
       "94792  Saint Helena, Ascension and Tristan da Cunha  United Kingdom   \n",
       "94793                      Turks and Caicos Islands  United Kingdom   \n",
       "94794                                           NaN  United Kingdom   \n",
       "\n",
       "            Date    Cases  \n",
       "94783 2021-01-01       13  \n",
       "94784 2021-01-01      604  \n",
       "94785 2021-01-01       86  \n",
       "94786 2021-01-01      338  \n",
       "94787 2021-01-01     3059  \n",
       "94788 2021-01-01       29  \n",
       "94789 2021-01-01     2212  \n",
       "94790 2021-01-01      377  \n",
       "94791 2021-01-01       13  \n",
       "94792 2021-01-01        4  \n",
       "94793 2021-01-01      893  \n",
       "94794 2021-01-01  2542065  "
      ]
     },
     "execution_count": 13,
     "metadata": {},
     "output_type": "execute_result"
    }
   ],
   "source": [
    "df[(df[\"Country/Region\"] == \"United Kingdom\") & \n",
    "   (df[\"Date\"] == datetime.datetime(2021, 1, 1))]"
   ]
  },
  {
   "cell_type": "code",
   "execution_count": 14,
   "id": "alpha-deviation",
   "metadata": {},
   "outputs": [],
   "source": [
    "df = df.groupby([\"Country/Region\", \"Date\"], as_index=False).sum()"
   ]
  },
  {
   "cell_type": "code",
   "execution_count": 15,
   "id": "informed-allergy",
   "metadata": {},
   "outputs": [
    {
     "data": {
      "text/html": [
       "<div>\n",
       "<style scoped>\n",
       "    .dataframe tbody tr th:only-of-type {\n",
       "        vertical-align: middle;\n",
       "    }\n",
       "\n",
       "    .dataframe tbody tr th {\n",
       "        vertical-align: top;\n",
       "    }\n",
       "\n",
       "    .dataframe thead th {\n",
       "        text-align: right;\n",
       "    }\n",
       "</style>\n",
       "<table border=\"1\" class=\"dataframe\">\n",
       "  <thead>\n",
       "    <tr style=\"text-align: right;\">\n",
       "      <th></th>\n",
       "      <th>Country/Region</th>\n",
       "      <th>Date</th>\n",
       "      <th>Cases</th>\n",
       "    </tr>\n",
       "  </thead>\n",
       "  <tbody>\n",
       "    <tr>\n",
       "      <th>83337</th>\n",
       "      <td>United Kingdom</td>\n",
       "      <td>2021-01-01</td>\n",
       "      <td>2549693</td>\n",
       "    </tr>\n",
       "  </tbody>\n",
       "</table>\n",
       "</div>"
      ],
      "text/plain": [
       "       Country/Region       Date    Cases\n",
       "83337  United Kingdom 2021-01-01  2549693"
      ]
     },
     "execution_count": 15,
     "metadata": {},
     "output_type": "execute_result"
    }
   ],
   "source": [
    "df[(df[\"Country/Region\"] == \"United Kingdom\") &\n",
    "   (df[\"Date\"] == datetime.datetime(2021, 1, 1))]"
   ]
  },
  {
   "cell_type": "markdown",
   "id": "inclusive-basin",
   "metadata": {},
   "source": [
    "## Convert cumulative total to daily new cases"
   ]
  },
  {
   "cell_type": "code",
   "execution_count": 16,
   "id": "operational-capability",
   "metadata": {},
   "outputs": [
    {
     "data": {
      "text/html": [
       "<div>\n",
       "<style scoped>\n",
       "    .dataframe tbody tr th:only-of-type {\n",
       "        vertical-align: middle;\n",
       "    }\n",
       "\n",
       "    .dataframe tbody tr th {\n",
       "        vertical-align: top;\n",
       "    }\n",
       "\n",
       "    .dataframe thead th {\n",
       "        text-align: right;\n",
       "    }\n",
       "</style>\n",
       "<table border=\"1\" class=\"dataframe\">\n",
       "  <thead>\n",
       "    <tr style=\"text-align: right;\">\n",
       "      <th></th>\n",
       "      <th>Country/Region</th>\n",
       "      <th>Date</th>\n",
       "      <th>Cases</th>\n",
       "    </tr>\n",
       "  </thead>\n",
       "  <tbody>\n",
       "    <tr>\n",
       "      <th>63273</th>\n",
       "      <td>Poland</td>\n",
       "      <td>2021-01-01</td>\n",
       "      <td>1305774</td>\n",
       "    </tr>\n",
       "    <tr>\n",
       "      <th>63274</th>\n",
       "      <td>Poland</td>\n",
       "      <td>2021-01-02</td>\n",
       "      <td>1312780</td>\n",
       "    </tr>\n",
       "    <tr>\n",
       "      <th>63275</th>\n",
       "      <td>Poland</td>\n",
       "      <td>2021-01-03</td>\n",
       "      <td>1318562</td>\n",
       "    </tr>\n",
       "    <tr>\n",
       "      <th>63276</th>\n",
       "      <td>Poland</td>\n",
       "      <td>2021-01-04</td>\n",
       "      <td>1322947</td>\n",
       "    </tr>\n",
       "    <tr>\n",
       "      <th>63277</th>\n",
       "      <td>Poland</td>\n",
       "      <td>2021-01-05</td>\n",
       "      <td>1330543</td>\n",
       "    </tr>\n",
       "  </tbody>\n",
       "</table>\n",
       "</div>"
      ],
      "text/plain": [
       "      Country/Region       Date    Cases\n",
       "63273         Poland 2021-01-01  1305774\n",
       "63274         Poland 2021-01-02  1312780\n",
       "63275         Poland 2021-01-03  1318562\n",
       "63276         Poland 2021-01-04  1322947\n",
       "63277         Poland 2021-01-05  1330543"
      ]
     },
     "execution_count": 16,
     "metadata": {},
     "output_type": "execute_result"
    }
   ],
   "source": [
    "df[(df[\"Country/Region\"] == \"Poland\") & \n",
    "   (df[\"Date\"] >= datetime.datetime(2021, 1, 1)) & \n",
    "   (df[\"Date\"] <= datetime.datetime(2021, 1, 5))]"
   ]
  },
  {
   "cell_type": "code",
   "execution_count": 17,
   "id": "ordinary-absolute",
   "metadata": {},
   "outputs": [],
   "source": [
    "df[[\"Cases\"]] = df[[\"Country/Region\", \"Cases\"]].groupby(\"Country/Region\").diff()"
   ]
  },
  {
   "cell_type": "code",
   "execution_count": 18,
   "id": "strong-pakistan",
   "metadata": {},
   "outputs": [
    {
     "data": {
      "text/html": [
       "<div>\n",
       "<style scoped>\n",
       "    .dataframe tbody tr th:only-of-type {\n",
       "        vertical-align: middle;\n",
       "    }\n",
       "\n",
       "    .dataframe tbody tr th {\n",
       "        vertical-align: top;\n",
       "    }\n",
       "\n",
       "    .dataframe thead th {\n",
       "        text-align: right;\n",
       "    }\n",
       "</style>\n",
       "<table border=\"1\" class=\"dataframe\">\n",
       "  <thead>\n",
       "    <tr style=\"text-align: right;\">\n",
       "      <th></th>\n",
       "      <th>Country/Region</th>\n",
       "      <th>Date</th>\n",
       "      <th>Cases</th>\n",
       "    </tr>\n",
       "  </thead>\n",
       "  <tbody>\n",
       "    <tr>\n",
       "      <th>63273</th>\n",
       "      <td>Poland</td>\n",
       "      <td>2021-01-01</td>\n",
       "      <td>10896.0</td>\n",
       "    </tr>\n",
       "    <tr>\n",
       "      <th>63274</th>\n",
       "      <td>Poland</td>\n",
       "      <td>2021-01-02</td>\n",
       "      <td>7006.0</td>\n",
       "    </tr>\n",
       "    <tr>\n",
       "      <th>63275</th>\n",
       "      <td>Poland</td>\n",
       "      <td>2021-01-03</td>\n",
       "      <td>5782.0</td>\n",
       "    </tr>\n",
       "    <tr>\n",
       "      <th>63276</th>\n",
       "      <td>Poland</td>\n",
       "      <td>2021-01-04</td>\n",
       "      <td>4385.0</td>\n",
       "    </tr>\n",
       "    <tr>\n",
       "      <th>63277</th>\n",
       "      <td>Poland</td>\n",
       "      <td>2021-01-05</td>\n",
       "      <td>7596.0</td>\n",
       "    </tr>\n",
       "  </tbody>\n",
       "</table>\n",
       "</div>"
      ],
      "text/plain": [
       "      Country/Region       Date    Cases\n",
       "63273         Poland 2021-01-01  10896.0\n",
       "63274         Poland 2021-01-02   7006.0\n",
       "63275         Poland 2021-01-03   5782.0\n",
       "63276         Poland 2021-01-04   4385.0\n",
       "63277         Poland 2021-01-05   7596.0"
      ]
     },
     "execution_count": 18,
     "metadata": {},
     "output_type": "execute_result"
    }
   ],
   "source": [
    "df[(df[\"Country/Region\"] == \"Poland\") & \n",
    "   (df[\"Date\"] >= datetime.datetime(2021, 1, 1)) & \n",
    "   (df[\"Date\"] <= datetime.datetime(2021, 1, 5))]"
   ]
  },
  {
   "cell_type": "markdown",
   "id": "closed-following",
   "metadata": {},
   "source": [
    "## Analyze the data"
   ]
  },
  {
   "cell_type": "code",
   "execution_count": 19,
   "id": "loaded-istanbul",
   "metadata": {},
   "outputs": [],
   "source": [
    "date_from = datetime.datetime(2021, 1, 1)\n",
    "date_to = datetime.datetime(2021, 4, 22)\n",
    "countries = [\"Poland\", \"Czechia\", \"Germany\", \"Austria\"]"
   ]
  },
  {
   "cell_type": "code",
   "execution_count": 20,
   "id": "rubber-vermont",
   "metadata": {},
   "outputs": [
    {
     "data": {
      "image/png": "[encoded data removed]",
      "text/plain": [
       "<Figure size 1152x432 with 1 Axes>"
      ]
     },
     "metadata": {},
     "output_type": "display_data"
    }
   ],
   "source": [
    "def plot(countries, date_from, date_to, w, h):\n",
    "    plot_df = df[df[\"Country/Region\"].isin(countries) & \n",
    "                 (df[\"Date\"] >= date_from) &\n",
    "                 (df[\"Date\"] <= date_to)]\n",
    "    \n",
    "    fig, ax = plt.subplots()\n",
    "    fig.set_size_inches(w, h)\n",
    "\n",
    "    for country, group_df in plot_df.groupby(\"Country/Region\"):\n",
    "        ax.plot(group_df[\"Date\"], group_df[\"Cases\"], label=country)\n",
    "\n",
    "    fig.legend(loc=\"center right\", bbox_to_anchor=(1.02, 0.5))\n",
    "\n",
    "plot(countries=countries, date_from=date_from, date_to=date_to, w=16, h=6)"
   ]
  }
 ],
 "metadata": {
  "jupytext": {
   "formats": "ipynb,auto:percent"
  },
  "kernelspec": {
   "display_name": "Python 3",
   "language": "python",
   "name": "python3"
  },
  "language_info": {
   "codemirror_mode": {
    "name": "ipython",
    "version": 3
   },
   "file_extension": ".py",
   "mimetype": "text/x-python",
   "name": "python",
   "nbconvert_exporter": "python",
   "pygments_lexer": "ipython3",
   "version": "3.9.2"
  }
 },
 "nbformat": 4,
 "nbformat_minor": 5
}
